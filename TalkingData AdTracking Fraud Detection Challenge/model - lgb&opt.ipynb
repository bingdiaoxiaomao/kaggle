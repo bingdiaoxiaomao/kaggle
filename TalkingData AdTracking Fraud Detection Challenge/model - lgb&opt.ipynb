{
  "cells": [
    {
      "metadata": {
        "_uuid": "62bedcb9da2bbefc684c61b44eb3fd78110be81a"
      },
      "cell_type": "markdown",
      "source": "### 导入基本工具包"
    },
    {
      "metadata": {
        "_cell_guid": "79c7e3d0-c299-4dcb-8224-4455121ee9b0",
        "_uuid": "d629ff2d2480ee46fbb7e2d37f6b5fab8052498a",
        "trusted": true
      },
      "cell_type": "code",
      "source": "import pandas as pd\nimport numpy as np\nfrom sklearn.model_selection import StratifiedKFold,train_test_split\nfrom bayes_opt import BayesianOptimization\nimport lightgbm as lgb\nimport gc\nimport matplotlib.pyplot as plt\nimport seaborn as sns\nimport os\nimport time\nimport warnings\nwarnings.filterwarnings('ignore')\nfrom tqdm import tqdm_notebook as tqdm\n%matplotlib inline",
      "execution_count": null,
      "outputs": []
    },
    {
      "metadata": {
        "_uuid": "46039a02e70b4951a7d3326f258202c42767df41"
      },
      "cell_type": "markdown",
      "source": "### 统计变量工具函数定义\n为提取到不同类型用户的特征，构建了以下函数，在不同层次、不同水平上对用户的点击行为习惯和当次点击在用户点击历史中的次序进行了特征提取。"
    },
    {
      "metadata": {
        "_uuid": "9f254d166bcff20fb9a05618f635b832bb735911"
      },
      "cell_type": "markdown",
      "source": "#### do_count\n将df按照group_cols分组，计算分组的count数，将聚合结果重命名为agg_name，数据类型为agg_type，通过pd.merge，按照group_cols列与df聚合，返回聚合结果。"
    },
    {
      "metadata": {
        "trusted": true,
        "_uuid": "0923e75431b19ee82dedb133d6dfe9658b8b220d"
      },
      "cell_type": "code",
      "source": "def do_count(df,group_cols,agg_name,agg_type='uint32',show_max=False,show_agg=True):\n    if show_agg:\n        print(\"Aggregating by \", group_cols , '...' )\n    gp = df[group_cols][group_cols].groupby(group_cols).size().rename(agg_name).to_frame().reset_index()\n    df = df.merge(gp, on=group_cols, how='left', copy=False)\n    del gp\n    if show_max:\n        print( agg_name + \" max value = \", df[agg_name].max() )\n    df[agg_name] = df[agg_name].astype(agg_type,copy=False)\n    return df",
      "execution_count": null,
      "outputs": []
    },
    {
      "metadata": {
        "_uuid": "dbbebc1558ee158bac7f5bf8cd98308296742b5c"
      },
      "cell_type": "markdown",
      "source": "#### do_countuniq\n将df按照group_cols分组，提取counted列，计算counted特征的唯一数据的count数，将聚合结果重命名为agg_name，数据类型为agg_type，通过pd.merge，按照group_cols列与df聚合，返回聚合结果。"
    },
    {
      "metadata": {
        "trusted": true,
        "_uuid": "7c6d09a728055770b8301baa06f03976f33a7d24"
      },
      "cell_type": "code",
      "source": "def do_countuniq(df, group_cols, counted, agg_name, agg_type='uint32',show_max=False,show_agg=True):\n    if show_agg:\n        print(\"Counting unique {} by {} ...\".format(counted,group_cols))\n    gp = df[group_cols+[counted]].groupby(group_cols)[counted].nunique().reset_index().rename(columns={counted:agg_name})\n    df = df.merge(gp,on=group_cols,how='left',copy=False)\n    del gp\n    if show_max:\n        print(\"{} max value = {}\".format(agg_name,df[agg_name].max()))\n    df[agg_name] = df[agg_name].astype(agg_type,copy=False)\n    return df",
      "execution_count": null,
      "outputs": []
    },
    {
      "metadata": {
        "_uuid": "7e410fa2be345de7372d96537c3e81d2432abb77"
      },
      "cell_type": "markdown",
      "source": "#### do_cumcount\n将df按照group_cols分组，提取counted列，计算counted特征的累计count数，数据类型为agg_type，将返回值直接赋值给df的新特征agg_name。例如对ip进行聚合，计算每个ip使用过的app，每次使用时候是这ip第几次使用的。"
    },
    {
      "metadata": {
        "trusted": true,
        "_uuid": "e717ad9760d9ce22300aaf73d884876d60100400"
      },
      "cell_type": "code",
      "source": "def do_cumcount(df,group_cols,counted,agg_name,agg_type='uint32',show_max=False,show_agg=True):\n    if show_agg:\n        print(\"Cumulative count {} by {} ...\".format(counted ,group_cols))\n    gp = df[group_cols+[counted]].groupby(group_cols)[counted].cumcount()\n    df[agg_name] = gp.values\n    del gp\n    if show_max:\n        print(\"{} max value = {}\".format(agg_name,df[agg_name].max()))\n    df[agg_name] = df[agg_name].astype(agg_type,copy=False)\n    return df",
      "execution_count": null,
      "outputs": []
    },
    {
      "metadata": {
        "_uuid": "6ce1fb3be5ac9d81b2ad7823b84e24f0f2c95230"
      },
      "cell_type": "markdown",
      "source": "#### do_mean\n将df按照group_cols分组，提取counted列，计算该分组counted特征的均值，数据类型为agg_type，重命名为agg_name，通过pd.merge与df进行聚合，聚合索引为group_cols"
    },
    {
      "metadata": {
        "trusted": true,
        "_uuid": "d7974228617fe3f44c4a05040c16629b27310398"
      },
      "cell_type": "code",
      "source": "def do_mean(df,group_cols,counted,agg_name,agg_type='float32',show_max=False,show_agg=True):\n    if show_agg:\n        print(\"Calculating mean of {} by {} ...\".format(counted,group_cols))\n    gp = df[group_cols+[counted]].groupby(group_cols)[counted].mean().reset_index().rename(columns={counted:agg_name})\n    df = df.merge(gp,on=group_cols,how='left',copy=False)\n    del gp\n    if show_max:\n        print(\"{} max value = {}\".format(agg_name,df[agg_name].max()))\n    df[agg_name] = df[agg_name].astype(agg_type,copy=False)\n    return df",
      "execution_count": null,
      "outputs": []
    },
    {
      "metadata": {
        "_uuid": "6fecd42279302c680500ec5f6a187adfdbbfd910"
      },
      "cell_type": "markdown",
      "source": "#### do_var\n将df按照group_cols分组，提取counted列，计算该分组counted特征的方差variance，数据类型为agg_type，重命名为agg_name，通过pd.merge与df进行聚合，聚合索引为group_cols"
    },
    {
      "metadata": {
        "trusted": true,
        "_uuid": "26cf148f21e0c06936838e8d7a86279a8ea29b63"
      },
      "cell_type": "code",
      "source": "def do_var(df,group_cols,counted,agg_name,agg_type='float32',show_max=False,show_agg=True):\n    if show_agg:\n        print(\"Calculating variance of {} by {} ...\".format(counted,group_cols))\n    gp = df[group_cols+[counted]].groupby(group_cols)[counted].var().reset_index().rename(columns={counted:agg_name})\n    df = df.merge(gp,on=group_cols,how='left',copy=False)\n    del gp\n    if show_max:\n        print(\"{} max value = {}\".format(agg_name,df[agg_name].max()))\n    df[agg_name] = df[agg_name].astype(agg_type,copy=False)\n    return df",
      "execution_count": null,
      "outputs": []
    },
    {
      "metadata": {
        "_uuid": "1791bed0c3accbdcc1a786dd88144a01f3eb32ec"
      },
      "cell_type": "markdown",
      "source": "### Load data"
    },
    {
      "metadata": {
        "trusted": true,
        "_uuid": "4097192a5dd77ba56fd29deaab649134f802377d"
      },
      "cell_type": "markdown",
      "source": "官方提供训练数据集train.csv包含2亿条点击数据，其中正例样本占比不到0.2%，大部分都是负例样本，用户查看了app广告后并没有进行下载任务。考虑到数据集过大，且类别严重不平衡，这里，我们使用分块读取数据，减少读取的内存压力，同时通过下采样，将正例：负例的样本比例调节到1:2。"
    },
    {
      "metadata": {
        "trusted": true,
        "_uuid": "97ae7fcc477980d4ecb45a35ed3450533dbaa3a0"
      },
      "cell_type": "code",
      "source": "np.random.seed(2018)",
      "execution_count": null,
      "outputs": []
    },
    {
      "metadata": {
        "trusted": true,
        "_uuid": "617257e3a637c3d11da69cab4b5c3953bae724b0"
      },
      "cell_type": "code",
      "source": "chunkers = pd.read_csv(\"../input/train.csv\",chunksize=2000000,parse_dates=['click_time'])\ntest = pd.read_csv(\"../input/test.csv\",parse_dates=['click_time'])",
      "execution_count": null,
      "outputs": []
    },
    {
      "metadata": {
        "trusted": true,
        "_uuid": "48561d52770312d89e95de52e9ceb7bc4f2992b0"
      },
      "cell_type": "code",
      "source": "train = pd.DataFrame()\nfor i,chunker in tqdm(enumerate(chunkers)):\n    positive_sample = chunker[chunker['is_attributed']==1]\n    n_positive = len(positive_sample)\n    train = train.append(positive_sample)\n    # 下采样，只抽取了2倍于正例样本\n    negative_sample = chunker[chunker['is_attributed']==0].sample(int(2*n_positive))\n    train = train.append(negative_sample)\n    \n    del positive_sample,negative_sample\n    gc.enable()\n    gc.collect()",
      "execution_count": null,
      "outputs": []
    },
    {
      "metadata": {
        "trusted": true,
        "_uuid": "790b1d54dd8b94052c4fd579ff7a4956c0a428f6"
      },
      "cell_type": "code",
      "source": "display(train.head())\ndisplay(test.head())",
      "execution_count": null,
      "outputs": []
    },
    {
      "metadata": {
        "_uuid": "368cd8fc1461cd5719289f2c7ae9e874721b9343"
      },
      "cell_type": "markdown",
      "source": "选取有价值信息，存储test的click_id信息，拼接train和test，方便后续一起进行特征工程的操作。"
    },
    {
      "metadata": {
        "trusted": true,
        "_uuid": "cbde84b595de633e25775c4078e2a23f5ff69c85"
      },
      "cell_type": "code",
      "source": "test_id = test['click_id']\ntrain = train[['ip','app','device','os','channel','click_time','is_attributed']]\ntest = test[['ip','app','device','os','channel','click_time']]\nall_data = pd.concat([train,test],axis=0)",
      "execution_count": null,
      "outputs": []
    },
    {
      "metadata": {
        "trusted": true,
        "_uuid": "4019b2929a779db1d20984076916aa1abb2ea8ef"
      },
      "cell_type": "code",
      "source": "del train,test\ngc.enable()\ngc.collect()",
      "execution_count": null,
      "outputs": []
    },
    {
      "metadata": {
        "_uuid": "df1863a91e5f67b57a23acbedb577982857d4697"
      },
      "cell_type": "markdown",
      "source": "#### Feature Engineering特征工程"
    },
    {
      "metadata": {
        "_uuid": "9f5a3f72d96bd7db1b5cf766c2468cd479e0c8a2"
      },
      "cell_type": "markdown",
      "source": "提取时间粒度特征day和hour"
    },
    {
      "metadata": {
        "trusted": true,
        "_uuid": "d7367fe66c1c80d9f6b2c1537c6b1be112d2769e"
      },
      "cell_type": "code",
      "source": "all_data['day'] = all_data['click_time'].apply(lambda x: x.day).astype('uint16')\nall_data['hour'] = all_data['click_time'].apply(lambda x: x.hour).astype('uint16')",
      "execution_count": null,
      "outputs": []
    },
    {
      "metadata": {
        "_uuid": "7a1ff86aca2d481238e61ac22978cffe419ad5ac"
      },
      "cell_type": "markdown",
      "source": "可视化点击次数和平均下载概率随时间的变化，以及在时间粒度上的差异。"
    },
    {
      "metadata": {
        "trusted": true,
        "_uuid": "908892093174fc46da08e27c2fcd87fa4daccee4"
      },
      "cell_type": "code",
      "source": "plt.figure(figsize=(20,10))\nplt.subplot2grid((2,2),(0,0),colspan=1)\nall_data[all_data['is_attributed'].notnull()].groupby('day')['day'].count().plot(kind='bar',edgecolor='black')\nplt.ylabel('count of click')\nplt.subplot2grid((2,2),(0,1),colspan=1)\nall_data[all_data['is_attributed'].notnull()].groupby('hour')['day'].count().plot(kind='bar',edgecolor='black')\nplt.ylabel('count of click')\nplt.subplot2grid((2,2),(1,0),colspan=1)\nall_data[all_data['is_attributed'].notnull()].groupby('day')['is_attributed'].mean().plot(kind='bar',edgecolor='black')\nplt.ylabel('mean probability of attributed')\nplt.subplot2grid((2,2),(1,1),colspan=1)\nall_data[all_data['is_attributed'].notnull()].groupby('hour')['is_attributed'].mean().plot(kind='bar',edgecolor='black')\nplt.ylabel('mean probability of attributed')\nplt.show()",
      "execution_count": null,
      "outputs": []
    },
    {
      "metadata": {
        "_uuid": "85db67403cae652570371f144b98cfa33396c94c"
      },
      "cell_type": "markdown",
      "source": "在官方提供的训练集train.csv中，总共包括day为6/7/8/9日的点击信息，第6日的样本信息较少；点击量随每日各小时的变化趋势如上图所示，0-14小时的点击量较高，而其他时间的点击量则较低。经过下采样平衡正负例之后，每日的点击下载率大致为33%，各日均较为稳定。从每日24小时划分来看，每个时间区间的下载率大致相同，仅在20-21小时稍微有些高。"
    },
    {
      "metadata": {
        "trusted": true,
        "_uuid": "f0469298e5168de22df10404de1cedb1c47362ea"
      },
      "cell_type": "code",
      "source": "plt.figure(figsize=(20,10))\nplt.subplot2grid((1,2),(0,0),colspan=1)\nall_data[all_data['is_attributed'].isnull()].groupby('day')['day'].count().plot(kind='bar',edgecolor='black')\nplt.ylabel('count of click')\nplt.subplot2grid((1,2),(0,1),colspan=1)\nall_data[all_data['is_attributed'].isnull()].groupby('hour')['day'].count().plot(kind='bar',edgecolor='black')\nplt.ylabel('count of click')\nplt.show()",
      "execution_count": null,
      "outputs": []
    },
    {
      "metadata": {
        "_uuid": "0e66d1852c24ca70ea2c42c951bb016cfa98e9fa"
      },
      "cell_type": "markdown",
      "source": "官方提供的测试集的情况与训练集有些差异，首先测试集仅有第10日的数据，且仅包括了4/5/9/10/13/14时的数据信息。在后续建模中，要考虑如何使用这一情况，提高数据在这些时间点的预测准确率。一种方法是增加这些时间点的采样量，另一种是给这些数据一个大一些的代价权重。"
    },
    {
      "metadata": {
        "trusted": true,
        "_uuid": "999d4b44c9c860500b884412030363f766986981"
      },
      "cell_type": "code",
      "source": "all_data['ip'] = all_data['ip'].astype('uint32')\nall_data['app'] = all_data['app'].astype('uint16')\nall_data['device'] = all_data['device'].astype('uint16')\nall_data['os'] = all_data['os'].astype('uint16')\nall_data['channel'] = all_data['channel'].astype('uint16')",
      "execution_count": null,
      "outputs": []
    },
    {
      "metadata": {
        "_uuid": "b0b22a190db45a6a579bb567922971216fde02fd"
      },
      "cell_type": "markdown",
      "source": "计算每一个ip总共有多少个唯一的channel"
    },
    {
      "metadata": {
        "trusted": true,
        "_uuid": "7ed04ee087ba267bf1a41509a6d21edc9cca1abc"
      },
      "cell_type": "code",
      "source": "all_data = do_countuniq(all_data,['ip'],'channel','X0','uint8',show_max=False)\ngc.collect()",
      "execution_count": null,
      "outputs": []
    },
    {
      "metadata": {
        "trusted": true,
        "_uuid": "8c0cf2287484412db4b2407cf20ad1bf48b7eaaf"
      },
      "cell_type": "code",
      "source": "plt.figure(figsize=(10,7))\nplt.hist(all_data[all_data['is_attributed']==0]['X0'],color='r',alpha=0.5,label='is_attributed == 0',density=True,bins=20)\nplt.hist(all_data[all_data['is_attributed']==1]['X0'],color='g',alpha=0.5,label='is_attributed == 1',density=True,bins=20)\nplt.legend(loc='upper right')\nplt.show()",
      "execution_count": null,
      "outputs": []
    },
    {
      "metadata": {
        "_uuid": "d1aa3b625824c43138698a38fe0e9827c68f916b"
      },
      "cell_type": "markdown",
      "source": "计算每个ip每天都在多少个hour节点上点击，越少说明越集中，越多说明点击时间越分散"
    },
    {
      "metadata": {
        "trusted": true,
        "_uuid": "65ae10b148be2339cc338d46d37387ae54d2d5ea"
      },
      "cell_type": "code",
      "source": "all_data = do_countuniq(all_data,['ip','day'],'hour','X2','uint8',show_max=False)\ngc.collect()",
      "execution_count": null,
      "outputs": []
    },
    {
      "metadata": {
        "trusted": true,
        "_uuid": "f3db88b8f89ad6f2ce954901562ec72829a74d6c"
      },
      "cell_type": "code",
      "source": "plt.figure(figsize=(10,7))\nplt.hist(all_data[all_data['is_attributed']==0]['X2'],color='r',alpha=0.5,label='is_attributed == 0',density=True,bins=20)\nplt.hist(all_data[all_data['is_attributed']==1]['X2'],color='g',alpha=0.5,label='is_attributed == 1',density=True,bins=20)\nplt.legend(loc='upper right')\nplt.show()",
      "execution_count": null,
      "outputs": []
    },
    {
      "metadata": {
        "_uuid": "aaf1dbebd8a488bef9891e9b7dd1f81984e5d8cf"
      },
      "cell_type": "markdown",
      "source": "从上图可以看出，会进行下载操作的用户，他们一天只能可能仅有1个小时会使用手机。"
    },
    {
      "metadata": {
        "_uuid": "c5df22d266b0fed67281eea0145a99d9521725f5"
      },
      "cell_type": "markdown",
      "source": "计算每个ip总共使用过多少种app"
    },
    {
      "metadata": {
        "trusted": true,
        "_uuid": "fc652ce5d09a1432fa7ecc5814f4a11a6a6941ba"
      },
      "cell_type": "code",
      "source": "all_data = do_countuniq(all_data,['ip'],'app','X3','uint16',show_max=False)\ngc.collect()",
      "execution_count": null,
      "outputs": []
    },
    {
      "metadata": {
        "trusted": true,
        "_uuid": "941621cf9fee2cab60963c9d9e846f6960eca81a"
      },
      "cell_type": "code",
      "source": "plt.figure(figsize=(10,7))\nplt.hist(all_data[all_data['is_attributed']==0]['X3'],color='r',alpha=0.5,label='is_attributed == 0',density=True,bins=20)\nplt.hist(all_data[all_data['is_attributed']==1]['X3'],color='g',alpha=0.5,label='is_attributed == 1',density=True,bins=20)\nplt.legend(loc='upper right')\nplt.show()",
      "execution_count": null,
      "outputs": []
    },
    {
      "metadata": {
        "_uuid": "5033cb839980673ed7204a0c3c4b5531cacc852a"
      },
      "cell_type": "markdown",
      "source": "用户会在几种os系统上登录特定的app"
    },
    {
      "metadata": {
        "trusted": true,
        "_uuid": "97770929bd33eeb093e6130a6dc22529e29bfaa0"
      },
      "cell_type": "code",
      "source": "all_data = do_countuniq(all_data,['ip','app'],'os','X4','uint8',show_max=False)\ngc.collect()",
      "execution_count": null,
      "outputs": []
    },
    {
      "metadata": {
        "trusted": true,
        "_uuid": "ee2feaf7b8885bd94e57cea2bf71be5062ff304c"
      },
      "cell_type": "code",
      "source": "plt.figure(figsize=(10,7))\nplt.hist(all_data[all_data['is_attributed']==0]['X4'],color='r',alpha=0.5,label='is_attributed == 0',density=True,bins=20)\nplt.hist(all_data[all_data['is_attributed']==1]['X4'],color='g',alpha=0.5,label='is_attributed == 1',density=True,bins=20)\nplt.legend(loc='upper right')\nplt.show()",
      "execution_count": null,
      "outputs": []
    },
    {
      "metadata": {
        "trusted": true,
        "_uuid": "6d59cb47eb7c58acfd800742c958bb673151de23"
      },
      "cell_type": "code",
      "source": "all_data = do_countuniq(all_data,['ip'],'device','X5','uint16',show_max=False)\ngc.collect()",
      "execution_count": null,
      "outputs": []
    },
    {
      "metadata": {
        "trusted": true,
        "_uuid": "e910f0242c7208025b3ee8260bb7f1dc460395bf"
      },
      "cell_type": "code",
      "source": "plt.figure(figsize=(10,7))\nplt.hist(all_data[all_data['is_attributed']==0]['X5'],color='r',alpha=0.5,label='is_attributed == 0',density=True,bins=20)\nplt.hist(all_data[all_data['is_attributed']==1]['X5'],color='g',alpha=0.5,label='is_attributed == 1',density=True,bins=20)\nplt.legend(loc='upper right')\nplt.show()",
      "execution_count": null,
      "outputs": []
    },
    {
      "metadata": {
        "trusted": true,
        "_uuid": "dbc2c6b0d4493cd2c279e4b2f316966c103ed432"
      },
      "cell_type": "code",
      "source": "all_data = do_countuniq(all_data,['app'],'channel','X6','uint8',show_max=False)\ngc.collect()",
      "execution_count": null,
      "outputs": []
    },
    {
      "metadata": {
        "trusted": true,
        "_uuid": "2c0023e740ac61123dfce564c92cb19c47e5f3e2"
      },
      "cell_type": "code",
      "source": "plt.figure(figsize=(10,7))\nplt.hist(all_data[all_data['is_attributed']==0]['X6'],color='r',alpha=0.5,label='is_attributed == 0',density=True,bins=20)\nplt.hist(all_data[all_data['is_attributed']==1]['X6'],color='g',alpha=0.5,label='is_attributed == 1',density=True,bins=20)\nplt.legend(loc='upper right')\nplt.show()",
      "execution_count": null,
      "outputs": []
    },
    {
      "metadata": {
        "trusted": true,
        "_uuid": "a9ae1fb3cce0321068753bb67ffd0f2d47ac9fe6"
      },
      "cell_type": "code",
      "source": "all_data = do_countuniq(all_data,['ip','device','os'],'app','X8','uint8',show_max=False)\ngc.collect()",
      "execution_count": null,
      "outputs": []
    },
    {
      "metadata": {
        "trusted": true,
        "_uuid": "00d9556341956fee26042778d5d20c1381d2b151"
      },
      "cell_type": "code",
      "source": "plt.figure(figsize=(10,7))\nplt.hist(all_data[all_data['is_attributed']==0]['X8'],color='r',alpha=0.5,label='is_attributed == 0',density=True,bins=20)\nplt.hist(all_data[all_data['is_attributed']==1]['X8'],color='g',alpha=0.5,label='is_attributed == 1',density=True,bins=20)\nplt.legend(loc='upper right')\nplt.show()",
      "execution_count": null,
      "outputs": []
    },
    {
      "metadata": {
        "trusted": true,
        "_uuid": "923ffd9c074204e2481063480ba8b48e8b0a0874"
      },
      "cell_type": "code",
      "source": "all_data = do_countuniq(all_data,['ip'],'os','X7','uint16',show_max=False)\ngc.collect()",
      "execution_count": null,
      "outputs": []
    },
    {
      "metadata": {
        "trusted": true,
        "_uuid": "06ce7027bf7ddbe5fd6359acabd0fc3500474e95"
      },
      "cell_type": "code",
      "source": "plt.figure(figsize=(10,7))\nplt.hist(all_data[all_data['is_attributed']==0]['X7'],color='r',alpha=0.5,label='is_attributed == 0',density=True,bins=20)\nplt.hist(all_data[all_data['is_attributed']==1]['X7'],color='g',alpha=0.5,label='is_attributed == 1',density=True,bins=20)\nplt.legend(loc='upper right')\nplt.show()",
      "execution_count": null,
      "outputs": []
    },
    {
      "metadata": {
        "trusted": true,
        "_uuid": "81f2ea95b12ece81649cac004f66cfcf2450ce97"
      },
      "cell_type": "code",
      "source": "all_data = do_countuniq(all_data,['ip','device','os'],'app','X1','uint8',show_max=False)\ngc.collect()",
      "execution_count": null,
      "outputs": []
    },
    {
      "metadata": {
        "trusted": true,
        "_uuid": "ea606cfffcc346c4ee297425d16713e5cc4c1418"
      },
      "cell_type": "code",
      "source": "plt.figure(figsize=(10,7))\nplt.hist(all_data[all_data['is_attributed']==0]['X1'],color='r',alpha=0.5,label='is_attributed == 0',density=True,bins=20)\nplt.hist(all_data[all_data['is_attributed']==1]['X1'],color='g',alpha=0.5,label='is_attributed == 1',density=True,bins=20)\nplt.legend(loc='upper right')\nplt.show()",
      "execution_count": null,
      "outputs": []
    },
    {
      "metadata": {
        "trusted": true,
        "_uuid": "f82a07c0c25aef6a5792c1b2c4c87425d2ae7c83"
      },
      "cell_type": "code",
      "source": "all_data = do_countuniq(all_data,['ip','device','os'],'channel','A0','uint8',show_max=False)\ngc.collect()",
      "execution_count": null,
      "outputs": []
    },
    {
      "metadata": {
        "trusted": true,
        "_uuid": "a3fabef21a76e0e73fe2d4d1ad3ca1317c45c014"
      },
      "cell_type": "code",
      "source": "plt.figure(figsize=(10,7))\nplt.hist(all_data[all_data['is_attributed']==0]['A0'],color='r',alpha=0.5,label='is_attributed == 0',density=True,bins=20)\nplt.hist(all_data[all_data['is_attributed']==1]['A0'],color='g',alpha=0.5,label='is_attributed == 1',density=True,bins=20)\nplt.legend(loc='upper right')\nplt.show()",
      "execution_count": null,
      "outputs": []
    },
    {
      "metadata": {
        "trusted": true,
        "_uuid": "7a763fc8cc56702a197bd3286400163c09cd20c0"
      },
      "cell_type": "code",
      "source": "all_data = do_count(all_data,['ip','app','channel'],'A1',show_max=False)\ngc.collect()",
      "execution_count": null,
      "outputs": []
    },
    {
      "metadata": {
        "trusted": true,
        "_uuid": "a48671bcb5066aabdce752c9cf58ceb3c9006953"
      },
      "cell_type": "code",
      "source": "all_data = do_count(all_data,['ip','device','os','app'],'A2',show_max=False)\ngc.collect()",
      "execution_count": null,
      "outputs": []
    },
    {
      "metadata": {
        "trusted": true,
        "_uuid": "8e1e37a3801d4aa553df7d2e25364a232f937f85"
      },
      "cell_type": "code",
      "source": "all_data = do_count(all_data,['ip','day','hour'],'ip_tcount','uint16',show_max=False )\ngc.collect()",
      "execution_count": null,
      "outputs": []
    },
    {
      "metadata": {
        "trusted": true,
        "_uuid": "4cddf194d62e493ceb71e251f66888e0310411a1"
      },
      "cell_type": "code",
      "source": "all_data = do_count(all_data,['ip', 'app'],'ip_app_count','uint32',show_max=False)\ngc.collect()",
      "execution_count": null,
      "outputs": []
    },
    {
      "metadata": {
        "trusted": true,
        "_uuid": "a4deab918c7e38f403d46b689fdf01dea5236eb9"
      },
      "cell_type": "code",
      "source": "all_data = do_count(all_data, ['ip','app','os'],'ip_app_os_count','uint16',show_max=False)\ngc.collect()",
      "execution_count": null,
      "outputs": []
    },
    {
      "metadata": {
        "_uuid": "236351c6c28c4b117ed98c98042a0db110b35296"
      },
      "cell_type": "markdown",
      "source": "按ip、day和channel分组，计算点击发生的时间方差"
    },
    {
      "metadata": {
        "trusted": true,
        "_uuid": "0a8403060c486fef39289b15d7cfc6a1ab7a1445"
      },
      "cell_type": "code",
      "source": "all_data = do_var(all_data,['ip','day','channel'],'hour','ip_tchan_count',show_max=False)\ngc.collect()",
      "execution_count": null,
      "outputs": []
    },
    {
      "metadata": {
        "_uuid": "ae727bc5663ac8801dd265abecb095417b1e9a2e"
      },
      "cell_type": "markdown",
      "source": "按ip、app和os分组，计算点击发生的时间方差"
    },
    {
      "metadata": {
        "trusted": true,
        "_uuid": "0579ff4aabb50222d26d915c8d09252d786764fe"
      },
      "cell_type": "code",
      "source": "all_data = do_var(all_data,['ip','app','os'],'hour','ip_app_os_var',show_max=False)\ngc.collect()",
      "execution_count": null,
      "outputs": []
    },
    {
      "metadata": {
        "_uuid": "cd01484f5d0355b676fd0c3ccf8e3778ad9f0a84"
      },
      "cell_type": "markdown",
      "source": "按ip、app和channel分组，计算点击发生的时间方差"
    },
    {
      "metadata": {
        "trusted": true,
        "_uuid": "5234dc1d1bd33d3a38bdacf885dedce51e5f4f30"
      },
      "cell_type": "code",
      "source": "all_data = do_var(all_data,['ip','app','channel'],'day','ip_app_channel_var_day',show_max=False)\ngc.collect()",
      "execution_count": null,
      "outputs": []
    },
    {
      "metadata": {
        "_uuid": "fcf0cdaf9d19dffaaa9179344a391f70ae66895e"
      },
      "cell_type": "markdown",
      "source": "按ip、app和channel分组，计算点击发生的时间均值"
    },
    {
      "metadata": {
        "trusted": true,
        "_uuid": "c75ceeae3fa116c871ea92bb9321fad65dc52689"
      },
      "cell_type": "code",
      "source": "all_data = do_mean(all_data,['ip','app','channel'],'hour','ip_app_channel_mean_hour',show_max=False)\ngc.collect()",
      "execution_count": null,
      "outputs": []
    },
    {
      "metadata": {
        "_uuid": "3c066e572e02da8f9e40f30b0463abc0da3a08ca"
      },
      "cell_type": "markdown",
      "source": "#### nextclicktime\n当次点击距离下一次、下第二次、下第三次点击的时间间隔\n当次点击距离上一次、上第二次、上第三次点击的时间间隔"
    },
    {
      "metadata": {
        "trusted": true,
        "_uuid": "49b67fd85d5766ce0501f24d19aa4bd2458da273"
      },
      "cell_type": "code",
      "source": "all_data['nextClick1'] = (all_data.groupby(['ip','app','device','os'])['click_time'].shift(-1)-all_data['click_time']).dt.seconds.astype(np.float32)\nall_data['nextClick2'] = (all_data.groupby(['ip','app','device','os'])['click_time'].shift(-2)-all_data['click_time']).dt.seconds.astype(np.float32)\nall_data['nextClick3'] = (all_data.groupby(['ip','app','device','os'])['click_time'].shift(-3)-all_data['click_time']).dt.seconds.astype(np.float32)",
      "execution_count": null,
      "outputs": []
    },
    {
      "metadata": {
        "trusted": true,
        "_uuid": "04299fe0bf05a82e69491c69960153e144291544"
      },
      "cell_type": "code",
      "source": "all_data['prevClick1'] = (all_data['click_time'] - all_data.groupby(['ip','app','device','os'])['click_time'].shift(+1)).dt.seconds.astype(np.float32)\nall_data['prevClick2'] = (all_data['click_time'] - all_data.groupby(['ip','app','device','os'])['click_time'].shift(+2)).dt.seconds.astype(np.float32)\nall_data['prevClick3'] = (all_data['click_time'] - all_data.groupby(['ip','app','device','os'])['click_time'].shift(+3)).dt.seconds.astype(np.float32)",
      "execution_count": null,
      "outputs": []
    },
    {
      "metadata": {
        "trusted": true,
        "_uuid": "b6b252987c54f3eb262c5bc75bd05b84f1be578b"
      },
      "cell_type": "code",
      "source": "all_data.drop(columns=['click_time','day'],inplace=True)",
      "execution_count": null,
      "outputs": []
    },
    {
      "metadata": {
        "trusted": true,
        "_uuid": "79d7c2960004c98d11f766ff430b1e73a79246f7"
      },
      "cell_type": "code",
      "source": "all_data.drop(columns=['ip'],inplace=True)",
      "execution_count": null,
      "outputs": []
    },
    {
      "metadata": {
        "trusted": true,
        "_uuid": "1e9ad302cd173b600d1dc6a309f2f9cefd6dc5c4"
      },
      "cell_type": "code",
      "source": "gc.collect()",
      "execution_count": null,
      "outputs": []
    },
    {
      "metadata": {
        "_uuid": "166714d319796dfe39698eb05eac028619bfb4ec"
      },
      "cell_type": "markdown",
      "source": "#### 拆分训练集和测试集，定义训练特征的category类"
    },
    {
      "metadata": {
        "trusted": true,
        "_uuid": "0e107affd31ff1545e1021bab8534e5688ec33cf"
      },
      "cell_type": "code",
      "source": "print(all_data.columns)",
      "execution_count": null,
      "outputs": []
    },
    {
      "metadata": {
        "trusted": true,
        "_uuid": "d6f097e0933b2de49b3cef3cfc42278c1b47ed4e"
      },
      "cell_type": "code",
      "source": "target = 'is_attributed'\ncategorical_features = ['app', 'device', 'os', 'channel', 'hour']",
      "execution_count": null,
      "outputs": []
    },
    {
      "metadata": {
        "trusted": true,
        "_uuid": "d93c7f7a6b9d19a59b3562883a799be6357b9d84"
      },
      "cell_type": "code",
      "source": "test_data = all_data[all_data['is_attributed'].isna()].drop(columns=['is_attributed'])",
      "execution_count": null,
      "outputs": []
    },
    {
      "metadata": {
        "trusted": true,
        "_uuid": "9816d02ae864ecbac59b24b09d29836420971fd9"
      },
      "cell_type": "code",
      "source": "train_data = all_data[all_data['is_attributed'].notnull()].drop(columns=['is_attributed'])\ntrain_target = all_data[all_data['is_attributed'].notnull()]['is_attributed']",
      "execution_count": null,
      "outputs": []
    },
    {
      "metadata": {
        "trusted": true,
        "_uuid": "de79f82afe9e09554d67f6dfc375d6552c845d08"
      },
      "cell_type": "code",
      "source": "print(train_data.shape)\nprint(train_target.shape)\nprint(test_data.shape)",
      "execution_count": null,
      "outputs": []
    },
    {
      "metadata": {
        "trusted": true,
        "_uuid": "e3e72a1f54bd500e89c871a3e9bf143d24cfa63a"
      },
      "cell_type": "code",
      "source": "predictors = train_data.columns.tolist()",
      "execution_count": null,
      "outputs": []
    },
    {
      "metadata": {
        "trusted": true,
        "_uuid": "1d04230bce7155967db7c39be866a36cfb2ffab8"
      },
      "cell_type": "code",
      "source": "del all_data",
      "execution_count": null,
      "outputs": []
    },
    {
      "metadata": {
        "_uuid": "bfb598847d032328bd6d299684108e7a712238af"
      },
      "cell_type": "markdown",
      "source": "定义lightgbm训练所需的训练集、验证集"
    },
    {
      "metadata": {
        "trusted": true,
        "_uuid": "5d6cfcf8d9d3897bf480d9fc54856f859290d6cc"
      },
      "cell_type": "code",
      "source": "Dtrain = lgb.Dataset(data=train_data,label=train_target,free_raw_data=False)\ntrain_X,valid_X,train_y,valid_y = train_test_split(train_data,train_target,stratify=train_target,random_state=2018)\ndtrain = lgb.Dataset(data=train_X,label=train_y,feature_name=predictors,categorical_feature=categorical_features,free_raw_data=False)\ndvalid = lgb.Dataset(data=valid_X,label=valid_y,feature_name=predictors,categorical_feature=categorical_features,free_raw_data=False)",
      "execution_count": null,
      "outputs": []
    },
    {
      "metadata": {
        "trusted": true,
        "_uuid": "5685b7b4db07fb07b15cb380ccf52530cc83a493"
      },
      "cell_type": "code",
      "source": "del train_data,train_target\ngc.enable()\ngc.collect()",
      "execution_count": null,
      "outputs": []
    },
    {
      "metadata": {
        "_uuid": "9b0c35184fecaeb3484768436b866abd45c48636"
      },
      "cell_type": "markdown",
      "source": "定义lightgbm进行5折交叉验证的评价函数"
    },
    {
      "metadata": {
        "trusted": true,
        "_uuid": "1893470029677a945cfe0d9c59b46d53f9eef4bb"
      },
      "cell_type": "code",
      "source": "def lgb_evaluate_cv(colsample_bytree=0.7,\n                    learning_rate=0.1,num_leaves=32,\n                    subsample=0.9,reg_alpha=0.0,\n                    reg_lambda=0.0,min_child_weight=0.0):\n    params = dict()\n    params['colsample_bytree'] = max(min(colsample_bytree,1),0)\n    params['learning_rate'] = max(min(learning_rate,1),0)\n    params['num_leaves'] = int(num_leaves)\n    params['subsample'] = max(min(subsample,1),0)\n    params['reg_alpha'] = max(0,reg_alpha)\n    params['reg_lambda'] = max(0,reg_lambda)\n    params['min_child_weight'] = int(min_child_weight)\n    params['is_unbalance'] = True\n    params['categorical_features'] = categorical_features\n    params['predictor'] = predictors\n    params['objective'] = 'binary'\n    cv_result =  lgb.cv(params=params,train_set=Dtrain,\n                        early_stopping_rounds=50,\n                        metrics='auc',nfold=3,\n                        num_boost_round=2000,\n                        verbose_eval=False,seed=1,show_stdv=True)                       \n    return cv_result['auc-mean'][-1]",
      "execution_count": null,
      "outputs": []
    },
    {
      "metadata": {
        "_uuid": "c55d564f04b6aeb75a41a008dcdac4178acf18b6"
      },
      "cell_type": "markdown",
      "source": "定义对贝叶斯优化lightgbm超参数函数以及参数空间"
    },
    {
      "metadata": {
        "trusted": true,
        "_uuid": "5d25574d9032cacdecdfca3933bfca2a4c7724a6"
      },
      "cell_type": "code",
      "source": "lgbBO = BayesianOptimization(f=lgb_evaluate_cv,\n                             pbounds={'colsample_bytree':(0.5,0.7),\n                                      'learning_rate':(0.01,0.2),\n                                      'num_leaves':(7,31),\n                                      'subsample':(0.5,0.95),\n                                      'reg_alpha':(0.1,0.1),\n                                      'reg_lambda':(0.1,0.1),\n                                      'min_child_weight':(1,1)})",
      "execution_count": null,
      "outputs": []
    },
    {
      "metadata": {
        "trusted": true,
        "_uuid": "fdb7c7c6a66f3cd3302446a15d9d9fdc54fa0eec"
      },
      "cell_type": "code",
      "source": "lgbBO.maximize(init_points=5,n_iter=20)",
      "execution_count": null,
      "outputs": []
    },
    {
      "metadata": {
        "trusted": true,
        "_uuid": "14e6b86a432f50e67d2664ebe3e6ff06926c6f8b"
      },
      "cell_type": "code",
      "source": "print(lgbBO.res['max']['max_val'])\ndisplay(lgbBO.res['max']['max_params'])\nparams_opt = lgbBO.res['max']['max_params'].copy()",
      "execution_count": null,
      "outputs": []
    },
    {
      "metadata": {
        "_uuid": "6334b60e18cd6756c9f0f732cf88ee861fecd988"
      },
      "cell_type": "markdown",
      "source": "定义最终lightgbm的优化超参数"
    },
    {
      "metadata": {
        "trusted": true,
        "_uuid": "a3778365e1b8a829cac2f658ec2ad56bca17c58a"
      },
      "cell_type": "code",
      "source": "params_opt['num_leaves'] = int(params_opt['num_leaves'])\nparams_opt['is_unbalance'] = True\nparams_opt['categorical_features'] = categorical_features\nparams_opt['predictor'] = predictors\nparams_opt['objective'] = 'binary'\nparams_opt['metrics'] = 'auc'\nprint(params_opt)",
      "execution_count": null,
      "outputs": []
    },
    {
      "metadata": {
        "trusted": true,
        "_uuid": "fbc3f27701e7e73257dcda919798c0f411854652"
      },
      "cell_type": "code",
      "source": "display(params_opt)",
      "execution_count": null,
      "outputs": []
    },
    {
      "metadata": {
        "trusted": true,
        "_uuid": "39598931fd1bc0397c42b097be97204d82e048e6"
      },
      "cell_type": "code",
      "source": "opt_lgb = lgb.train(params=params_opt,train_set=dtrain,valid_sets=[dtrain,dvalid],valid_names=['train','valid'],early_stopping_rounds=50,num_boost_round=3000,verbose_eval=True)",
      "execution_count": null,
      "outputs": []
    },
    {
      "metadata": {
        "trusted": true,
        "_uuid": "36b5e90ddff6801c9416977ef4d15db064a76ef3"
      },
      "cell_type": "code",
      "source": "bst_iterations = opt_lgb.best_iteration",
      "execution_count": null,
      "outputs": []
    },
    {
      "metadata": {
        "_uuid": "615cc030664773c786d9764511a90c3852d12ebd"
      },
      "cell_type": "markdown",
      "source": "以最优boosting次数，训练完整的训练数据集"
    },
    {
      "metadata": {
        "trusted": true,
        "_uuid": "9bfdd91e929cf2a8f4726d65a087696b3b26e9d4"
      },
      "cell_type": "code",
      "source": "final_lgb = lgb.train(params=params_opt,train_set=Dtrain,valid_sets=Dtrain,valid_names='train',num_boost_round=bst_iterations,verbose_eval=True)",
      "execution_count": null,
      "outputs": []
    },
    {
      "metadata": {
        "trusted": true,
        "_uuid": "e08b99ce83fda26b85ebdd095c854f12a105960b"
      },
      "cell_type": "code",
      "source": "pred = final_lgb.predict(test_data)",
      "execution_count": null,
      "outputs": []
    },
    {
      "metadata": {
        "_uuid": "ff050dc943a03e4251b2b56136756744384b87ca"
      },
      "cell_type": "markdown",
      "source": "输出预测结果"
    },
    {
      "metadata": {
        "trusted": true,
        "_uuid": "8fed95fcd3901cd3c50db0f26850c465634a8248"
      },
      "cell_type": "code",
      "source": "sub = pd.DataFrame()\nsub['click_id'] = test_id\nsub['is_attributed'] = pred",
      "execution_count": null,
      "outputs": []
    },
    {
      "metadata": {
        "trusted": true,
        "_uuid": "e3c70ac5dd95d98942e55bdd90ce5e102751af4c"
      },
      "cell_type": "code",
      "source": "print(sub.shape)\ndisplay(sub.head())\nimport datetime",
      "execution_count": null,
      "outputs": []
    },
    {
      "metadata": {
        "trusted": true,
        "_uuid": "4e2e279d68a29aac091d664a9efa052fbc7e7f03"
      },
      "cell_type": "code",
      "source": "sub.to_csv(\"submissions_lgb_{}.csv\".format(datetime.datetime.now()),index=False)",
      "execution_count": null,
      "outputs": []
    },
    {
      "metadata": {
        "trusted": true,
        "_uuid": "2516745372156797283d6d03eece16fcd8e56e50"
      },
      "cell_type": "code",
      "source": "",
      "execution_count": null,
      "outputs": []
    }
  ],
  "metadata": {
    "kernelspec": {
      "display_name": "Python 3",
      "language": "python",
      "name": "python3"
    },
    "language_info": {
      "name": "python",
      "version": "3.6.6",
      "mimetype": "text/x-python",
      "codemirror_mode": {
        "name": "ipython",
        "version": 3
      },
      "pygments_lexer": "ipython3",
      "nbconvert_exporter": "python",
      "file_extension": ".py"
    }
  },
  "nbformat": 4,
  "nbformat_minor": 1
}