{
 "cells": [
  {
   "cell_type": "code",
   "execution_count": 1,
   "metadata": {
    "_cell_guid": "79c7e3d0-c299-4dcb-8224-4455121ee9b0",
    "_uuid": "d629ff2d2480ee46fbb7e2d37f6b5fab8052498a"
   },
   "outputs": [],
   "source": [
    "import pandas as pd\n",
    "import numpy as np"
   ]
  },
  {
   "cell_type": "code",
   "execution_count": 2,
   "metadata": {
    "_uuid": "a7ae0646b252ca9d4f0d093d294a2466a701e0bb"
   },
   "outputs": [
    {
     "name": "stderr",
     "output_type": "stream",
     "text": [
      "Using TensorFlow backend.\n"
     ]
    }
   ],
   "source": [
    "import keras\n",
    "from keras.layers import Input,Dense,Flatten,Activation,BatchNormalization\n",
    "from keras.layers import Conv2D,Conv2DTranspose,Reshape,Dropout\n",
    "from keras.models import Model\n",
    "from keras import backend as K\n",
    "from keras.datasets import mnist"
   ]
  },
  {
   "cell_type": "markdown",
   "metadata": {
    "_uuid": "95e99c247870bec6bcb78ea3a75d6d237fabcfa9"
   },
   "source": [
    "### Model parameters"
   ]
  },
  {
   "cell_type": "code",
   "execution_count": 3,
   "metadata": {
    "_uuid": "920c746dbd4b756f35c8034939b9ff0f971c103a"
   },
   "outputs": [],
   "source": [
    "img_rows, img_cols = 28, 28\n",
    "batch_size = 128\n",
    "layer_filters = [32,64]\n",
    "latent_dim = 32"
   ]
  },
  {
   "cell_type": "markdown",
   "metadata": {
    "_uuid": "ae0d6565e8ce30ed5363192c234b1cd02c7d6c28"
   },
   "source": [
    "### Build Encoder Model"
   ]
  },
  {
   "cell_type": "code",
   "execution_count": 4,
   "metadata": {
    "_uuid": "32f30f2e3a041ad5b52e2063275073f1a613607b"
   },
   "outputs": [
    {
     "name": "stdout",
     "output_type": "stream",
     "text": [
      "_________________________________________________________________\n",
      "Layer (type)                 Output Shape              Param #   \n",
      "=================================================================\n",
      "encoder_input (InputLayer)   (None, 28, 28, 1)         0         \n",
      "_________________________________________________________________\n",
      "conv2d_1 (Conv2D)            (None, 14, 14, 32)        832       \n",
      "_________________________________________________________________\n",
      "batch_normalization_1 (Batch (None, 14, 14, 32)        128       \n",
      "_________________________________________________________________\n",
      "activation_1 (Activation)    (None, 14, 14, 32)        0         \n",
      "_________________________________________________________________\n",
      "conv2d_2 (Conv2D)            (None, 7, 7, 64)          51264     \n",
      "_________________________________________________________________\n",
      "batch_normalization_2 (Batch (None, 7, 7, 64)          256       \n",
      "_________________________________________________________________\n",
      "activation_2 (Activation)    (None, 7, 7, 64)          0         \n",
      "_________________________________________________________________\n",
      "flatten_1 (Flatten)          (None, 3136)              0         \n",
      "_________________________________________________________________\n",
      "dropout_1 (Dropout)          (None, 3136)              0         \n",
      "_________________________________________________________________\n",
      "encoder_output (Dense)       (None, 32)                100384    \n",
      "=================================================================\n",
      "Total params: 152,864\n",
      "Trainable params: 152,672\n",
      "Non-trainable params: 192\n",
      "_________________________________________________________________\n",
      "None\n"
     ]
    }
   ],
   "source": [
    "encoder_input = Input(shape=(img_rows,img_cols,1),name='encoder_input')\n",
    "encoder = encoder_input\n",
    "for filters in layer_filters:\n",
    "    encoder = Conv2D(filters=filters,kernel_size=(5,5),strides=(2,2),padding='same')(encoder)\n",
    "    encoder = BatchNormalization()(encoder)\n",
    "    encoder = Activation('relu')(encoder)\n",
    "Shape = K.int_shape(encoder)\n",
    "encoder = Flatten()(encoder)\n",
    "encoder = Dropout(0.25)(encoder)\n",
    "\n",
    "latent = Dense(units=latent_dim,name='encoder_output')(encoder)\n",
    "Encoder = Model(inputs=encoder_input,outputs=latent)\n",
    "print(Encoder.summary())"
   ]
  },
  {
   "cell_type": "markdown",
   "metadata": {
    "_uuid": "7cd85344b8f8d9a83b7f457b0694f564ffdfccfa"
   },
   "source": [
    "### Build Decoder Model"
   ]
  },
  {
   "cell_type": "code",
   "execution_count": 5,
   "metadata": {
    "_uuid": "581678e65c8d6791c5dfac17efc885b03a1810df"
   },
   "outputs": [
    {
     "name": "stdout",
     "output_type": "stream",
     "text": [
      "_________________________________________________________________\n",
      "Layer (type)                 Output Shape              Param #   \n",
      "=================================================================\n",
      "decoder_input (InputLayer)   (None, 32)                0         \n",
      "_________________________________________________________________\n",
      "dense_1 (Dense)              (None, 3136)              103488    \n",
      "_________________________________________________________________\n",
      "dropout_2 (Dropout)          (None, 3136)              0         \n",
      "_________________________________________________________________\n",
      "reshape_1 (Reshape)          (None, 7, 7, 64)          0         \n",
      "_________________________________________________________________\n",
      "conv2d_transpose_1 (Conv2DTr (None, 14, 14, 64)        36928     \n",
      "_________________________________________________________________\n",
      "batch_normalization_3 (Batch (None, 14, 14, 64)        256       \n",
      "_________________________________________________________________\n",
      "activation_3 (Activation)    (None, 14, 14, 64)        0         \n",
      "_________________________________________________________________\n",
      "conv2d_transpose_2 (Conv2DTr (None, 28, 28, 32)        18464     \n",
      "_________________________________________________________________\n",
      "batch_normalization_4 (Batch (None, 28, 28, 32)        128       \n",
      "_________________________________________________________________\n",
      "activation_4 (Activation)    (None, 28, 28, 32)        0         \n",
      "_________________________________________________________________\n",
      "conv2d_transpose_3 (Conv2DTr (None, 28, 28, 1)         33        \n",
      "=================================================================\n",
      "Total params: 159,297\n",
      "Trainable params: 159,105\n",
      "Non-trainable params: 192\n",
      "_________________________________________________________________\n",
      "None\n"
     ]
    }
   ],
   "source": [
    "decoder_input = Input(shape=(latent_dim,),name='decoder_input')\n",
    "decoder = decoder_input\n",
    "decoder = Dense(units=Shape[1]*Shape[2]*Shape[3],activation='relu')(decoder)\n",
    "decoder = Dropout(0.25)(decoder)\n",
    "decoder = Reshape(target_shape=(Shape[1],Shape[2],Shape[3]))(decoder)\n",
    "for filters in layer_filters[::-1]:\n",
    "    decoder = Conv2DTranspose(filters=filters,kernel_size=(3,3),strides=(2,2),padding='same')(decoder)\n",
    "    decoder = BatchNormalization()(decoder)\n",
    "    decoder = Activation('relu')(decoder)\n",
    "decoder_output = Conv2DTranspose(filters=1,kernel_size=(1,1),strides=(1,1),padding='same',activation='sigmoid')(decoder)\n",
    "Decoder = Model(inputs=decoder_input,outputs=decoder_output)\n",
    "print(Decoder.summary())"
   ]
  },
  {
   "cell_type": "markdown",
   "metadata": {
    "_uuid": "8b37f4ac55e91902dab87b3464e0e23f1275da0b"
   },
   "source": [
    "### Build AutoEncoder Model"
   ]
  },
  {
   "cell_type": "code",
   "execution_count": 6,
   "metadata": {
    "_uuid": "7b037eb90b6dc4c88f6c238859fc8b5fec23f5bf"
   },
   "outputs": [
    {
     "name": "stdout",
     "output_type": "stream",
     "text": [
      "_________________________________________________________________\n",
      "Layer (type)                 Output Shape              Param #   \n",
      "=================================================================\n",
      "encoder_input (InputLayer)   (None, 28, 28, 1)         0         \n",
      "_________________________________________________________________\n",
      "model_1 (Model)              (None, 32)                152864    \n",
      "_________________________________________________________________\n",
      "model_2 (Model)              (None, 28, 28, 1)         159297    \n",
      "=================================================================\n",
      "Total params: 312,161\n",
      "Trainable params: 311,777\n",
      "Non-trainable params: 384\n",
      "_________________________________________________________________\n",
      "None\n"
     ]
    }
   ],
   "source": [
    "AutoEncoder = Model(inputs=encoder_input,outputs=Decoder(Encoder(encoder_input)))\n",
    "print(AutoEncoder.summary())\n",
    "AutoEncoder.compile(loss='mse',optimizer='rmsprop')"
   ]
  },
  {
   "cell_type": "code",
   "execution_count": 7,
   "metadata": {
    "_uuid": "904310ccc7b4f328384d5ba4edbeaaf9876ea0a9"
   },
   "outputs": [],
   "source": [
    "(x_train,y_train),(x_test,y_test) = mnist.load_data()\n",
    "\n",
    "x_train = x_train.astype('float32')/255\n",
    "x_train = np.reshape(x_train,(-1,28,28,1))\n",
    "x_test = x_test.astype('float32')/255\n",
    "x_test = np.reshape(x_test,(-1,28,28,1))"
   ]
  },
  {
   "cell_type": "code",
   "execution_count": null,
   "metadata": {
    "_uuid": "c1dfcf75d2528941204e7e1ece45c84ea125d91e"
   },
   "outputs": [
    {
     "name": "stdout",
     "output_type": "stream",
     "text": [
      "Train on 60000 samples, validate on 10000 samples\n",
      "Epoch 1/10\n"
     ]
    }
   ],
   "source": [
    "history = AutoEncoder.fit(x=x_train,y=x_train,batch_size=batch_size,epochs=10,validation_data=(x_test,x_test),verbose=1,shuffle=True)"
   ]
  },
  {
   "cell_type": "code",
   "execution_count": null,
   "metadata": {
    "_uuid": "586aac6e2b5a1d0a4412fc598863aaeaf65b7d2b"
   },
   "outputs": [],
   "source": [
    "Auto32 = Encoder.predict(x_train,batch_size=batch_size,verbose=1)\n",
    "print(Auto32.shape)\n",
    "print(y_train.shape)"
   ]
  },
  {
   "cell_type": "markdown",
   "metadata": {
    "_uuid": "2f0a7b16d685a84aa3f46127cfbd1cf5c6d6f430"
   },
   "source": [
    "## PCA"
   ]
  },
  {
   "cell_type": "code",
   "execution_count": null,
   "metadata": {
    "_uuid": "2ed9c8d9dd7852dfb15ec9dc48aa3060dedcb03c"
   },
   "outputs": [],
   "source": [
    "from sklearn.decomposition import TruncatedSVD\n",
    "PCA32 = TruncatedSVD(n_components=latent_dim).fit_transform(x_train.reshape(len(x_train),784))"
   ]
  },
  {
   "cell_type": "markdown",
   "metadata": {
    "_uuid": "609f0311e351821769bb53f5b53c9a0d0fb06b39"
   },
   "source": [
    "## LDA"
   ]
  },
  {
   "cell_type": "code",
   "execution_count": null,
   "metadata": {
    "_uuid": "7505ee5ecab77feb89611905e15d1dbb22555395"
   },
   "outputs": [],
   "source": [
    "from sklearn.discriminant_analysis import LinearDiscriminantAnalysis\n",
    "LDA32 = LinearDiscriminantAnalysis(n_components=32).fit_transform(x_train.reshape(len(x_train),784),y_train)"
   ]
  },
  {
   "cell_type": "markdown",
   "metadata": {
    "_uuid": "52fd8efbcb4d5bd26cf6420efafa4153e4b15add"
   },
   "source": [
    "### Visualization Embedding vector"
   ]
  },
  {
   "cell_type": "code",
   "execution_count": null,
   "metadata": {
    "_uuid": "3497cd38b7a06c57c091f94685aeb43fed8e0ede"
   },
   "outputs": [],
   "source": [
    "import matplotlib.pyplot as plt\n",
    "import seaborn as sns\n",
    "from sklearn.manifold import TSNE\n",
    "plt.style.use('classic')\n",
    "%matplotlib inline"
   ]
  },
  {
   "cell_type": "code",
   "execution_count": null,
   "metadata": {
    "_uuid": "57f545f25840f3695435fc0414ecd22c95994b2f"
   },
   "outputs": [],
   "source": [
    "def plot_embedding(X,y,title=None):\n",
    "    plt.figure(figsize=(14,10))\n",
    "    plt.scatter(x=X[:,0],y=X[:,1],c=y,s=100,alpha=0.8,cmap=plt.cm.tab10)\n",
    "    plt.colorbar()\n",
    "    plt.xticks([],fontsize=20)\n",
    "    plt.yticks([],fontsize=20)\n",
    "    plt.legend(loc='upper right')\n",
    "    plt.title(title)\n",
    "    plt.show()"
   ]
  },
  {
   "cell_type": "code",
   "execution_count": null,
   "metadata": {
    "_uuid": "fe9473591db18210f41203f5134db9b31bc55008"
   },
   "outputs": [],
   "source": [
    "random_index = np.random.permutation(len(x_train))"
   ]
  },
  {
   "cell_type": "code",
   "execution_count": null,
   "metadata": {
    "_uuid": "777a4ef7d969d166f4df86e5cff0c2cdf6e58c7f"
   },
   "outputs": [],
   "source": [
    "visualization_X = Auto32[random_index[:1000]]\n",
    "visualization_y = y_train[random_index[:1000]]\n",
    "transform_tsne = TSNE(init='pca',n_components=2).fit_transform(visualization_X)\n",
    "plot_embedding(transform_tsne,visualization_y,title='TSNE-AutoEncoder{}'.format(latent_dim))"
   ]
  },
  {
   "cell_type": "code",
   "execution_count": null,
   "metadata": {
    "_uuid": "0b55828784a97bf7b37b3b0d590a2680f961d651"
   },
   "outputs": [],
   "source": [
    "visualization_X = PCA32[random_index[:1000]]\n",
    "visualization_y = y_train[random_index[:1000]]\n",
    "transform_tsne = TSNE(init='pca',n_components=2).fit_transform(visualization_X)\n",
    "plot_embedding(transform_tsne,visualization_y,title='TSNE-PCA{}'.format(latent_dim))"
   ]
  },
  {
   "cell_type": "code",
   "execution_count": null,
   "metadata": {
    "_uuid": "b9181bc267e71522d6a022204a20f209107f0527"
   },
   "outputs": [],
   "source": [
    "visualization_X = LDA32[random_index[:1000]]\n",
    "visualization_y = y_train[random_index[:1000]]\n",
    "transform_tsne = TSNE(init='pca',n_components=2).fit_transform(visualization_X)\n",
    "plot_embedding(transform_tsne,visualization_y,title='TSNE-LDA{}'.format(latent_dim))"
   ]
  }
 ],
 "metadata": {
  "kernelspec": {
   "display_name": "Python 3",
   "language": "python",
   "name": "python3"
  },
  "language_info": {
   "codemirror_mode": {
    "name": "ipython",
    "version": 3
   },
   "file_extension": ".py",
   "mimetype": "text/x-python",
   "name": "python",
   "nbconvert_exporter": "python",
   "pygments_lexer": "ipython3",
   "version": "3.6.6"
  }
 },
 "nbformat": 4,
 "nbformat_minor": 1
}
