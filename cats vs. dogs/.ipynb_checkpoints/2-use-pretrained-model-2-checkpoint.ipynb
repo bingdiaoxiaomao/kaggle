{
 "cells": [
  {
   "cell_type": "markdown",
   "metadata": {},
   "source": [
    "# 使用预训练卷积神经网络模型"
   ]
  },
  {
   "cell_type": "markdown",
   "metadata": {},
   "source": [
    "在图像小数据集上进行深度学习的一种常见和高效的方法是利用预先训练好的网络模型。预先训练好的网络模型只是一个先前在大型数据集上训练过后保存下来的网络模型，通过是进行了大规模的图像分类任务。\n",
    "\n",
    "如果这个原始数据集足够大且足够普遍，那么由训练有素的网络学习到的空间特征层次可以有效的作为我们进行机器视觉学习的通用模型，因此其特征可以证明对许多不同的机器视觉问题是通用的，甚至尽管这些新问题可能涉及与原始任务完全不同的类型。\n",
    "\n",
    "例如，可以在ImageNet上训练一个网络，其中图像类别主要是动物和日用品，然后重新使用这个训练好的网络模型，用来识别图像中的家具。与许多耳熟能详的浅层学习方法相比，不同问题的学习特征的这种可移植性是深度学习的一个主要优点，它使深度学习对于小数据图像分类问题非常有效。\n",
    "\n",
    "在此次任务中，我们将使用由Karen Simonyan和Andrew Zisserman于2014年开发的VGG16架构，这是一种简单而广泛使用的ImageNet架构。VGG16相比于后来开发的新的模型架构而言可能数据参数量要大的多，模型性能也会略差一些，我们之所以选择VGG16，主要是考虑到对VGG16架构更为熟悉，容易理解，而且不需要引入任何其他新的概念。\n",
    "\n",
    "这可能是我们第一次看到以下的名称：VGG，ResNet，Inception，Inception-ResNet，Xception，DenseNet...但之后我们会慢慢熟悉他们。\n",
    "\n",
    "有两种方法可以用来利用预训练的神经网络模型：特征提取feature extraction和微调fine-tuning。接下来我们先介绍特征提取。"
   ]
  },
  {
   "cell_type": "markdown",
   "metadata": {},
   "source": [
    "### 以下都是在上一篇中用到过的数据集构建过程"
   ]
  },
  {
   "cell_type": "code",
   "execution_count": 1,
   "metadata": {},
   "outputs": [
    {
     "name": "stdout",
     "output_type": "stream",
     "text": [
      "Platform: Windows-10-10.0.17134-SP0\n",
      "Tensorflow version: 1.9.0\n",
      "Keras version: 2.2.2\n"
     ]
    },
    {
     "name": "stderr",
     "output_type": "stream",
     "text": [
      "Using TensorFlow backend.\n"
     ]
    }
   ],
   "source": [
    "import platform\n",
    "import tensorflow\n",
    "import keras\n",
    "print(\"Platform: {}\".format(platform.platform()))\n",
    "print(\"Tensorflow version: {}\".format(tensorflow.__version__))\n",
    "print(\"Keras version: {}\".format(keras.__version__))"
   ]
  },
  {
   "cell_type": "code",
   "execution_count": 2,
   "metadata": {},
   "outputs": [],
   "source": [
    "%matplotlib inline\n",
    "import matplotlib.pyplot as plt\n",
    "import matplotlib.image as mpimg\n",
    "import numpy as np\n",
    "from IPython.display import Image"
   ]
  },
  {
   "cell_type": "code",
   "execution_count": 3,
   "metadata": {},
   "outputs": [],
   "source": [
    "import os\n",
    "\n",
    "ROOT_DIR = os.getcwd()\n",
    "DATA_PATH = \"D:/Working Folder/packages/train\""
   ]
  },
  {
   "cell_type": "code",
   "execution_count": 4,
   "metadata": {},
   "outputs": [],
   "source": [
    "import os\n",
    "import shutil\n",
    "\n",
    "base_dir = os.path.join(ROOT_DIR,\"data/cats_and_dogs_small\")\n",
    "if not os.path.exists(base_dir):\n",
    "    os.mkdir(base_dir)\n",
    "    \n",
    "train_dir = os.path.join(base_dir,\"train\")\n",
    "if not os.path.exists(train_dir):\n",
    "    os.mkdir(train_dir)\n",
    "\n",
    "validation_dir = os.path.join(base_dir,\"validation\")\n",
    "if not os.path.exists(validation_dir):\n",
    "    os.mkdir(validation_dir)\n",
    "    \n",
    "test_dir = os.path.join(base_dir,\"test\")\n",
    "if not os.path.exists(test_dir):\n",
    "    os.mkdir(test_dir)\n",
    "    \n",
    "train_cats_dir = os.path.join(train_dir,\"cats\")\n",
    "if not os.path.exists(train_cats_dir):\n",
    "    os.mkdir(train_cats_dir)\n",
    "    \n",
    "train_dogs_dir = os.path.join(train_dir,\"dogs\")\n",
    "if not os.path.exists(train_dogs_dir):\n",
    "    os.mkdir(train_dogs_dir)\n",
    "\n",
    "validation_cats_dir = os.path.join(validation_dir,\"cats\")\n",
    "if not os.path.exists(validation_cats_dir):\n",
    "    os.mkdir(validation_cats_dir)\n",
    "    \n",
    "validation_dogs_dir = os.path.join(validation_dir,\"dogs\")\n",
    "if not os.path.exists(validation_dogs_dir):\n",
    "    os.mkdir(validation_dogs_dir)\n",
    "    \n",
    "test_cats_dir = os.path.join(test_dir,\"cats\")\n",
    "if not os.path.exists(test_cats_dir):\n",
    "    os.mkdir(test_cats_dir)\n",
    "    \n",
    "test_dogs_dir = os.path.join(test_dir,\"dogs\")\n",
    "if not os.path.exists(test_dogs_dir):\n",
    "    os.mkdir(test_dogs_dir)"
   ]
  },
  {
   "cell_type": "code",
   "execution_count": 5,
   "metadata": {},
   "outputs": [
    {
     "name": "stdout",
     "output_type": "stream",
     "text": [
      "Copy fisrt 1000 cat images to train_cats_dit complete!\n",
      "Copy fisrt 500 cat images to validation_cats_dit complete!\n",
      "Copy fisrt 500 cat images to test_cats_dit complete!\n"
     ]
    }
   ],
   "source": [
    "fnames = [\"cat.{}.jpg\".format(i) for i in range(1000)]\n",
    "for fname in fnames:\n",
    "    src = os.path.join(DATA_PATH,fname)\n",
    "    dst = os.path.join(train_cats_dir,fname)\n",
    "    if not os.path.exists(dst):\n",
    "        shutil.copyfile(src,dst)\n",
    "print(\"Copy fisrt 1000 cat images to train_cats_dit complete!\")\n",
    "\n",
    "fnames = [\"cat.{}.jpg\".format(i) for i in range(1000,1500)]\n",
    "for fname in fnames:\n",
    "    src = os.path.join(DATA_PATH,fname)\n",
    "    dst = os.path.join(validation_cats_dir,fname)\n",
    "    if not os.path.exists(dst):\n",
    "        shutil.copyfile(src,dst)\n",
    "print(\"Copy fisrt 500 cat images to validation_cats_dit complete!\")\n",
    "\n",
    "fnames = [\"cat.{}.jpg\".format(i) for i in range(1500,2000)]\n",
    "for fname in fnames:\n",
    "    src = os.path.join(DATA_PATH,fname)\n",
    "    dst = os.path.join(test_cats_dir,fname)\n",
    "    if not os.path.exists(dst):\n",
    "        shutil.copyfile(src,dst)\n",
    "print(\"Copy fisrt 500 cat images to test_cats_dit complete!\")"
   ]
  },
  {
   "cell_type": "code",
   "execution_count": 6,
   "metadata": {},
   "outputs": [
    {
     "name": "stdout",
     "output_type": "stream",
     "text": [
      "Copy fisrt 1000 dog images to train_dogs_dit complete!\n",
      "Copy fisrt 500 dog images to validation_dogs_dit complete!\n",
      "Copy fisrt 500 dog images to test_dogs_dit complete!\n"
     ]
    }
   ],
   "source": [
    "fnames = [\"dog.{}.jpg\".format(i) for i in range(0,1000)]\n",
    "for fname in fnames:\n",
    "    src = os.path.join(DATA_PATH,fname)\n",
    "    dst = os.path.join(train_dogs_dir,fname)\n",
    "    if not os.path.exists(dst):\n",
    "        shutil.copyfile(src,dst)\n",
    "print(\"Copy fisrt 1000 dog images to train_dogs_dit complete!\")\n",
    "\n",
    "fnames = [\"dog.{}.jpg\".format(i) for i in range(1000,1500)]\n",
    "for fname in fnames:\n",
    "    src = os.path.join(DATA_PATH,fname)\n",
    "    dst = os.path.join(validation_dogs_dir,fname)\n",
    "    if not os.path.exists(dst):\n",
    "        shutil.copyfile(src,dst)\n",
    "print(\"Copy fisrt 500 dog images to validation_dogs_dit complete!\")\n",
    "\n",
    "fnames = [\"dog.{}.jpg\".format(i) for i in range(1500,2000)]\n",
    "for fname in fnames:\n",
    "    src = os.path.join(DATA_PATH,fname)\n",
    "    dst = os.path.join(test_dogs_dir,fname)\n",
    "    if not os.path.exists(dst):\n",
    "        shutil.copyfile(src,dst)\n",
    "print(\"Copy fisrt 500 dog images to test_dogs_dit complete!\")"
   ]
  },
  {
   "cell_type": "code",
   "execution_count": 7,
   "metadata": {},
   "outputs": [
    {
     "name": "stdout",
     "output_type": "stream",
     "text": [
      "total training cat images: 1000\n",
      "total training dog images: 1000\n",
      "total validation cat images: 500\n",
      "total validation dog images: 500\n",
      "total test cat images: 500\n",
      "total test dog images: 500\n"
     ]
    }
   ],
   "source": [
    "print('total training cat images:', len(os.listdir(train_cats_dir)))\n",
    "print('total training dog images:', len(os.listdir(train_dogs_dir)))\n",
    "print('total validation cat images:', len(os.listdir(validation_cats_dir)))\n",
    "print('total validation dog images:', len(os.listdir(validation_dogs_dir)))\n",
    "print('total test cat images:', len(os.listdir(test_cats_dir)))\n",
    "print('total test dog images:', len(os.listdir(test_dogs_dir)))"
   ]
  },
  {
   "cell_type": "markdown",
   "metadata": {},
   "source": [
    "## 特征提取 feature extraction"
   ]
  },
  {
   "cell_type": "markdown",
   "metadata": {},
   "source": [
    "特征提取包括了使用预训练好的网络模型来从新样本中提取特征，这些特征通过一个“新”的分类器来实现分类任务。\n",
    "\n",
    "如前所述，用于图像分类的卷积神经网络架构包括了两大部分：它们以一系列卷积和池化层开始，并且以全连接的分类器结束。第一部分称之为模型的“卷积基底”。在卷积神经网络中，“特征提取”将简单的包括先前训练过的网络的“卷积基底”，通过它重新喂入新的数据，并且根据这个“卷积基底”的输出，用于训练一个新的分类器。"
   ]
  },
  {
   "cell_type": "markdown",
   "metadata": {},
   "source": [
    "为什么只用到“卷积基底”呢？我们是否可以将全连接层也包括进来？一般来说，应该避免。简单的来说，“卷积基底”学习到的是图像的基础特征，是可以通用使用的；一个卷积网络的特征层是一个通用概念对应到图片的映射。全连接层是对学习到的基础特征的再次组合、抽象，由全连接层分类器学习到的特征对特定于模型任务的类别集合会非常敏感。\n",
    "\n",
    "此外，在全连接层发现的表示不再包含有关“空间/位置”对应于输入图像中的任何信息，对于分类目标位置重要且敏感的问题，全连接层的功能将在很大程度上是无法重复利用的。\n",
    "\n",
    "注意，由于特定卷积层提取到的表示的一般性的级别取决于神经网络模型中神经层的深度，在模型中较早的层提取到局部，高度通用的特征（比如视觉边缘，颜色和纹理），而较高层则组合提取到更多的抽象概念（如“猫的耳朵”或“狗的眼睛”）。因此，如果我们的新数据集与预训练模型的训练数据集有很大的不同，那么最好只使用模型的前几个层进行特征的提取，而不是使用整个“卷积基底”。\n",
    "\n",
    "在我们的任务中，由于ImageNet集合包含多个dog和cat的类，所以使用包含在原始模型全连接层中的信息可能是有益的。但是为了覆盖更多的一般情况，我们将不会选择预训练模型的全连接层。\n",
    "\n",
    "VGG16模型已经封装在keras中，可以通过`keras.application`进行调用。以下是keras.applications中还包含的预训练模型列表：\n",
    "* Xception\n",
    "* InceptionV3\n",
    "* ResNet50\n",
    "* VGG16\n",
    "* VGG19\n",
    "* MobileNet"
   ]
  },
  {
   "cell_type": "code",
   "execution_count": 8,
   "metadata": {},
   "outputs": [],
   "source": [
    "from keras.applications.vgg16 import VGG16\n",
    "\n",
    "conv_base = VGG16(weights='imagenet',include_top=False,input_shape=(150,150,3),pooling='MAX')"
   ]
  },
  {
   "cell_type": "code",
   "execution_count": 9,
   "metadata": {},
   "outputs": [
    {
     "name": "stdout",
     "output_type": "stream",
     "text": [
      "_________________________________________________________________\n",
      "Layer (type)                 Output Shape              Param #   \n",
      "=================================================================\n",
      "input_1 (InputLayer)         (None, 150, 150, 3)       0         \n",
      "_________________________________________________________________\n",
      "block1_conv1 (Conv2D)        (None, 150, 150, 64)      1792      \n",
      "_________________________________________________________________\n",
      "block1_conv2 (Conv2D)        (None, 150, 150, 64)      36928     \n",
      "_________________________________________________________________\n",
      "block1_pool (MaxPooling2D)   (None, 75, 75, 64)        0         \n",
      "_________________________________________________________________\n",
      "block2_conv1 (Conv2D)        (None, 75, 75, 128)       73856     \n",
      "_________________________________________________________________\n",
      "block2_conv2 (Conv2D)        (None, 75, 75, 128)       147584    \n",
      "_________________________________________________________________\n",
      "block2_pool (MaxPooling2D)   (None, 37, 37, 128)       0         \n",
      "_________________________________________________________________\n",
      "block3_conv1 (Conv2D)        (None, 37, 37, 256)       295168    \n",
      "_________________________________________________________________\n",
      "block3_conv2 (Conv2D)        (None, 37, 37, 256)       590080    \n",
      "_________________________________________________________________\n",
      "block3_conv3 (Conv2D)        (None, 37, 37, 256)       590080    \n",
      "_________________________________________________________________\n",
      "block3_pool (MaxPooling2D)   (None, 18, 18, 256)       0         \n",
      "_________________________________________________________________\n",
      "block4_conv1 (Conv2D)        (None, 18, 18, 512)       1180160   \n",
      "_________________________________________________________________\n",
      "block4_conv2 (Conv2D)        (None, 18, 18, 512)       2359808   \n",
      "_________________________________________________________________\n",
      "block4_conv3 (Conv2D)        (None, 18, 18, 512)       2359808   \n",
      "_________________________________________________________________\n",
      "block4_pool (MaxPooling2D)   (None, 9, 9, 512)         0         \n",
      "_________________________________________________________________\n",
      "block5_conv1 (Conv2D)        (None, 9, 9, 512)         2359808   \n",
      "_________________________________________________________________\n",
      "block5_conv2 (Conv2D)        (None, 9, 9, 512)         2359808   \n",
      "_________________________________________________________________\n",
      "block5_conv3 (Conv2D)        (None, 9, 9, 512)         2359808   \n",
      "_________________________________________________________________\n",
      "block5_pool (MaxPooling2D)   (None, 4, 4, 512)         0         \n",
      "=================================================================\n",
      "Total params: 14,714,688\n",
      "Trainable params: 14,714,688\n",
      "Non-trainable params: 0\n",
      "_________________________________________________________________\n"
     ]
    }
   ],
   "source": [
    "conv_base.summary()"
   ]
  },
  {
   "cell_type": "markdown",
   "metadata": {},
   "source": [
    "最后的输出特征形状为(4,4,512)，这是我们将要连接到全连接分类器的输入张量。\n",
    "\n",
    "到此，我们有两种方式利用“卷积基底”：\n",
    "\n",
    "* 1.在我们的数据集上运行“卷积基底”，将其输出以numpy.arrary的形式存储下来，然后将这个数据作为另外一个独立的分类器的输入。这种解决方案非常快速且简单，因为它只需要为每个输入图像运行一次“卷积基底”，将“卷积基底”的输出收集起来。当然，由于这种操作模式，也使得我们不能去使用数据增强的方法。\n",
    "\n",
    "* 2.通过在已经训练好的模型的卷积基底顶端，继续添加几个Dense层，扩增我们已经拥有了的“卷积基底”，同时控制“卷积基底”模型的权重可训练，一直保持不变，仅仅训练后续添加的那几个Dense层。这样就可以保持端到端的训练模型了，这样的做法也允许我们使用数据增强的方法。由于每次输入图像都要经过“卷积基底”，训练时间也会比第一种方法要多的多。"
   ]
  },
  {
   "cell_type": "markdown",
   "metadata": {},
   "source": [
    "### 方法1：卷积基底：提取特征+串接新的全连接分类器：重新训练"
   ]
  },
  {
   "cell_type": "markdown",
   "metadata": {},
   "source": [
    "#### 移花"
   ]
  },
  {
   "cell_type": "code",
   "execution_count": 10,
   "metadata": {},
   "outputs": [],
   "source": [
    "import os\n",
    "import numpy as np\n",
    "from keras.preprocessing.image import ImageDataGenerator\n",
    "\n",
    "datagen = ImageDataGenerator(rescale=1./255)\n",
    "batch_size= 20\n",
    "\n",
    "def extract_features(directory,sample_count):\n",
    "    features = np.zeros((sample_count,4,4,512))\n",
    "    labels = np.zeros(sample_count)\n",
    "    \n",
    "    generator = datagen.flow_from_directory(directory,\n",
    "                                            target_size=(150,150),\n",
    "                                            batch_size=batch_size,\n",
    "                                            class_mode='binary')\n",
    "    i = 0\n",
    "    for inputs_batch,labels_batch in generator:\n",
    "        features_batch = conv_base.predict(inputs_batch)\n",
    "        features[i*batch_size:(i+1)*batch_size] = features_batch\n",
    "        labels[i*batch_size:(i+1)*batch_size] = labels_batch\n",
    "        i += 1\n",
    "        if i*batch_size >= sample_count:\n",
    "            break\n",
    "    print('extract_features complete!')\n",
    "    return features,labels"
   ]
  },
  {
   "cell_type": "code",
   "execution_count": 11,
   "metadata": {},
   "outputs": [
    {
     "name": "stdout",
     "output_type": "stream",
     "text": [
      "Found 2000 images belonging to 2 classes.\n",
      "extract_features complete!\n",
      "Found 1000 images belonging to 2 classes.\n",
      "extract_features complete!\n",
      "Found 1000 images belonging to 2 classes.\n",
      "extract_features complete!\n"
     ]
    }
   ],
   "source": [
    "train_features,train_labels = extract_features(train_dir,2000)\n",
    "validation_features,validation_labels = extract_features(validation_dir,1000)\n",
    "test_features,test_labels = extract_features(test_dir,1000)"
   ]
  },
  {
   "cell_type": "markdown",
   "metadata": {},
   "source": [
    "由于提取到的特征形状是(n_samples,4,4,512)，我们要将其先拉直，再作为全连接层分类器的输入数据形式。"
   ]
  },
  {
   "cell_type": "code",
   "execution_count": 12,
   "metadata": {},
   "outputs": [],
   "source": [
    "train_features = train_features.reshape(len(train_features),-1)\n",
    "validation_features = validation_features.reshape(len(validation_features),-1)\n",
    "test_features = test_features.reshape(len(test_features),-1)"
   ]
  },
  {
   "cell_type": "markdown",
   "metadata": {},
   "source": [
    "#### 接木"
   ]
  },
  {
   "cell_type": "code",
   "execution_count": 13,
   "metadata": {},
   "outputs": [],
   "source": [
    "from keras import models\n",
    "from keras import layers\n",
    "from keras import optimizers"
   ]
  },
  {
   "cell_type": "code",
   "execution_count": 14,
   "metadata": {},
   "outputs": [],
   "source": [
    "model = models.Sequential()\n",
    "model.add(layers.Dense(units=256,activation='relu',input_shape=(4*4*512,)))\n",
    "model.add(layers.Dropout(0.5))\n",
    "model.add(layers.Dense(units=1,activation='sigmoid'))\n",
    "model.compile(optimizer=optimizers.RMSprop(lr=2e-5),loss='binary_crossentropy',metrics=['acc'])"
   ]
  },
  {
   "cell_type": "code",
   "execution_count": 15,
   "metadata": {},
   "outputs": [
    {
     "name": "stdout",
     "output_type": "stream",
     "text": [
      "Train on 2000 samples, validate on 1000 samples\n",
      "Epoch 1/30\n",
      "2000/2000 [==============================] - 2s 1ms/step - loss: 0.5815 - acc: 0.6795 - val_loss: 0.4398 - val_acc: 0.8090\n",
      "Epoch 2/30\n",
      "2000/2000 [==============================] - 1s 690us/step - loss: 0.4196 - acc: 0.8090 - val_loss: 0.3508 - val_acc: 0.8680\n",
      "Epoch 3/30\n",
      "2000/2000 [==============================] - 1s 725us/step - loss: 0.3480 - acc: 0.8560 - val_loss: 0.3212 - val_acc: 0.8670\n",
      "Epoch 4/30\n",
      "2000/2000 [==============================] - 1s 684us/step - loss: 0.3234 - acc: 0.8650 - val_loss: 0.2922 - val_acc: 0.8940\n",
      "Epoch 5/30\n",
      "2000/2000 [==============================] - 1s 667us/step - loss: 0.2844 - acc: 0.8800 - val_loss: 0.2826 - val_acc: 0.8840\n",
      "Epoch 6/30\n",
      "2000/2000 [==============================] - 1s 676us/step - loss: 0.2585 - acc: 0.8950 - val_loss: 0.2738 - val_acc: 0.8870\n",
      "Epoch 7/30\n",
      "2000/2000 [==============================] - 1s 683us/step - loss: 0.2455 - acc: 0.9095 - val_loss: 0.2592 - val_acc: 0.8990\n",
      "Epoch 8/30\n",
      "2000/2000 [==============================] - 1s 675us/step - loss: 0.2307 - acc: 0.9095 - val_loss: 0.2601 - val_acc: 0.8880\n",
      "Epoch 9/30\n",
      "2000/2000 [==============================] - 1s 658us/step - loss: 0.2110 - acc: 0.9215 - val_loss: 0.2486 - val_acc: 0.9080\n",
      "Epoch 10/30\n",
      "2000/2000 [==============================] - 1s 677us/step - loss: 0.2030 - acc: 0.9255 - val_loss: 0.2497 - val_acc: 0.9000\n",
      "Epoch 11/30\n",
      "2000/2000 [==============================] - 2s 781us/step - loss: 0.1923 - acc: 0.9280 - val_loss: 0.2436 - val_acc: 0.9090\n",
      "Epoch 12/30\n",
      "2000/2000 [==============================] - 2s 889us/step - loss: 0.1830 - acc: 0.9370 - val_loss: 0.2411 - val_acc: 0.9070\n",
      "Epoch 13/30\n",
      "2000/2000 [==============================] - 2s 909us/step - loss: 0.1802 - acc: 0.9350 - val_loss: 0.2398 - val_acc: 0.9070\n",
      "Epoch 14/30\n",
      "2000/2000 [==============================] - 2s 961us/step - loss: 0.1676 - acc: 0.9370 - val_loss: 0.2376 - val_acc: 0.9080\n",
      "Epoch 15/30\n",
      "2000/2000 [==============================] - 2s 906us/step - loss: 0.1589 - acc: 0.9445 - val_loss: 0.2410 - val_acc: 0.9070\n",
      "Epoch 16/30\n",
      "2000/2000 [==============================] - 2s 921us/step - loss: 0.1542 - acc: 0.9455 - val_loss: 0.2345 - val_acc: 0.9100\n",
      "Epoch 17/30\n",
      "2000/2000 [==============================] - 2s 953us/step - loss: 0.1430 - acc: 0.9480 - val_loss: 0.2397 - val_acc: 0.9060\n",
      "Epoch 18/30\n",
      "2000/2000 [==============================] - 2s 930us/step - loss: 0.1487 - acc: 0.9500 - val_loss: 0.2473 - val_acc: 0.8950\n",
      "Epoch 19/30\n",
      "2000/2000 [==============================] - 2s 971us/step - loss: 0.1349 - acc: 0.9560 - val_loss: 0.2353 - val_acc: 0.9060\n",
      "Epoch 20/30\n",
      "2000/2000 [==============================] - 2s 907us/step - loss: 0.1301 - acc: 0.9510 - val_loss: 0.2324 - val_acc: 0.9070\n",
      "Epoch 21/30\n",
      "2000/2000 [==============================] - 2s 935us/step - loss: 0.1248 - acc: 0.9630 - val_loss: 0.2332 - val_acc: 0.9050\n",
      "Epoch 22/30\n",
      "2000/2000 [==============================] - 2s 901us/step - loss: 0.1178 - acc: 0.9625 - val_loss: 0.2356 - val_acc: 0.9040\n",
      "Epoch 23/30\n",
      "2000/2000 [==============================] - 2s 918us/step - loss: 0.1141 - acc: 0.9620 - val_loss: 0.2332 - val_acc: 0.9070\n",
      "Epoch 24/30\n",
      "2000/2000 [==============================] - 2s 940us/step - loss: 0.1058 - acc: 0.9655 - val_loss: 0.2362 - val_acc: 0.9050\n",
      "Epoch 25/30\n",
      "2000/2000 [==============================] - 2s 925us/step - loss: 0.1083 - acc: 0.9670 - val_loss: 0.2344 - val_acc: 0.9060\n",
      "Epoch 26/30\n",
      "2000/2000 [==============================] - 2s 908us/step - loss: 0.1034 - acc: 0.9680 - val_loss: 0.2483 - val_acc: 0.9000\n",
      "Epoch 27/30\n",
      "2000/2000 [==============================] - 2s 915us/step - loss: 0.0987 - acc: 0.9615 - val_loss: 0.2349 - val_acc: 0.9060\n",
      "Epoch 28/30\n",
      "2000/2000 [==============================] - 2s 915us/step - loss: 0.0929 - acc: 0.9730 - val_loss: 0.2358 - val_acc: 0.9050\n",
      "Epoch 29/30\n",
      "2000/2000 [==============================] - 2s 909us/step - loss: 0.0909 - acc: 0.9695 - val_loss: 0.2475 - val_acc: 0.8980\n",
      "Epoch 30/30\n",
      "2000/2000 [==============================] - 2s 914us/step - loss: 0.0891 - acc: 0.9735 - val_loss: 0.2453 - val_acc: 0.9000\n"
     ]
    }
   ],
   "source": [
    "history = model.fit(train_features,\n",
    "                    train_labels,\n",
    "                    epochs=30,\n",
    "                    batch_size=20,\n",
    "                    validation_data=(validation_features,validation_labels),\n",
    "                    verbose=1)"
   ]
  },
  {
   "cell_type": "code",
   "execution_count": 16,
   "metadata": {},
   "outputs": [],
   "source": [
    "import matplotlib.pyplot as plt\n",
    "%matplotlib inline"
   ]
  },
  {
   "cell_type": "code",
   "execution_count": 17,
   "metadata": {},
   "outputs": [
    {
     "data": {
      "image/png": "[encoded data removed]",
      "text/plain": [
       "<Figure size 432x288 with 1 Axes>"
      ]
     },
     "metadata": {},
     "output_type": "display_data"
    },
    {
     "data": {
      "image/png": "[encoded data removed]",
      "text/plain": [
       "<Figure size 432x288 with 1 Axes>"
      ]
     },
     "metadata": {},
     "output_type": "display_data"
    }
   ],
   "source": [
    "acc = history.history['acc']\n",
    "val_acc = history.history['val_acc']\n",
    "loss = history.history['loss']\n",
    "val_loss = history.history['val_loss']\n",
    "\n",
    "epochs = history.epoch\n",
    "\n",
    "plt.plot(epochs, acc, 'o-',color='blue',label='Training acc')\n",
    "plt.plot(epochs, val_acc, 'o-', color='red',label='Validation acc')\n",
    "plt.title('Training and validation accuracy',fontsize=14)\n",
    "plt.xlabel(\"Epoch\",fontsize=12)\n",
    "plt.ylabel(\"Accuracy\",fontsize=12)\n",
    "plt.legend()\n",
    "\n",
    "plt.figure()\n",
    "\n",
    "plt.plot(epochs, loss, 'o-',color='blue',label='Training loss')\n",
    "plt.plot(epochs, val_loss, 'o-', color='red',label='Validation loss')\n",
    "plt.title('Training and validation loss',fontsize=14)\n",
    "plt.xlabel(\"Epoch\",fontsize=12)\n",
    "plt.ylabel(\"Loss\",fontsize=12)\n",
    "plt.legend()\n",
    "\n",
    "plt.show()"
   ]
  },
  {
   "cell_type": "markdown",
   "metadata": {},
   "source": [
    "从上图可以看出，我们的验证机准确率达到了90%，已经远超之前从零构造的CNN模型的性能。然而上图也反应，我们似乎从一开始模型就过拟合了，尽管我们已经加了相当高比例的Dropout。"
   ]
  },
  {
   "cell_type": "markdown",
   "metadata": {},
   "source": [
    "### 方法2：卷积基底：冻结+串接新的全连接分类器->>重新训练"
   ]
  },
  {
   "cell_type": "markdown",
   "metadata": {},
   "source": [
    "#### 移花+接木"
   ]
  },
  {
   "cell_type": "code",
   "execution_count": 18,
   "metadata": {},
   "outputs": [],
   "source": [
    "from keras import models\n",
    "from keras import layers"
   ]
  },
  {
   "cell_type": "code",
   "execution_count": 19,
   "metadata": {},
   "outputs": [],
   "source": [
    "model = models.Sequential()\n",
    "model.add(conv_base)\n",
    "model.add(layers.Flatten())\n",
    "model.add(layers.Dense(units=256,activation='relu'))\n",
    "model.add(layers.Dense(units=1,activation='sigmoid'))"
   ]
  },
  {
   "cell_type": "code",
   "execution_count": 20,
   "metadata": {},
   "outputs": [
    {
     "name": "stdout",
     "output_type": "stream",
     "text": [
      "_________________________________________________________________\n",
      "Layer (type)                 Output Shape              Param #   \n",
      "=================================================================\n",
      "vgg16 (Model)                (None, 4, 4, 512)         14714688  \n",
      "_________________________________________________________________\n",
      "flatten_1 (Flatten)          (None, 8192)              0         \n",
      "_________________________________________________________________\n",
      "dense_3 (Dense)              (None, 256)               2097408   \n",
      "_________________________________________________________________\n",
      "dense_4 (Dense)              (None, 1)                 257       \n",
      "=================================================================\n",
      "Total params: 16,812,353\n",
      "Trainable params: 16,812,353\n",
      "Non-trainable params: 0\n",
      "_________________________________________________________________\n",
      "None\n"
     ]
    }
   ],
   "source": [
    "print(model.summary())"
   ]
  },
  {
   "cell_type": "markdown",
   "metadata": {},
   "source": [
    "如上所示，VGG16的“卷积基底”就有14,714,668个参数，数量非常大，我们后续添加的全连接分类器也有2,097,408个参数。\n",
    "\n",
    "接下来我们需要做的是，将“卷积基底”的参数进行冻结，意味着这些层的参数权重在训练期间是不会被更新的。如果我们不这么做，那么以前在“卷积基底”上学到的特征将在训练期间被修改。由于我们新添加的全连接层都是随机初始化的，因此非常大的权重更新将通过网络重新进行传播，也会破坏掉“卷积基底”已经学习到了的特征。"
   ]
  },
  {
   "cell_type": "code",
   "execution_count": 21,
   "metadata": {},
   "outputs": [],
   "source": [
    "conv_base.trainable = False"
   ]
  },
  {
   "cell_type": "code",
   "execution_count": 22,
   "metadata": {},
   "outputs": [
    {
     "name": "stdout",
     "output_type": "stream",
     "text": [
      "_________________________________________________________________\n",
      "Layer (type)                 Output Shape              Param #   \n",
      "=================================================================\n",
      "vgg16 (Model)                (None, 4, 4, 512)         14714688  \n",
      "_________________________________________________________________\n",
      "flatten_1 (Flatten)          (None, 8192)              0         \n",
      "_________________________________________________________________\n",
      "dense_3 (Dense)              (None, 256)               2097408   \n",
      "_________________________________________________________________\n",
      "dense_4 (Dense)              (None, 1)                 257       \n",
      "=================================================================\n",
      "Total params: 16,812,353\n",
      "Trainable params: 2,097,665\n",
      "Non-trainable params: 14,714,688\n",
      "_________________________________________________________________\n",
      "None\n"
     ]
    }
   ],
   "source": [
    "print(model.summary())"
   ]
  },
  {
   "cell_type": "markdown",
   "metadata": {},
   "source": [
    "通过这样的设置，我们从上面可以发现，conv_base层的权重参数已经全部设置为冻结，整个model仅需要训练后添加的全连接层分类器的权重。现在，我们可以开始训练我们的模型，并且使用之前学习到的数据增强的技术。"
   ]
  },
  {
   "cell_type": "code",
   "execution_count": 23,
   "metadata": {},
   "outputs": [
    {
     "name": "stdout",
     "output_type": "stream",
     "text": [
      "Found 2000 images belonging to 2 classes.\n",
      "Found 1000 images belonging to 2 classes.\n"
     ]
    }
   ],
   "source": [
    "from keras.preprocessing.image import ImageDataGenerator\n",
    "from keras import losses,optimizers,metrics\n",
    "\n",
    "train_datagen = ImageDataGenerator(rescale=1./255,\n",
    "                                   rotation_range=40,\n",
    "                                   width_shift_range=0.2,\n",
    "                                   height_shift_range=0.2,\n",
    "                                   shear_range=0.2,\n",
    "                                   zoom_range=0.2,\n",
    "                                   horizontal_flip=True,\n",
    "                                   fill_mode='nearest')\n",
    "\n",
    "test_datagen = ImageDataGenerator(rescale=1./255)\n",
    "\n",
    "train_generator = train_datagen.flow_from_directory(directory=train_dir,\n",
    "                                                    target_size=(150,150),\n",
    "                                                    batch_size=32,\n",
    "                                                    class_mode='binary')\n",
    "\n",
    "validation_generator = test_datagen.flow_from_directory(directory=validation_dir,\n",
    "                                                        target_size=(150,150),\n",
    "                                                        batch_size=32,\n",
    "                                                        class_mode='binary')"
   ]
  },
  {
   "cell_type": "code",
   "execution_count": 24,
   "metadata": {},
   "outputs": [],
   "source": [
    "model.compile(loss=losses.binary_crossentropy,\n",
    "              optimizer=optimizers.RMSprop(lr=5e-5),\n",
    "              metrics=['acc'])"
   ]
  },
  {
   "cell_type": "code",
   "execution_count": 25,
   "metadata": {},
   "outputs": [
    {
     "name": "stdout",
     "output_type": "stream",
     "text": [
      "Epoch 1/30\n",
      "100/100 [==============================] - 72s 720ms/step - loss: 0.5205 - acc: 0.7313 - val_loss: 0.3469 - val_acc: 0.8720\n",
      "Epoch 2/30\n",
      "100/100 [==============================] - 70s 705ms/step - loss: 0.4015 - acc: 0.8197 - val_loss: 0.2991 - val_acc: 0.8770\n",
      "Epoch 3/30\n",
      "100/100 [==============================] - 71s 706ms/step - loss: 0.3592 - acc: 0.8425 - val_loss: 0.2654 - val_acc: 0.8850\n",
      "Epoch 4/30\n",
      "100/100 [==============================] - 71s 708ms/step - loss: 0.3639 - acc: 0.8378 - val_loss: 0.2580 - val_acc: 0.8940\n",
      "Epoch 5/30\n",
      "100/100 [==============================] - 72s 717ms/step - loss: 0.3372 - acc: 0.8531 - val_loss: 0.2463 - val_acc: 0.9040\n",
      "Epoch 6/30\n",
      " 66/100 [==================>...........] - ETA: 19s - loss: 0.3442 - acc: 0.8438"
     ]
    },
    {
     "ename": "KeyboardInterrupt",
     "evalue": "",
     "output_type": "error",
     "traceback": [
      "\u001b[1;31m---------------------------------------------------------------------------\u001b[0m",
      "\u001b[1;31mKeyboardInterrupt\u001b[0m                         Traceback (most recent call last)",
      "\u001b[1;32m<ipython-input-25-bb8766e03fb0>\u001b[0m in \u001b[0;36m<module>\u001b[1;34m()\u001b[0m\n\u001b[0;32m      4\u001b[0m                               \u001b[0mvalidation_data\u001b[0m\u001b[1;33m=\u001b[0m\u001b[0mvalidation_generator\u001b[0m\u001b[1;33m,\u001b[0m\u001b[1;33m\u001b[0m\u001b[0m\n\u001b[0;32m      5\u001b[0m                               \u001b[0mvalidation_steps\u001b[0m\u001b[1;33m=\u001b[0m\u001b[1;36m50\u001b[0m\u001b[1;33m,\u001b[0m\u001b[1;33m\u001b[0m\u001b[0m\n\u001b[1;32m----> 6\u001b[1;33m                               verbose=1)\n\u001b[0m",
      "\u001b[1;32mD:\\Program Files (x86)\\anaconda\\lib\\site-packages\\keras\\legacy\\interfaces.py\u001b[0m in \u001b[0;36mwrapper\u001b[1;34m(*args, **kwargs)\u001b[0m\n\u001b[0;32m     89\u001b[0m                 warnings.warn('Update your `' + object_name +\n\u001b[0;32m     90\u001b[0m                               '` call to the Keras 2 API: ' + signature, stacklevel=2)\n\u001b[1;32m---> 91\u001b[1;33m             \u001b[1;32mreturn\u001b[0m \u001b[0mfunc\u001b[0m\u001b[1;33m(\u001b[0m\u001b[1;33m*\u001b[0m\u001b[0margs\u001b[0m\u001b[1;33m,\u001b[0m \u001b[1;33m**\u001b[0m\u001b[0mkwargs\u001b[0m\u001b[1;33m)\u001b[0m\u001b[1;33m\u001b[0m\u001b[0m\n\u001b[0m\u001b[0;32m     92\u001b[0m         \u001b[0mwrapper\u001b[0m\u001b[1;33m.\u001b[0m\u001b[0m_original_function\u001b[0m \u001b[1;33m=\u001b[0m \u001b[0mfunc\u001b[0m\u001b[1;33m\u001b[0m\u001b[0m\n\u001b[0;32m     93\u001b[0m         \u001b[1;32mreturn\u001b[0m \u001b[0mwrapper\u001b[0m\u001b[1;33m\u001b[0m\u001b[0m\n",
      "\u001b[1;32mD:\\Program Files (x86)\\anaconda\\lib\\site-packages\\keras\\engine\\training.py\u001b[0m in \u001b[0;36mfit_generator\u001b[1;34m(self, generator, steps_per_epoch, epochs, verbose, callbacks, validation_data, validation_steps, class_weight, max_queue_size, workers, use_multiprocessing, shuffle, initial_epoch)\u001b[0m\n\u001b[0;32m   1413\u001b[0m             \u001b[0muse_multiprocessing\u001b[0m\u001b[1;33m=\u001b[0m\u001b[0muse_multiprocessing\u001b[0m\u001b[1;33m,\u001b[0m\u001b[1;33m\u001b[0m\u001b[0m\n\u001b[0;32m   1414\u001b[0m             \u001b[0mshuffle\u001b[0m\u001b[1;33m=\u001b[0m\u001b[0mshuffle\u001b[0m\u001b[1;33m,\u001b[0m\u001b[1;33m\u001b[0m\u001b[0m\n\u001b[1;32m-> 1415\u001b[1;33m             initial_epoch=initial_epoch)\n\u001b[0m\u001b[0;32m   1416\u001b[0m \u001b[1;33m\u001b[0m\u001b[0m\n\u001b[0;32m   1417\u001b[0m     \u001b[1;33m@\u001b[0m\u001b[0minterfaces\u001b[0m\u001b[1;33m.\u001b[0m\u001b[0mlegacy_generator_methods_support\u001b[0m\u001b[1;33m\u001b[0m\u001b[0m\n",
      "\u001b[1;32mD:\\Program Files (x86)\\anaconda\\lib\\site-packages\\keras\\engine\\training_generator.py\u001b[0m in \u001b[0;36mfit_generator\u001b[1;34m(model, generator, steps_per_epoch, epochs, verbose, callbacks, validation_data, validation_steps, class_weight, max_queue_size, workers, use_multiprocessing, shuffle, initial_epoch)\u001b[0m\n\u001b[0;32m    211\u001b[0m                 outs = model.train_on_batch(x, y,\n\u001b[0;32m    212\u001b[0m                                             \u001b[0msample_weight\u001b[0m\u001b[1;33m=\u001b[0m\u001b[0msample_weight\u001b[0m\u001b[1;33m,\u001b[0m\u001b[1;33m\u001b[0m\u001b[0m\n\u001b[1;32m--> 213\u001b[1;33m                                             class_weight=class_weight)\n\u001b[0m\u001b[0;32m    214\u001b[0m \u001b[1;33m\u001b[0m\u001b[0m\n\u001b[0;32m    215\u001b[0m                 \u001b[0mouts\u001b[0m \u001b[1;33m=\u001b[0m \u001b[0mto_list\u001b[0m\u001b[1;33m(\u001b[0m\u001b[0mouts\u001b[0m\u001b[1;33m)\u001b[0m\u001b[1;33m\u001b[0m\u001b[0m\n",
      "\u001b[1;32mD:\\Program Files (x86)\\anaconda\\lib\\site-packages\\keras\\engine\\training.py\u001b[0m in \u001b[0;36mtrain_on_batch\u001b[1;34m(self, x, y, sample_weight, class_weight)\u001b[0m\n\u001b[0;32m   1213\u001b[0m             \u001b[0mins\u001b[0m \u001b[1;33m=\u001b[0m \u001b[0mx\u001b[0m \u001b[1;33m+\u001b[0m \u001b[0my\u001b[0m \u001b[1;33m+\u001b[0m \u001b[0msample_weights\u001b[0m\u001b[1;33m\u001b[0m\u001b[0m\n\u001b[0;32m   1214\u001b[0m         \u001b[0mself\u001b[0m\u001b[1;33m.\u001b[0m\u001b[0m_make_train_function\u001b[0m\u001b[1;33m(\u001b[0m\u001b[1;33m)\u001b[0m\u001b[1;33m\u001b[0m\u001b[0m\n\u001b[1;32m-> 1215\u001b[1;33m         \u001b[0moutputs\u001b[0m \u001b[1;33m=\u001b[0m \u001b[0mself\u001b[0m\u001b[1;33m.\u001b[0m\u001b[0mtrain_function\u001b[0m\u001b[1;33m(\u001b[0m\u001b[0mins\u001b[0m\u001b[1;33m)\u001b[0m\u001b[1;33m\u001b[0m\u001b[0m\n\u001b[0m\u001b[0;32m   1216\u001b[0m         \u001b[1;32mreturn\u001b[0m \u001b[0munpack_singleton\u001b[0m\u001b[1;33m(\u001b[0m\u001b[0moutputs\u001b[0m\u001b[1;33m)\u001b[0m\u001b[1;33m\u001b[0m\u001b[0m\n\u001b[0;32m   1217\u001b[0m \u001b[1;33m\u001b[0m\u001b[0m\n",
      "\u001b[1;32mD:\\Program Files (x86)\\anaconda\\lib\\site-packages\\keras\\backend\\tensorflow_backend.py\u001b[0m in \u001b[0;36m__call__\u001b[1;34m(self, inputs)\u001b[0m\n\u001b[0;32m   2664\u001b[0m                 \u001b[1;32mreturn\u001b[0m \u001b[0mself\u001b[0m\u001b[1;33m.\u001b[0m\u001b[0m_legacy_call\u001b[0m\u001b[1;33m(\u001b[0m\u001b[0minputs\u001b[0m\u001b[1;33m)\u001b[0m\u001b[1;33m\u001b[0m\u001b[0m\n\u001b[0;32m   2665\u001b[0m \u001b[1;33m\u001b[0m\u001b[0m\n\u001b[1;32m-> 2666\u001b[1;33m             \u001b[1;32mreturn\u001b[0m \u001b[0mself\u001b[0m\u001b[1;33m.\u001b[0m\u001b[0m_call\u001b[0m\u001b[1;33m(\u001b[0m\u001b[0minputs\u001b[0m\u001b[1;33m)\u001b[0m\u001b[1;33m\u001b[0m\u001b[0m\n\u001b[0m\u001b[0;32m   2667\u001b[0m         \u001b[1;32melse\u001b[0m\u001b[1;33m:\u001b[0m\u001b[1;33m\u001b[0m\u001b[0m\n\u001b[0;32m   2668\u001b[0m             \u001b[1;32mif\u001b[0m \u001b[0mpy_any\u001b[0m\u001b[1;33m(\u001b[0m\u001b[0mis_tensor\u001b[0m\u001b[1;33m(\u001b[0m\u001b[0mx\u001b[0m\u001b[1;33m)\u001b[0m \u001b[1;32mfor\u001b[0m \u001b[0mx\u001b[0m \u001b[1;32min\u001b[0m \u001b[0minputs\u001b[0m\u001b[1;33m)\u001b[0m\u001b[1;33m:\u001b[0m\u001b[1;33m\u001b[0m\u001b[0m\n",
      "\u001b[1;32mD:\\Program Files (x86)\\anaconda\\lib\\site-packages\\keras\\backend\\tensorflow_backend.py\u001b[0m in \u001b[0;36m_call\u001b[1;34m(self, inputs)\u001b[0m\n\u001b[0;32m   2634\u001b[0m                                 \u001b[0msymbol_vals\u001b[0m\u001b[1;33m,\u001b[0m\u001b[1;33m\u001b[0m\u001b[0m\n\u001b[0;32m   2635\u001b[0m                                 session)\n\u001b[1;32m-> 2636\u001b[1;33m         \u001b[0mfetched\u001b[0m \u001b[1;33m=\u001b[0m \u001b[0mself\u001b[0m\u001b[1;33m.\u001b[0m\u001b[0m_callable_fn\u001b[0m\u001b[1;33m(\u001b[0m\u001b[1;33m*\u001b[0m\u001b[0marray_vals\u001b[0m\u001b[1;33m)\u001b[0m\u001b[1;33m\u001b[0m\u001b[0m\n\u001b[0m\u001b[0;32m   2637\u001b[0m         \u001b[1;32mreturn\u001b[0m \u001b[0mfetched\u001b[0m\u001b[1;33m[\u001b[0m\u001b[1;33m:\u001b[0m\u001b[0mlen\u001b[0m\u001b[1;33m(\u001b[0m\u001b[0mself\u001b[0m\u001b[1;33m.\u001b[0m\u001b[0moutputs\u001b[0m\u001b[1;33m)\u001b[0m\u001b[1;33m]\u001b[0m\u001b[1;33m\u001b[0m\u001b[0m\n\u001b[0;32m   2638\u001b[0m \u001b[1;33m\u001b[0m\u001b[0m\n",
      "\u001b[1;32mD:\\Program Files (x86)\\anaconda\\lib\\site-packages\\tensorflow\\python\\client\\session.py\u001b[0m in \u001b[0;36m__call__\u001b[1;34m(self, *args)\u001b[0m\n\u001b[0;32m   1449\u001b[0m         \u001b[1;32mif\u001b[0m \u001b[0mself\u001b[0m\u001b[1;33m.\u001b[0m\u001b[0m_session\u001b[0m\u001b[1;33m.\u001b[0m\u001b[0m_created_with_new_api\u001b[0m\u001b[1;33m:\u001b[0m\u001b[1;33m\u001b[0m\u001b[0m\n\u001b[0;32m   1450\u001b[0m           return tf_session.TF_SessionRunCallable(\n\u001b[1;32m-> 1451\u001b[1;33m               self._session._session, self._handle, args, status, None)\n\u001b[0m\u001b[0;32m   1452\u001b[0m         \u001b[1;32melse\u001b[0m\u001b[1;33m:\u001b[0m\u001b[1;33m\u001b[0m\u001b[0m\n\u001b[0;32m   1453\u001b[0m           return tf_session.TF_DeprecatedSessionRunCallable(\n",
      "\u001b[1;31mKeyboardInterrupt\u001b[0m: "
     ]
    }
   ],
   "source": [
    "history = model.fit_generator(generator=train_generator,\n",
    "                              steps_per_epoch=100,\n",
    "                              epochs=30,\n",
    "                              validation_data=validation_generator,\n",
    "                              validation_steps=50,\n",
    "                              verbose=1)"
   ]
  },
  {
   "cell_type": "code",
   "execution_count": null,
   "metadata": {},
   "outputs": [],
   "source": []
  }
 ],
 "metadata": {
  "kernelspec": {
   "display_name": "Python 3",
   "language": "python",
   "name": "python3"
  },
  "language_info": {
   "codemirror_mode": {
    "name": "ipython",
    "version": 3
   },
   "file_extension": ".py",
   "mimetype": "text/x-python",
   "name": "python",
   "nbconvert_exporter": "python",
   "pygments_lexer": "ipython3",
   "version": "3.6.6"
  }
 },
 "nbformat": 4,
 "nbformat_minor": 2
}
