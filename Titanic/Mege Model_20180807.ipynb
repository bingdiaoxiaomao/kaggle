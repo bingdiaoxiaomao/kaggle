{
 "cells": [
  {
   "cell_type": "markdown",
   "metadata": {
    "_cell_guid": "79c7e3d0-c299-4dcb-8224-4455121ee9b0",
    "_uuid": "d629ff2d2480ee46fbb7e2d37f6b5fab8052498a",
    "collapsed": true
   },
   "source": [
    "I am a beginner in kaggle, and i learned much from everyone contributed his/her kernel publicly during in three month ago.  I express my sincere appreciations to all who help me.\n",
    "\n",
    "This kernel, is just my notebook to summary what I have learned from all kernel publicly about the Titanic compitition. Thanks to** [Erik](https://www.kaggle.com/erikbruin/titanic-2nd-degree-families-and-majority-voting), [Chris](https://www.kaggle.com/cdeotte/titanic-using-name-only-0-81818/notebook)**."
   ]
  },
  {
   "cell_type": "code",
   "execution_count": 1,
   "metadata": {
    "_uuid": "c006dad9708ec99cb25f00d8148c98c705724de2"
   },
   "outputs": [],
   "source": [
    "import pandas as pd\n",
    "import numpy as np\n",
    "import matplotlib.pyplot as plt\n",
    "import seaborn as sns\n",
    "plt.style.use('classic')\n",
    "np.set_printoptions(precision=4)\n",
    "import warnings\n",
    "warnings.filterwarnings('ignore')\n",
    "%matplotlib inline"
   ]
  },
  {
   "cell_type": "code",
   "execution_count": 2,
   "metadata": {
    "_uuid": "847c291381e915b5cb3c506281ca359da48a7dcf"
   },
   "outputs": [
    {
     "data": {
      "text/html": [
       "<div>\n",
       "<style scoped>\n",
       "    .dataframe tbody tr th:only-of-type {\n",
       "        vertical-align: middle;\n",
       "    }\n",
       "\n",
       "    .dataframe tbody tr th {\n",
       "        vertical-align: top;\n",
       "    }\n",
       "\n",
       "    .dataframe thead th {\n",
       "        text-align: right;\n",
       "    }\n",
       "</style>\n",
       "<table border=\"1\" class=\"dataframe\">\n",
       "  <thead>\n",
       "    <tr style=\"text-align: right;\">\n",
       "      <th></th>\n",
       "      <th>PassengerId</th>\n",
       "      <th>Survived</th>\n",
       "      <th>Pclass</th>\n",
       "      <th>Name</th>\n",
       "      <th>Sex</th>\n",
       "      <th>Age</th>\n",
       "      <th>SibSp</th>\n",
       "      <th>Parch</th>\n",
       "      <th>Ticket</th>\n",
       "      <th>Fare</th>\n",
       "      <th>Cabin</th>\n",
       "      <th>Embarked</th>\n",
       "    </tr>\n",
       "  </thead>\n",
       "  <tbody>\n",
       "    <tr>\n",
       "      <th>455</th>\n",
       "      <td>456</td>\n",
       "      <td>1</td>\n",
       "      <td>3</td>\n",
       "      <td>Jalsevac, Mr. Ivan</td>\n",
       "      <td>male</td>\n",
       "      <td>29.0</td>\n",
       "      <td>0</td>\n",
       "      <td>0</td>\n",
       "      <td>349240</td>\n",
       "      <td>7.8958</td>\n",
       "      <td>NaN</td>\n",
       "      <td>C</td>\n",
       "    </tr>\n",
       "    <tr>\n",
       "      <th>393</th>\n",
       "      <td>394</td>\n",
       "      <td>1</td>\n",
       "      <td>1</td>\n",
       "      <td>Newell, Miss. Marjorie</td>\n",
       "      <td>female</td>\n",
       "      <td>23.0</td>\n",
       "      <td>1</td>\n",
       "      <td>0</td>\n",
       "      <td>35273</td>\n",
       "      <td>113.2750</td>\n",
       "      <td>D36</td>\n",
       "      <td>C</td>\n",
       "    </tr>\n",
       "    <tr>\n",
       "      <th>642</th>\n",
       "      <td>643</td>\n",
       "      <td>0</td>\n",
       "      <td>3</td>\n",
       "      <td>Skoog, Miss. Margit Elizabeth</td>\n",
       "      <td>female</td>\n",
       "      <td>2.0</td>\n",
       "      <td>3</td>\n",
       "      <td>2</td>\n",
       "      <td>347088</td>\n",
       "      <td>27.9000</td>\n",
       "      <td>NaN</td>\n",
       "      <td>S</td>\n",
       "    </tr>\n",
       "    <tr>\n",
       "      <th>523</th>\n",
       "      <td>524</td>\n",
       "      <td>1</td>\n",
       "      <td>1</td>\n",
       "      <td>Hippach, Mrs. Louis Albert (Ida Sophia Fischer)</td>\n",
       "      <td>female</td>\n",
       "      <td>44.0</td>\n",
       "      <td>0</td>\n",
       "      <td>1</td>\n",
       "      <td>111361</td>\n",
       "      <td>57.9792</td>\n",
       "      <td>B18</td>\n",
       "      <td>C</td>\n",
       "    </tr>\n",
       "    <tr>\n",
       "      <th>203</th>\n",
       "      <td>204</td>\n",
       "      <td>0</td>\n",
       "      <td>3</td>\n",
       "      <td>Youseff, Mr. Gerious</td>\n",
       "      <td>male</td>\n",
       "      <td>45.5</td>\n",
       "      <td>0</td>\n",
       "      <td>0</td>\n",
       "      <td>2628</td>\n",
       "      <td>7.2250</td>\n",
       "      <td>NaN</td>\n",
       "      <td>C</td>\n",
       "    </tr>\n",
       "    <tr>\n",
       "      <th>318</th>\n",
       "      <td>319</td>\n",
       "      <td>1</td>\n",
       "      <td>1</td>\n",
       "      <td>Wick, Miss. Mary Natalie</td>\n",
       "      <td>female</td>\n",
       "      <td>31.0</td>\n",
       "      <td>0</td>\n",
       "      <td>2</td>\n",
       "      <td>36928</td>\n",
       "      <td>164.8667</td>\n",
       "      <td>C7</td>\n",
       "      <td>S</td>\n",
       "    </tr>\n",
       "    <tr>\n",
       "      <th>778</th>\n",
       "      <td>779</td>\n",
       "      <td>0</td>\n",
       "      <td>3</td>\n",
       "      <td>Kilgannon, Mr. Thomas J</td>\n",
       "      <td>male</td>\n",
       "      <td>NaN</td>\n",
       "      <td>0</td>\n",
       "      <td>0</td>\n",
       "      <td>36865</td>\n",
       "      <td>7.7375</td>\n",
       "      <td>NaN</td>\n",
       "      <td>Q</td>\n",
       "    </tr>\n",
       "    <tr>\n",
       "      <th>651</th>\n",
       "      <td>652</td>\n",
       "      <td>1</td>\n",
       "      <td>2</td>\n",
       "      <td>Doling, Miss. Elsie</td>\n",
       "      <td>female</td>\n",
       "      <td>18.0</td>\n",
       "      <td>0</td>\n",
       "      <td>1</td>\n",
       "      <td>231919</td>\n",
       "      <td>23.0000</td>\n",
       "      <td>NaN</td>\n",
       "      <td>S</td>\n",
       "    </tr>\n",
       "    <tr>\n",
       "      <th>11</th>\n",
       "      <td>12</td>\n",
       "      <td>1</td>\n",
       "      <td>1</td>\n",
       "      <td>Bonnell, Miss. Elizabeth</td>\n",
       "      <td>female</td>\n",
       "      <td>58.0</td>\n",
       "      <td>0</td>\n",
       "      <td>0</td>\n",
       "      <td>113783</td>\n",
       "      <td>26.5500</td>\n",
       "      <td>C103</td>\n",
       "      <td>S</td>\n",
       "    </tr>\n",
       "    <tr>\n",
       "      <th>321</th>\n",
       "      <td>322</td>\n",
       "      <td>0</td>\n",
       "      <td>3</td>\n",
       "      <td>Danoff, Mr. Yoto</td>\n",
       "      <td>male</td>\n",
       "      <td>27.0</td>\n",
       "      <td>0</td>\n",
       "      <td>0</td>\n",
       "      <td>349219</td>\n",
       "      <td>7.8958</td>\n",
       "      <td>NaN</td>\n",
       "      <td>S</td>\n",
       "    </tr>\n",
       "  </tbody>\n",
       "</table>\n",
       "</div>"
      ],
      "text/plain": [
       "     PassengerId  Survived  Pclass  \\\n",
       "455          456         1       3   \n",
       "393          394         1       1   \n",
       "642          643         0       3   \n",
       "523          524         1       1   \n",
       "203          204         0       3   \n",
       "318          319         1       1   \n",
       "778          779         0       3   \n",
       "651          652         1       2   \n",
       "11            12         1       1   \n",
       "321          322         0       3   \n",
       "\n",
       "                                                Name     Sex   Age  SibSp  \\\n",
       "455                               Jalsevac, Mr. Ivan    male  29.0      0   \n",
       "393                           Newell, Miss. Marjorie  female  23.0      1   \n",
       "642                    Skoog, Miss. Margit Elizabeth  female   2.0      3   \n",
       "523  Hippach, Mrs. Louis Albert (Ida Sophia Fischer)  female  44.0      0   \n",
       "203                             Youseff, Mr. Gerious    male  45.5      0   \n",
       "318                         Wick, Miss. Mary Natalie  female  31.0      0   \n",
       "778                          Kilgannon, Mr. Thomas J    male   NaN      0   \n",
       "651                              Doling, Miss. Elsie  female  18.0      0   \n",
       "11                          Bonnell, Miss. Elizabeth  female  58.0      0   \n",
       "321                                 Danoff, Mr. Yoto    male  27.0      0   \n",
       "\n",
       "     Parch  Ticket      Fare Cabin Embarked  \n",
       "455      0  349240    7.8958   NaN        C  \n",
       "393      0   35273  113.2750   D36        C  \n",
       "642      2  347088   27.9000   NaN        S  \n",
       "523      1  111361   57.9792   B18        C  \n",
       "203      0    2628    7.2250   NaN        C  \n",
       "318      2   36928  164.8667    C7        S  \n",
       "778      0   36865    7.7375   NaN        Q  \n",
       "651      1  231919   23.0000   NaN        S  \n",
       "11       0  113783   26.5500  C103        S  \n",
       "321      0  349219    7.8958   NaN        S  "
      ]
     },
     "metadata": {},
     "output_type": "display_data"
    }
   ],
   "source": [
    "train_set = pd.read_csv('data/train.csv')\n",
    "test_set = pd.read_csv('data/test.csv')\n",
    "display(train_set.sample(10))"
   ]
  },
  {
   "cell_type": "code",
   "execution_count": 3,
   "metadata": {
    "_uuid": "abfb6a494c602917107c06e8f21751d805e0d6c7"
   },
   "outputs": [
    {
     "name": "stdout",
     "output_type": "stream",
     "text": [
      "The shape of train set: (891, 12)\n",
      "The shape of test set: (418, 11)\n"
     ]
    }
   ],
   "source": [
    "print('The shape of train set: {}'.format(train_set.shape))\n",
    "print('The shape of test set: {}'.format(test_set.shape))"
   ]
  },
  {
   "cell_type": "code",
   "execution_count": 4,
   "metadata": {
    "_uuid": "1e09379775a7e9860b68e4e2776ddfd2460bb89d"
   },
   "outputs": [
    {
     "name": "stdout",
     "output_type": "stream",
     "text": [
      "Index(['PassengerId', 'Survived', 'Pclass', 'Name', 'Sex', 'Age', 'SibSp',\n",
      "       'Parch', 'Ticket', 'Fare', 'Cabin', 'Embarked'],\n",
      "      dtype='object')\n"
     ]
    }
   ],
   "source": [
    "print(train_set.columns)"
   ]
  },
  {
   "cell_type": "markdown",
   "metadata": {
    "_uuid": "aee472438e1f9485b2983b59e969c4966313cf5c"
   },
   "source": [
    "In [Chris](https://www.kaggle.com/cdeotte/titanic-using-name-only-0-81818/notebook) kernel, he point that most of the kernel results tend to predict all male to die  and  all female to survive in the Titanic accident. It should be a gread improvement that to distinguish the survival of the male and the victims of the female. So, he built a \"woman-child-groups\" feature to actualize his idea."
   ]
  },
  {
   "cell_type": "code",
   "execution_count": 5,
   "metadata": {
    "_uuid": "c5cde653d9ee7dd2c922eccab1adbeeb93767381"
   },
   "outputs": [],
   "source": [
    "test_set['Survived'] = np.nan\n",
    "all_set = pd.concat([train_set,test_set],axis=0,ignore_index=True)"
   ]
  },
  {
   "cell_type": "code",
   "execution_count": 6,
   "metadata": {
    "_uuid": "b376875c30d6a8d76e1d93d963ecec9b98c20fc8"
   },
   "outputs": [
    {
     "data": {
      "text/plain": [
       "1101                          Andersen, Mr. Albert Karvin\n",
       "53      Faunthorpe, Mrs. Lizzie (Elizabeth Anne Wilkin...\n",
       "634                                    Skoog, Miss. Mabel\n",
       "28                          O'Dwyer, Miss. Ellen \"Nellie\"\n",
       "1136                              Kenyon, Mr. Frederick R\n",
       "1099                        Rosenbaum, Miss. Edith Louise\n",
       "121                            Moore, Mr. Leonard Charles\n",
       "1038                                     Davies, Mr. Evan\n",
       "786                             Sjoblom, Miss. Anna Sofia\n",
       "850               Andersson, Master. Sigvard Harald Elias\n",
       "305                        Allison, Master. Hudson Trevor\n",
       "91                             Andreasson, Mr. Paul Edvin\n",
       "246                 Lindahl, Miss. Agda Thorilda Viktoria\n",
       "138                                   Osen, Mr. Olaf Elon\n",
       "1036                            Vander Planke, Mr. Julius\n",
       "1017                             Brobeck, Mr. Karl Rudolf\n",
       "432     Louch, Mrs. Charles Alexander (Alice Adelaide ...\n",
       "507         Bradley, Mr. George (\"George Arthur Brayton\")\n",
       "1023                        Lefebre, Mrs. Frank (Frances)\n",
       "680                                   Peters, Miss. Katie\n",
       "Name: Name, dtype: object"
      ]
     },
     "metadata": {},
     "output_type": "display_data"
    }
   ],
   "source": [
    "display(all_set['Name'].sample(20))"
   ]
  },
  {
   "cell_type": "markdown",
   "metadata": {},
   "source": [
    "### view the data missing"
   ]
  },
  {
   "cell_type": "code",
   "execution_count": 7,
   "metadata": {},
   "outputs": [
    {
     "data": {
      "text/plain": [
       "Age             263\n",
       "Cabin          1014\n",
       "Embarked          2\n",
       "Fare              1\n",
       "Name              0\n",
       "Parch             0\n",
       "PassengerId       0\n",
       "Pclass            0\n",
       "Sex               0\n",
       "SibSp             0\n",
       "Survived        418\n",
       "Ticket            0\n",
       "dtype: int64"
      ]
     },
     "metadata": {},
     "output_type": "display_data"
    }
   ],
   "source": [
    "missing = all_set.isna().sum(axis=0)\n",
    "display(missing)"
   ]
  },
  {
   "cell_type": "markdown",
   "metadata": {
    "_uuid": "01338f716c394fdb4c0a04904d8ca5227f82a598"
   },
   "source": [
    "Get the `Surname` and `Title` feature from `Name`"
   ]
  },
  {
   "cell_type": "code",
   "execution_count": 8,
   "metadata": {
    "_uuid": "4f083b485d37d7fd4c39d13f896cc4603a690d66"
   },
   "outputs": [],
   "source": [
    "all_set['Surname'] = all_set['Name'].apply(lambda x: str(x).split(',')[0])\n",
    "all_set['Title'] = all_set['Name'].apply(lambda x: str(x).split('.')[0].split(', ')[1])"
   ]
  },
  {
   "cell_type": "code",
   "execution_count": 9,
   "metadata": {
    "_uuid": "5e61133f12b580b756df42bcf9235e6065dcd37a"
   },
   "outputs": [
    {
     "data": {
      "text/html": [
       "<div>\n",
       "<style scoped>\n",
       "    .dataframe tbody tr th:only-of-type {\n",
       "        vertical-align: middle;\n",
       "    }\n",
       "\n",
       "    .dataframe tbody tr th {\n",
       "        vertical-align: top;\n",
       "    }\n",
       "\n",
       "    .dataframe thead th {\n",
       "        text-align: right;\n",
       "    }\n",
       "</style>\n",
       "<table border=\"1\" class=\"dataframe\">\n",
       "  <thead>\n",
       "    <tr style=\"text-align: right;\">\n",
       "      <th></th>\n",
       "      <th>Name</th>\n",
       "      <th>Surname</th>\n",
       "      <th>Title</th>\n",
       "    </tr>\n",
       "  </thead>\n",
       "  <tbody>\n",
       "    <tr>\n",
       "      <th>631</th>\n",
       "      <td>Lundahl, Mr. Johan Svensson</td>\n",
       "      <td>Lundahl</td>\n",
       "      <td>Mr</td>\n",
       "    </tr>\n",
       "    <tr>\n",
       "      <th>443</th>\n",
       "      <td>Reynaldo, Ms. Encarnacion</td>\n",
       "      <td>Reynaldo</td>\n",
       "      <td>Ms</td>\n",
       "    </tr>\n",
       "    <tr>\n",
       "      <th>1034</th>\n",
       "      <td>Beauchamp, Mr. Henry James</td>\n",
       "      <td>Beauchamp</td>\n",
       "      <td>Mr</td>\n",
       "    </tr>\n",
       "    <tr>\n",
       "      <th>0</th>\n",
       "      <td>Braund, Mr. Owen Harris</td>\n",
       "      <td>Braund</td>\n",
       "      <td>Mr</td>\n",
       "    </tr>\n",
       "    <tr>\n",
       "      <th>336</th>\n",
       "      <td>Pears, Mr. Thomas Clinton</td>\n",
       "      <td>Pears</td>\n",
       "      <td>Mr</td>\n",
       "    </tr>\n",
       "    <tr>\n",
       "      <th>745</th>\n",
       "      <td>Crosby, Capt. Edward Gifford</td>\n",
       "      <td>Crosby</td>\n",
       "      <td>Capt</td>\n",
       "    </tr>\n",
       "    <tr>\n",
       "      <th>1039</th>\n",
       "      <td>Crafton, Mr. John Bertram</td>\n",
       "      <td>Crafton</td>\n",
       "      <td>Mr</td>\n",
       "    </tr>\n",
       "    <tr>\n",
       "      <th>1193</th>\n",
       "      <td>Phillips, Mr. Escott Robert</td>\n",
       "      <td>Phillips</td>\n",
       "      <td>Mr</td>\n",
       "    </tr>\n",
       "    <tr>\n",
       "      <th>797</th>\n",
       "      <td>Osman, Mrs. Mara</td>\n",
       "      <td>Osman</td>\n",
       "      <td>Mrs</td>\n",
       "    </tr>\n",
       "    <tr>\n",
       "      <th>1141</th>\n",
       "      <td>West, Miss. Barbara J</td>\n",
       "      <td>West</td>\n",
       "      <td>Miss</td>\n",
       "    </tr>\n",
       "  </tbody>\n",
       "</table>\n",
       "</div>"
      ],
      "text/plain": [
       "                              Name    Surname Title\n",
       "631    Lundahl, Mr. Johan Svensson    Lundahl    Mr\n",
       "443      Reynaldo, Ms. Encarnacion   Reynaldo    Ms\n",
       "1034    Beauchamp, Mr. Henry James  Beauchamp    Mr\n",
       "0          Braund, Mr. Owen Harris     Braund    Mr\n",
       "336      Pears, Mr. Thomas Clinton      Pears    Mr\n",
       "745   Crosby, Capt. Edward Gifford     Crosby  Capt\n",
       "1039     Crafton, Mr. John Bertram    Crafton    Mr\n",
       "1193   Phillips, Mr. Escott Robert   Phillips    Mr\n",
       "797               Osman, Mrs. Mara      Osman   Mrs\n",
       "1141         West, Miss. Barbara J       West  Miss"
      ]
     },
     "metadata": {},
     "output_type": "display_data"
    }
   ],
   "source": [
    "display(all_set[['Name','Surname','Title']].sample(10))"
   ]
  },
  {
   "cell_type": "code",
   "execution_count": 10,
   "metadata": {
    "_uuid": "9c5ff41020b495d54fe2357d350651d1578de7a7"
   },
   "outputs": [],
   "source": [
    "def transform_ticket(x):\n",
    "    ticket_list = list(x)\n",
    "    ticket_list[-1] = 'X'\n",
    "    return ('').join(ticket_list)"
   ]
  },
  {
   "cell_type": "code",
   "execution_count": 11,
   "metadata": {
    "_uuid": "68999e2dbffcb79a7e06929992b610bfe69b1de7"
   },
   "outputs": [],
   "source": [
    "all_set['Ticket'] = all_set['Ticket'].apply(transform_ticket)"
   ]
  },
  {
   "cell_type": "markdown",
   "metadata": {},
   "source": [
    "### Imputing missing **Age** by Title"
   ]
  },
  {
   "cell_type": "code",
   "execution_count": 12,
   "metadata": {},
   "outputs": [
    {
     "data": {
      "image/png": "[encoded data removed]",
      "text/plain": [
       "<Figure size 504x360 with 1 Axes>"
      ]
     },
     "metadata": {},
     "output_type": "display_data"
    }
   ],
   "source": [
    "plt.figure(figsize=(7,5))\n",
    "sns.boxplot(data=all_set[~all_set['Age'].isna()],x='Title',y='Age', linewidth=2)\n",
    "plt.xticks(rotation=90)\n",
    "plt.show()"
   ]
  },
  {
   "cell_type": "markdown",
   "metadata": {},
   "source": [
    "我们观察了all_set中各个特征变量，从变量的实际含义来看，只有`Title`能够一定程度上反应乘客的年龄，从上图来看，不同`Title`分组，年龄中位数差异还是明显的，另外，除了Mr，Mrs，Miss分组的方差较大，其他的都比较能够接受。此外，Master的年龄范围为0-12，原作者将`Title`为**Master**的乘客身份确认为**boy**，认为比用`Age`来划分更为合理。"
   ]
  },
  {
   "cell_type": "code",
   "execution_count": 13,
   "metadata": {},
   "outputs": [],
   "source": [
    "Age_Title = all_set.groupby('Title')['Age'].median()"
   ]
  },
  {
   "cell_type": "code",
   "execution_count": 14,
   "metadata": {},
   "outputs": [],
   "source": [
    "before_impute = all_set.loc[~all_set['Age'].isna(),].copy()\n",
    "all_set.loc[all_set['Age'].isna(),'Age'] = all_set.loc[all_set['Age'].isna(),'Title'].apply(lambda x: Age_Title[x])"
   ]
  },
  {
   "cell_type": "code",
   "execution_count": 15,
   "metadata": {},
   "outputs": [
    {
     "data": {
      "image/png": "[encoded data removed]",
      "text/plain": [
       "<Figure size 720x720 with 2 Axes>"
      ]
     },
     "metadata": {},
     "output_type": "display_data"
    }
   ],
   "source": [
    "plt.figure(figsize=(10,10))\n",
    "plt.subplot(121)\n",
    "plt.hist(before_impute.loc[before_impute['Sex']=='male','Age'],bins=20,density=True,label='male',alpha=0.3)\n",
    "plt.hist(before_impute.loc[before_impute['Sex']=='female','Age'],bins=20,density=True,label='female',alpha=0.3)\n",
    "plt.legend(loc='upper right')\n",
    "plt.xlabel('Age')\n",
    "plt.ylabel('Probability Density')\n",
    "plt.ylim([0,0.08])\n",
    "plt.title('Before Imputing Operation')\n",
    "plt.subplot(122)\n",
    "plt.hist(all_set.loc[all_set['Sex']=='male','Age'],bins=20,density=True,label='male',alpha=0.5)\n",
    "plt.hist(all_set.loc[all_set['Sex']=='female','Age'],bins=20,density=True,label='female',alpha=0.5)\n",
    "plt.legend(loc='upper right')\n",
    "plt.xlabel('Age')\n",
    "plt.ylabel('Probability Density')\n",
    "plt.ylim([0,0.08])\n",
    "plt.title('After Imputing Operation')\n",
    "plt.show()"
   ]
  },
  {
   "cell_type": "markdown",
   "metadata": {},
   "source": [
    "### 填充缺失的`Embarked`和`Fare`数据"
   ]
  },
  {
   "cell_type": "code",
   "execution_count": 16,
   "metadata": {},
   "outputs": [
    {
     "data": {
      "text/html": [
       "<div>\n",
       "<style scoped>\n",
       "    .dataframe tbody tr th:only-of-type {\n",
       "        vertical-align: middle;\n",
       "    }\n",
       "\n",
       "    .dataframe tbody tr th {\n",
       "        vertical-align: top;\n",
       "    }\n",
       "\n",
       "    .dataframe thead th {\n",
       "        text-align: right;\n",
       "    }\n",
       "</style>\n",
       "<table border=\"1\" class=\"dataframe\">\n",
       "  <thead>\n",
       "    <tr style=\"text-align: right;\">\n",
       "      <th></th>\n",
       "      <th>Age</th>\n",
       "      <th>Cabin</th>\n",
       "      <th>Embarked</th>\n",
       "      <th>Fare</th>\n",
       "      <th>Name</th>\n",
       "      <th>Parch</th>\n",
       "      <th>PassengerId</th>\n",
       "      <th>Pclass</th>\n",
       "      <th>Sex</th>\n",
       "      <th>SibSp</th>\n",
       "      <th>Survived</th>\n",
       "      <th>Ticket</th>\n",
       "      <th>Surname</th>\n",
       "      <th>Title</th>\n",
       "    </tr>\n",
       "  </thead>\n",
       "  <tbody>\n",
       "    <tr>\n",
       "      <th>61</th>\n",
       "      <td>38.0</td>\n",
       "      <td>B28</td>\n",
       "      <td>NaN</td>\n",
       "      <td>80.0</td>\n",
       "      <td>Icard, Miss. Amelie</td>\n",
       "      <td>0</td>\n",
       "      <td>62</td>\n",
       "      <td>1</td>\n",
       "      <td>female</td>\n",
       "      <td>0</td>\n",
       "      <td>1.0</td>\n",
       "      <td>11357X</td>\n",
       "      <td>Icard</td>\n",
       "      <td>Miss</td>\n",
       "    </tr>\n",
       "    <tr>\n",
       "      <th>829</th>\n",
       "      <td>62.0</td>\n",
       "      <td>B28</td>\n",
       "      <td>NaN</td>\n",
       "      <td>80.0</td>\n",
       "      <td>Stone, Mrs. George Nelson (Martha Evelyn)</td>\n",
       "      <td>0</td>\n",
       "      <td>830</td>\n",
       "      <td>1</td>\n",
       "      <td>female</td>\n",
       "      <td>0</td>\n",
       "      <td>1.0</td>\n",
       "      <td>11357X</td>\n",
       "      <td>Stone</td>\n",
       "      <td>Mrs</td>\n",
       "    </tr>\n",
       "    <tr>\n",
       "      <th>1043</th>\n",
       "      <td>60.5</td>\n",
       "      <td>NaN</td>\n",
       "      <td>S</td>\n",
       "      <td>NaN</td>\n",
       "      <td>Storey, Mr. Thomas</td>\n",
       "      <td>0</td>\n",
       "      <td>1044</td>\n",
       "      <td>3</td>\n",
       "      <td>male</td>\n",
       "      <td>0</td>\n",
       "      <td>NaN</td>\n",
       "      <td>370X</td>\n",
       "      <td>Storey</td>\n",
       "      <td>Mr</td>\n",
       "    </tr>\n",
       "  </tbody>\n",
       "</table>\n",
       "</div>"
      ],
      "text/plain": [
       "       Age Cabin Embarked  Fare                                       Name  \\\n",
       "61    38.0   B28      NaN  80.0                        Icard, Miss. Amelie   \n",
       "829   62.0   B28      NaN  80.0  Stone, Mrs. George Nelson (Martha Evelyn)   \n",
       "1043  60.5   NaN        S   NaN                         Storey, Mr. Thomas   \n",
       "\n",
       "      Parch  PassengerId  Pclass     Sex  SibSp  Survived  Ticket Surname  \\\n",
       "61        0           62       1  female      0       1.0  11357X   Icard   \n",
       "829       0          830       1  female      0       1.0  11357X   Stone   \n",
       "1043      0         1044       3    male      0       NaN    370X  Storey   \n",
       "\n",
       "     Title  \n",
       "61    Miss  \n",
       "829    Mrs  \n",
       "1043    Mr  "
      ]
     },
     "execution_count": 16,
     "metadata": {},
     "output_type": "execute_result"
    }
   ],
   "source": [
    "all_set.loc[all_set['Embarked'].isna()|all_set['Fare'].isna(),]"
   ]
  },
  {
   "cell_type": "code",
   "execution_count": 17,
   "metadata": {},
   "outputs": [
    {
     "data": {
      "text/html": [
       "<div>\n",
       "<style scoped>\n",
       "    .dataframe tbody tr th:only-of-type {\n",
       "        vertical-align: middle;\n",
       "    }\n",
       "\n",
       "    .dataframe tbody tr th {\n",
       "        vertical-align: top;\n",
       "    }\n",
       "\n",
       "    .dataframe thead th {\n",
       "        text-align: right;\n",
       "    }\n",
       "</style>\n",
       "<table border=\"1\" class=\"dataframe\">\n",
       "  <thead>\n",
       "    <tr style=\"text-align: right;\">\n",
       "      <th></th>\n",
       "      <th>Age</th>\n",
       "      <th>Cabin</th>\n",
       "      <th>Embarked</th>\n",
       "      <th>Fare</th>\n",
       "      <th>Name</th>\n",
       "      <th>Parch</th>\n",
       "      <th>PassengerId</th>\n",
       "      <th>Pclass</th>\n",
       "      <th>Sex</th>\n",
       "      <th>SibSp</th>\n",
       "      <th>Survived</th>\n",
       "      <th>Ticket</th>\n",
       "      <th>Surname</th>\n",
       "      <th>Title</th>\n",
       "    </tr>\n",
       "  </thead>\n",
       "  <tbody>\n",
       "    <tr>\n",
       "      <th>61</th>\n",
       "      <td>38.0</td>\n",
       "      <td>B28</td>\n",
       "      <td>NaN</td>\n",
       "      <td>80.0</td>\n",
       "      <td>Icard, Miss. Amelie</td>\n",
       "      <td>0</td>\n",
       "      <td>62</td>\n",
       "      <td>1</td>\n",
       "      <td>female</td>\n",
       "      <td>0</td>\n",
       "      <td>1.0</td>\n",
       "      <td>11357X</td>\n",
       "      <td>Icard</td>\n",
       "      <td>Miss</td>\n",
       "    </tr>\n",
       "    <tr>\n",
       "      <th>829</th>\n",
       "      <td>62.0</td>\n",
       "      <td>B28</td>\n",
       "      <td>NaN</td>\n",
       "      <td>80.0</td>\n",
       "      <td>Stone, Mrs. George Nelson (Martha Evelyn)</td>\n",
       "      <td>0</td>\n",
       "      <td>830</td>\n",
       "      <td>1</td>\n",
       "      <td>female</td>\n",
       "      <td>0</td>\n",
       "      <td>1.0</td>\n",
       "      <td>11357X</td>\n",
       "      <td>Stone</td>\n",
       "      <td>Mrs</td>\n",
       "    </tr>\n",
       "    <tr>\n",
       "      <th>1043</th>\n",
       "      <td>60.5</td>\n",
       "      <td>NaN</td>\n",
       "      <td>S</td>\n",
       "      <td>NaN</td>\n",
       "      <td>Storey, Mr. Thomas</td>\n",
       "      <td>0</td>\n",
       "      <td>1044</td>\n",
       "      <td>3</td>\n",
       "      <td>male</td>\n",
       "      <td>0</td>\n",
       "      <td>NaN</td>\n",
       "      <td>370X</td>\n",
       "      <td>Storey</td>\n",
       "      <td>Mr</td>\n",
       "    </tr>\n",
       "  </tbody>\n",
       "</table>\n",
       "</div>"
      ],
      "text/plain": [
       "       Age Cabin Embarked  Fare                                       Name  \\\n",
       "61    38.0   B28      NaN  80.0                        Icard, Miss. Amelie   \n",
       "829   62.0   B28      NaN  80.0  Stone, Mrs. George Nelson (Martha Evelyn)   \n",
       "1043  60.5   NaN        S   NaN                         Storey, Mr. Thomas   \n",
       "\n",
       "      Parch  PassengerId  Pclass     Sex  SibSp  Survived  Ticket Surname  \\\n",
       "61        0           62       1  female      0       1.0  11357X   Icard   \n",
       "829       0          830       1  female      0       1.0  11357X   Stone   \n",
       "1043      0         1044       3    male      0       NaN    370X  Storey   \n",
       "\n",
       "     Title  \n",
       "61    Miss  \n",
       "829    Mrs  \n",
       "1043    Mr  "
      ]
     },
     "execution_count": 17,
     "metadata": {},
     "output_type": "execute_result"
    }
   ],
   "source": [
    "all_set.loc[all_set['Surname'].isin(['Icard','Stone','Storey']),]"
   ]
  },
  {
   "cell_type": "code",
   "execution_count": 18,
   "metadata": {},
   "outputs": [
    {
     "data": {
      "text/html": [
       "<div>\n",
       "<style scoped>\n",
       "    .dataframe tbody tr th:only-of-type {\n",
       "        vertical-align: middle;\n",
       "    }\n",
       "\n",
       "    .dataframe tbody tr th {\n",
       "        vertical-align: top;\n",
       "    }\n",
       "\n",
       "    .dataframe thead th {\n",
       "        text-align: right;\n",
       "    }\n",
       "</style>\n",
       "<table border=\"1\" class=\"dataframe\">\n",
       "  <thead>\n",
       "    <tr style=\"text-align: right;\">\n",
       "      <th></th>\n",
       "      <th>Age</th>\n",
       "      <th>Cabin</th>\n",
       "      <th>Embarked</th>\n",
       "      <th>Fare</th>\n",
       "      <th>Name</th>\n",
       "      <th>Parch</th>\n",
       "      <th>PassengerId</th>\n",
       "      <th>Pclass</th>\n",
       "      <th>Sex</th>\n",
       "      <th>SibSp</th>\n",
       "      <th>Survived</th>\n",
       "      <th>Ticket</th>\n",
       "      <th>Surname</th>\n",
       "      <th>Title</th>\n",
       "    </tr>\n",
       "  </thead>\n",
       "  <tbody>\n",
       "  </tbody>\n",
       "</table>\n",
       "</div>"
      ],
      "text/plain": [
       "Empty DataFrame\n",
       "Columns: [Age, Cabin, Embarked, Fare, Name, Parch, PassengerId, Pclass, Sex, SibSp, Survived, Ticket, Surname, Title]\n",
       "Index: []"
      ]
     },
     "execution_count": 18,
     "metadata": {},
     "output_type": "execute_result"
    }
   ],
   "source": [
    "all_set.loc[all_set['Ticket'].isin(['1135XX','37XX']),]"
   ]
  },
  {
   "cell_type": "markdown",
   "metadata": {},
   "source": [
    "我们发现，船上没有与上述三位缺失数据的乘客同姓的，也没有同一张船票的。因此，想通过同行人来填补缺失是不大可能的了。在这里，我们选择用`Pclass`等级为1的乘客`Embarked`的众数来填充缺失值，用`Pclass`等级为3的乘客的`Fare`的中位数来填充缺失值。"
   ]
  },
  {
   "cell_type": "code",
   "execution_count": 19,
   "metadata": {},
   "outputs": [
    {
     "data": {
      "text/plain": [
       "<matplotlib.axes._subplots.AxesSubplot at 0x25aa6d12e80>"
      ]
     },
     "execution_count": 19,
     "metadata": {},
     "output_type": "execute_result"
    },
    {
     "data": {
      "image/png": "[encoded data removed]",
      "text/plain": [
       "<Figure size 432x288 with 1 Axes>"
      ]
     },
     "metadata": {},
     "output_type": "display_data"
    }
   ],
   "source": [
    "sns.countplot(data=all_set,x='Pclass',hue='Embarked')"
   ]
  },
  {
   "cell_type": "code",
   "execution_count": 20,
   "metadata": {},
   "outputs": [],
   "source": [
    "all_set.loc[all_set['Embarked'].isna(),'Embarked'] = 'S'"
   ]
  },
  {
   "cell_type": "code",
   "execution_count": 21,
   "metadata": {},
   "outputs": [
    {
     "data": {
      "text/plain": [
       "Pclass\n",
       "1    60.0000\n",
       "2    15.0458\n",
       "3     8.0500\n",
       "Name: Fare, dtype: float64"
      ]
     },
     "execution_count": 21,
     "metadata": {},
     "output_type": "execute_result"
    }
   ],
   "source": [
    "all_set.groupby('Pclass')['Fare'].median()"
   ]
  },
  {
   "cell_type": "code",
   "execution_count": 22,
   "metadata": {},
   "outputs": [],
   "source": [
    "all_set.loc[all_set['Fare'].isna(),'Fare'] = 8.0500"
   ]
  },
  {
   "cell_type": "markdown",
   "metadata": {},
   "source": [
    "在作者最初的**WCG**模型中，仅用`Surname`判断乘客之间是否是同行的，后续补充了**TicketCheck**来检查同行之间的`Ticket`是否相同，如果不同，则分入`noGroup`。"
   ]
  },
  {
   "cell_type": "code",
   "execution_count": 23,
   "metadata": {},
   "outputs": [
    {
     "data": {
      "text/html": [
       "<div>\n",
       "<style scoped>\n",
       "    .dataframe tbody tr th:only-of-type {\n",
       "        vertical-align: middle;\n",
       "    }\n",
       "\n",
       "    .dataframe tbody tr th {\n",
       "        vertical-align: top;\n",
       "    }\n",
       "\n",
       "    .dataframe thead th {\n",
       "        text-align: right;\n",
       "    }\n",
       "</style>\n",
       "<table border=\"1\" class=\"dataframe\">\n",
       "  <thead>\n",
       "    <tr style=\"text-align: right;\">\n",
       "      <th></th>\n",
       "      <th>Age</th>\n",
       "      <th>Cabin</th>\n",
       "      <th>Embarked</th>\n",
       "      <th>Fare</th>\n",
       "      <th>Name</th>\n",
       "      <th>Parch</th>\n",
       "      <th>PassengerId</th>\n",
       "      <th>Pclass</th>\n",
       "      <th>Sex</th>\n",
       "      <th>SibSp</th>\n",
       "      <th>Survived</th>\n",
       "      <th>Ticket</th>\n",
       "      <th>Surname</th>\n",
       "      <th>Title</th>\n",
       "    </tr>\n",
       "  </thead>\n",
       "  <tbody>\n",
       "    <tr>\n",
       "      <th>194</th>\n",
       "      <td>44.0</td>\n",
       "      <td>B4</td>\n",
       "      <td>C</td>\n",
       "      <td>27.7208</td>\n",
       "      <td>Brown, Mrs. James Joseph (Margaret Tobin)</td>\n",
       "      <td>0</td>\n",
       "      <td>195</td>\n",
       "      <td>1</td>\n",
       "      <td>female</td>\n",
       "      <td>0</td>\n",
       "      <td>1.0</td>\n",
       "      <td>PC 1761X</td>\n",
       "      <td>Brown</td>\n",
       "      <td>Mrs</td>\n",
       "    </tr>\n",
       "    <tr>\n",
       "      <th>1066</th>\n",
       "      <td>15.0</td>\n",
       "      <td>NaN</td>\n",
       "      <td>S</td>\n",
       "      <td>39.0000</td>\n",
       "      <td>Brown, Miss. Edith Eileen</td>\n",
       "      <td>2</td>\n",
       "      <td>1067</td>\n",
       "      <td>2</td>\n",
       "      <td>female</td>\n",
       "      <td>0</td>\n",
       "      <td>NaN</td>\n",
       "      <td>2975X</td>\n",
       "      <td>Brown</td>\n",
       "      <td>Miss</td>\n",
       "    </tr>\n",
       "  </tbody>\n",
       "</table>\n",
       "</div>"
      ],
      "text/plain": [
       "       Age Cabin Embarked     Fare                                       Name  \\\n",
       "194   44.0    B4        C  27.7208  Brown, Mrs. James Joseph (Margaret Tobin)   \n",
       "1066  15.0   NaN        S  39.0000                  Brown, Miss. Edith Eileen   \n",
       "\n",
       "      Parch  PassengerId  Pclass     Sex  SibSp  Survived    Ticket Surname  \\\n",
       "194       0          195       1  female      0       1.0  PC 1761X   Brown   \n",
       "1066      2         1067       2  female      0       NaN     2975X   Brown   \n",
       "\n",
       "     Title  \n",
       "194    Mrs  \n",
       "1066  Miss  "
      ]
     },
     "metadata": {},
     "output_type": "display_data"
    }
   ],
   "source": [
    "display(all_set.iloc[[194,1066],])"
   ]
  },
  {
   "cell_type": "markdown",
   "metadata": {},
   "source": [
    "从上面的这个例子可以清楚的了解到上述描述的情况，Surname为Brown的两位乘客，她们的Embarked,Pclass和Ticket都不同，很难认为这两位乘客是同行的。"
   ]
  },
  {
   "cell_type": "markdown",
   "metadata": {},
   "source": [
    "### 创建新的特征GroupId，由Surname,Embarked,Pclass,Ticket组成"
   ]
  },
  {
   "cell_type": "code",
   "execution_count": 24,
   "metadata": {},
   "outputs": [],
   "source": [
    "def Create_GroupId(raw):\n",
    "    return str(raw['Surname']) + '-' + str(raw['Embarked']) + '-' + str(raw['Pclass']) + '-' + str(raw['Ticket']) + '-' + str(raw['Fare'])"
   ]
  },
  {
   "cell_type": "code",
   "execution_count": 25,
   "metadata": {},
   "outputs": [],
   "source": [
    "all_set['GroupId'] = all_set.apply(Create_GroupId,axis=1)"
   ]
  },
  {
   "cell_type": "code",
   "execution_count": 26,
   "metadata": {},
   "outputs": [
    {
     "data": {
      "text/plain": [
       "1     809\n",
       "2     133\n",
       "3      39\n",
       "4      10\n",
       "6       4\n",
       "5       4\n",
       "7       2\n",
       "11      1\n",
       "8       1\n",
       "Name: GroupId, dtype: int64"
      ]
     },
     "metadata": {},
     "output_type": "display_data"
    }
   ],
   "source": [
    "display(all_set['GroupId'].value_counts().value_counts())"
   ]
  },
  {
   "cell_type": "markdown",
   "metadata": {
    "_uuid": "a153a97b1f8bce43fdf4c78f742a3417939f8a97"
   },
   "source": [
    "Tansfrom `Title` to only contain `man`, `woman`, and `boy`"
   ]
  },
  {
   "cell_type": "code",
   "execution_count": 27,
   "metadata": {
    "_uuid": "df1d6605ad6f8ca7ce2ba9d2de8feb5687a1eb70"
   },
   "outputs": [],
   "source": [
    "def transform_title(x):\n",
    "    if x in [\"Capt\",\"Don\",\"Major\",\"Col\",\"Rev\",\"Dr\",\"Sir\",\"Mr\",\"Jonkheer\"]:\n",
    "        return 'man'\n",
    "    elif x in [\"Dona\",\"the Countess\",\"Mme\",\"Mlle\",\"Ms\",\"Miss\",\"Lady\",\"Mrs\"]:\n",
    "        return 'woman'\n",
    "    elif x in [\"Master\"]:\n",
    "        return 'boy'"
   ]
  },
  {
   "cell_type": "code",
   "execution_count": 28,
   "metadata": {
    "_uuid": "0e6970cc6417838459bc9376c6d0ba13b7a972f9"
   },
   "outputs": [
    {
     "data": {
      "text/plain": [
       "man      783\n",
       "woman    465\n",
       "boy       61\n",
       "Name: Title, dtype: int64"
      ]
     },
     "metadata": {},
     "output_type": "display_data"
    }
   ],
   "source": [
    "all_set['Title'] = all_set['Title'].apply(transform_title)\n",
    "display(all_set['Title'].value_counts())"
   ]
  },
  {
   "cell_type": "markdown",
   "metadata": {},
   "source": [
    "我们的目标是，在`Title`为`boy`的乘客中找出幸存者，在`Title`为`woman`的乘客中找出遇难者。"
   ]
  },
  {
   "cell_type": "code",
   "execution_count": 29,
   "metadata": {},
   "outputs": [],
   "source": [
    "all_set['GroupCond'] = all_set['GroupId'].copy()\n",
    "all_set.loc[all_set['Title'] == 'man','GroupCond'] = 'noGroup'"
   ]
  },
  {
   "cell_type": "code",
   "execution_count": 30,
   "metadata": {},
   "outputs": [],
   "source": [
    "GroupCondFreq = all_set['GroupCond'].value_counts()\n",
    "all_set['GroupCondFreq'] = all_set['GroupCond'].apply(lambda x: GroupCondFreq[x])"
   ]
  },
  {
   "cell_type": "code",
   "execution_count": 31,
   "metadata": {},
   "outputs": [],
   "source": [
    "all_set.loc[all_set['GroupCondFreq']<=1,'GroupCond'] = 'noGroup'"
   ]
  },
  {
   "cell_type": "code",
   "execution_count": 32,
   "metadata": {},
   "outputs": [
    {
     "data": {
      "text/html": [
       "<div>\n",
       "<style scoped>\n",
       "    .dataframe tbody tr th:only-of-type {\n",
       "        vertical-align: middle;\n",
       "    }\n",
       "\n",
       "    .dataframe tbody tr th {\n",
       "        vertical-align: top;\n",
       "    }\n",
       "\n",
       "    .dataframe thead th {\n",
       "        text-align: right;\n",
       "    }\n",
       "</style>\n",
       "<table border=\"1\" class=\"dataframe\">\n",
       "  <thead>\n",
       "    <tr style=\"text-align: right;\">\n",
       "      <th></th>\n",
       "      <th>Age</th>\n",
       "      <th>Cabin</th>\n",
       "      <th>Embarked</th>\n",
       "      <th>Fare</th>\n",
       "      <th>Name</th>\n",
       "      <th>Parch</th>\n",
       "      <th>PassengerId</th>\n",
       "      <th>Pclass</th>\n",
       "      <th>Sex</th>\n",
       "      <th>SibSp</th>\n",
       "      <th>Survived</th>\n",
       "      <th>Ticket</th>\n",
       "      <th>Surname</th>\n",
       "      <th>Title</th>\n",
       "      <th>GroupId</th>\n",
       "      <th>GroupCond</th>\n",
       "      <th>GroupCondFreq</th>\n",
       "    </tr>\n",
       "  </thead>\n",
       "  <tbody>\n",
       "    <tr>\n",
       "      <th>0</th>\n",
       "      <td>22.0</td>\n",
       "      <td>NaN</td>\n",
       "      <td>S</td>\n",
       "      <td>7.2500</td>\n",
       "      <td>Braund, Mr. Owen Harris</td>\n",
       "      <td>0</td>\n",
       "      <td>1</td>\n",
       "      <td>3</td>\n",
       "      <td>male</td>\n",
       "      <td>1</td>\n",
       "      <td>0.0</td>\n",
       "      <td>A/5 2117X</td>\n",
       "      <td>Braund</td>\n",
       "      <td>man</td>\n",
       "      <td>Braund-S-3-A/5 2117X-7.25</td>\n",
       "      <td>noGroup</td>\n",
       "      <td>783</td>\n",
       "    </tr>\n",
       "    <tr>\n",
       "      <th>1</th>\n",
       "      <td>38.0</td>\n",
       "      <td>C85</td>\n",
       "      <td>C</td>\n",
       "      <td>71.2833</td>\n",
       "      <td>Cumings, Mrs. John Bradley (Florence Briggs Th...</td>\n",
       "      <td>0</td>\n",
       "      <td>2</td>\n",
       "      <td>1</td>\n",
       "      <td>female</td>\n",
       "      <td>1</td>\n",
       "      <td>1.0</td>\n",
       "      <td>PC 1759X</td>\n",
       "      <td>Cumings</td>\n",
       "      <td>woman</td>\n",
       "      <td>Cumings-C-1-PC 1759X-71.2833</td>\n",
       "      <td>noGroup</td>\n",
       "      <td>1</td>\n",
       "    </tr>\n",
       "    <tr>\n",
       "      <th>2</th>\n",
       "      <td>26.0</td>\n",
       "      <td>NaN</td>\n",
       "      <td>S</td>\n",
       "      <td>7.9250</td>\n",
       "      <td>Heikkinen, Miss. Laina</td>\n",
       "      <td>0</td>\n",
       "      <td>3</td>\n",
       "      <td>3</td>\n",
       "      <td>female</td>\n",
       "      <td>0</td>\n",
       "      <td>1.0</td>\n",
       "      <td>STON/O2. 310128X</td>\n",
       "      <td>Heikkinen</td>\n",
       "      <td>woman</td>\n",
       "      <td>Heikkinen-S-3-STON/O2. 310128X-7.925</td>\n",
       "      <td>noGroup</td>\n",
       "      <td>1</td>\n",
       "    </tr>\n",
       "    <tr>\n",
       "      <th>3</th>\n",
       "      <td>35.0</td>\n",
       "      <td>C123</td>\n",
       "      <td>S</td>\n",
       "      <td>53.1000</td>\n",
       "      <td>Futrelle, Mrs. Jacques Heath (Lily May Peel)</td>\n",
       "      <td>0</td>\n",
       "      <td>4</td>\n",
       "      <td>1</td>\n",
       "      <td>female</td>\n",
       "      <td>1</td>\n",
       "      <td>1.0</td>\n",
       "      <td>11380X</td>\n",
       "      <td>Futrelle</td>\n",
       "      <td>woman</td>\n",
       "      <td>Futrelle-S-1-11380X-53.1</td>\n",
       "      <td>noGroup</td>\n",
       "      <td>1</td>\n",
       "    </tr>\n",
       "  </tbody>\n",
       "</table>\n",
       "</div>"
      ],
      "text/plain": [
       "    Age Cabin Embarked     Fare  \\\n",
       "0  22.0   NaN        S   7.2500   \n",
       "1  38.0   C85        C  71.2833   \n",
       "2  26.0   NaN        S   7.9250   \n",
       "3  35.0  C123        S  53.1000   \n",
       "\n",
       "                                                Name  Parch  PassengerId  \\\n",
       "0                            Braund, Mr. Owen Harris      0            1   \n",
       "1  Cumings, Mrs. John Bradley (Florence Briggs Th...      0            2   \n",
       "2                             Heikkinen, Miss. Laina      0            3   \n",
       "3       Futrelle, Mrs. Jacques Heath (Lily May Peel)      0            4   \n",
       "\n",
       "   Pclass     Sex  SibSp  Survived            Ticket    Surname  Title  \\\n",
       "0       3    male      1       0.0         A/5 2117X     Braund    man   \n",
       "1       1  female      1       1.0          PC 1759X    Cumings  woman   \n",
       "2       3  female      0       1.0  STON/O2. 310128X  Heikkinen  woman   \n",
       "3       1  female      1       1.0            11380X   Futrelle  woman   \n",
       "\n",
       "                                GroupId GroupCond  GroupCondFreq  \n",
       "0             Braund-S-3-A/5 2117X-7.25   noGroup            783  \n",
       "1          Cumings-C-1-PC 1759X-71.2833   noGroup              1  \n",
       "2  Heikkinen-S-3-STON/O2. 310128X-7.925   noGroup              1  \n",
       "3              Futrelle-S-1-11380X-53.1   noGroup              1  "
      ]
     },
     "metadata": {},
     "output_type": "display_data"
    }
   ],
   "source": [
    "display(all_set.head(4))"
   ]
  },
  {
   "cell_type": "markdown",
   "metadata": {},
   "source": [
    "在分析数据过程中作者发现，有些家庭会携带保姆或者佣人，或者非同姓的相关人员同行，他们的Ticket，Embarked，Pclass可能是完全相同的，他们的GroupId由于Surname不同，导致了没有分在同一个组内。以此，应该将这部分的乘客也挖掘出来，进一步提高预测精度。"
   ]
  },
  {
   "cell_type": "code",
   "execution_count": 33,
   "metadata": {},
   "outputs": [],
   "source": [
    "def Create_TicketId(raw):\n",
    "    return str(raw['Embarked']) + '-' + str(raw['Pclass']) + '-' + str(raw['Ticket']) + '-' + str(raw['Fare'])"
   ]
  },
  {
   "cell_type": "code",
   "execution_count": 34,
   "metadata": {},
   "outputs": [],
   "source": [
    "all_set['TicketId'] = all_set.apply(Create_TicketId,axis=1)"
   ]
  },
  {
   "cell_type": "code",
   "execution_count": 35,
   "metadata": {},
   "outputs": [
    {
     "data": {
      "text/html": [
       "<div>\n",
       "<style scoped>\n",
       "    .dataframe tbody tr th:only-of-type {\n",
       "        vertical-align: middle;\n",
       "    }\n",
       "\n",
       "    .dataframe tbody tr th {\n",
       "        vertical-align: top;\n",
       "    }\n",
       "\n",
       "    .dataframe thead th {\n",
       "        text-align: right;\n",
       "    }\n",
       "</style>\n",
       "<table border=\"1\" class=\"dataframe\">\n",
       "  <thead>\n",
       "    <tr style=\"text-align: right;\">\n",
       "      <th></th>\n",
       "      <th>Age</th>\n",
       "      <th>Cabin</th>\n",
       "      <th>Embarked</th>\n",
       "      <th>Fare</th>\n",
       "      <th>Name</th>\n",
       "      <th>Parch</th>\n",
       "      <th>PassengerId</th>\n",
       "      <th>Pclass</th>\n",
       "      <th>Sex</th>\n",
       "      <th>SibSp</th>\n",
       "      <th>Survived</th>\n",
       "      <th>Ticket</th>\n",
       "      <th>Surname</th>\n",
       "      <th>Title</th>\n",
       "      <th>GroupId</th>\n",
       "      <th>GroupCond</th>\n",
       "      <th>GroupCondFreq</th>\n",
       "      <th>TicketId</th>\n",
       "    </tr>\n",
       "  </thead>\n",
       "  <tbody>\n",
       "    <tr>\n",
       "      <th>0</th>\n",
       "      <td>22.0</td>\n",
       "      <td>NaN</td>\n",
       "      <td>S</td>\n",
       "      <td>7.2500</td>\n",
       "      <td>Braund, Mr. Owen Harris</td>\n",
       "      <td>0</td>\n",
       "      <td>1</td>\n",
       "      <td>3</td>\n",
       "      <td>male</td>\n",
       "      <td>1</td>\n",
       "      <td>0.0</td>\n",
       "      <td>A/5 2117X</td>\n",
       "      <td>Braund</td>\n",
       "      <td>man</td>\n",
       "      <td>Braund-S-3-A/5 2117X-7.25</td>\n",
       "      <td>noGroup</td>\n",
       "      <td>783</td>\n",
       "      <td>S-3-A/5 2117X-7.25</td>\n",
       "    </tr>\n",
       "    <tr>\n",
       "      <th>1</th>\n",
       "      <td>38.0</td>\n",
       "      <td>C85</td>\n",
       "      <td>C</td>\n",
       "      <td>71.2833</td>\n",
       "      <td>Cumings, Mrs. John Bradley (Florence Briggs Th...</td>\n",
       "      <td>0</td>\n",
       "      <td>2</td>\n",
       "      <td>1</td>\n",
       "      <td>female</td>\n",
       "      <td>1</td>\n",
       "      <td>1.0</td>\n",
       "      <td>PC 1759X</td>\n",
       "      <td>Cumings</td>\n",
       "      <td>woman</td>\n",
       "      <td>Cumings-C-1-PC 1759X-71.2833</td>\n",
       "      <td>noGroup</td>\n",
       "      <td>1</td>\n",
       "      <td>C-1-PC 1759X-71.2833</td>\n",
       "    </tr>\n",
       "    <tr>\n",
       "      <th>2</th>\n",
       "      <td>26.0</td>\n",
       "      <td>NaN</td>\n",
       "      <td>S</td>\n",
       "      <td>7.9250</td>\n",
       "      <td>Heikkinen, Miss. Laina</td>\n",
       "      <td>0</td>\n",
       "      <td>3</td>\n",
       "      <td>3</td>\n",
       "      <td>female</td>\n",
       "      <td>0</td>\n",
       "      <td>1.0</td>\n",
       "      <td>STON/O2. 310128X</td>\n",
       "      <td>Heikkinen</td>\n",
       "      <td>woman</td>\n",
       "      <td>Heikkinen-S-3-STON/O2. 310128X-7.925</td>\n",
       "      <td>noGroup</td>\n",
       "      <td>1</td>\n",
       "      <td>S-3-STON/O2. 310128X-7.925</td>\n",
       "    </tr>\n",
       "    <tr>\n",
       "      <th>3</th>\n",
       "      <td>35.0</td>\n",
       "      <td>C123</td>\n",
       "      <td>S</td>\n",
       "      <td>53.1000</td>\n",
       "      <td>Futrelle, Mrs. Jacques Heath (Lily May Peel)</td>\n",
       "      <td>0</td>\n",
       "      <td>4</td>\n",
       "      <td>1</td>\n",
       "      <td>female</td>\n",
       "      <td>1</td>\n",
       "      <td>1.0</td>\n",
       "      <td>11380X</td>\n",
       "      <td>Futrelle</td>\n",
       "      <td>woman</td>\n",
       "      <td>Futrelle-S-1-11380X-53.1</td>\n",
       "      <td>noGroup</td>\n",
       "      <td>1</td>\n",
       "      <td>S-1-11380X-53.1</td>\n",
       "    </tr>\n",
       "  </tbody>\n",
       "</table>\n",
       "</div>"
      ],
      "text/plain": [
       "    Age Cabin Embarked     Fare  \\\n",
       "0  22.0   NaN        S   7.2500   \n",
       "1  38.0   C85        C  71.2833   \n",
       "2  26.0   NaN        S   7.9250   \n",
       "3  35.0  C123        S  53.1000   \n",
       "\n",
       "                                                Name  Parch  PassengerId  \\\n",
       "0                            Braund, Mr. Owen Harris      0            1   \n",
       "1  Cumings, Mrs. John Bradley (Florence Briggs Th...      0            2   \n",
       "2                             Heikkinen, Miss. Laina      0            3   \n",
       "3       Futrelle, Mrs. Jacques Heath (Lily May Peel)      0            4   \n",
       "\n",
       "   Pclass     Sex  SibSp  Survived            Ticket    Surname  Title  \\\n",
       "0       3    male      1       0.0         A/5 2117X     Braund    man   \n",
       "1       1  female      1       1.0          PC 1759X    Cumings  woman   \n",
       "2       3  female      0       1.0  STON/O2. 310128X  Heikkinen  woman   \n",
       "3       1  female      1       1.0            11380X   Futrelle  woman   \n",
       "\n",
       "                                GroupId GroupCond  GroupCondFreq  \\\n",
       "0             Braund-S-3-A/5 2117X-7.25   noGroup            783   \n",
       "1          Cumings-C-1-PC 1759X-71.2833   noGroup              1   \n",
       "2  Heikkinen-S-3-STON/O2. 310128X-7.925   noGroup              1   \n",
       "3              Futrelle-S-1-11380X-53.1   noGroup              1   \n",
       "\n",
       "                     TicketId  \n",
       "0          S-3-A/5 2117X-7.25  \n",
       "1        C-1-PC 1759X-71.2833  \n",
       "2  S-3-STON/O2. 310128X-7.925  \n",
       "3             S-1-11380X-53.1  "
      ]
     },
     "metadata": {},
     "output_type": "display_data"
    }
   ],
   "source": [
    "display(all_set.head(4))"
   ]
  },
  {
   "cell_type": "code",
   "execution_count": 36,
   "metadata": {
    "_uuid": "fd1c6a4524ba606b4c20a0f58f2aff659c146a65"
   },
   "outputs": [],
   "source": [
    "def checkTicketId(all_data, x):\n",
    "    re_set = all_data[all_data['Name']!=x['Name']]\n",
    "    if (x['Title']!='man')&(x['GroupCond']=='noGroup'):\n",
    "        if len(re_set.loc[re_set['TicketId']==x['TicketId'],])>0:\n",
    "            return re_set.loc[re_set['TicketId']==x['TicketId'],'GroupId'].mode()[0]\n",
    "        else:\n",
    "            return x['GroupId']\n",
    "    else:\n",
    "        return x['GroupId']\n",
    "all_set['GroupId'] = all_set.apply(lambda x: checkTicketId(all_set,x),axis=1)"
   ]
  },
  {
   "cell_type": "code",
   "execution_count": 37,
   "metadata": {},
   "outputs": [
    {
     "data": {
      "text/html": [
       "<div>\n",
       "<style scoped>\n",
       "    .dataframe tbody tr th:only-of-type {\n",
       "        vertical-align: middle;\n",
       "    }\n",
       "\n",
       "    .dataframe tbody tr th {\n",
       "        vertical-align: top;\n",
       "    }\n",
       "\n",
       "    .dataframe thead th {\n",
       "        text-align: right;\n",
       "    }\n",
       "</style>\n",
       "<table border=\"1\" class=\"dataframe\">\n",
       "  <thead>\n",
       "    <tr style=\"text-align: right;\">\n",
       "      <th></th>\n",
       "      <th>Age</th>\n",
       "      <th>Cabin</th>\n",
       "      <th>Embarked</th>\n",
       "      <th>Fare</th>\n",
       "      <th>Name</th>\n",
       "      <th>Parch</th>\n",
       "      <th>PassengerId</th>\n",
       "      <th>Pclass</th>\n",
       "      <th>Sex</th>\n",
       "      <th>SibSp</th>\n",
       "      <th>Survived</th>\n",
       "      <th>Ticket</th>\n",
       "      <th>Surname</th>\n",
       "      <th>Title</th>\n",
       "      <th>GroupId</th>\n",
       "      <th>GroupCond</th>\n",
       "      <th>GroupCondFreq</th>\n",
       "      <th>TicketId</th>\n",
       "    </tr>\n",
       "  </thead>\n",
       "  <tbody>\n",
       "    <tr>\n",
       "      <th>0</th>\n",
       "      <td>22.0</td>\n",
       "      <td>NaN</td>\n",
       "      <td>S</td>\n",
       "      <td>7.2500</td>\n",
       "      <td>Braund, Mr. Owen Harris</td>\n",
       "      <td>0</td>\n",
       "      <td>1</td>\n",
       "      <td>3</td>\n",
       "      <td>male</td>\n",
       "      <td>1</td>\n",
       "      <td>0.0</td>\n",
       "      <td>A/5 2117X</td>\n",
       "      <td>Braund</td>\n",
       "      <td>man</td>\n",
       "      <td>Braund-S-3-A/5 2117X-7.25</td>\n",
       "      <td>noGroup</td>\n",
       "      <td>783</td>\n",
       "      <td>S-3-A/5 2117X-7.25</td>\n",
       "    </tr>\n",
       "    <tr>\n",
       "      <th>1</th>\n",
       "      <td>38.0</td>\n",
       "      <td>C85</td>\n",
       "      <td>C</td>\n",
       "      <td>71.2833</td>\n",
       "      <td>Cumings, Mrs. John Bradley (Florence Briggs Th...</td>\n",
       "      <td>0</td>\n",
       "      <td>2</td>\n",
       "      <td>1</td>\n",
       "      <td>female</td>\n",
       "      <td>1</td>\n",
       "      <td>1.0</td>\n",
       "      <td>PC 1759X</td>\n",
       "      <td>Cumings</td>\n",
       "      <td>woman</td>\n",
       "      <td>Cumings-C-1-PC 1759X-71.2833</td>\n",
       "      <td>noGroup</td>\n",
       "      <td>1</td>\n",
       "      <td>C-1-PC 1759X-71.2833</td>\n",
       "    </tr>\n",
       "    <tr>\n",
       "      <th>2</th>\n",
       "      <td>26.0</td>\n",
       "      <td>NaN</td>\n",
       "      <td>S</td>\n",
       "      <td>7.9250</td>\n",
       "      <td>Heikkinen, Miss. Laina</td>\n",
       "      <td>0</td>\n",
       "      <td>3</td>\n",
       "      <td>3</td>\n",
       "      <td>female</td>\n",
       "      <td>0</td>\n",
       "      <td>1.0</td>\n",
       "      <td>STON/O2. 310128X</td>\n",
       "      <td>Heikkinen</td>\n",
       "      <td>woman</td>\n",
       "      <td>Honkanen-S-3-STON/O2. 310128X-7.925</td>\n",
       "      <td>noGroup</td>\n",
       "      <td>1</td>\n",
       "      <td>S-3-STON/O2. 310128X-7.925</td>\n",
       "    </tr>\n",
       "    <tr>\n",
       "      <th>3</th>\n",
       "      <td>35.0</td>\n",
       "      <td>C123</td>\n",
       "      <td>S</td>\n",
       "      <td>53.1000</td>\n",
       "      <td>Futrelle, Mrs. Jacques Heath (Lily May Peel)</td>\n",
       "      <td>0</td>\n",
       "      <td>4</td>\n",
       "      <td>1</td>\n",
       "      <td>female</td>\n",
       "      <td>1</td>\n",
       "      <td>1.0</td>\n",
       "      <td>11380X</td>\n",
       "      <td>Futrelle</td>\n",
       "      <td>woman</td>\n",
       "      <td>Chambers-S-1-11380X-53.1</td>\n",
       "      <td>noGroup</td>\n",
       "      <td>1</td>\n",
       "      <td>S-1-11380X-53.1</td>\n",
       "    </tr>\n",
       "  </tbody>\n",
       "</table>\n",
       "</div>"
      ],
      "text/plain": [
       "    Age Cabin Embarked     Fare  \\\n",
       "0  22.0   NaN        S   7.2500   \n",
       "1  38.0   C85        C  71.2833   \n",
       "2  26.0   NaN        S   7.9250   \n",
       "3  35.0  C123        S  53.1000   \n",
       "\n",
       "                                                Name  Parch  PassengerId  \\\n",
       "0                            Braund, Mr. Owen Harris      0            1   \n",
       "1  Cumings, Mrs. John Bradley (Florence Briggs Th...      0            2   \n",
       "2                             Heikkinen, Miss. Laina      0            3   \n",
       "3       Futrelle, Mrs. Jacques Heath (Lily May Peel)      0            4   \n",
       "\n",
       "   Pclass     Sex  SibSp  Survived            Ticket    Surname  Title  \\\n",
       "0       3    male      1       0.0         A/5 2117X     Braund    man   \n",
       "1       1  female      1       1.0          PC 1759X    Cumings  woman   \n",
       "2       3  female      0       1.0  STON/O2. 310128X  Heikkinen  woman   \n",
       "3       1  female      1       1.0            11380X   Futrelle  woman   \n",
       "\n",
       "                               GroupId GroupCond  GroupCondFreq  \\\n",
       "0            Braund-S-3-A/5 2117X-7.25   noGroup            783   \n",
       "1         Cumings-C-1-PC 1759X-71.2833   noGroup              1   \n",
       "2  Honkanen-S-3-STON/O2. 310128X-7.925   noGroup              1   \n",
       "3             Chambers-S-1-11380X-53.1   noGroup              1   \n",
       "\n",
       "                     TicketId  \n",
       "0          S-3-A/5 2117X-7.25  \n",
       "1        C-1-PC 1759X-71.2833  \n",
       "2  S-3-STON/O2. 310128X-7.925  \n",
       "3             S-1-11380X-53.1  "
      ]
     },
     "metadata": {},
     "output_type": "display_data"
    }
   ],
   "source": [
    "display(all_set.head(4))"
   ]
  },
  {
   "cell_type": "code",
   "execution_count": 38,
   "metadata": {
    "_uuid": "6077e49bad6ed7e84fdf9c8834ae61e25c958c06"
   },
   "outputs": [],
   "source": [
    "GroupIdFreq = all_set['GroupId'].value_counts()"
   ]
  },
  {
   "cell_type": "code",
   "execution_count": 39,
   "metadata": {
    "_uuid": "2b100aa2bd259b5c3950c985b6518005d54a0592"
   },
   "outputs": [
    {
     "data": {
      "image/png": "[encoded data removed]",
      "text/plain": [
       "<Figure size 720x504 with 1 Axes>"
      ]
     },
     "metadata": {},
     "output_type": "display_data"
    }
   ],
   "source": [
    "GroupIdFreqCounts = GroupIdFreq.value_counts()\n",
    "plt.figure(figsize=(10,7))\n",
    "sns.barplot(GroupIdFreqCounts.index,GroupIdFreqCounts.values)\n",
    "plt.xlabel('The Frequency of GroupIdFreq in all Set')\n",
    "plt.ylabel('The counts of Groups have the same GroupIdFreq in the Titanic')\n",
    "plt.grid(axis=1)\n",
    "plt.show()"
   ]
  },
  {
   "cell_type": "code",
   "execution_count": 40,
   "metadata": {
    "_uuid": "224d98ad9628c0421c9d2bd8081111e931c40352"
   },
   "outputs": [],
   "source": [
    "all_set['GroupCond'] = all_set['GroupId'].copy()\n",
    "all_set.loc[all_set['Title'] == 'man','GroupCond'] = 'noGroup'\n",
    "GroupCondFreq = all_set['GroupCond'].value_counts()\n",
    "all_set['GroupCondFreq'] = all_set['GroupCond'].apply(lambda x: GroupCondFreq[x])\n",
    "all_set.loc[all_set['GroupCondFreq']<=1,'GroupCond'] = 'noGroup'\n",
    "GroupCondFreq = all_set['GroupCond'].value_counts()\n",
    "all_set['GroupCondFreq'] = all_set['GroupCond'].apply(lambda x: GroupCondFreq[x])"
   ]
  },
  {
   "cell_type": "code",
   "execution_count": 41,
   "metadata": {
    "_uuid": "2624ab66aeccef31de73f374faad84c529ed911e"
   },
   "outputs": [],
   "source": [
    "GroupCondSurvival = all_set.groupby('GroupCond')['Survived'].agg('mean')"
   ]
  },
  {
   "cell_type": "code",
   "execution_count": 42,
   "metadata": {
    "_uuid": "d2be8b6296281c5a756f56a3e4632bad9dccdecf"
   },
   "outputs": [
    {
     "data": {
      "text/plain": [
       "1.000000    69\n",
       "0.750000     1\n",
       "0.500000     3\n",
       "0.311429     1\n",
       "0.000000    23\n",
       "Name: Survived, dtype: int64"
      ]
     },
     "metadata": {},
     "output_type": "display_data"
    }
   ],
   "source": [
    "display(GroupCondSurvival.value_counts().sort_index(ascending=False))"
   ]
  },
  {
   "cell_type": "code",
   "execution_count": 43,
   "metadata": {
    "_uuid": "dbce9700679a742715da6cae33db6e3a24d02f25"
   },
   "outputs": [],
   "source": [
    "all_set['GroupCondSurvival'] = all_set['GroupCond'].apply(lambda x: GroupCondSurvival[x])"
   ]
  },
  {
   "cell_type": "code",
   "execution_count": 44,
   "metadata": {},
   "outputs": [],
   "source": [
    "GroupCondSurvival_0 = pd.DataFrame()\n",
    "for GroupCond in sorted(all_set.loc[all_set['GroupCondSurvival']==0,'GroupCond'].unique()):\n",
    "    GroupCondSurvival_0 = pd.concat([GroupCondSurvival_0,all_set[all_set['GroupCond'] == GroupCond]])\n",
    "GroupCondSurvival_0.to_csv('GroupCondSurvival_0.csv',index=False)"
   ]
  },
  {
   "cell_type": "code",
   "execution_count": 45,
   "metadata": {
    "_uuid": "a933d1e317ba4f8eacb1bbccfcf1d1d7f5b598b5"
   },
   "outputs": [],
   "source": [
    "GroupCondSurvival_1 = pd.DataFrame()\n",
    "for GroupCond in sorted(all_set.loc[all_set['GroupCondSurvival']==1,'GroupCond'].unique()):\n",
    "    GroupCondSurvival_1 = pd.concat([GroupCondSurvival_1,all_set[all_set['GroupCond'] == GroupCond]])\n",
    "GroupCondSurvival_1.to_csv('GroupCondSurvival_1.csv',index=False)"
   ]
  },
  {
   "cell_type": "code",
   "execution_count": 46,
   "metadata": {
    "_uuid": "1040abdb53c3ad584683a5fbebed6e08e6540862"
   },
   "outputs": [
    {
     "data": {
      "text/html": [
       "<div>\n",
       "<style scoped>\n",
       "    .dataframe tbody tr th:only-of-type {\n",
       "        vertical-align: middle;\n",
       "    }\n",
       "\n",
       "    .dataframe tbody tr th {\n",
       "        vertical-align: top;\n",
       "    }\n",
       "\n",
       "    .dataframe thead th {\n",
       "        text-align: right;\n",
       "    }\n",
       "</style>\n",
       "<table border=\"1\" class=\"dataframe\">\n",
       "  <thead>\n",
       "    <tr style=\"text-align: right;\">\n",
       "      <th></th>\n",
       "      <th>Surname</th>\n",
       "      <th>Title</th>\n",
       "      <th>Survived</th>\n",
       "      <th>GroupCond</th>\n",
       "    </tr>\n",
       "  </thead>\n",
       "  <tbody>\n",
       "    <tr>\n",
       "      <th>297</th>\n",
       "      <td>Allison</td>\n",
       "      <td>woman</td>\n",
       "      <td>0.0</td>\n",
       "      <td>Allison-S-1-11378X-151.55</td>\n",
       "    </tr>\n",
       "    <tr>\n",
       "      <th>305</th>\n",
       "      <td>Allison</td>\n",
       "      <td>boy</td>\n",
       "      <td>1.0</td>\n",
       "      <td>Allison-S-1-11378X-151.55</td>\n",
       "    </tr>\n",
       "    <tr>\n",
       "      <th>312</th>\n",
       "      <td>Lahtinen</td>\n",
       "      <td>woman</td>\n",
       "      <td>0.0</td>\n",
       "      <td>Lahtinen-S-2-25065X-26.0</td>\n",
       "    </tr>\n",
       "    <tr>\n",
       "      <th>427</th>\n",
       "      <td>Phillips</td>\n",
       "      <td>woman</td>\n",
       "      <td>1.0</td>\n",
       "      <td>Lahtinen-S-2-25065X-26.0</td>\n",
       "    </tr>\n",
       "    <tr>\n",
       "      <th>498</th>\n",
       "      <td>Allison</td>\n",
       "      <td>woman</td>\n",
       "      <td>0.0</td>\n",
       "      <td>Allison-S-1-11378X-151.55</td>\n",
       "    </tr>\n",
       "    <tr>\n",
       "      <th>554</th>\n",
       "      <td>Ohman</td>\n",
       "      <td>woman</td>\n",
       "      <td>1.0</td>\n",
       "      <td>Henriksson-S-3-34708X-7.775</td>\n",
       "    </tr>\n",
       "    <tr>\n",
       "      <th>708</th>\n",
       "      <td>Cleaver</td>\n",
       "      <td>woman</td>\n",
       "      <td>1.0</td>\n",
       "      <td>Allison-S-1-11378X-151.55</td>\n",
       "    </tr>\n",
       "    <tr>\n",
       "      <th>807</th>\n",
       "      <td>Pettersson</td>\n",
       "      <td>woman</td>\n",
       "      <td>0.0</td>\n",
       "      <td>Henriksson-S-3-34708X-7.775</td>\n",
       "    </tr>\n",
       "    <tr>\n",
       "      <th>1032</th>\n",
       "      <td>Daniels</td>\n",
       "      <td>woman</td>\n",
       "      <td>NaN</td>\n",
       "      <td>Allison-S-1-11378X-151.55</td>\n",
       "    </tr>\n",
       "  </tbody>\n",
       "</table>\n",
       "</div>"
      ],
      "text/plain": [
       "         Surname  Title  Survived                    GroupCond\n",
       "297      Allison  woman       0.0    Allison-S-1-11378X-151.55\n",
       "305      Allison    boy       1.0    Allison-S-1-11378X-151.55\n",
       "312     Lahtinen  woman       0.0     Lahtinen-S-2-25065X-26.0\n",
       "427     Phillips  woman       1.0     Lahtinen-S-2-25065X-26.0\n",
       "498      Allison  woman       0.0    Allison-S-1-11378X-151.55\n",
       "554        Ohman  woman       1.0  Henriksson-S-3-34708X-7.775\n",
       "708      Cleaver  woman       1.0    Allison-S-1-11378X-151.55\n",
       "807   Pettersson  woman       0.0  Henriksson-S-3-34708X-7.775\n",
       "1032     Daniels  woman       NaN    Allison-S-1-11378X-151.55"
      ]
     },
     "metadata": {},
     "output_type": "display_data"
    }
   ],
   "source": [
    "display((all_set.loc[all_set['GroupCondSurvival']==1/2,['Surname','Title','Survived','GroupCond']]))"
   ]
  },
  {
   "cell_type": "code",
   "execution_count": 47,
   "metadata": {
    "_uuid": "9a5a8d953b5772eea28382d8d5145801f1b39b16"
   },
   "outputs": [
    {
     "data": {
      "text/html": [
       "<div>\n",
       "<style scoped>\n",
       "    .dataframe tbody tr th:only-of-type {\n",
       "        vertical-align: middle;\n",
       "    }\n",
       "\n",
       "    .dataframe tbody tr th {\n",
       "        vertical-align: top;\n",
       "    }\n",
       "\n",
       "    .dataframe thead th {\n",
       "        text-align: right;\n",
       "    }\n",
       "</style>\n",
       "<table border=\"1\" class=\"dataframe\">\n",
       "  <thead>\n",
       "    <tr style=\"text-align: right;\">\n",
       "      <th></th>\n",
       "      <th>Surname</th>\n",
       "      <th>Title</th>\n",
       "      <th>Survived</th>\n",
       "      <th>GroupCond</th>\n",
       "    </tr>\n",
       "  </thead>\n",
       "  <tbody>\n",
       "    <tr>\n",
       "      <th>25</th>\n",
       "      <td>Asplund</td>\n",
       "      <td>woman</td>\n",
       "      <td>1.0</td>\n",
       "      <td>Asplund-S-3-34707X-31.3875</td>\n",
       "    </tr>\n",
       "    <tr>\n",
       "      <th>182</th>\n",
       "      <td>Asplund</td>\n",
       "      <td>boy</td>\n",
       "      <td>0.0</td>\n",
       "      <td>Asplund-S-3-34707X-31.3875</td>\n",
       "    </tr>\n",
       "    <tr>\n",
       "      <th>233</th>\n",
       "      <td>Asplund</td>\n",
       "      <td>woman</td>\n",
       "      <td>1.0</td>\n",
       "      <td>Asplund-S-3-34707X-31.3875</td>\n",
       "    </tr>\n",
       "    <tr>\n",
       "      <th>261</th>\n",
       "      <td>Asplund</td>\n",
       "      <td>boy</td>\n",
       "      <td>1.0</td>\n",
       "      <td>Asplund-S-3-34707X-31.3875</td>\n",
       "    </tr>\n",
       "    <tr>\n",
       "      <th>1045</th>\n",
       "      <td>Asplund</td>\n",
       "      <td>boy</td>\n",
       "      <td>NaN</td>\n",
       "      <td>Asplund-S-3-34707X-31.3875</td>\n",
       "    </tr>\n",
       "    <tr>\n",
       "      <th>1270</th>\n",
       "      <td>Asplund</td>\n",
       "      <td>boy</td>\n",
       "      <td>NaN</td>\n",
       "      <td>Asplund-S-3-34707X-31.3875</td>\n",
       "    </tr>\n",
       "  </tbody>\n",
       "</table>\n",
       "</div>"
      ],
      "text/plain": [
       "      Surname  Title  Survived                   GroupCond\n",
       "25    Asplund  woman       1.0  Asplund-S-3-34707X-31.3875\n",
       "182   Asplund    boy       0.0  Asplund-S-3-34707X-31.3875\n",
       "233   Asplund  woman       1.0  Asplund-S-3-34707X-31.3875\n",
       "261   Asplund    boy       1.0  Asplund-S-3-34707X-31.3875\n",
       "1045  Asplund    boy       NaN  Asplund-S-3-34707X-31.3875\n",
       "1270  Asplund    boy       NaN  Asplund-S-3-34707X-31.3875"
      ]
     },
     "metadata": {},
     "output_type": "display_data"
    }
   ],
   "source": [
    "display((all_set.loc[all_set['GroupCondSurvival']==3/4,['Surname','Title','Survived','GroupCond']]))"
   ]
  },
  {
   "cell_type": "code",
   "execution_count": 48,
   "metadata": {
    "_uuid": "787964b2ec5b39c243cb14dc2b1d6207229e528a"
   },
   "outputs": [],
   "source": [
    "all_set['Predict'] = 0\n",
    "all_set.loc[all_set['Title']=='woman','Predict'] = 1\n",
    "all_set.loc[(all_set['Title']=='boy')&(all_set['GroupCondSurvival']==1),'Predict'] = 1\n",
    "all_set.loc[(all_set['Title']=='woman')&(all_set['GroupCondSurvival']==0),'Predict'] = 0"
   ]
  },
  {
   "cell_type": "code",
   "execution_count": 49,
   "metadata": {
    "_uuid": "949d6cd907095f2b0d7c1801d3559157ec794221"
   },
   "outputs": [],
   "source": [
    "def Predict_axis(x):\n",
    "    if x == 1:\n",
    "        return 0.55+0.4*np.random.rand()\n",
    "    elif x==0:\n",
    "        return 0.05+0.4*np.random.rand()"
   ]
  },
  {
   "cell_type": "code",
   "execution_count": 50,
   "metadata": {},
   "outputs": [],
   "source": [
    "train_set = all_set.loc[~all_set['Survived'].isna(),]"
   ]
  },
  {
   "cell_type": "code",
   "execution_count": 51,
   "metadata": {
    "_uuid": "ddf8f8453384a3e72d87f5bc95001a01cb1b9db6"
   },
   "outputs": [],
   "source": [
    "train_set['Predict_axis'] = train_set['Predict'].apply(Predict_axis)"
   ]
  },
  {
   "cell_type": "code",
   "execution_count": 52,
   "metadata": {
    "_uuid": "704e71eebf94a0ed003d42fd34973904fc505cfe"
   },
   "outputs": [
    {
     "data": {
      "image/png": "[encoded data removed]",
      "text/plain": [
       "<Figure size 720x720 with 1 Axes>"
      ]
     },
     "metadata": {},
     "output_type": "display_data"
    },
    {
     "data": {
      "text/plain": [
       "Pclass  Predict  Survived\n",
       "1       1        0.0          3\n",
       "                 1.0         90\n",
       "2       1        0.0          6\n",
       "                 1.0         70\n",
       "3       0        0.0         46\n",
       "        1        0.0         26\n",
       "                 1.0         72\n",
       "Name: Survived, dtype: int64"
      ]
     },
     "metadata": {},
     "output_type": "display_data"
    }
   ],
   "source": [
    "plt.figure(figsize=(10,10))\n",
    "sns.swarmplot(data=train_set[train_set['Title']=='woman'],x='Pclass',y='Predict_axis',hue='Survived',alpha=0.8,dodge=False,size=10)\n",
    "plt.yticks([0.3,0.8],['Dead','Suvival'])\n",
    "plt.xlabel('Pclass')\n",
    "plt.ylabel('Predict Survived')\n",
    "plt.title('46 female predictions change from gender model on training set')\n",
    "plt.show()\n",
    "display(train_set[train_set['Title']=='woman'].groupby(['Pclass','Predict','Survived'])['Survived'].count())"
   ]
  },
  {
   "cell_type": "code",
   "execution_count": 53,
   "metadata": {
    "_uuid": "0a8e8030c12e0cebbb73b41b66a3b49d90fa442e"
   },
   "outputs": [
    {
     "data": {
      "image/png": "[encoded data removed]",
      "text/plain": [
       "<Figure size 720x720 with 1 Axes>"
      ]
     },
     "metadata": {},
     "output_type": "display_data"
    },
    {
     "data": {
      "text/plain": [
       "Title  Predict  Survived\n",
       "boy    0        0.0          17\n",
       "                1.0           2\n",
       "       1        1.0          21\n",
       "man    0        0.0         451\n",
       "                1.0          87\n",
       "Name: Survived, dtype: int64"
      ]
     },
     "metadata": {},
     "output_type": "display_data"
    }
   ],
   "source": [
    "plt.figure(figsize=(10,10))\n",
    "sns.swarmplot(data=train_set[train_set['Title']!='woman'],x='Title',y='Predict_axis',hue='Survived',alpha=0.8,dodge=False,size=10)\n",
    "plt.yticks([0.3,0.8],['Dead','Suvival'])\n",
    "plt.xlabel('Title')\n",
    "plt.ylabel('Predict Survived')\n",
    "plt.title('21 male predictions change from gender model on training set')\n",
    "plt.show()\n",
    "display(train_set[train_set['Title']!='woman'].groupby(['Title','Predict','Survived'])['Survived'].count())"
   ]
  },
  {
   "cell_type": "markdown",
   "metadata": {
    "_uuid": "67481312ff9149262fa0554d9f3678f75b79504d"
   },
   "source": [
    "### Validation operation"
   ]
  },
  {
   "cell_type": "code",
   "execution_count": 54,
   "metadata": {
    "_uuid": "d531be5ccbb2f9bf3bf7c0fa190df4b94f615559"
   },
   "outputs": [],
   "source": [
    "import sklearn\n",
    "from sklearn.model_selection import StratifiedKFold\n",
    "from sklearn.metrics import accuracy_score"
   ]
  },
  {
   "cell_type": "code",
   "execution_count": 55,
   "metadata": {
    "_uuid": "9f9df74eac1923d3b9dcd3a4b0a29bbdb9abd5f8"
   },
   "outputs": [
    {
     "name": "stdout",
     "output_type": "stream",
     "text": [
      "Trial 1 10-fold Cross-Validation:\n",
      "The training accuracy = 84.85%(+-0.39%)\n",
      "The validation accuracy = 84.85%(+-3.50%)\n",
      "********************************************************************************\n",
      "\n",
      "Trial 2 10-fold Cross-Validation:\n",
      "The training accuracy = 84.85%(+-0.29%)\n",
      "The validation accuracy = 84.85%(+-2.59%)\n",
      "********************************************************************************\n",
      "\n",
      "Trial 3 10-fold Cross-Validation:\n",
      "The training accuracy = 84.85%(+-0.46%)\n",
      "The validation accuracy = 84.85%(+-4.11%)\n",
      "********************************************************************************\n",
      "\n",
      "Trial 4 10-fold Cross-Validation:\n",
      "The training accuracy = 84.85%(+-0.24%)\n",
      "The validation accuracy = 84.86%(+-2.14%)\n",
      "********************************************************************************\n",
      "\n",
      "Trial 5 10-fold Cross-Validation:\n",
      "The training accuracy = 84.85%(+-0.46%)\n",
      "The validation accuracy = 84.86%(+-4.18%)\n",
      "********************************************************************************\n",
      "\n",
      "Trial 6 10-fold Cross-Validation:\n",
      "The training accuracy = 84.85%(+-0.44%)\n",
      "The validation accuracy = 84.85%(+-3.99%)\n",
      "********************************************************************************\n",
      "\n",
      "Trial 7 10-fold Cross-Validation:\n",
      "The training accuracy = 84.85%(+-0.34%)\n",
      "The validation accuracy = 84.85%(+-3.08%)\n",
      "********************************************************************************\n",
      "\n",
      "Trial 8 10-fold Cross-Validation:\n",
      "The training accuracy = 84.85%(+-0.37%)\n",
      "The validation accuracy = 84.85%(+-3.34%)\n",
      "********************************************************************************\n",
      "\n",
      "Trial 9 10-fold Cross-Validation:\n",
      "The training accuracy = 84.85%(+-0.38%)\n",
      "The validation accuracy = 84.85%(+-3.42%)\n",
      "********************************************************************************\n",
      "\n",
      "Trial 10 10-fold Cross-Validation:\n",
      "The training accuracy = 84.85%(+-0.34%)\n",
      "The validation accuracy = 84.85%(+-3.10%)\n",
      "********************************************************************************\n",
      "\n"
     ]
    }
   ],
   "source": [
    "all_data = pd.read_csv('data/train.csv')\n",
    "CV = 10\n",
    "epochs = 10\n",
    "for epoch in range(epochs):\n",
    "    TrainAccuracy = []\n",
    "    ValidAccuracy = []\n",
    "    kfold = StratifiedKFold(n_splits=CV,shuffle=True)\n",
    "    for train_idx,valid_idx in kfold.split(all_data,all_data['Survived']):\n",
    "        all_data['Title'] = all_data['Name'].apply(lambda x: str(x).split(', ')[1].split('.')[0])\n",
    "        all_data['Title'] = all_data['Title'].apply(transform_title)\n",
    "\n",
    "        all_data['Ticket'] = all_data['Ticket'].apply(transform_ticket)\n",
    "\n",
    "        all_data['Surname'] = all_data['Name'].apply(lambda x: str(x).split(',')[0])\n",
    "        all_data['GroupId'] = all_data.apply(Create_GroupId,axis=1)\n",
    "        all_data['GroupCond'] = all_data['GroupId'].copy()\n",
    "        all_data.loc[all_data['Title']=='man','GroupCond'] = 'noGroup'\n",
    "        \n",
    "        GroupCondFreq = all_data['GroupCond'].value_counts()\n",
    "        all_data['GroupCondFreq'] = all_data['GroupCond'].apply(lambda x: GroupCondFreq[x])\n",
    "        all_data.loc[all_data['GroupCondFreq']<=1,'GroupCond'] = 'noGroup'\n",
    "        \n",
    "        all_data['TicketId'] = all_data.apply(Create_TicketId,axis=1)\n",
    "        all_data['GroupId'] = all_data.apply(lambda x: checkTicketId(all_set,x),axis=1)\n",
    "        \n",
    "        \n",
    "        all_data['GroupCond'] = all_data['GroupId'].copy()\n",
    "        all_data.loc[all_data['Title'] == 'man','GroupCond'] = 'noGroup'\n",
    "        GroupCondFreq = all_data['GroupCond'].value_counts()\n",
    "        all_data['GroupCondFreq'] = all_data['GroupCond'].apply(lambda x: GroupCondFreq[x])\n",
    "        all_data.loc[all_data['GroupCondFreq']<=1,'GroupCond'] = 'noGroup'\n",
    "        GroupCondFreq = all_data['GroupCond'].value_counts()\n",
    "        all_data['GroupCondFreq'] = all_data['GroupCond'].apply(lambda x: GroupCondFreq[x])\n",
    "        \n",
    "        validation = all_data.iloc[valid_idx]['Survived']\n",
    "        GroupCondSurvival = all_data.groupby('GroupCond')['Survived'].agg('mean')\n",
    "\n",
    "        all_data['GroupCondSurvival'] = all_data['GroupCond'].apply(lambda x: GroupCondSurvival[x])\n",
    "\n",
    "        all_data['Predict'] = 0\n",
    "        all_data.loc[all_data['Title']=='woman','Predict'] = 1\n",
    "        all_data.loc[(all_data['Title']=='boy')&(all_data['GroupCondSurvival']==1),'Predict'] = 1\n",
    "        all_data.loc[(all_data['Title']=='woman')&(all_data['GroupCondSurvival']==0),'Predict'] = 0\n",
    "\n",
    "        train = all_data.iloc[train_idx][['Predict','Survived']]\n",
    "        valid = all_data.iloc[valid_idx][['Predict','Survived']]\n",
    "\n",
    "        TrainAccuracy.append(accuracy_score(y_true=train['Survived'],y_pred=train['Predict']))\n",
    "        ValidAccuracy.append(accuracy_score(y_true=valid['Survived'],y_pred=valid['Predict']))\n",
    "    print('Trial {} {}-fold Cross-Validation:'.format(epoch+1,CV))\n",
    "    print('The training accuracy = {:.2f}%(+-{:.2f}%)'.format(np.mean(TrainAccuracy)*100,np.std(TrainAccuracy)*100))\n",
    "    print('The validation accuracy = {:.2f}%(+-{:.2f}%)'.format(np.mean(ValidAccuracy)*100,np.std(ValidAccuracy)*100))\n",
    "    print('*'*80)\n",
    "    print()"
   ]
  },
  {
   "cell_type": "code",
   "execution_count": 56,
   "metadata": {
    "_uuid": "742b4c7cd2f7569b3ed71b386d05cf9e1d8673e2"
   },
   "outputs": [
    {
     "name": "stdout",
     "output_type": "stream",
     "text": [
      "The training accuracy = 84.85%(+-0.34%)\n",
      "The validation accuracy = 84.85%(+-3.10%)\n"
     ]
    }
   ],
   "source": [
    "print('The training accuracy = {:.2f}%(+-{:.2f}%)'.format(np.mean(TrainAccuracy)*100,np.std(TrainAccuracy)*100))\n",
    "print('The validation accuracy = {:.2f}%(+-{:.2f}%)'.format(np.mean(ValidAccuracy)*100,np.std(ValidAccuracy)*100))"
   ]
  },
  {
   "cell_type": "markdown",
   "metadata": {
    "_uuid": "e7b029c5f10b8d1340ae94768ea2df1f46154dc4"
   },
   "source": [
    "### predict testSet"
   ]
  },
  {
   "cell_type": "markdown",
   "metadata": {
    "_uuid": "3e41fd968c5a9594c9e51aab71c47a20c2f8ce14"
   },
   "source": [
    "### make submission"
   ]
  },
  {
   "cell_type": "code",
   "execution_count": 57,
   "metadata": {
    "_uuid": "639f89a243e715b6eb7f3e021f0ad93f17008bad"
   },
   "outputs": [],
   "source": [
    "testSet = all_set[all_set['Survived'].isna()]\n",
    "submit = pd.DataFrame({'PassengerId': testSet['PassengerId'],'Survived':testSet['Predict']})\n",
    "submit.to_csv('GenderGroupId-20180807.csv',index=False)"
   ]
  },
  {
   "cell_type": "markdown",
   "metadata": {},
   "source": [
    "## RandomForest"
   ]
  },
  {
   "cell_type": "code",
   "execution_count": 68,
   "metadata": {},
   "outputs": [
    {
     "name": "stdout",
     "output_type": "stream",
     "text": [
      "Index(['Age', 'Cabin', 'Embarked', 'Fare', 'Name', 'Parch', 'PassengerId',\n",
      "       'Pclass', 'Sex', 'SibSp', 'Survived', 'Ticket', 'Surname', 'Title',\n",
      "       'GroupId', 'GroupCond', 'GroupCondFreq', 'TicketId',\n",
      "       'GroupCondSurvival', 'Predict'],\n",
      "      dtype='object')\n"
     ]
    }
   ],
   "source": [
    "print(all_set.columns)"
   ]
  },
  {
   "cell_type": "code",
   "execution_count": 69,
   "metadata": {},
   "outputs": [],
   "source": [
    "all_set['AgeBin'] = pd.cut(x=all_data['Age'],bins=6)"
   ]
  },
  {
   "cell_type": "code",
   "execution_count": 70,
   "metadata": {},
   "outputs": [],
   "source": [
    "all_set['FareBin'] = pd.cut(x=all_data['Fare'],bins=6)"
   ]
  },
  {
   "cell_type": "code",
   "execution_count": 78,
   "metadata": {},
   "outputs": [
    {
     "name": "stdout",
     "output_type": "stream",
     "text": [
      "(1309, 1731)\n"
     ]
    }
   ],
   "source": [
    "rf_X = all_set[['Pclass','Sex','AgeBin','FareBin','Embarked','Title','GroupId','GroupCond','GroupCondFreq','TicketId','GroupCondSurvival']].copy()\n",
    "rf_X = rf_X.astype('str')\n",
    "rf_y = all_set['Survived']\n",
    "rf_X = pd.get_dummies(rf_X)\n",
    "print(rf_X.shape)"
   ]
  },
  {
   "cell_type": "code",
   "execution_count": 103,
   "metadata": {},
   "outputs": [],
   "source": [
    "train_idx = (~rf_y.isna())\n",
    "test_idx = (rf_y.isna())\n",
    "rf_X_train = rf_X[train_idx]\n",
    "rf_X_test = rf_X[test_idx]\n",
    "rf_y_train = rf_y[train_idx]\n",
    "rf_y_test = rf_y[test_idx]"
   ]
  },
  {
   "cell_type": "code",
   "execution_count": 84,
   "metadata": {},
   "outputs": [],
   "source": [
    "from sklearn.model_selection import GridSearchCV\n",
    "from sklearn.ensemble import RandomForestClassifier"
   ]
  },
  {
   "cell_type": "code",
   "execution_count": 96,
   "metadata": {},
   "outputs": [],
   "source": [
    "rf = RandomForestClassifier(oob_score=True,random_state=2018,verbose=1)"
   ]
  },
  {
   "cell_type": "code",
   "execution_count": 97,
   "metadata": {},
   "outputs": [],
   "source": [
    "param_grid = {'max_depth':[5,7,9],'max_features':[0.3,0.5,0.7],'n_estimators':[500]}"
   ]
  },
  {
   "cell_type": "code",
   "execution_count": 98,
   "metadata": {},
   "outputs": [],
   "source": [
    "grid_search = GridSearchCV(estimator=rf,param_grid=param_grid,cv=5,scoring='accuracy',verbose=2)"
   ]
  },
  {
   "cell_type": "code",
   "execution_count": 99,
   "metadata": {},
   "outputs": [
    {
     "name": "stdout",
     "output_type": "stream",
     "text": [
      "Fitting 5 folds for each of 27 candidates, totalling 135 fits\n"
     ]
    },
    {
     "name": "stderr",
     "output_type": "stream",
     "text": [
      "[Parallel(n_jobs=1)]: Done 500 out of 500 | elapsed:    1.6s finished\n",
      "[Parallel(n_jobs=1)]: Done 500 out of 500 | elapsed:    0.0s finished\n",
      "[Parallel(n_jobs=1)]: Done 500 out of 500 | elapsed:    0.0s finished\n",
      "[Parallel(n_jobs=1)]: Done 500 out of 500 | elapsed:    1.6s finished\n",
      "[Parallel(n_jobs=1)]: Done 500 out of 500 | elapsed:    0.0s finished\n",
      "[Parallel(n_jobs=1)]: Done 500 out of 500 | elapsed:    0.0s finished\n",
      "[Parallel(n_jobs=1)]: Done 500 out of 500 | elapsed:    1.6s finished\n",
      "[Parallel(n_jobs=1)]: Done 500 out of 500 | elapsed:    0.0s finished\n",
      "[Parallel(n_jobs=1)]: Done 500 out of 500 | elapsed:    0.0s finished\n",
      "[Parallel(n_jobs=1)]: Done 500 out of 500 | elapsed:    1.5s finished\n",
      "[Parallel(n_jobs=1)]: Done 500 out of 500 | elapsed:    0.0s finished\n",
      "[Parallel(n_jobs=1)]: Done 500 out of 500 | elapsed:    0.0s finished\n",
      "[Parallel(n_jobs=1)]: Done 500 out of 500 | elapsed:    1.5s finished\n",
      "[Parallel(n_jobs=1)]: Done 500 out of 500 | elapsed:    0.0s finished\n",
      "[Parallel(n_jobs=1)]: Done 500 out of 500 | elapsed:    0.0s finished\n",
      "[Parallel(n_jobs=1)]: Done 1000 out of 1000 | elapsed:    3.2s finished\n",
      "[Parallel(n_jobs=1)]: Done 1000 out of 1000 | elapsed:    0.0s finished\n",
      "[Parallel(n_jobs=1)]: Done 1000 out of 1000 | elapsed:    0.0s finished\n",
      "[Parallel(n_jobs=1)]: Done 1000 out of 1000 | elapsed:    3.3s finished\n",
      "[Parallel(n_jobs=1)]: Done 1000 out of 1000 | elapsed:    0.0s finished\n",
      "[Parallel(n_jobs=1)]: Done 1000 out of 1000 | elapsed:    0.0s finished\n",
      "[Parallel(n_jobs=1)]: Done 1000 out of 1000 | elapsed:    3.2s finished\n",
      "[Parallel(n_jobs=1)]: Done 1000 out of 1000 | elapsed:    0.0s finished\n",
      "[Parallel(n_jobs=1)]: Done 1000 out of 1000 | elapsed:    0.0s finished\n",
      "[Parallel(n_jobs=1)]: Done 1000 out of 1000 | elapsed:    3.2s finished\n",
      "[Parallel(n_jobs=1)]: Done 1000 out of 1000 | elapsed:    0.0s finished\n",
      "[Parallel(n_jobs=1)]: Done 1000 out of 1000 | elapsed:    0.0s finished\n",
      "[Parallel(n_jobs=1)]: Done 1000 out of 1000 | elapsed:    3.2s finished\n",
      "[Parallel(n_jobs=1)]: Done 1000 out of 1000 | elapsed:    0.0s finished\n",
      "[Parallel(n_jobs=1)]: Done 1000 out of 1000 | elapsed:    0.0s finished\n",
      "[Parallel(n_jobs=1)]: Done 2000 out of 2000 | elapsed:    6.5s finished\n",
      "[Parallel(n_jobs=1)]: Done 2000 out of 2000 | elapsed:    0.0s finished\n",
      "[Parallel(n_jobs=1)]: Done 2000 out of 2000 | elapsed:    0.1s finished\n",
      "[Parallel(n_jobs=1)]: Done 2000 out of 2000 | elapsed:    6.4s finished\n",
      "[Parallel(n_jobs=1)]: Done 2000 out of 2000 | elapsed:    0.0s finished\n",
      "[Parallel(n_jobs=1)]: Done 2000 out of 2000 | elapsed:    0.1s finished\n",
      "[Parallel(n_jobs=1)]: Done 2000 out of 2000 | elapsed:    6.5s finished\n",
      "[Parallel(n_jobs=1)]: Done 2000 out of 2000 | elapsed:    0.0s finished\n",
      "[Parallel(n_jobs=1)]: Done 2000 out of 2000 | elapsed:    0.1s finished\n",
      "[Parallel(n_jobs=1)]: Done 2000 out of 2000 | elapsed:    6.4s finished\n",
      "[Parallel(n_jobs=1)]: Done 2000 out of 2000 | elapsed:    0.0s finished\n",
      "[Parallel(n_jobs=1)]: Done 2000 out of 2000 | elapsed:    0.1s finished\n",
      "[Parallel(n_jobs=1)]: Done 2000 out of 2000 | elapsed:    6.5s finished\n",
      "[Parallel(n_jobs=1)]: Done 2000 out of 2000 | elapsed:    0.0s finished\n",
      "[Parallel(n_jobs=1)]: Done 2000 out of 2000 | elapsed:    0.1s finished\n",
      "[Parallel(n_jobs=1)]: Done 500 out of 500 | elapsed:    2.1s finished\n",
      "[Parallel(n_jobs=1)]: Done 500 out of 500 | elapsed:    0.0s finished\n",
      "[Parallel(n_jobs=1)]: Done 500 out of 500 | elapsed:    0.0s finished\n",
      "[Parallel(n_jobs=1)]: Done 500 out of 500 | elapsed:    2.1s finished\n",
      "[Parallel(n_jobs=1)]: Done 500 out of 500 | elapsed:    0.0s finished\n",
      "[Parallel(n_jobs=1)]: Done 500 out of 500 | elapsed:    0.0s finished\n",
      "[Parallel(n_jobs=1)]: Done 500 out of 500 | elapsed:    2.1s finished\n",
      "[Parallel(n_jobs=1)]: Done 500 out of 500 | elapsed:    0.0s finished\n",
      "[Parallel(n_jobs=1)]: Done 500 out of 500 | elapsed:    0.0s finished\n",
      "[Parallel(n_jobs=1)]: Done 500 out of 500 | elapsed:    2.1s finished\n",
      "[Parallel(n_jobs=1)]: Done 500 out of 500 | elapsed:    0.0s finished\n",
      "[Parallel(n_jobs=1)]: Done 500 out of 500 | elapsed:    0.0s finished\n",
      "[Parallel(n_jobs=1)]: Done 500 out of 500 | elapsed:    2.1s finished\n",
      "[Parallel(n_jobs=1)]: Done 500 out of 500 | elapsed:    0.0s finished\n",
      "[Parallel(n_jobs=1)]: Done 500 out of 500 | elapsed:    0.0s finished\n",
      "[Parallel(n_jobs=1)]: Done 1000 out of 1000 | elapsed:    4.3s finished\n",
      "[Parallel(n_jobs=1)]: Done 1000 out of 1000 | elapsed:    0.0s finished\n",
      "[Parallel(n_jobs=1)]: Done 1000 out of 1000 | elapsed:    0.0s finished\n",
      "[Parallel(n_jobs=1)]: Done 1000 out of 1000 | elapsed:    4.3s finished\n",
      "[Parallel(n_jobs=1)]: Done 1000 out of 1000 | elapsed:    0.0s finished\n",
      "[Parallel(n_jobs=1)]: Done 1000 out of 1000 | elapsed:    0.0s finished\n",
      "[Parallel(n_jobs=1)]: Done 1000 out of 1000 | elapsed:    4.3s finished\n",
      "[Parallel(n_jobs=1)]: Done 1000 out of 1000 | elapsed:    0.0s finished\n",
      "[Parallel(n_jobs=1)]: Done 1000 out of 1000 | elapsed:    0.0s finished\n",
      "[Parallel(n_jobs=1)]: Done 1000 out of 1000 | elapsed:    4.3s finished\n",
      "[Parallel(n_jobs=1)]: Done 1000 out of 1000 | elapsed:    0.0s finished\n",
      "[Parallel(n_jobs=1)]: Done 1000 out of 1000 | elapsed:    0.0s finished\n",
      "[Parallel(n_jobs=1)]: Done 1000 out of 1000 | elapsed:    4.3s finished\n",
      "[Parallel(n_jobs=1)]: Done 1000 out of 1000 | elapsed:    0.0s finished\n",
      "[Parallel(n_jobs=1)]: Done 1000 out of 1000 | elapsed:    0.0s finished\n",
      "[Parallel(n_jobs=1)]: Done 2000 out of 2000 | elapsed:    8.6s finished\n",
      "[Parallel(n_jobs=1)]: Done 2000 out of 2000 | elapsed:    0.0s finished\n",
      "[Parallel(n_jobs=1)]: Done 2000 out of 2000 | elapsed:    0.1s finished\n",
      "[Parallel(n_jobs=1)]: Done 2000 out of 2000 | elapsed:    8.7s finished\n",
      "[Parallel(n_jobs=1)]: Done 2000 out of 2000 | elapsed:    0.0s finished\n",
      "[Parallel(n_jobs=1)]: Done 2000 out of 2000 | elapsed:    0.1s finished\n",
      "[Parallel(n_jobs=1)]: Done 2000 out of 2000 | elapsed:    9.2s finished\n",
      "[Parallel(n_jobs=1)]: Done 2000 out of 2000 | elapsed:    0.0s finished\n",
      "[Parallel(n_jobs=1)]: Done 2000 out of 2000 | elapsed:    0.1s finished\n",
      "[Parallel(n_jobs=1)]: Done 2000 out of 2000 | elapsed:    8.6s finished\n",
      "[Parallel(n_jobs=1)]: Done 2000 out of 2000 | elapsed:    0.0s finished\n",
      "[Parallel(n_jobs=1)]: Done 2000 out of 2000 | elapsed:    0.1s finished\n",
      "[Parallel(n_jobs=1)]: Done 2000 out of 2000 | elapsed:    8.6s finished\n",
      "[Parallel(n_jobs=1)]: Done 2000 out of 2000 | elapsed:    0.0s finished\n",
      "[Parallel(n_jobs=1)]: Done 2000 out of 2000 | elapsed:    0.1s finished\n",
      "[Parallel(n_jobs=1)]: Done 500 out of 500 | elapsed:    2.5s finished\n",
      "[Parallel(n_jobs=1)]: Done 500 out of 500 | elapsed:    0.0s finished\n",
      "[Parallel(n_jobs=1)]: Done 500 out of 500 | elapsed:    0.0s finished\n",
      "[Parallel(n_jobs=1)]: Done 500 out of 500 | elapsed:    2.5s finished\n",
      "[Parallel(n_jobs=1)]: Done 500 out of 500 | elapsed:    0.0s finished\n",
      "[Parallel(n_jobs=1)]: Done 500 out of 500 | elapsed:    0.0s finished\n",
      "[Parallel(n_jobs=1)]: Done 500 out of 500 | elapsed:    2.5s finished\n",
      "[Parallel(n_jobs=1)]: Done 500 out of 500 | elapsed:    0.0s finished\n",
      "[Parallel(n_jobs=1)]: Done 500 out of 500 | elapsed:    0.0s finished\n",
      "[Parallel(n_jobs=1)]: Done 500 out of 500 | elapsed:    2.5s finished\n",
      "[Parallel(n_jobs=1)]: Done 500 out of 500 | elapsed:    0.0s finished\n",
      "[Parallel(n_jobs=1)]: Done 500 out of 500 | elapsed:    0.0s finished\n",
      "[Parallel(n_jobs=1)]: Done 500 out of 500 | elapsed:    2.5s finished\n",
      "[Parallel(n_jobs=1)]: Done 500 out of 500 | elapsed:    0.0s finished\n",
      "[Parallel(n_jobs=1)]: Done 500 out of 500 | elapsed:    0.0s finished\n",
      "[Parallel(n_jobs=1)]: Done 1000 out of 1000 | elapsed:    5.1s finished\n",
      "[Parallel(n_jobs=1)]: Done 1000 out of 1000 | elapsed:    0.0s finished\n",
      "[Parallel(n_jobs=1)]: Done 1000 out of 1000 | elapsed:    0.0s finished\n",
      "[Parallel(n_jobs=1)]: Done 1000 out of 1000 | elapsed:    5.1s finished\n",
      "[Parallel(n_jobs=1)]: Done 1000 out of 1000 | elapsed:    0.0s finished\n",
      "[Parallel(n_jobs=1)]: Done 1000 out of 1000 | elapsed:    0.0s finished\n",
      "[Parallel(n_jobs=1)]: Done 1000 out of 1000 | elapsed:    5.1s finished\n",
      "[Parallel(n_jobs=1)]: Done 1000 out of 1000 | elapsed:    0.0s finished\n",
      "[Parallel(n_jobs=1)]: Done 1000 out of 1000 | elapsed:    0.0s finished\n",
      "[Parallel(n_jobs=1)]: Done 1000 out of 1000 | elapsed:    5.3s finished\n",
      "[Parallel(n_jobs=1)]: Done 1000 out of 1000 | elapsed:    0.0s finished\n",
      "[Parallel(n_jobs=1)]: Done 1000 out of 1000 | elapsed:    0.0s finished\n"
     ]
    },
    {
     "name": "stderr",
     "output_type": "stream",
     "text": [
      "[Parallel(n_jobs=1)]: Done 1000 out of 1000 | elapsed:    5.5s finished\n",
      "[Parallel(n_jobs=1)]: Done 1000 out of 1000 | elapsed:    0.0s finished\n",
      "[Parallel(n_jobs=1)]: Done 1000 out of 1000 | elapsed:    0.0s finished\n",
      "[Parallel(n_jobs=1)]: Done 2000 out of 2000 | elapsed:   11.0s finished\n",
      "[Parallel(n_jobs=1)]: Done 2000 out of 2000 | elapsed:    0.0s finished\n",
      "[Parallel(n_jobs=1)]: Done 2000 out of 2000 | elapsed:    0.1s finished\n",
      "[Parallel(n_jobs=1)]: Done 2000 out of 2000 | elapsed:   10.5s finished\n",
      "[Parallel(n_jobs=1)]: Done 2000 out of 2000 | elapsed:    0.0s finished\n",
      "[Parallel(n_jobs=1)]: Done 2000 out of 2000 | elapsed:    0.1s finished\n",
      "[Parallel(n_jobs=1)]: Done 2000 out of 2000 | elapsed:   10.5s finished\n",
      "[Parallel(n_jobs=1)]: Done 2000 out of 2000 | elapsed:    0.0s finished\n",
      "[Parallel(n_jobs=1)]: Done 2000 out of 2000 | elapsed:    0.1s finished\n",
      "[Parallel(n_jobs=1)]: Done 2000 out of 2000 | elapsed:   10.5s finished\n",
      "[Parallel(n_jobs=1)]: Done 2000 out of 2000 | elapsed:    0.0s finished\n",
      "[Parallel(n_jobs=1)]: Done 2000 out of 2000 | elapsed:    0.1s finished\n",
      "[Parallel(n_jobs=1)]: Done 2000 out of 2000 | elapsed:   10.7s finished\n",
      "[Parallel(n_jobs=1)]: Done 2000 out of 2000 | elapsed:    0.0s finished\n",
      "[Parallel(n_jobs=1)]: Done 2000 out of 2000 | elapsed:    0.1s finished\n",
      "[Parallel(n_jobs=1)]: Done 500 out of 500 | elapsed:    1.9s finished\n",
      "[Parallel(n_jobs=1)]: Done 500 out of 500 | elapsed:    0.0s finished\n",
      "[Parallel(n_jobs=1)]: Done 500 out of 500 | elapsed:    0.0s finished\n",
      "[Parallel(n_jobs=1)]: Done 500 out of 500 | elapsed:    1.8s finished\n",
      "[Parallel(n_jobs=1)]: Done 500 out of 500 | elapsed:    0.0s finished\n",
      "[Parallel(n_jobs=1)]: Done 500 out of 500 | elapsed:    0.0s finished\n",
      "[Parallel(n_jobs=1)]: Done 500 out of 500 | elapsed:    1.9s finished\n",
      "[Parallel(n_jobs=1)]: Done 500 out of 500 | elapsed:    0.0s finished\n",
      "[Parallel(n_jobs=1)]: Done 500 out of 500 | elapsed:    0.0s finished\n",
      "[Parallel(n_jobs=1)]: Done 500 out of 500 | elapsed:    1.9s finished\n",
      "[Parallel(n_jobs=1)]: Done 500 out of 500 | elapsed:    0.0s finished\n",
      "[Parallel(n_jobs=1)]: Done 500 out of 500 | elapsed:    0.0s finished\n",
      "[Parallel(n_jobs=1)]: Done 500 out of 500 | elapsed:    1.9s finished\n",
      "[Parallel(n_jobs=1)]: Done 500 out of 500 | elapsed:    0.0s finished\n",
      "[Parallel(n_jobs=1)]: Done 500 out of 500 | elapsed:    0.0s finished\n",
      "[Parallel(n_jobs=1)]: Done 1000 out of 1000 | elapsed:    3.9s finished\n",
      "[Parallel(n_jobs=1)]: Done 1000 out of 1000 | elapsed:    0.0s finished\n",
      "[Parallel(n_jobs=1)]: Done 1000 out of 1000 | elapsed:    0.0s finished\n",
      "[Parallel(n_jobs=1)]: Done 1000 out of 1000 | elapsed:    3.8s finished\n",
      "[Parallel(n_jobs=1)]: Done 1000 out of 1000 | elapsed:    0.0s finished\n",
      "[Parallel(n_jobs=1)]: Done 1000 out of 1000 | elapsed:    0.0s finished\n",
      "[Parallel(n_jobs=1)]: Done 1000 out of 1000 | elapsed:    3.8s finished\n",
      "[Parallel(n_jobs=1)]: Done 1000 out of 1000 | elapsed:    0.0s finished\n",
      "[Parallel(n_jobs=1)]: Done 1000 out of 1000 | elapsed:    0.0s finished\n",
      "[Parallel(n_jobs=1)]: Done 1000 out of 1000 | elapsed:    3.8s finished\n",
      "[Parallel(n_jobs=1)]: Done 1000 out of 1000 | elapsed:    0.0s finished\n",
      "[Parallel(n_jobs=1)]: Done 1000 out of 1000 | elapsed:    0.0s finished\n",
      "[Parallel(n_jobs=1)]: Done 1000 out of 1000 | elapsed:    4.0s finished\n",
      "[Parallel(n_jobs=1)]: Done 1000 out of 1000 | elapsed:    0.0s finished\n",
      "[Parallel(n_jobs=1)]: Done 1000 out of 1000 | elapsed:    0.0s finished\n",
      "[Parallel(n_jobs=1)]: Done 2000 out of 2000 | elapsed:    7.9s finished\n",
      "[Parallel(n_jobs=1)]: Done 2000 out of 2000 | elapsed:    0.0s finished\n",
      "[Parallel(n_jobs=1)]: Done 2000 out of 2000 | elapsed:    0.1s finished\n",
      "[Parallel(n_jobs=1)]: Done 2000 out of 2000 | elapsed:    7.8s finished\n",
      "[Parallel(n_jobs=1)]: Done 2000 out of 2000 | elapsed:    0.0s finished\n",
      "[Parallel(n_jobs=1)]: Done 2000 out of 2000 | elapsed:    0.1s finished\n",
      "[Parallel(n_jobs=1)]: Done 2000 out of 2000 | elapsed:    7.8s finished\n",
      "[Parallel(n_jobs=1)]: Done 2000 out of 2000 | elapsed:    0.0s finished\n",
      "[Parallel(n_jobs=1)]: Done 2000 out of 2000 | elapsed:    0.1s finished\n",
      "[Parallel(n_jobs=1)]: Done 2000 out of 2000 | elapsed:    7.8s finished\n",
      "[Parallel(n_jobs=1)]: Done 2000 out of 2000 | elapsed:    0.0s finished\n",
      "[Parallel(n_jobs=1)]: Done 2000 out of 2000 | elapsed:    0.1s finished\n",
      "[Parallel(n_jobs=1)]: Done 2000 out of 2000 | elapsed:    7.9s finished\n",
      "[Parallel(n_jobs=1)]: Done 2000 out of 2000 | elapsed:    0.0s finished\n",
      "[Parallel(n_jobs=1)]: Done 2000 out of 2000 | elapsed:    0.1s finished\n",
      "[Parallel(n_jobs=1)]: Done 500 out of 500 | elapsed:    2.5s finished\n",
      "[Parallel(n_jobs=1)]: Done 500 out of 500 | elapsed:    0.0s finished\n",
      "[Parallel(n_jobs=1)]: Done 500 out of 500 | elapsed:    0.0s finished\n",
      "[Parallel(n_jobs=1)]: Done 500 out of 500 | elapsed:    2.4s finished\n",
      "[Parallel(n_jobs=1)]: Done 500 out of 500 | elapsed:    0.0s finished\n",
      "[Parallel(n_jobs=1)]: Done 500 out of 500 | elapsed:    0.0s finished\n",
      "[Parallel(n_jobs=1)]: Done 500 out of 500 | elapsed:    2.5s finished\n",
      "[Parallel(n_jobs=1)]: Done 500 out of 500 | elapsed:    0.0s finished\n",
      "[Parallel(n_jobs=1)]: Done 500 out of 500 | elapsed:    0.0s finished\n",
      "[Parallel(n_jobs=1)]: Done 500 out of 500 | elapsed:    2.6s finished\n",
      "[Parallel(n_jobs=1)]: Done 500 out of 500 | elapsed:    0.0s finished\n",
      "[Parallel(n_jobs=1)]: Done 500 out of 500 | elapsed:    0.0s finished\n",
      "[Parallel(n_jobs=1)]: Done 500 out of 500 | elapsed:    2.8s finished\n",
      "[Parallel(n_jobs=1)]: Done 500 out of 500 | elapsed:    0.0s finished\n",
      "[Parallel(n_jobs=1)]: Done 500 out of 500 | elapsed:    0.0s finished\n",
      "[Parallel(n_jobs=1)]: Done 1000 out of 1000 | elapsed:    5.5s finished\n",
      "[Parallel(n_jobs=1)]: Done 1000 out of 1000 | elapsed:    0.0s finished\n",
      "[Parallel(n_jobs=1)]: Done 1000 out of 1000 | elapsed:    0.0s finished\n",
      "[Parallel(n_jobs=1)]: Done 1000 out of 1000 | elapsed:    5.5s finished\n",
      "[Parallel(n_jobs=1)]: Done 1000 out of 1000 | elapsed:    0.0s finished\n",
      "[Parallel(n_jobs=1)]: Done 1000 out of 1000 | elapsed:    0.0s finished\n",
      "[Parallel(n_jobs=1)]: Done 1000 out of 1000 | elapsed:    5.2s finished\n",
      "[Parallel(n_jobs=1)]: Done 1000 out of 1000 | elapsed:    0.0s finished\n",
      "[Parallel(n_jobs=1)]: Done 1000 out of 1000 | elapsed:    0.0s finished\n",
      "[Parallel(n_jobs=1)]: Done 1000 out of 1000 | elapsed:    5.1s finished\n",
      "[Parallel(n_jobs=1)]: Done 1000 out of 1000 | elapsed:    0.0s finished\n",
      "[Parallel(n_jobs=1)]: Done 1000 out of 1000 | elapsed:    0.0s finished\n",
      "[Parallel(n_jobs=1)]: Done 1000 out of 1000 | elapsed:    5.4s finished\n",
      "[Parallel(n_jobs=1)]: Done 1000 out of 1000 | elapsed:    0.0s finished\n",
      "[Parallel(n_jobs=1)]: Done 1000 out of 1000 | elapsed:    0.0s finished\n",
      "[Parallel(n_jobs=1)]: Done 2000 out of 2000 | elapsed:   10.5s finished\n",
      "[Parallel(n_jobs=1)]: Done 2000 out of 2000 | elapsed:    0.0s finished\n",
      "[Parallel(n_jobs=1)]: Done 2000 out of 2000 | elapsed:    0.1s finished\n",
      "[Parallel(n_jobs=1)]: Done 2000 out of 2000 | elapsed:   10.2s finished\n",
      "[Parallel(n_jobs=1)]: Done 2000 out of 2000 | elapsed:    0.0s finished\n",
      "[Parallel(n_jobs=1)]: Done 2000 out of 2000 | elapsed:    0.1s finished\n",
      "[Parallel(n_jobs=1)]: Done 2000 out of 2000 | elapsed:   10.9s finished\n",
      "[Parallel(n_jobs=1)]: Done 2000 out of 2000 | elapsed:    0.0s finished\n",
      "[Parallel(n_jobs=1)]: Done 2000 out of 2000 | elapsed:    0.1s finished\n",
      "[Parallel(n_jobs=1)]: Done 2000 out of 2000 | elapsed:   10.9s finished\n",
      "[Parallel(n_jobs=1)]: Done 2000 out of 2000 | elapsed:    0.0s finished\n",
      "[Parallel(n_jobs=1)]: Done 2000 out of 2000 | elapsed:    0.1s finished\n",
      "[Parallel(n_jobs=1)]: Done 2000 out of 2000 | elapsed:   11.0s finished\n",
      "[Parallel(n_jobs=1)]: Done 2000 out of 2000 | elapsed:    0.0s finished\n",
      "[Parallel(n_jobs=1)]: Done 2000 out of 2000 | elapsed:    0.1s finished\n",
      "[Parallel(n_jobs=1)]: Done 500 out of 500 | elapsed:    3.3s finished\n",
      "[Parallel(n_jobs=1)]: Done 500 out of 500 | elapsed:    0.0s finished\n",
      "[Parallel(n_jobs=1)]: Done 500 out of 500 | elapsed:    0.0s finished\n",
      "[Parallel(n_jobs=1)]: Done 500 out of 500 | elapsed:    6.8s finished\n",
      "[Parallel(n_jobs=1)]: Done 500 out of 500 | elapsed:    0.0s finished\n",
      "[Parallel(n_jobs=1)]: Done 500 out of 500 | elapsed:    0.0s finished\n",
      "[Parallel(n_jobs=1)]: Done 500 out of 500 | elapsed:    3.2s finished\n"
     ]
    },
    {
     "name": "stderr",
     "output_type": "stream",
     "text": [
      "[Parallel(n_jobs=1)]: Done 500 out of 500 | elapsed:    0.0s finished\n",
      "[Parallel(n_jobs=1)]: Done 500 out of 500 | elapsed:    0.0s finished\n",
      "[Parallel(n_jobs=1)]: Done 500 out of 500 | elapsed:    3.5s finished\n",
      "[Parallel(n_jobs=1)]: Done 500 out of 500 | elapsed:    0.0s finished\n",
      "[Parallel(n_jobs=1)]: Done 500 out of 500 | elapsed:    0.0s finished\n",
      "[Parallel(n_jobs=1)]: Done 500 out of 500 | elapsed:    3.3s finished\n",
      "[Parallel(n_jobs=1)]: Done 500 out of 500 | elapsed:    0.0s finished\n",
      "[Parallel(n_jobs=1)]: Done 500 out of 500 | elapsed:    0.0s finished\n",
      "[Parallel(n_jobs=1)]: Done 1000 out of 1000 | elapsed:    9.5s finished\n",
      "[Parallel(n_jobs=1)]: Done 1000 out of 1000 | elapsed:    0.0s finished\n",
      "[Parallel(n_jobs=1)]: Done 1000 out of 1000 | elapsed:    0.0s finished\n",
      "[Parallel(n_jobs=1)]: Done 1000 out of 1000 | elapsed:    6.5s finished\n",
      "[Parallel(n_jobs=1)]: Done 1000 out of 1000 | elapsed:    0.0s finished\n",
      "[Parallel(n_jobs=1)]: Done 1000 out of 1000 | elapsed:    0.0s finished\n",
      "[Parallel(n_jobs=1)]: Done 1000 out of 1000 | elapsed:    6.4s finished\n",
      "[Parallel(n_jobs=1)]: Done 1000 out of 1000 | elapsed:    0.0s finished\n",
      "[Parallel(n_jobs=1)]: Done 1000 out of 1000 | elapsed:    0.0s finished\n",
      "[Parallel(n_jobs=1)]: Done 1000 out of 1000 | elapsed:    6.7s finished\n",
      "[Parallel(n_jobs=1)]: Done 1000 out of 1000 | elapsed:    0.0s finished\n",
      "[Parallel(n_jobs=1)]: Done 1000 out of 1000 | elapsed:    0.0s finished\n",
      "[Parallel(n_jobs=1)]: Done 1000 out of 1000 | elapsed:    6.8s finished\n",
      "[Parallel(n_jobs=1)]: Done 1000 out of 1000 | elapsed:    0.0s finished\n",
      "[Parallel(n_jobs=1)]: Done 1000 out of 1000 | elapsed:    0.0s finished\n",
      "[Parallel(n_jobs=1)]: Done 2000 out of 2000 | elapsed:   15.8s finished\n",
      "[Parallel(n_jobs=1)]: Done 2000 out of 2000 | elapsed:    0.0s finished\n",
      "[Parallel(n_jobs=1)]: Done 2000 out of 2000 | elapsed:    0.1s finished\n",
      "[Parallel(n_jobs=1)]: Done 2000 out of 2000 | elapsed:   13.3s finished\n",
      "[Parallel(n_jobs=1)]: Done 2000 out of 2000 | elapsed:    0.0s finished\n",
      "[Parallel(n_jobs=1)]: Done 2000 out of 2000 | elapsed:    0.1s finished\n",
      "[Parallel(n_jobs=1)]: Done 2000 out of 2000 | elapsed:   17.5s finished\n",
      "[Parallel(n_jobs=1)]: Done 2000 out of 2000 | elapsed:    0.0s finished\n",
      "[Parallel(n_jobs=1)]: Done 2000 out of 2000 | elapsed:    0.1s finished\n",
      "[Parallel(n_jobs=1)]: Done 2000 out of 2000 | elapsed:   13.3s finished\n",
      "[Parallel(n_jobs=1)]: Done 2000 out of 2000 | elapsed:    0.0s finished\n",
      "[Parallel(n_jobs=1)]: Done 2000 out of 2000 | elapsed:    0.1s finished\n",
      "[Parallel(n_jobs=1)]: Done 2000 out of 2000 | elapsed:   17.4s finished\n",
      "[Parallel(n_jobs=1)]: Done 2000 out of 2000 | elapsed:    0.0s finished\n",
      "[Parallel(n_jobs=1)]: Done 2000 out of 2000 | elapsed:    0.1s finished\n",
      "[Parallel(n_jobs=1)]: Done 500 out of 500 | elapsed:    2.6s finished\n",
      "[Parallel(n_jobs=1)]: Done 500 out of 500 | elapsed:    0.0s finished\n",
      "[Parallel(n_jobs=1)]: Done 500 out of 500 | elapsed:    0.0s finished\n",
      "[Parallel(n_jobs=1)]: Done 500 out of 500 | elapsed:    2.3s finished\n",
      "[Parallel(n_jobs=1)]: Done 500 out of 500 | elapsed:    0.0s finished\n",
      "[Parallel(n_jobs=1)]: Done 500 out of 500 | elapsed:    0.0s finished\n",
      "[Parallel(n_jobs=1)]: Done 500 out of 500 | elapsed:    2.3s finished\n",
      "[Parallel(n_jobs=1)]: Done 500 out of 500 | elapsed:    0.0s finished\n",
      "[Parallel(n_jobs=1)]: Done 500 out of 500 | elapsed:    0.0s finished\n",
      "[Parallel(n_jobs=1)]: Done 500 out of 500 | elapsed:    2.5s finished\n",
      "[Parallel(n_jobs=1)]: Done 500 out of 500 | elapsed:    0.0s finished\n",
      "[Parallel(n_jobs=1)]: Done 500 out of 500 | elapsed:    0.0s finished\n",
      "[Parallel(n_jobs=1)]: Done 500 out of 500 | elapsed:    2.3s finished\n",
      "[Parallel(n_jobs=1)]: Done 500 out of 500 | elapsed:    0.0s finished\n",
      "[Parallel(n_jobs=1)]: Done 500 out of 500 | elapsed:    0.0s finished\n",
      "[Parallel(n_jobs=1)]: Done 1000 out of 1000 | elapsed:    4.9s finished\n",
      "[Parallel(n_jobs=1)]: Done 1000 out of 1000 | elapsed:    0.0s finished\n",
      "[Parallel(n_jobs=1)]: Done 1000 out of 1000 | elapsed:    0.0s finished\n",
      "[Parallel(n_jobs=1)]: Done 1000 out of 1000 | elapsed:    4.6s finished\n",
      "[Parallel(n_jobs=1)]: Done 1000 out of 1000 | elapsed:    0.0s finished\n",
      "[Parallel(n_jobs=1)]: Done 1000 out of 1000 | elapsed:    0.0s finished\n",
      "[Parallel(n_jobs=1)]: Done 1000 out of 1000 | elapsed:    4.3s finished\n",
      "[Parallel(n_jobs=1)]: Done 1000 out of 1000 | elapsed:    0.0s finished\n",
      "[Parallel(n_jobs=1)]: Done 1000 out of 1000 | elapsed:    0.0s finished\n",
      "[Parallel(n_jobs=1)]: Done 1000 out of 1000 | elapsed:    4.4s finished\n",
      "[Parallel(n_jobs=1)]: Done 1000 out of 1000 | elapsed:    0.0s finished\n",
      "[Parallel(n_jobs=1)]: Done 1000 out of 1000 | elapsed:    0.0s finished\n",
      "[Parallel(n_jobs=1)]: Done 1000 out of 1000 | elapsed:    4.7s finished\n",
      "[Parallel(n_jobs=1)]: Done 1000 out of 1000 | elapsed:    0.0s finished\n",
      "[Parallel(n_jobs=1)]: Done 1000 out of 1000 | elapsed:    0.0s finished\n",
      "[Parallel(n_jobs=1)]: Done 2000 out of 2000 | elapsed:   12.5s finished\n",
      "[Parallel(n_jobs=1)]: Done 2000 out of 2000 | elapsed:    0.0s finished\n",
      "[Parallel(n_jobs=1)]: Done 2000 out of 2000 | elapsed:    0.1s finished\n",
      "[Parallel(n_jobs=1)]: Done 2000 out of 2000 | elapsed:    8.6s finished\n",
      "[Parallel(n_jobs=1)]: Done 2000 out of 2000 | elapsed:    0.0s finished\n",
      "[Parallel(n_jobs=1)]: Done 2000 out of 2000 | elapsed:    0.1s finished\n",
      "[Parallel(n_jobs=1)]: Done 2000 out of 2000 | elapsed:    8.8s finished\n",
      "[Parallel(n_jobs=1)]: Done 2000 out of 2000 | elapsed:    0.0s finished\n",
      "[Parallel(n_jobs=1)]: Done 2000 out of 2000 | elapsed:    0.1s finished\n",
      "[Parallel(n_jobs=1)]: Done 2000 out of 2000 | elapsed:    8.8s finished\n",
      "[Parallel(n_jobs=1)]: Done 2000 out of 2000 | elapsed:    0.0s finished\n",
      "[Parallel(n_jobs=1)]: Done 2000 out of 2000 | elapsed:    0.1s finished\n",
      "[Parallel(n_jobs=1)]: Done 2000 out of 2000 | elapsed:    8.8s finished\n",
      "[Parallel(n_jobs=1)]: Done 2000 out of 2000 | elapsed:    0.0s finished\n",
      "[Parallel(n_jobs=1)]: Done 2000 out of 2000 | elapsed:    0.1s finished\n",
      "[Parallel(n_jobs=1)]: Done 500 out of 500 | elapsed:    2.7s finished\n",
      "[Parallel(n_jobs=1)]: Done 500 out of 500 | elapsed:    0.0s finished\n",
      "[Parallel(n_jobs=1)]: Done 500 out of 500 | elapsed:    0.0s finished\n",
      "[Parallel(n_jobs=1)]: Done 500 out of 500 | elapsed:    2.7s finished\n",
      "[Parallel(n_jobs=1)]: Done 500 out of 500 | elapsed:    0.0s finished\n",
      "[Parallel(n_jobs=1)]: Done 500 out of 500 | elapsed:    0.0s finished\n",
      "[Parallel(n_jobs=1)]: Done 500 out of 500 | elapsed:    2.8s finished\n",
      "[Parallel(n_jobs=1)]: Done 500 out of 500 | elapsed:    0.0s finished\n",
      "[Parallel(n_jobs=1)]: Done 500 out of 500 | elapsed:    0.0s finished\n",
      "[Parallel(n_jobs=1)]: Done 500 out of 500 | elapsed:    2.8s finished\n",
      "[Parallel(n_jobs=1)]: Done 500 out of 500 | elapsed:    0.0s finished\n",
      "[Parallel(n_jobs=1)]: Done 500 out of 500 | elapsed:    0.0s finished\n",
      "[Parallel(n_jobs=1)]: Done 500 out of 500 | elapsed:    2.8s finished\n",
      "[Parallel(n_jobs=1)]: Done 500 out of 500 | elapsed:    0.0s finished\n",
      "[Parallel(n_jobs=1)]: Done 500 out of 500 | elapsed:    0.0s finished\n",
      "[Parallel(n_jobs=1)]: Done 1000 out of 1000 | elapsed:    5.6s finished\n",
      "[Parallel(n_jobs=1)]: Done 1000 out of 1000 | elapsed:    0.0s finished\n",
      "[Parallel(n_jobs=1)]: Done 1000 out of 1000 | elapsed:    0.0s finished\n",
      "[Parallel(n_jobs=1)]: Done 1000 out of 1000 | elapsed:    5.6s finished\n",
      "[Parallel(n_jobs=1)]: Done 1000 out of 1000 | elapsed:    0.0s finished\n",
      "[Parallel(n_jobs=1)]: Done 1000 out of 1000 | elapsed:    0.0s finished\n",
      "[Parallel(n_jobs=1)]: Done 1000 out of 1000 | elapsed:    5.6s finished\n",
      "[Parallel(n_jobs=1)]: Done 1000 out of 1000 | elapsed:    0.0s finished\n",
      "[Parallel(n_jobs=1)]: Done 1000 out of 1000 | elapsed:    0.0s finished\n",
      "[Parallel(n_jobs=1)]: Done 1000 out of 1000 | elapsed:    5.7s finished\n",
      "[Parallel(n_jobs=1)]: Done 1000 out of 1000 | elapsed:    0.0s finished\n",
      "[Parallel(n_jobs=1)]: Done 1000 out of 1000 | elapsed:    0.0s finished\n",
      "[Parallel(n_jobs=1)]: Done 1000 out of 1000 | elapsed:    5.7s finished\n",
      "[Parallel(n_jobs=1)]: Done 1000 out of 1000 | elapsed:    0.0s finished\n",
      "[Parallel(n_jobs=1)]: Done 1000 out of 1000 | elapsed:    0.0s finished\n",
      "[Parallel(n_jobs=1)]: Done 2000 out of 2000 | elapsed:   11.4s finished\n",
      "[Parallel(n_jobs=1)]: Done 2000 out of 2000 | elapsed:    0.0s finished\n"
     ]
    },
    {
     "name": "stderr",
     "output_type": "stream",
     "text": [
      "[Parallel(n_jobs=1)]: Done 2000 out of 2000 | elapsed:    0.1s finished\n",
      "[Parallel(n_jobs=1)]: Done 2000 out of 2000 | elapsed:   11.1s finished\n",
      "[Parallel(n_jobs=1)]: Done 2000 out of 2000 | elapsed:    0.0s finished\n",
      "[Parallel(n_jobs=1)]: Done 2000 out of 2000 | elapsed:    0.1s finished\n",
      "[Parallel(n_jobs=1)]: Done 2000 out of 2000 | elapsed:   11.5s finished\n",
      "[Parallel(n_jobs=1)]: Done 2000 out of 2000 | elapsed:    0.0s finished\n",
      "[Parallel(n_jobs=1)]: Done 2000 out of 2000 | elapsed:    0.1s finished\n",
      "[Parallel(n_jobs=1)]: Done 2000 out of 2000 | elapsed:   11.7s finished\n",
      "[Parallel(n_jobs=1)]: Done 2000 out of 2000 | elapsed:    0.0s finished\n",
      "[Parallel(n_jobs=1)]: Done 2000 out of 2000 | elapsed:    0.1s finished\n",
      "[Parallel(n_jobs=1)]: Done 2000 out of 2000 | elapsed:   11.5s finished\n",
      "[Parallel(n_jobs=1)]: Done 2000 out of 2000 | elapsed:    0.0s finished\n",
      "[Parallel(n_jobs=1)]: Done 2000 out of 2000 | elapsed:    0.1s finished\n",
      "[Parallel(n_jobs=1)]: Done 500 out of 500 | elapsed:    3.3s finished\n",
      "[Parallel(n_jobs=1)]: Done 500 out of 500 | elapsed:    0.0s finished\n",
      "[Parallel(n_jobs=1)]: Done 500 out of 500 | elapsed:    0.0s finished\n",
      "[Parallel(n_jobs=1)]: Done 500 out of 500 | elapsed:    3.3s finished\n",
      "[Parallel(n_jobs=1)]: Done 500 out of 500 | elapsed:    0.0s finished\n",
      "[Parallel(n_jobs=1)]: Done 500 out of 500 | elapsed:    0.0s finished\n",
      "[Parallel(n_jobs=1)]: Done 500 out of 500 | elapsed:    3.3s finished\n",
      "[Parallel(n_jobs=1)]: Done 500 out of 500 | elapsed:    0.0s finished\n",
      "[Parallel(n_jobs=1)]: Done 500 out of 500 | elapsed:    0.0s finished\n",
      "[Parallel(n_jobs=1)]: Done 500 out of 500 | elapsed:    3.4s finished\n",
      "[Parallel(n_jobs=1)]: Done 500 out of 500 | elapsed:    0.0s finished\n",
      "[Parallel(n_jobs=1)]: Done 500 out of 500 | elapsed:    0.0s finished\n",
      "[Parallel(n_jobs=1)]: Done 500 out of 500 | elapsed:    3.4s finished\n",
      "[Parallel(n_jobs=1)]: Done 500 out of 500 | elapsed:    0.0s finished\n",
      "[Parallel(n_jobs=1)]: Done 500 out of 500 | elapsed:    0.0s finished\n",
      "[Parallel(n_jobs=1)]: Done 1000 out of 1000 | elapsed:    6.7s finished\n",
      "[Parallel(n_jobs=1)]: Done 1000 out of 1000 | elapsed:    0.0s finished\n",
      "[Parallel(n_jobs=1)]: Done 1000 out of 1000 | elapsed:    0.0s finished\n",
      "[Parallel(n_jobs=1)]: Done 1000 out of 1000 | elapsed:    6.6s finished\n",
      "[Parallel(n_jobs=1)]: Done 1000 out of 1000 | elapsed:    0.0s finished\n",
      "[Parallel(n_jobs=1)]: Done 1000 out of 1000 | elapsed:    0.0s finished\n",
      "[Parallel(n_jobs=1)]: Done 1000 out of 1000 | elapsed:    6.7s finished\n",
      "[Parallel(n_jobs=1)]: Done 1000 out of 1000 | elapsed:    0.0s finished\n",
      "[Parallel(n_jobs=1)]: Done 1000 out of 1000 | elapsed:    0.0s finished\n",
      "[Parallel(n_jobs=1)]: Done 1000 out of 1000 | elapsed:    6.9s finished\n",
      "[Parallel(n_jobs=1)]: Done 1000 out of 1000 | elapsed:    0.0s finished\n",
      "[Parallel(n_jobs=1)]: Done 1000 out of 1000 | elapsed:    0.0s finished\n",
      "[Parallel(n_jobs=1)]: Done 1000 out of 1000 | elapsed:    6.8s finished\n",
      "[Parallel(n_jobs=1)]: Done 1000 out of 1000 | elapsed:    0.0s finished\n",
      "[Parallel(n_jobs=1)]: Done 1000 out of 1000 | elapsed:    0.0s finished\n",
      "[Parallel(n_jobs=1)]: Done 2000 out of 2000 | elapsed:   13.6s finished\n",
      "[Parallel(n_jobs=1)]: Done 2000 out of 2000 | elapsed:    0.0s finished\n",
      "[Parallel(n_jobs=1)]: Done 2000 out of 2000 | elapsed:    0.1s finished\n",
      "[Parallel(n_jobs=1)]: Done 2000 out of 2000 | elapsed:   13.5s finished\n",
      "[Parallel(n_jobs=1)]: Done 2000 out of 2000 | elapsed:    0.0s finished\n",
      "[Parallel(n_jobs=1)]: Done 2000 out of 2000 | elapsed:    0.1s finished\n",
      "[Parallel(n_jobs=1)]: Done 2000 out of 2000 | elapsed:   13.8s finished\n",
      "[Parallel(n_jobs=1)]: Done 2000 out of 2000 | elapsed:    0.0s finished\n",
      "[Parallel(n_jobs=1)]: Done 2000 out of 2000 | elapsed:    0.1s finished\n",
      "[Parallel(n_jobs=1)]: Done 2000 out of 2000 | elapsed:   14.0s finished\n",
      "[Parallel(n_jobs=1)]: Done 2000 out of 2000 | elapsed:    0.0s finished\n",
      "[Parallel(n_jobs=1)]: Done 2000 out of 2000 | elapsed:    0.1s finished\n",
      "[Parallel(n_jobs=1)]: Done 2000 out of 2000 | elapsed:   13.8s finished\n",
      "[Parallel(n_jobs=1)]: Done 2000 out of 2000 | elapsed:    0.0s finished\n",
      "[Parallel(n_jobs=1)]: Done 2000 out of 2000 | elapsed:    0.1s finished\n",
      "[Parallel(n_jobs=1)]: Done 135 out of 135 | elapsed: 20.6min finished\n",
      "[Parallel(n_jobs=1)]: Done 500 out of 500 | elapsed:    2.1s finished\n"
     ]
    },
    {
     "data": {
      "text/plain": [
       "GridSearchCV(cv=5, error_score='raise',\n",
       "       estimator=RandomForestClassifier(bootstrap=True, class_weight=None, criterion='gini',\n",
       "            max_depth=None, max_features='auto', max_leaf_nodes=None,\n",
       "            min_impurity_decrease=0.0, min_impurity_split=None,\n",
       "            min_samples_leaf=1, min_samples_split=2,\n",
       "            min_weight_fraction_leaf=0.0, n_estimators=10, n_jobs=1,\n",
       "            oob_score=True, random_state=2018, verbose=1, warm_start=False),\n",
       "       fit_params=None, iid=True, n_jobs=1,\n",
       "       param_grid={'max_depth': [5, 7, 9], 'max_features': [0.3, 0.5, 0.7], 'n_estimators': [500, 1000, 2000]},\n",
       "       pre_dispatch='2*n_jobs', refit=True, return_train_score='warn',\n",
       "       scoring='accuracy', verbose=1)"
      ]
     },
     "execution_count": 99,
     "metadata": {},
     "output_type": "execute_result"
    }
   ],
   "source": [
    "grid_search.fit(rf_X_train,rf_y_train)"
   ]
  },
  {
   "cell_type": "code",
   "execution_count": 108,
   "metadata": {},
   "outputs": [
    {
     "name": "stderr",
     "output_type": "stream",
     "text": [
      "[Parallel(n_jobs=1)]: Done 500 out of 500 | elapsed:    0.0s finished\n"
     ]
    }
   ],
   "source": [
    "Predictions = grid_search.predict(rf_X_test)"
   ]
  },
  {
   "cell_type": "code",
   "execution_count": 109,
   "metadata": {},
   "outputs": [],
   "source": [
    "submit = pd.DataFrame({'PassengerId': testSet['PassengerId'],'Survived': Predictions.astype(int)})\n",
    "submit.to_csv('GenderGroupId-20180807-RF.csv',index=False)"
   ]
  },
  {
   "cell_type": "code",
   "execution_count": 110,
   "metadata": {},
   "outputs": [
    {
     "data": {
      "text/plain": [
       "{'max_depth': 5, 'max_features': 0.3, 'n_estimators': 500}"
      ]
     },
     "execution_count": 110,
     "metadata": {},
     "output_type": "execute_result"
    }
   ],
   "source": [
    "grid_search.best_params_"
   ]
  },
  {
   "cell_type": "code",
   "execution_count": null,
   "metadata": {},
   "outputs": [],
   "source": []
  }
 ],
 "metadata": {
  "kernelspec": {
   "display_name": "Python 3",
   "language": "python",
   "name": "python3"
  },
  "language_info": {
   "codemirror_mode": {
    "name": "ipython",
    "version": 3
   },
   "file_extension": ".py",
   "mimetype": "text/x-python",
   "name": "python",
   "nbconvert_exporter": "python",
   "pygments_lexer": "ipython3",
   "version": "3.6.5"
  }
 },
 "nbformat": 4,
 "nbformat_minor": 1
}
