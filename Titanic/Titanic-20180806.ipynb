{
 "cells": [
  {
   "cell_type": "markdown",
   "metadata": {
    "_cell_guid": "79c7e3d0-c299-4dcb-8224-4455121ee9b0",
    "_uuid": "d629ff2d2480ee46fbb7e2d37f6b5fab8052498a",
    "collapsed": true
   },
   "source": [
    "I am a beginner in kaggle, and i learned much from everyone contributed his/her kernel publicly during in three month ago.  I express my sincere appreciations to all who help me.\n",
    "\n",
    "This kernel, is just my notebook to summary what I have learned from all kernel publicly about the Titanic compitition. Thanks to** [Erik](https://www.kaggle.com/erikbruin/titanic-2nd-degree-families-and-majority-voting), [Chris](https://www.kaggle.com/cdeotte/titanic-using-name-only-0-81818/notebook)**."
   ]
  },
  {
   "cell_type": "code",
   "execution_count": 1,
   "metadata": {
    "_uuid": "c006dad9708ec99cb25f00d8148c98c705724de2"
   },
   "outputs": [],
   "source": [
    "import pandas as pd\n",
    "import numpy as np\n",
    "import matplotlib.pyplot as plt\n",
    "import seaborn as sns\n",
    "plt.style.use('ggplot')\n",
    "np.set_printoptions(precision=4)\n",
    "import warnings\n",
    "warnings.filterwarnings('ignore')\n",
    "%matplotlib inline"
   ]
  },
  {
   "cell_type": "code",
   "execution_count": 2,
   "metadata": {
    "_uuid": "847c291381e915b5cb3c506281ca359da48a7dcf"
   },
   "outputs": [
    {
     "data": {
      "text/html": [
       "<div>\n",
       "<style scoped>\n",
       "    .dataframe tbody tr th:only-of-type {\n",
       "        vertical-align: middle;\n",
       "    }\n",
       "\n",
       "    .dataframe tbody tr th {\n",
       "        vertical-align: top;\n",
       "    }\n",
       "\n",
       "    .dataframe thead th {\n",
       "        text-align: right;\n",
       "    }\n",
       "</style>\n",
       "<table border=\"1\" class=\"dataframe\">\n",
       "  <thead>\n",
       "    <tr style=\"text-align: right;\">\n",
       "      <th></th>\n",
       "      <th>PassengerId</th>\n",
       "      <th>Survived</th>\n",
       "      <th>Pclass</th>\n",
       "      <th>Name</th>\n",
       "      <th>Sex</th>\n",
       "      <th>Age</th>\n",
       "      <th>SibSp</th>\n",
       "      <th>Parch</th>\n",
       "      <th>Ticket</th>\n",
       "      <th>Fare</th>\n",
       "      <th>Cabin</th>\n",
       "      <th>Embarked</th>\n",
       "    </tr>\n",
       "  </thead>\n",
       "  <tbody>\n",
       "    <tr>\n",
       "      <th>370</th>\n",
       "      <td>371</td>\n",
       "      <td>1</td>\n",
       "      <td>1</td>\n",
       "      <td>Harder, Mr. George Achilles</td>\n",
       "      <td>male</td>\n",
       "      <td>25.0</td>\n",
       "      <td>1</td>\n",
       "      <td>0</td>\n",
       "      <td>11765</td>\n",
       "      <td>55.4417</td>\n",
       "      <td>E50</td>\n",
       "      <td>C</td>\n",
       "    </tr>\n",
       "    <tr>\n",
       "      <th>702</th>\n",
       "      <td>703</td>\n",
       "      <td>0</td>\n",
       "      <td>3</td>\n",
       "      <td>Barbara, Miss. Saiide</td>\n",
       "      <td>female</td>\n",
       "      <td>18.0</td>\n",
       "      <td>0</td>\n",
       "      <td>1</td>\n",
       "      <td>2691</td>\n",
       "      <td>14.4542</td>\n",
       "      <td>NaN</td>\n",
       "      <td>C</td>\n",
       "    </tr>\n",
       "    <tr>\n",
       "      <th>443</th>\n",
       "      <td>444</td>\n",
       "      <td>1</td>\n",
       "      <td>2</td>\n",
       "      <td>Reynaldo, Ms. Encarnacion</td>\n",
       "      <td>female</td>\n",
       "      <td>28.0</td>\n",
       "      <td>0</td>\n",
       "      <td>0</td>\n",
       "      <td>230434</td>\n",
       "      <td>13.0000</td>\n",
       "      <td>NaN</td>\n",
       "      <td>S</td>\n",
       "    </tr>\n",
       "    <tr>\n",
       "      <th>501</th>\n",
       "      <td>502</td>\n",
       "      <td>0</td>\n",
       "      <td>3</td>\n",
       "      <td>Canavan, Miss. Mary</td>\n",
       "      <td>female</td>\n",
       "      <td>21.0</td>\n",
       "      <td>0</td>\n",
       "      <td>0</td>\n",
       "      <td>364846</td>\n",
       "      <td>7.7500</td>\n",
       "      <td>NaN</td>\n",
       "      <td>Q</td>\n",
       "    </tr>\n",
       "    <tr>\n",
       "      <th>163</th>\n",
       "      <td>164</td>\n",
       "      <td>0</td>\n",
       "      <td>3</td>\n",
       "      <td>Calic, Mr. Jovo</td>\n",
       "      <td>male</td>\n",
       "      <td>17.0</td>\n",
       "      <td>0</td>\n",
       "      <td>0</td>\n",
       "      <td>315093</td>\n",
       "      <td>8.6625</td>\n",
       "      <td>NaN</td>\n",
       "      <td>S</td>\n",
       "    </tr>\n",
       "    <tr>\n",
       "      <th>563</th>\n",
       "      <td>564</td>\n",
       "      <td>0</td>\n",
       "      <td>3</td>\n",
       "      <td>Simmons, Mr. John</td>\n",
       "      <td>male</td>\n",
       "      <td>NaN</td>\n",
       "      <td>0</td>\n",
       "      <td>0</td>\n",
       "      <td>SOTON/OQ 392082</td>\n",
       "      <td>8.0500</td>\n",
       "      <td>NaN</td>\n",
       "      <td>S</td>\n",
       "    </tr>\n",
       "    <tr>\n",
       "      <th>359</th>\n",
       "      <td>360</td>\n",
       "      <td>1</td>\n",
       "      <td>3</td>\n",
       "      <td>Mockler, Miss. Helen Mary \"Ellie\"</td>\n",
       "      <td>female</td>\n",
       "      <td>NaN</td>\n",
       "      <td>0</td>\n",
       "      <td>0</td>\n",
       "      <td>330980</td>\n",
       "      <td>7.8792</td>\n",
       "      <td>NaN</td>\n",
       "      <td>Q</td>\n",
       "    </tr>\n",
       "    <tr>\n",
       "      <th>438</th>\n",
       "      <td>439</td>\n",
       "      <td>0</td>\n",
       "      <td>1</td>\n",
       "      <td>Fortune, Mr. Mark</td>\n",
       "      <td>male</td>\n",
       "      <td>64.0</td>\n",
       "      <td>1</td>\n",
       "      <td>4</td>\n",
       "      <td>19950</td>\n",
       "      <td>263.0000</td>\n",
       "      <td>C23 C25 C27</td>\n",
       "      <td>S</td>\n",
       "    </tr>\n",
       "    <tr>\n",
       "      <th>118</th>\n",
       "      <td>119</td>\n",
       "      <td>0</td>\n",
       "      <td>1</td>\n",
       "      <td>Baxter, Mr. Quigg Edmond</td>\n",
       "      <td>male</td>\n",
       "      <td>24.0</td>\n",
       "      <td>0</td>\n",
       "      <td>1</td>\n",
       "      <td>PC 17558</td>\n",
       "      <td>247.5208</td>\n",
       "      <td>B58 B60</td>\n",
       "      <td>C</td>\n",
       "    </tr>\n",
       "    <tr>\n",
       "      <th>547</th>\n",
       "      <td>548</td>\n",
       "      <td>1</td>\n",
       "      <td>2</td>\n",
       "      <td>Padro y Manent, Mr. Julian</td>\n",
       "      <td>male</td>\n",
       "      <td>NaN</td>\n",
       "      <td>0</td>\n",
       "      <td>0</td>\n",
       "      <td>SC/PARIS 2146</td>\n",
       "      <td>13.8625</td>\n",
       "      <td>NaN</td>\n",
       "      <td>C</td>\n",
       "    </tr>\n",
       "  </tbody>\n",
       "</table>\n",
       "</div>"
      ],
      "text/plain": [
       "     PassengerId  Survived  Pclass                               Name     Sex  \\\n",
       "370          371         1       1        Harder, Mr. George Achilles    male   \n",
       "702          703         0       3              Barbara, Miss. Saiide  female   \n",
       "443          444         1       2          Reynaldo, Ms. Encarnacion  female   \n",
       "501          502         0       3                Canavan, Miss. Mary  female   \n",
       "163          164         0       3                    Calic, Mr. Jovo    male   \n",
       "563          564         0       3                  Simmons, Mr. John    male   \n",
       "359          360         1       3  Mockler, Miss. Helen Mary \"Ellie\"  female   \n",
       "438          439         0       1                  Fortune, Mr. Mark    male   \n",
       "118          119         0       1           Baxter, Mr. Quigg Edmond    male   \n",
       "547          548         1       2         Padro y Manent, Mr. Julian    male   \n",
       "\n",
       "      Age  SibSp  Parch           Ticket      Fare        Cabin Embarked  \n",
       "370  25.0      1      0            11765   55.4417          E50        C  \n",
       "702  18.0      0      1             2691   14.4542          NaN        C  \n",
       "443  28.0      0      0           230434   13.0000          NaN        S  \n",
       "501  21.0      0      0           364846    7.7500          NaN        Q  \n",
       "163  17.0      0      0           315093    8.6625          NaN        S  \n",
       "563   NaN      0      0  SOTON/OQ 392082    8.0500          NaN        S  \n",
       "359   NaN      0      0           330980    7.8792          NaN        Q  \n",
       "438  64.0      1      4            19950  263.0000  C23 C25 C27        S  \n",
       "118  24.0      0      1         PC 17558  247.5208      B58 B60        C  \n",
       "547   NaN      0      0    SC/PARIS 2146   13.8625          NaN        C  "
      ]
     },
     "metadata": {},
     "output_type": "display_data"
    }
   ],
   "source": [
    "train_set = pd.read_csv('data/train.csv')\n",
    "test_set = pd.read_csv('data/test.csv')\n",
    "display(train_set.sample(10))"
   ]
  },
  {
   "cell_type": "code",
   "execution_count": 3,
   "metadata": {
    "_uuid": "abfb6a494c602917107c06e8f21751d805e0d6c7"
   },
   "outputs": [
    {
     "name": "stdout",
     "output_type": "stream",
     "text": [
      "The shape of train set: (891, 12)\n",
      "The shape of test set: (418, 11)\n"
     ]
    }
   ],
   "source": [
    "print('The shape of train set: {}'.format(train_set.shape))\n",
    "print('The shape of test set: {}'.format(test_set.shape))"
   ]
  },
  {
   "cell_type": "code",
   "execution_count": 4,
   "metadata": {
    "_uuid": "1e09379775a7e9860b68e4e2776ddfd2460bb89d"
   },
   "outputs": [
    {
     "name": "stdout",
     "output_type": "stream",
     "text": [
      "Index(['PassengerId', 'Survived', 'Pclass', 'Name', 'Sex', 'Age', 'SibSp',\n",
      "       'Parch', 'Ticket', 'Fare', 'Cabin', 'Embarked'],\n",
      "      dtype='object')\n"
     ]
    }
   ],
   "source": [
    "print(train_set.columns)"
   ]
  },
  {
   "cell_type": "markdown",
   "metadata": {
    "_uuid": "aee472438e1f9485b2983b59e969c4966313cf5c"
   },
   "source": [
    "In [Chris](https://www.kaggle.com/cdeotte/titanic-using-name-only-0-81818/notebook) kernel, he point that most of the kernel results tend to predict all male to die  and  all female to survive in the Titanic accident. It should be a gread improvement that to distinguish the survival of the male and the victims of the female. So, he built a \"woman-child-groups\" feature to actualize his idea."
   ]
  },
  {
   "cell_type": "code",
   "execution_count": 5,
   "metadata": {
    "_uuid": "c5cde653d9ee7dd2c922eccab1adbeeb93767381"
   },
   "outputs": [],
   "source": [
    "test_set['Survived'] = np.nan\n",
    "all_set = pd.concat([train_set,test_set],axis=0,ignore_index=True)"
   ]
  },
  {
   "cell_type": "code",
   "execution_count": 6,
   "metadata": {
    "_uuid": "b376875c30d6a8d76e1d93d963ecec9b98c20fc8"
   },
   "outputs": [
    {
     "data": {
      "text/plain": [
       "790                      Keane, Mr. Andrew \"Andy\"\n",
       "825                               Flynn, Mr. John\n",
       "492                    Molson, Mr. Harry Markland\n",
       "263                         Harrison, Mr. William\n",
       "1108                     Wick, Mr. George Dennick\n",
       "552                          O'Brien, Mr. Timothy\n",
       "1134                           Hyman, Mr. Abraham\n",
       "758                  Theobald, Mr. Thomas Leonard\n",
       "501                           Canavan, Miss. Mary\n",
       "694                               Weir, Col. John\n",
       "1091                           Murphy, Miss. Nora\n",
       "202                    Johanson, Mr. Jakob Alfred\n",
       "218                         Bazzani, Miss. Albina\n",
       "1297                    Ware, Mr. William Jeffery\n",
       "262                             Taussig, Mr. Emil\n",
       "995     Thomas, Mrs. Alexander (Thamine Thelma\")\"\n",
       "243                 Maenpaa, Mr. Matti Alexanteri\n",
       "1214                           Rowe, Mr. Alfred G\n",
       "922                 Jefferys, Mr. Clifford Thomas\n",
       "287                          Naidenoff, Mr. Penko\n",
       "Name: Name, dtype: object"
      ]
     },
     "metadata": {},
     "output_type": "display_data"
    }
   ],
   "source": [
    "display(all_set['Name'].sample(20))"
   ]
  },
  {
   "cell_type": "markdown",
   "metadata": {
    "_uuid": "01338f716c394fdb4c0a04904d8ca5227f82a598"
   },
   "source": [
    "Get the `Surname` and `Title` feature from `Name`"
   ]
  },
  {
   "cell_type": "code",
   "execution_count": 7,
   "metadata": {
    "_uuid": "4f083b485d37d7fd4c39d13f896cc4603a690d66"
   },
   "outputs": [],
   "source": [
    "train_set['Surname'] = train_set['Name'].apply(lambda x: str(x).split(',')[0])\n",
    "train_set['Title'] = train_set['Name'].apply(lambda x: str(x).split('.')[0].split(', ')[1])"
   ]
  },
  {
   "cell_type": "code",
   "execution_count": 8,
   "metadata": {
    "_uuid": "5e61133f12b580b756df42bcf9235e6065dcd37a"
   },
   "outputs": [
    {
     "data": {
      "text/html": [
       "<div>\n",
       "<style scoped>\n",
       "    .dataframe tbody tr th:only-of-type {\n",
       "        vertical-align: middle;\n",
       "    }\n",
       "\n",
       "    .dataframe tbody tr th {\n",
       "        vertical-align: top;\n",
       "    }\n",
       "\n",
       "    .dataframe thead th {\n",
       "        text-align: right;\n",
       "    }\n",
       "</style>\n",
       "<table border=\"1\" class=\"dataframe\">\n",
       "  <thead>\n",
       "    <tr style=\"text-align: right;\">\n",
       "      <th></th>\n",
       "      <th>Name</th>\n",
       "      <th>Surname</th>\n",
       "      <th>Title</th>\n",
       "    </tr>\n",
       "  </thead>\n",
       "  <tbody>\n",
       "    <tr>\n",
       "      <th>12</th>\n",
       "      <td>Saundercock, Mr. William Henry</td>\n",
       "      <td>Saundercock</td>\n",
       "      <td>Mr</td>\n",
       "    </tr>\n",
       "    <tr>\n",
       "      <th>621</th>\n",
       "      <td>Kimball, Mr. Edwin Nelson Jr</td>\n",
       "      <td>Kimball</td>\n",
       "      <td>Mr</td>\n",
       "    </tr>\n",
       "    <tr>\n",
       "      <th>380</th>\n",
       "      <td>Bidois, Miss. Rosalie</td>\n",
       "      <td>Bidois</td>\n",
       "      <td>Miss</td>\n",
       "    </tr>\n",
       "    <tr>\n",
       "      <th>323</th>\n",
       "      <td>Caldwell, Mrs. Albert Francis (Sylvia Mae Harb...</td>\n",
       "      <td>Caldwell</td>\n",
       "      <td>Mrs</td>\n",
       "    </tr>\n",
       "    <tr>\n",
       "      <th>70</th>\n",
       "      <td>Jenkin, Mr. Stephen Curnow</td>\n",
       "      <td>Jenkin</td>\n",
       "      <td>Mr</td>\n",
       "    </tr>\n",
       "    <tr>\n",
       "      <th>266</th>\n",
       "      <td>Panula, Mr. Ernesti Arvid</td>\n",
       "      <td>Panula</td>\n",
       "      <td>Mr</td>\n",
       "    </tr>\n",
       "    <tr>\n",
       "      <th>620</th>\n",
       "      <td>Yasbeck, Mr. Antoni</td>\n",
       "      <td>Yasbeck</td>\n",
       "      <td>Mr</td>\n",
       "    </tr>\n",
       "    <tr>\n",
       "      <th>745</th>\n",
       "      <td>Crosby, Capt. Edward Gifford</td>\n",
       "      <td>Crosby</td>\n",
       "      <td>Capt</td>\n",
       "    </tr>\n",
       "    <tr>\n",
       "      <th>576</th>\n",
       "      <td>Garside, Miss. Ethel</td>\n",
       "      <td>Garside</td>\n",
       "      <td>Miss</td>\n",
       "    </tr>\n",
       "    <tr>\n",
       "      <th>246</th>\n",
       "      <td>Lindahl, Miss. Agda Thorilda Viktoria</td>\n",
       "      <td>Lindahl</td>\n",
       "      <td>Miss</td>\n",
       "    </tr>\n",
       "  </tbody>\n",
       "</table>\n",
       "</div>"
      ],
      "text/plain": [
       "                                                  Name      Surname Title\n",
       "12                      Saundercock, Mr. William Henry  Saundercock    Mr\n",
       "621                       Kimball, Mr. Edwin Nelson Jr      Kimball    Mr\n",
       "380                              Bidois, Miss. Rosalie       Bidois  Miss\n",
       "323  Caldwell, Mrs. Albert Francis (Sylvia Mae Harb...     Caldwell   Mrs\n",
       "70                          Jenkin, Mr. Stephen Curnow       Jenkin    Mr\n",
       "266                          Panula, Mr. Ernesti Arvid       Panula    Mr\n",
       "620                                Yasbeck, Mr. Antoni      Yasbeck    Mr\n",
       "745                       Crosby, Capt. Edward Gifford       Crosby  Capt\n",
       "576                               Garside, Miss. Ethel      Garside  Miss\n",
       "246              Lindahl, Miss. Agda Thorilda Viktoria      Lindahl  Miss"
      ]
     },
     "metadata": {},
     "output_type": "display_data"
    }
   ],
   "source": [
    "display(train_set[['Name','Surname','Title']].sample(10))"
   ]
  },
  {
   "cell_type": "code",
   "execution_count": 9,
   "metadata": {
    "_uuid": "9c5ff41020b495d54fe2357d350651d1578de7a7"
   },
   "outputs": [],
   "source": [
    "def transform_ticket(x):\n",
    "    ticket_list = list(x)\n",
    "    ticket_list[-1] = 'X'\n",
    "    return ('').join(ticket_list)"
   ]
  },
  {
   "cell_type": "code",
   "execution_count": 10,
   "metadata": {
    "_uuid": "68999e2dbffcb79a7e06929992b610bfe69b1de7"
   },
   "outputs": [],
   "source": [
    "train_set['Ticket'] = train_set['Ticket'].apply(transform_ticket)"
   ]
  },
  {
   "cell_type": "markdown",
   "metadata": {
    "_uuid": "a153a97b1f8bce43fdf4c78f742a3417939f8a97"
   },
   "source": [
    "Tansfrom `Title` to only contain `man`, `woman`, and `boy`"
   ]
  },
  {
   "cell_type": "code",
   "execution_count": 11,
   "metadata": {
    "_uuid": "df1d6605ad6f8ca7ce2ba9d2de8feb5687a1eb70"
   },
   "outputs": [],
   "source": [
    "def transform_title(x):\n",
    "    if x in [\"Capt\",\"Don\",\"Major\",\"Col\",\"Rev\",\"Dr\",\"Sir\",\"Mr\",\"Jonkheer\"]:\n",
    "        return 'man'\n",
    "    elif x in [\"Dona\",\"the Countess\",\"Mme\",\"Mlle\",\"Ms\",\"Miss\",\"Lady\",\"Mrs\"]:\n",
    "        return 'woman'\n",
    "    elif x in [\"Master\"]:\n",
    "        return 'boy'"
   ]
  },
  {
   "cell_type": "code",
   "execution_count": 12,
   "metadata": {
    "_uuid": "0e6970cc6417838459bc9376c6d0ba13b7a972f9"
   },
   "outputs": [
    {
     "data": {
      "text/plain": [
       "man      538\n",
       "woman    313\n",
       "boy       40\n",
       "Name: Title, dtype: int64"
      ]
     },
     "metadata": {},
     "output_type": "display_data"
    }
   ],
   "source": [
    "train_set['Title'] = train_set['Title'].apply(transform_title)\n",
    "display(train_set['Title'].value_counts())"
   ]
  },
  {
   "cell_type": "code",
   "execution_count": 13,
   "metadata": {
    "_uuid": "845c00b3362796a4d6853068116289a7621080cc"
   },
   "outputs": [],
   "source": [
    "train_set.loc[train_set['Title']=='man','Surname'] = 'noGroup'"
   ]
  },
  {
   "cell_type": "code",
   "execution_count": 14,
   "metadata": {
    "_uuid": "fd1c6a4524ba606b4c20a0f58f2aff659c146a65"
   },
   "outputs": [],
   "source": [
    "def checkTicket(all_data, x):\n",
    "    re_set = all_data[all_data['Name']!=x['Name']]\n",
    "    if (x['Title']!='man')&(x['Surname']=='noGroup'):\n",
    "        if len(re_set.loc[re_set['Ticket']==x['Ticket'],'Surname'])>0:\n",
    "            return re_set.loc[re_set['Ticket']==x['Ticket'],'Surname'].mode()[0]\n",
    "        else:\n",
    "            return x['Surname']\n",
    "    else:\n",
    "        return x['Surname']\n",
    "train_set['Surname'] = train_set.apply(lambda x: checkTicket(train_set,x),axis=1)"
   ]
  },
  {
   "cell_type": "markdown",
   "metadata": {
    "_uuid": "a839630e17d8c8b1e12d8deaa39d2e4f91f73ea8",
    "collapsed": true
   },
   "source": [
    "### A1 Create the new feature `GroupType`, it means that whether travel with relatives in the Titanic. The passenger that whose `Title` is `man`, their `GroupType` are `noGroup`."
   ]
  },
  {
   "cell_type": "code",
   "execution_count": 15,
   "metadata": {
    "_uuid": "6077e49bad6ed7e84fdf9c8834ae61e25c958c06"
   },
   "outputs": [],
   "source": [
    "SurnameFreq = train_set['Surname'].value_counts()"
   ]
  },
  {
   "cell_type": "code",
   "execution_count": 16,
   "metadata": {
    "_uuid": "2b100aa2bd259b5c3950c985b6518005d54a0592"
   },
   "outputs": [
    {
     "data": {
      "image/png": "[encoded data removed]",
      "text/plain": [
       "<Figure size 720x504 with 1 Axes>"
      ]
     },
     "metadata": {},
     "output_type": "display_data"
    }
   ],
   "source": [
    "SurnameFreqCounts = SurnameFreq.value_counts()\n",
    "plt.figure(figsize=(10,7))\n",
    "plt.bar(SurnameFreqCounts.index,SurnameFreqCounts.values)\n",
    "plt.xlabel('The Frequency of Surname in Training Set')\n",
    "plt.xlim([0,12])\n",
    "plt.ylabel('The counts of Groups have the same surname in the Titanic')\n",
    "plt.grid(axis=1)\n",
    "plt.show()"
   ]
  },
  {
   "cell_type": "code",
   "execution_count": 17,
   "metadata": {
    "_uuid": "224d98ad9628c0421c9d2bd8081111e931c40352"
   },
   "outputs": [],
   "source": [
    "train_set['SurnameFreq'] = train_set['Surname'].apply(lambda x: SurnameFreq[x])\n",
    "train_set.loc[train_set['SurnameFreq']<=1,'Surname'] = 'noGroup'\n",
    "SurnameFreq = train_set['Surname'].value_counts()\n",
    "train_set['SurnameFreq'] = train_set['Surname'].apply(lambda x: SurnameFreq[x])"
   ]
  },
  {
   "cell_type": "code",
   "execution_count": 18,
   "metadata": {
    "_uuid": "2624ab66aeccef31de73f374faad84c529ed911e"
   },
   "outputs": [],
   "source": [
    "SurnameSurvival = train_set.groupby('Surname')['Survived'].agg('mean')"
   ]
  },
  {
   "cell_type": "code",
   "execution_count": 19,
   "metadata": {
    "_uuid": "d2be8b6296281c5a756f56a3e4632bad9dccdecf"
   },
   "outputs": [
    {
     "data": {
      "text/plain": [
       "1.000000    34\n",
       "0.750000     2\n",
       "0.347130     1\n",
       "0.333333     1\n",
       "0.142857     1\n",
       "0.000000    16\n",
       "Name: Survived, dtype: int64"
      ]
     },
     "metadata": {},
     "output_type": "display_data"
    }
   ],
   "source": [
    "display(SurnameSurvival.value_counts().sort_index(ascending=False))"
   ]
  },
  {
   "cell_type": "code",
   "execution_count": 20,
   "metadata": {
    "_uuid": "dbce9700679a742715da6cae33db6e3a24d02f25"
   },
   "outputs": [],
   "source": [
    "train_set['SurnameSurvival'] = train_set['Surname'].apply(lambda x: SurnameSurvival[x])"
   ]
  },
  {
   "cell_type": "code",
   "execution_count": 21,
   "metadata": {
    "_uuid": "483893334dfdac17878541f2d7cba5264d4a561a"
   },
   "outputs": [
    {
     "data": {
      "text/plain": [
       "['Barbara',\n",
       " 'Boulos',\n",
       " 'Bourke',\n",
       " 'Ford',\n",
       " 'Goodwin',\n",
       " 'Jussila',\n",
       " 'Lefebre',\n",
       " 'Palsson',\n",
       " 'Panula',\n",
       " 'Rice',\n",
       " 'Sage',\n",
       " 'Skoog',\n",
       " 'Strom',\n",
       " 'Van Impe',\n",
       " 'Vander Planke',\n",
       " 'Zabour']"
      ]
     },
     "metadata": {},
     "output_type": "display_data"
    }
   ],
   "source": [
    "display(sorted(train_set.loc[train_set['SurnameSurvival']==0,'Surname'].unique()))"
   ]
  },
  {
   "cell_type": "code",
   "execution_count": 22,
   "metadata": {
    "_uuid": "a933d1e317ba4f8eacb1bbccfcf1d1d7f5b598b5"
   },
   "outputs": [
    {
     "data": {
      "text/plain": [
       "['Baclini',\n",
       " 'Becker',\n",
       " 'Brown',\n",
       " 'Caldwell',\n",
       " 'Collyer',\n",
       " 'Coutts',\n",
       " 'Doling',\n",
       " 'Fortune',\n",
       " 'Goldsmith',\n",
       " 'Graham',\n",
       " 'Hamalainen',\n",
       " 'Harper',\n",
       " 'Hart',\n",
       " 'Hays',\n",
       " 'Herman',\n",
       " 'Hippach',\n",
       " 'Johnson',\n",
       " 'Kelly',\n",
       " 'Laroche',\n",
       " 'Mellinger',\n",
       " 'Moor',\n",
       " 'Moubarek',\n",
       " 'Murphy',\n",
       " 'Navratil',\n",
       " 'Newell',\n",
       " 'Nicola-Yarred',\n",
       " 'Peter',\n",
       " 'Quick',\n",
       " 'Richards',\n",
       " 'Ryerson',\n",
       " 'Sandstrom',\n",
       " 'Taussig',\n",
       " 'West',\n",
       " 'Wick']"
      ]
     },
     "metadata": {},
     "output_type": "display_data"
    }
   ],
   "source": [
    "display(sorted(train_set.loc[train_set['SurnameSurvival']==1,'Surname'].unique()))"
   ]
  },
  {
   "cell_type": "code",
   "execution_count": 23,
   "metadata": {
    "_uuid": "cb9ec74edbde6233d4d838cf5c0f277b666e4bf3"
   },
   "outputs": [
    {
     "data": {
      "text/html": [
       "<div>\n",
       "<style scoped>\n",
       "    .dataframe tbody tr th:only-of-type {\n",
       "        vertical-align: middle;\n",
       "    }\n",
       "\n",
       "    .dataframe tbody tr th {\n",
       "        vertical-align: top;\n",
       "    }\n",
       "\n",
       "    .dataframe thead th {\n",
       "        text-align: right;\n",
       "    }\n",
       "</style>\n",
       "<table border=\"1\" class=\"dataframe\">\n",
       "  <thead>\n",
       "    <tr style=\"text-align: right;\">\n",
       "      <th></th>\n",
       "      <th>Surname</th>\n",
       "      <th>Title</th>\n",
       "      <th>Survived</th>\n",
       "    </tr>\n",
       "  </thead>\n",
       "  <tbody>\n",
       "    <tr>\n",
       "      <th>68</th>\n",
       "      <td>Andersson</td>\n",
       "      <td>woman</td>\n",
       "      <td>1</td>\n",
       "    </tr>\n",
       "    <tr>\n",
       "      <th>119</th>\n",
       "      <td>Andersson</td>\n",
       "      <td>woman</td>\n",
       "      <td>0</td>\n",
       "    </tr>\n",
       "    <tr>\n",
       "      <th>541</th>\n",
       "      <td>Andersson</td>\n",
       "      <td>woman</td>\n",
       "      <td>0</td>\n",
       "    </tr>\n",
       "    <tr>\n",
       "      <th>542</th>\n",
       "      <td>Andersson</td>\n",
       "      <td>woman</td>\n",
       "      <td>0</td>\n",
       "    </tr>\n",
       "    <tr>\n",
       "      <th>610</th>\n",
       "      <td>Andersson</td>\n",
       "      <td>woman</td>\n",
       "      <td>0</td>\n",
       "    </tr>\n",
       "    <tr>\n",
       "      <th>813</th>\n",
       "      <td>Andersson</td>\n",
       "      <td>woman</td>\n",
       "      <td>0</td>\n",
       "    </tr>\n",
       "    <tr>\n",
       "      <th>850</th>\n",
       "      <td>Andersson</td>\n",
       "      <td>boy</td>\n",
       "      <td>0</td>\n",
       "    </tr>\n",
       "  </tbody>\n",
       "</table>\n",
       "</div>"
      ],
      "text/plain": [
       "       Surname  Title  Survived\n",
       "68   Andersson  woman         1\n",
       "119  Andersson  woman         0\n",
       "541  Andersson  woman         0\n",
       "542  Andersson  woman         0\n",
       "610  Andersson  woman         0\n",
       "813  Andersson  woman         0\n",
       "850  Andersson    boy         0"
      ]
     },
     "metadata": {},
     "output_type": "display_data"
    }
   ],
   "source": [
    "display((train_set.loc[train_set['SurnameSurvival']==1/7,['Surname','Title','Survived']]))"
   ]
  },
  {
   "cell_type": "code",
   "execution_count": 24,
   "metadata": {
    "_uuid": "1040abdb53c3ad584683a5fbebed6e08e6540862"
   },
   "outputs": [
    {
     "data": {
      "text/html": [
       "<div>\n",
       "<style scoped>\n",
       "    .dataframe tbody tr th:only-of-type {\n",
       "        vertical-align: middle;\n",
       "    }\n",
       "\n",
       "    .dataframe tbody tr th {\n",
       "        vertical-align: top;\n",
       "    }\n",
       "\n",
       "    .dataframe thead th {\n",
       "        text-align: right;\n",
       "    }\n",
       "</style>\n",
       "<table border=\"1\" class=\"dataframe\">\n",
       "  <thead>\n",
       "    <tr style=\"text-align: right;\">\n",
       "      <th></th>\n",
       "      <th>Surname</th>\n",
       "      <th>Title</th>\n",
       "      <th>Survived</th>\n",
       "    </tr>\n",
       "  </thead>\n",
       "  <tbody>\n",
       "    <tr>\n",
       "      <th>297</th>\n",
       "      <td>Allison</td>\n",
       "      <td>woman</td>\n",
       "      <td>0</td>\n",
       "    </tr>\n",
       "    <tr>\n",
       "      <th>305</th>\n",
       "      <td>Allison</td>\n",
       "      <td>boy</td>\n",
       "      <td>1</td>\n",
       "    </tr>\n",
       "    <tr>\n",
       "      <th>498</th>\n",
       "      <td>Allison</td>\n",
       "      <td>woman</td>\n",
       "      <td>0</td>\n",
       "    </tr>\n",
       "  </tbody>\n",
       "</table>\n",
       "</div>"
      ],
      "text/plain": [
       "     Surname  Title  Survived\n",
       "297  Allison  woman         0\n",
       "305  Allison    boy         1\n",
       "498  Allison  woman         0"
      ]
     },
     "metadata": {},
     "output_type": "display_data"
    }
   ],
   "source": [
    "display((train_set.loc[train_set['SurnameSurvival']==1/3,['Surname','Title','Survived']]))"
   ]
  },
  {
   "cell_type": "code",
   "execution_count": 25,
   "metadata": {
    "_uuid": "9a5a8d953b5772eea28382d8d5145801f1b39b16"
   },
   "outputs": [
    {
     "data": {
      "text/html": [
       "<div>\n",
       "<style scoped>\n",
       "    .dataframe tbody tr th:only-of-type {\n",
       "        vertical-align: middle;\n",
       "    }\n",
       "\n",
       "    .dataframe tbody tr th {\n",
       "        vertical-align: top;\n",
       "    }\n",
       "\n",
       "    .dataframe thead th {\n",
       "        text-align: right;\n",
       "    }\n",
       "</style>\n",
       "<table border=\"1\" class=\"dataframe\">\n",
       "  <thead>\n",
       "    <tr style=\"text-align: right;\">\n",
       "      <th></th>\n",
       "      <th>Surname</th>\n",
       "      <th>Title</th>\n",
       "      <th>Survived</th>\n",
       "    </tr>\n",
       "  </thead>\n",
       "  <tbody>\n",
       "    <tr>\n",
       "      <th>25</th>\n",
       "      <td>Asplund</td>\n",
       "      <td>woman</td>\n",
       "      <td>1</td>\n",
       "    </tr>\n",
       "    <tr>\n",
       "      <th>182</th>\n",
       "      <td>Asplund</td>\n",
       "      <td>boy</td>\n",
       "      <td>0</td>\n",
       "    </tr>\n",
       "    <tr>\n",
       "      <th>233</th>\n",
       "      <td>Asplund</td>\n",
       "      <td>woman</td>\n",
       "      <td>1</td>\n",
       "    </tr>\n",
       "    <tr>\n",
       "      <th>261</th>\n",
       "      <td>Asplund</td>\n",
       "      <td>boy</td>\n",
       "      <td>1</td>\n",
       "    </tr>\n",
       "    <tr>\n",
       "      <th>435</th>\n",
       "      <td>Carter</td>\n",
       "      <td>woman</td>\n",
       "      <td>1</td>\n",
       "    </tr>\n",
       "    <tr>\n",
       "      <th>763</th>\n",
       "      <td>Carter</td>\n",
       "      <td>woman</td>\n",
       "      <td>1</td>\n",
       "    </tr>\n",
       "    <tr>\n",
       "      <th>802</th>\n",
       "      <td>Carter</td>\n",
       "      <td>boy</td>\n",
       "      <td>1</td>\n",
       "    </tr>\n",
       "    <tr>\n",
       "      <th>854</th>\n",
       "      <td>Carter</td>\n",
       "      <td>woman</td>\n",
       "      <td>0</td>\n",
       "    </tr>\n",
       "  </tbody>\n",
       "</table>\n",
       "</div>"
      ],
      "text/plain": [
       "     Surname  Title  Survived\n",
       "25   Asplund  woman         1\n",
       "182  Asplund    boy         0\n",
       "233  Asplund  woman         1\n",
       "261  Asplund    boy         1\n",
       "435   Carter  woman         1\n",
       "763   Carter  woman         1\n",
       "802   Carter    boy         1\n",
       "854   Carter  woman         0"
      ]
     },
     "metadata": {},
     "output_type": "display_data"
    }
   ],
   "source": [
    "display((train_set.loc[train_set['SurnameSurvival']==3/4,['Surname','Title','Survived']]))"
   ]
  },
  {
   "cell_type": "code",
   "execution_count": 26,
   "metadata": {
    "_uuid": "787964b2ec5b39c243cb14dc2b1d6207229e528a"
   },
   "outputs": [],
   "source": [
    "train_set['Predict'] = 0\n",
    "train_set.loc[train_set['Title']=='woman','Predict'] = 1\n",
    "train_set.loc[(train_set['Title']=='boy')&(train_set['SurnameSurvival']==1),'Predict'] = 1\n",
    "train_set.loc[(train_set['Title']=='woman')&(train_set['SurnameSurvival']==0),'Predict'] = 0"
   ]
  },
  {
   "cell_type": "code",
   "execution_count": 27,
   "metadata": {
    "_uuid": "949d6cd907095f2b0d7c1801d3559157ec794221"
   },
   "outputs": [],
   "source": [
    "def Predict_axis(x):\n",
    "    if x == 1:\n",
    "        return 0.55+0.4*np.random.rand()\n",
    "    elif x==0:\n",
    "        return 0.05+0.4*np.random.rand()"
   ]
  },
  {
   "cell_type": "code",
   "execution_count": 28,
   "metadata": {
    "_uuid": "ddf8f8453384a3e72d87f5bc95001a01cb1b9db6"
   },
   "outputs": [],
   "source": [
    "train_set['Predict_axis'] = train_set['Predict'].apply(Predict_axis)"
   ]
  },
  {
   "cell_type": "code",
   "execution_count": 29,
   "metadata": {
    "_uuid": "704e71eebf94a0ed003d42fd34973904fc505cfe"
   },
   "outputs": [
    {
     "data": {
      "image/png": "[encoded data removed]",
      "text/plain": [
       "<Figure size 720x720 with 1 Axes>"
      ]
     },
     "metadata": {},
     "output_type": "display_data"
    }
   ],
   "source": [
    "plt.figure(figsize=(10,10))\n",
    "sns.swarmplot(data=train_set[train_set['Title']=='woman'],x='Pclass',y='Predict_axis',hue='Survived',alpha=0.5,dodge=False,size=10)\n",
    "plt.yticks([0.3,0.8],['Dead','Suvival'])\n",
    "plt.xlabel('Pclass')\n",
    "plt.ylabel('Predict Survived')\n",
    "plt.title('36 female predictions change from gender model on training set')\n",
    "plt.show()"
   ]
  },
  {
   "cell_type": "code",
   "execution_count": 30,
   "metadata": {
    "_uuid": "0a8e8030c12e0cebbb73b41b66a3b49d90fa442e"
   },
   "outputs": [
    {
     "data": {
      "image/png": "[encoded data removed]",
      "text/plain": [
       "<Figure size 720x720 with 1 Axes>"
      ]
     },
     "metadata": {},
     "output_type": "display_data"
    }
   ],
   "source": [
    "plt.figure(figsize=(10,10))\n",
    "sns.swarmplot(data=train_set[train_set['Title']!='woman'],x='Title',y='Predict_axis',hue='Survived',alpha=0.5,dodge=False,size=10)\n",
    "plt.yticks([0.3,0.8],['Dead','Suvival'])\n",
    "plt.xlabel('Title')\n",
    "plt.ylabel('Predict Survived')\n",
    "plt.title('15 male predictions change from gender model on training set')\n",
    "plt.show()"
   ]
  },
  {
   "cell_type": "markdown",
   "metadata": {
    "_uuid": "67481312ff9149262fa0554d9f3678f75b79504d"
   },
   "source": [
    "### Validation operation"
   ]
  },
  {
   "cell_type": "code",
   "execution_count": 31,
   "metadata": {
    "_uuid": "d531be5ccbb2f9bf3bf7c0fa190df4b94f615559"
   },
   "outputs": [],
   "source": [
    "import sklearn\n",
    "from sklearn.model_selection import StratifiedKFold\n",
    "from sklearn.metrics import accuracy_score"
   ]
  },
  {
   "cell_type": "code",
   "execution_count": 33,
   "metadata": {
    "_uuid": "9f9df74eac1923d3b9dcd3a4b0a29bbdb9abd5f8"
   },
   "outputs": [
    {
     "name": "stdout",
     "output_type": "stream",
     "text": [
      "Trial 1 10-fold Cross-Validation:\n",
      "The training accuracy = 84.18%(+-0.33%)\n",
      "The validation accuracy = 84.18%(+-2.94%)\n",
      "********************************************************************************\n",
      "\n",
      "Trial 2 10-fold Cross-Validation:\n",
      "The training accuracy = 84.18%(+-0.32%)\n",
      "The validation accuracy = 84.18%(+-2.84%)\n",
      "********************************************************************************\n",
      "\n",
      "Trial 3 10-fold Cross-Validation:\n",
      "The training accuracy = 84.17%(+-0.48%)\n",
      "The validation accuracy = 84.16%(+-4.40%)\n",
      "********************************************************************************\n",
      "\n",
      "Trial 4 10-fold Cross-Validation:\n",
      "The training accuracy = 84.18%(+-0.61%)\n",
      "The validation accuracy = 84.17%(+-5.49%)\n",
      "********************************************************************************\n",
      "\n",
      "Trial 5 10-fold Cross-Validation:\n",
      "The training accuracy = 84.18%(+-0.41%)\n",
      "The validation accuracy = 84.18%(+-3.70%)\n",
      "********************************************************************************\n",
      "\n",
      "Trial 6 10-fold Cross-Validation:\n",
      "The training accuracy = 84.18%(+-0.46%)\n",
      "The validation accuracy = 84.17%(+-4.15%)\n",
      "********************************************************************************\n",
      "\n",
      "Trial 7 10-fold Cross-Validation:\n",
      "The training accuracy = 84.18%(+-0.41%)\n",
      "The validation accuracy = 84.18%(+-3.67%)\n",
      "********************************************************************************\n",
      "\n",
      "Trial 8 10-fold Cross-Validation:\n",
      "The training accuracy = 84.18%(+-0.48%)\n",
      "The validation accuracy = 84.18%(+-4.30%)\n",
      "********************************************************************************\n",
      "\n",
      "Trial 9 10-fold Cross-Validation:\n",
      "The training accuracy = 84.18%(+-0.36%)\n",
      "The validation accuracy = 84.18%(+-3.21%)\n",
      "********************************************************************************\n",
      "\n",
      "Trial 10 10-fold Cross-Validation:\n",
      "The training accuracy = 84.18%(+-0.32%)\n",
      "The validation accuracy = 84.17%(+-2.88%)\n",
      "********************************************************************************\n",
      "\n"
     ]
    }
   ],
   "source": [
    "all_data = pd.read_csv('data/train.csv')\n",
    "CV = 10\n",
    "epochs = 10\n",
    "for epoch in range(epochs):\n",
    "    TrainAccuracy = []\n",
    "    ValidAccuracy = []\n",
    "    kfold = StratifiedKFold(n_splits=CV,shuffle=True)\n",
    "    for train_idx,valid_idx in kfold.split(all_data,all_data['Survived']):\n",
    "        all_data['Title'] = all_data['Name'].apply(lambda x: str(x).split(', ')[1].split('.')[0])\n",
    "        all_data['Title'] = all_data['Title'].apply(transform_title)\n",
    "\n",
    "        all_data['Ticket'] = all_data['Ticket'].apply(transform_ticket)\n",
    "\n",
    "        all_data['Surname'] = all_data['Name'].apply(lambda x: str(x).split(',')[0])\n",
    "        all_data['Surname'] = all_data.apply(lambda x: checkTicket(train_set,x),axis=1)  \n",
    "        all_data.loc[all_data['Title']=='man','Surname']= 'noGroup'\n",
    "        SurnameFreq = all_data['Surname'].value_counts()\n",
    "        all_data['SurnameFreq'] = all_data['Surname'].apply(lambda x: SurnameFreq[x])\n",
    "        all_data.loc[all_data['SurnameFreq']<=1,'Surname' ]= 'noGroup'\n",
    "\n",
    "        SurnameFreq = all_data['Surname'].value_counts()\n",
    "        all_data['SurnameFreq'] = all_data['Surname'].apply(lambda x: SurnameFreq[x])\n",
    "\n",
    "        validation = all_data.iloc[valid_idx]['Survived']\n",
    "        SurnameSurvival = all_data.groupby('Surname')['Survived'].agg('mean')\n",
    "\n",
    "        all_data['SurnameSurvival'] = all_data['Surname'].apply(lambda x: SurnameSurvival[x])\n",
    "\n",
    "        all_data['Predict'] = 0\n",
    "        all_data.loc[all_data['Title']=='woman','Predict'] = 1\n",
    "        all_data.loc[(all_data['Title']=='boy')&(all_data['SurnameSurvival']==1),'Predict'] = 1\n",
    "        all_data.loc[(all_data['Title']=='woman')&(all_data['SurnameSurvival']==0),'Predict'] = 0\n",
    "\n",
    "        train = all_data.iloc[train_idx][['Predict','Survived']]\n",
    "        valid = all_data.iloc[valid_idx][['Predict','Survived']]\n",
    "\n",
    "        TrainAccuracy.append(accuracy_score(y_true=train['Survived'],y_pred=train['Predict']))\n",
    "        ValidAccuracy.append(accuracy_score(y_true=valid['Survived'],y_pred=valid['Predict']))\n",
    "    print('Trial {} {}-fold Cross-Validation:'.format(epoch+1,CV))\n",
    "    print('The training accuracy = {:.2f}%(+-{:.2f}%)'.format(np.mean(TrainAccuracy)*100,np.std(TrainAccuracy)*100))\n",
    "    print('The validation accuracy = {:.2f}%(+-{:.2f}%)'.format(np.mean(ValidAccuracy)*100,np.std(ValidAccuracy)*100))\n",
    "    print('*'*80)\n",
    "    print()"
   ]
  },
  {
   "cell_type": "code",
   "execution_count": null,
   "metadata": {
    "_uuid": "742b4c7cd2f7569b3ed71b386d05cf9e1d8673e2"
   },
   "outputs": [],
   "source": [
    "print('The training accuracy = {:.2f}%(+-{:.2f}%)'.format(np.mean(TrainAccuracy)*100,np.std(TrainAccuracy)*100))\n",
    "print('The validation accuracy = {:.2f}%(+-{:.2f}%)'.format(np.mean(ValidAccuracy)*100,np.std(ValidAccuracy)*100))"
   ]
  },
  {
   "cell_type": "markdown",
   "metadata": {
    "_uuid": "e7b029c5f10b8d1340ae94768ea2df1f46154dc4"
   },
   "source": [
    "### predict testSet"
   ]
  },
  {
   "cell_type": "code",
   "execution_count": null,
   "metadata": {
    "_uuid": "66561451db04603b75f2df02d00dec3f79e18268"
   },
   "outputs": [],
   "source": [
    "trainSet = pd.read_csv('../input/train.csv')\n",
    "testSet = pd.read_csv('../input/test.csv')\n",
    "testSet['Survived'] = np.nan\n",
    "all_data = pd.concat([trainSet,testSet],axis=0,ignore_index=True)\n",
    "\n",
    "\n",
    "all_data['Title'] = all_data['Name'].apply(lambda x: str(x).split(', ')[1].split('.')[0])\n",
    "all_data['Title'] = all_data['Title'].apply(transform_title)\n",
    "\n",
    "all_data['Ticket'] = all_data['Ticket'].apply(transform_ticket)\n",
    "\n",
    "all_data['Surname'] = all_data['Name'].apply(lambda x: str(x).split(',')[0])\n",
    "all_data['Surname'] = all_data.apply(lambda x: checkTicket(all_data,x),axis=1)  \n",
    "all_data.loc[all_data['Title']=='man','Surname']= 'noGroup'\n",
    "SurnameFreq = all_data['Surname'].value_counts()\n",
    "all_data['SurnameFreq'] = all_data['Surname'].apply(lambda x: SurnameFreq[x])\n",
    "all_data.loc[all_data['SurnameFreq']<=1,'Surname' ]= 'noGroup'\n",
    "\n",
    "SurnameFreq = all_data['Surname'].value_counts()\n",
    "all_data['SurnameFreq'] = all_data['Surname'].apply(lambda x: SurnameFreq[x])\n",
    "\n",
    "validation = all_data.iloc[valid_idx]['Survived']\n",
    "SurnameSurvival = all_data.groupby('Surname')['Survived'].agg('mean')\n",
    "\n",
    "all_data['SurnameSurvival'] = all_data['Surname'].apply(lambda x: SurnameSurvival[x])\n",
    "\n",
    "all_data['Predict'] = 0\n",
    "all_data.loc[all_data['Title']=='woman','Predict'] = 1\n",
    "all_data.loc[(all_data['Title']=='boy')&(all_data['SurnameSurvival']==1),'Predict'] = 1\n",
    "all_data.loc[(all_data['Title']=='woman')&(all_data['SurnameSurvival']==0),'Predict'] = 0"
   ]
  },
  {
   "cell_type": "markdown",
   "metadata": {
    "_uuid": "3e41fd968c5a9594c9e51aab71c47a20c2f8ce14"
   },
   "source": [
    "### make submission"
   ]
  },
  {
   "cell_type": "code",
   "execution_count": null,
   "metadata": {
    "_uuid": "639f89a243e715b6eb7f3e021f0ad93f17008bad"
   },
   "outputs": [],
   "source": [
    "testSet = all_data[all_data['Survived'].isna()]\n",
    "submit = pd.DataFrame({'PassengerId': testSet['PassengerId'],'Survived':testSet['Predict']})\n",
    "submit.to_csv('genderSurnameModel.csv',index=False)"
   ]
  }
 ],
 "metadata": {
  "kernelspec": {
   "display_name": "Python 3",
   "language": "python",
   "name": "python3"
  },
  "language_info": {
   "codemirror_mode": {
    "name": "ipython",
    "version": 3
   },
   "file_extension": ".py",
   "mimetype": "text/x-python",
   "name": "python",
   "nbconvert_exporter": "python",
   "pygments_lexer": "ipython3",
   "version": "3.6.5"
  }
 },
 "nbformat": 4,
 "nbformat_minor": 1
}
