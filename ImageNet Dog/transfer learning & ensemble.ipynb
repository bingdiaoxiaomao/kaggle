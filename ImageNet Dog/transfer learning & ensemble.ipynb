{
  "cells": [
    {
      "metadata": {
        "_cell_guid": "79c7e3d0-c299-4dcb-8224-4455121ee9b0",
        "_uuid": "d629ff2d2480ee46fbb7e2d37f6b5fab8052498a",
        "trusted": true
      },
      "cell_type": "code",
      "source": "import warnings\nwarnings.filterwarnings('ignore')\n\nimport numpy as np\nnp.random.seed(2018)\nimport pandas as pd\nimport matplotlib.pyplot as plt\nplt.style.use('seaborn-colorblind')\nimport seaborn as sns\nimport gc\nimport os\nimport time\nfrom tqdm import tqdm_notebook as tqdm\n\nimport keras\nfrom keras.preprocessing.image import load_img,img_to_array\nfrom keras.applications import inception_resnet_v2,resnet50,xception\nfrom keras.applications.inception_resnet_v2 import InceptionResNetV2\nfrom keras.applications.inception_resnet_v2 import preprocess_input as incep_v2_pre\nfrom keras.applications.resnet50 import ResNet50\nfrom keras.applications.resnet50 import preprocess_input as res_50_pre\nfrom keras.applications.xception import Xception\nfrom keras.applications.xception import preprocess_input as xcep_pre\n\nfrom keras.models import Model\nfrom keras.layers import Dense,Dropout\nfrom keras import losses,optimizers,metrics\nfrom sklearn.model_selection import train_test_split\n\nfrom os import makedirs\nfrom os.path import expanduser,exists,join",
      "execution_count": 1,
      "outputs": [
        {
          "output_type": "stream",
          "text": "Using TensorFlow backend.\n",
          "name": "stderr"
        }
      ]
    },
    {
      "metadata": {
        "_uuid": "9bba6cbee7431a6f079ec8f8e5850b26f703f18c"
      },
      "cell_type": "markdown",
      "source": "### 创建keras根目录"
    },
    {
      "metadata": {
        "trusted": true,
        "_uuid": "c5fe4f56b432a32f42a1a3db9e5c776bbd8c4d9d",
        "collapsed": true
      },
      "cell_type": "code",
      "source": "cache_dir = expanduser(join('~','.keras'))\nif not exists(cache_dir):\n    makedirs(cache_dir)\nmodels_dir = join(cache_dir,'models')\nif not exists(models_dir):\n    makedirs(models_dir)",
      "execution_count": 2,
      "outputs": []
    },
    {
      "metadata": {
        "_uuid": "2f613f322725090b65927b3618c6f49e63af4a00"
      },
      "cell_type": "markdown",
      "source": "将keras的预训练模型copy到keras/models目录中"
    },
    {
      "metadata": {
        "trusted": true,
        "_uuid": "990734103e8554cfa694f710ac7bb8bee733989b",
        "collapsed": true
      },
      "cell_type": "code",
      "source": "!cp ../input/keras-pretrained-models/inception_resnet_v2_weights_tf_dim_ordering_tf_kernels_notop.h5 ~/.keras/models\n!cp ../input/keras-pretrained-models/resnet50_weights_tf_dim_ordering_tf_kernels_notop.h5 ~/.keras/models\n!cp ../input/keras-pretrained-models/xception_weights_tf_dim_ordering_tf_kernels_notop.h5 ~/.keras/models",
      "execution_count": 3,
      "outputs": []
    },
    {
      "metadata": {
        "trusted": true,
        "_uuid": "2fa36834b3689c9f21357d9dd95e0f81f1229a40"
      },
      "cell_type": "code",
      "source": "!ls ~/.keras/models",
      "execution_count": 4,
      "outputs": [
        {
          "output_type": "stream",
          "text": "inception_resnet_v2_weights_tf_dim_ordering_tf_kernels_notop.h5\r\nresnet50_weights_tf_dim_ordering_tf_kernels_notop.h5\r\nxception_weights_tf_dim_ordering_tf_kernels_notop.h5\r\n",
          "name": "stdout"
        }
      ]
    },
    {
      "metadata": {
        "trusted": true,
        "_uuid": "1c2ec22f37c96a5f018250dc4bfc23847ffa06a7",
        "collapsed": true
      },
      "cell_type": "code",
      "source": "train_folder = \"../input/dog-breed-identification/train/\"\ntest_folder = \"../input/dog-breed-identification/test/\"",
      "execution_count": 5,
      "outputs": []
    },
    {
      "metadata": {
        "trusted": true,
        "_uuid": "9093b90374b03582f125fe22ecbfaaf7b3f3221b"
      },
      "cell_type": "code",
      "source": "train_dogs = pd.read_csv(\"../input/dog-breed-identification/labels.csv\")\ntest_dogs = pd.read_csv(\"../input/dog-breed-identification/sample_submission.csv\")\n#train_dogs = train_dogs.iloc[:100,]\n#test_dogs = test_dogs.iloc[:100,]\ndisplay(train_dogs.head())\ndisplay(test_dogs.head())",
      "execution_count": 6,
      "outputs": [
        {
          "output_type": "display_data",
          "data": {
            "text/plain": "                                 id             breed\n0  000bec180eb18c7604dcecc8fe0dba07       boston_bull\n1  001513dfcb2ffafc82cccf4d8bbaba97             dingo\n2  001cdf01b096e06d78e9e5112d419397          pekinese\n3  00214f311d5d2247d5dfe4fe24b2303d          bluetick\n4  0021f9ceb3235effd7fcde7f7538ed62  golden_retriever",
            "text/html": "<div>\n<style scoped>\n    .dataframe tbody tr th:only-of-type {\n        vertical-align: middle;\n    }\n\n    .dataframe tbody tr th {\n        vertical-align: top;\n    }\n\n    .dataframe thead th {\n        text-align: right;\n    }\n</style>\n<table border=\"1\" class=\"dataframe\">\n  <thead>\n    <tr style=\"text-align: right;\">\n      <th></th>\n      <th>id</th>\n      <th>breed</th>\n    </tr>\n  </thead>\n  <tbody>\n    <tr>\n      <th>0</th>\n      <td>000bec180eb18c7604dcecc8fe0dba07</td>\n      <td>boston_bull</td>\n    </tr>\n    <tr>\n      <th>1</th>\n      <td>001513dfcb2ffafc82cccf4d8bbaba97</td>\n      <td>dingo</td>\n    </tr>\n    <tr>\n      <th>2</th>\n      <td>001cdf01b096e06d78e9e5112d419397</td>\n      <td>pekinese</td>\n    </tr>\n    <tr>\n      <th>3</th>\n      <td>00214f311d5d2247d5dfe4fe24b2303d</td>\n      <td>bluetick</td>\n    </tr>\n    <tr>\n      <th>4</th>\n      <td>0021f9ceb3235effd7fcde7f7538ed62</td>\n      <td>golden_retriever</td>\n    </tr>\n  </tbody>\n</table>\n</div>"
          },
          "metadata": {}
        },
        {
          "output_type": "display_data",
          "data": {
            "text/plain": "                                 id  affenpinscher  afghan_hound  \\\n0  000621fb3cbb32d8935728e48679680e       0.008333      0.008333   \n1  00102ee9d8eb90812350685311fe5890       0.008333      0.008333   \n2  0012a730dfa437f5f3613fb75efcd4ce       0.008333      0.008333   \n3  001510bc8570bbeee98c8d80c8a95ec1       0.008333      0.008333   \n4  001a5f3114548acdefa3d4da05474c2e       0.008333      0.008333   \n\n   african_hunting_dog  airedale  american_staffordshire_terrier  appenzeller  \\\n0             0.008333  0.008333                        0.008333     0.008333   \n1             0.008333  0.008333                        0.008333     0.008333   \n2             0.008333  0.008333                        0.008333     0.008333   \n3             0.008333  0.008333                        0.008333     0.008333   \n4             0.008333  0.008333                        0.008333     0.008333   \n\n   australian_terrier   basenji    basset        ...          toy_poodle  \\\n0            0.008333  0.008333  0.008333        ...            0.008333   \n1            0.008333  0.008333  0.008333        ...            0.008333   \n2            0.008333  0.008333  0.008333        ...            0.008333   \n3            0.008333  0.008333  0.008333        ...            0.008333   \n4            0.008333  0.008333  0.008333        ...            0.008333   \n\n   toy_terrier    vizsla  walker_hound  weimaraner  welsh_springer_spaniel  \\\n0     0.008333  0.008333      0.008333    0.008333                0.008333   \n1     0.008333  0.008333      0.008333    0.008333                0.008333   \n2     0.008333  0.008333      0.008333    0.008333                0.008333   \n3     0.008333  0.008333      0.008333    0.008333                0.008333   \n4     0.008333  0.008333      0.008333    0.008333                0.008333   \n\n   west_highland_white_terrier   whippet  wire-haired_fox_terrier  \\\n0                     0.008333  0.008333                 0.008333   \n1                     0.008333  0.008333                 0.008333   \n2                     0.008333  0.008333                 0.008333   \n3                     0.008333  0.008333                 0.008333   \n4                     0.008333  0.008333                 0.008333   \n\n   yorkshire_terrier  \n0           0.008333  \n1           0.008333  \n2           0.008333  \n3           0.008333  \n4           0.008333  \n\n[5 rows x 121 columns]",
            "text/html": "<div>\n<style scoped>\n    .dataframe tbody tr th:only-of-type {\n        vertical-align: middle;\n    }\n\n    .dataframe tbody tr th {\n        vertical-align: top;\n    }\n\n    .dataframe thead th {\n        text-align: right;\n    }\n</style>\n<table border=\"1\" class=\"dataframe\">\n  <thead>\n    <tr style=\"text-align: right;\">\n      <th></th>\n      <th>id</th>\n      <th>affenpinscher</th>\n      <th>afghan_hound</th>\n      <th>african_hunting_dog</th>\n      <th>airedale</th>\n      <th>american_staffordshire_terrier</th>\n      <th>appenzeller</th>\n      <th>australian_terrier</th>\n      <th>basenji</th>\n      <th>basset</th>\n      <th>...</th>\n      <th>toy_poodle</th>\n      <th>toy_terrier</th>\n      <th>vizsla</th>\n      <th>walker_hound</th>\n      <th>weimaraner</th>\n      <th>welsh_springer_spaniel</th>\n      <th>west_highland_white_terrier</th>\n      <th>whippet</th>\n      <th>wire-haired_fox_terrier</th>\n      <th>yorkshire_terrier</th>\n    </tr>\n  </thead>\n  <tbody>\n    <tr>\n      <th>0</th>\n      <td>000621fb3cbb32d8935728e48679680e</td>\n      <td>0.008333</td>\n      <td>0.008333</td>\n      <td>0.008333</td>\n      <td>0.008333</td>\n      <td>0.008333</td>\n      <td>0.008333</td>\n      <td>0.008333</td>\n      <td>0.008333</td>\n      <td>0.008333</td>\n      <td>...</td>\n      <td>0.008333</td>\n      <td>0.008333</td>\n      <td>0.008333</td>\n      <td>0.008333</td>\n      <td>0.008333</td>\n      <td>0.008333</td>\n      <td>0.008333</td>\n      <td>0.008333</td>\n      <td>0.008333</td>\n      <td>0.008333</td>\n    </tr>\n    <tr>\n      <th>1</th>\n      <td>00102ee9d8eb90812350685311fe5890</td>\n      <td>0.008333</td>\n      <td>0.008333</td>\n      <td>0.008333</td>\n      <td>0.008333</td>\n      <td>0.008333</td>\n      <td>0.008333</td>\n      <td>0.008333</td>\n      <td>0.008333</td>\n      <td>0.008333</td>\n      <td>...</td>\n      <td>0.008333</td>\n      <td>0.008333</td>\n      <td>0.008333</td>\n      <td>0.008333</td>\n      <td>0.008333</td>\n      <td>0.008333</td>\n      <td>0.008333</td>\n      <td>0.008333</td>\n      <td>0.008333</td>\n      <td>0.008333</td>\n    </tr>\n    <tr>\n      <th>2</th>\n      <td>0012a730dfa437f5f3613fb75efcd4ce</td>\n      <td>0.008333</td>\n      <td>0.008333</td>\n      <td>0.008333</td>\n      <td>0.008333</td>\n      <td>0.008333</td>\n      <td>0.008333</td>\n      <td>0.008333</td>\n      <td>0.008333</td>\n      <td>0.008333</td>\n      <td>...</td>\n      <td>0.008333</td>\n      <td>0.008333</td>\n      <td>0.008333</td>\n      <td>0.008333</td>\n      <td>0.008333</td>\n      <td>0.008333</td>\n      <td>0.008333</td>\n      <td>0.008333</td>\n      <td>0.008333</td>\n      <td>0.008333</td>\n    </tr>\n    <tr>\n      <th>3</th>\n      <td>001510bc8570bbeee98c8d80c8a95ec1</td>\n      <td>0.008333</td>\n      <td>0.008333</td>\n      <td>0.008333</td>\n      <td>0.008333</td>\n      <td>0.008333</td>\n      <td>0.008333</td>\n      <td>0.008333</td>\n      <td>0.008333</td>\n      <td>0.008333</td>\n      <td>...</td>\n      <td>0.008333</td>\n      <td>0.008333</td>\n      <td>0.008333</td>\n      <td>0.008333</td>\n      <td>0.008333</td>\n      <td>0.008333</td>\n      <td>0.008333</td>\n      <td>0.008333</td>\n      <td>0.008333</td>\n      <td>0.008333</td>\n    </tr>\n    <tr>\n      <th>4</th>\n      <td>001a5f3114548acdefa3d4da05474c2e</td>\n      <td>0.008333</td>\n      <td>0.008333</td>\n      <td>0.008333</td>\n      <td>0.008333</td>\n      <td>0.008333</td>\n      <td>0.008333</td>\n      <td>0.008333</td>\n      <td>0.008333</td>\n      <td>0.008333</td>\n      <td>...</td>\n      <td>0.008333</td>\n      <td>0.008333</td>\n      <td>0.008333</td>\n      <td>0.008333</td>\n      <td>0.008333</td>\n      <td>0.008333</td>\n      <td>0.008333</td>\n      <td>0.008333</td>\n      <td>0.008333</td>\n      <td>0.008333</td>\n    </tr>\n  </tbody>\n</table>\n<p>5 rows × 121 columns</p>\n</div>"
          },
          "metadata": {}
        }
      ]
    },
    {
      "metadata": {
        "trusted": true,
        "_uuid": "567a8a81c37bed8e6121e99bc0c3e82c42fde697"
      },
      "cell_type": "code",
      "source": "train_dogs['image_path'] = train_dogs['id'].apply(lambda x: train_folder+str(x)+'.jpg')\ntest_dogs['image_path'] = test_dogs['id'].apply(lambda x: test_folder+str(x)+'.jpg')\ndisplay(train_dogs['image_path'].head())\ndisplay(test_dogs['image_path'].head())",
      "execution_count": 7,
      "outputs": [
        {
          "output_type": "display_data",
          "data": {
            "text/plain": "0    ../input/dog-breed-identification/train/000bec...\n1    ../input/dog-breed-identification/train/001513...\n2    ../input/dog-breed-identification/train/001cdf...\n3    ../input/dog-breed-identification/train/00214f...\n4    ../input/dog-breed-identification/train/0021f9...\nName: image_path, dtype: object"
          },
          "metadata": {}
        },
        {
          "output_type": "display_data",
          "data": {
            "text/plain": "0    ../input/dog-breed-identification/test/000621f...\n1    ../input/dog-breed-identification/test/00102ee...\n2    ../input/dog-breed-identification/test/0012a73...\n3    ../input/dog-breed-identification/test/001510b...\n4    ../input/dog-breed-identification/test/001a5f3...\nName: image_path, dtype: object"
          },
          "metadata": {}
        }
      ]
    },
    {
      "metadata": {
        "_uuid": "d2395492a794495966c437d806d3284511595429"
      },
      "cell_type": "markdown",
      "source": "### 定义迁移学习特征提取函数"
    },
    {
      "metadata": {
        "trusted": true,
        "_uuid": "f57ea5a610f834ea499fb7fd446699fecced40f6",
        "collapsed": true
      },
      "cell_type": "code",
      "source": "def feat_transfer(image_path_list,image_size,pre_trained_model,preprocessor,batch_size=50):\n    for i in tqdm(range(0,len(image_path_list),batch_size)):\n        if (i + batch_size) <= len(image_path_list)-1:\n            image_paths = image_path_list[i:i+batch_size]\n        else:\n            image_paths = image_path_list[i:]\n        \n        images = np.array([img_to_array(load_img(path=image_path,target_size=(image_size,image_size),interpolation='box')) for image_path in image_paths],dtype='float32')\n        image_preprocessed = preprocessor(images)\n        features_array = pre_trained_model.predict(image_preprocessed,batch_size=batch_size)\n        if i == 0:\n            features_arrays = features_array\n        else:\n            features_arrays = np.concatenate([features_arrays,features_array],axis=0)\n    return features_arrays",
      "execution_count": 8,
      "outputs": []
    },
    {
      "metadata": {
        "_uuid": "dd0b6c34663d30105fd09d3401c5f6c0b711bdae"
      },
      "cell_type": "markdown",
      "source": "### InceptionResNetV2做特征转换"
    },
    {
      "metadata": {
        "trusted": true,
        "_uuid": "95c743f68168b35d69aa92272b29beddc964205c",
        "collapsed": true
      },
      "cell_type": "code",
      "source": "image_size = 299\nIncep_res_v2 = InceptionResNetV2(include_top=False,weights='imagenet',input_shape=(image_size,image_size,3),pooling='avg')\nprecessor = incep_v2_pre",
      "execution_count": 9,
      "outputs": []
    },
    {
      "metadata": {
        "trusted": true,
        "_uuid": "1968d5608ec14c588cb28f2ca3a7d17c35ce6a30"
      },
      "cell_type": "code",
      "source": "train_incep_feats = feat_transfer(train_dogs['image_path'].tolist(),image_size,Incep_res_v2,precessor)\ntest_incep_feats = feat_transfer(test_dogs['image_path'].tolist(),image_size,Incep_res_v2,precessor)",
      "execution_count": 10,
      "outputs": [
        {
          "output_type": "display_data",
          "data": {
            "text/plain": "A Jupyter Widget",
            "application/vnd.jupyter.widget-view+json": {
              "version_major": 2,
              "version_minor": 0,
              "model_id": "abbcc4452cd04753aafa89d04de40aa9"
            }
          },
          "metadata": {}
        },
        {
          "output_type": "stream",
          "text": "\n",
          "name": "stdout"
        },
        {
          "output_type": "display_data",
          "data": {
            "text/plain": "A Jupyter Widget",
            "application/vnd.jupyter.widget-view+json": {
              "version_major": 2,
              "version_minor": 0,
              "model_id": "e000474e33764923be4453178500505f"
            }
          },
          "metadata": {}
        },
        {
          "output_type": "stream",
          "text": "\n",
          "name": "stdout"
        }
      ]
    },
    {
      "metadata": {
        "trusted": true,
        "collapsed": true,
        "_uuid": "b8f16a46fc8bb1179f03023d2af65e599af270d5"
      },
      "cell_type": "code",
      "source": "del Incep_res_v2",
      "execution_count": 11,
      "outputs": []
    },
    {
      "metadata": {
        "trusted": true,
        "_uuid": "f4f1408542642b94f49ff19eda849e4fd8952fe3"
      },
      "cell_type": "code",
      "source": "gc.enable()\ngc.collect()",
      "execution_count": 12,
      "outputs": [
        {
          "output_type": "execute_result",
          "execution_count": 12,
          "data": {
            "text/plain": "359859"
          },
          "metadata": {}
        }
      ]
    },
    {
      "metadata": {
        "trusted": true,
        "collapsed": true,
        "_uuid": "bda53d7b82569a53c9e56bcebd3a3d2a1590eed6"
      },
      "cell_type": "markdown",
      "source": "### resnet50做特征转换"
    },
    {
      "metadata": {
        "trusted": true,
        "_uuid": "8be3d30747376ef719c72eee17fcb312a5c4d6e0",
        "collapsed": true
      },
      "cell_type": "code",
      "source": "image_size = 224\nRes_50 = ResNet50(include_top=False,weights='imagenet',input_shape=(image_size,image_size,3),pooling='avg')\nprecessor = res_50_pre",
      "execution_count": 13,
      "outputs": []
    },
    {
      "metadata": {
        "trusted": true,
        "_uuid": "f112ea4a634fce5cb61c53073f71744f50921976"
      },
      "cell_type": "code",
      "source": "train_res50_feats = feat_transfer(train_dogs['image_path'].tolist(),image_size,Res_50,precessor)\ntest_res50_feats = feat_transfer(test_dogs['image_path'].tolist(),image_size,Res_50,precessor)",
      "execution_count": 14,
      "outputs": [
        {
          "output_type": "display_data",
          "data": {
            "text/plain": "A Jupyter Widget",
            "application/vnd.jupyter.widget-view+json": {
              "version_major": 2,
              "version_minor": 0,
              "model_id": "f5e60d124e3b4af58d7aa8f76d0a09ea"
            }
          },
          "metadata": {}
        },
        {
          "output_type": "stream",
          "text": "\n",
          "name": "stdout"
        },
        {
          "output_type": "display_data",
          "data": {
            "text/plain": "A Jupyter Widget",
            "application/vnd.jupyter.widget-view+json": {
              "version_major": 2,
              "version_minor": 0,
              "model_id": "91fe6d5506d7489bb3e264c50517e8ca"
            }
          },
          "metadata": {}
        },
        {
          "output_type": "stream",
          "text": "\n",
          "name": "stdout"
        }
      ]
    },
    {
      "metadata": {
        "trusted": true,
        "_uuid": "203adcd13a9cf28376c879455a052695599220cf"
      },
      "cell_type": "code",
      "source": "del Res_50\ngc.enable()\ngc.collect()",
      "execution_count": 15,
      "outputs": [
        {
          "output_type": "execute_result",
          "execution_count": 15,
          "data": {
            "text/plain": "107893"
          },
          "metadata": {}
        }
      ]
    },
    {
      "metadata": {
        "_uuid": "1103221df77136ffc69d330035c1b482091fb15b"
      },
      "cell_type": "markdown",
      "source": "### Xception做特征转换"
    },
    {
      "metadata": {
        "trusted": true,
        "collapsed": true,
        "_uuid": "770513dd8f1b0104278309680de3ad70f1cf7cef"
      },
      "cell_type": "code",
      "source": "image_size = 299\nXcep = Xception(include_top=False,weights='imagenet',input_shape=(image_size,image_size,3),pooling='avg')\nprecessor = xcep_pre",
      "execution_count": 16,
      "outputs": []
    },
    {
      "metadata": {
        "trusted": true,
        "_uuid": "f8106007fae434c69c1c18b75e82e32417e25f44"
      },
      "cell_type": "code",
      "source": "train_xcep_feats = feat_transfer(train_dogs['image_path'].tolist(),image_size,Xcep,precessor)\ntest_xcep_feats = feat_transfer(test_dogs['image_path'].tolist(),image_size,Xcep,precessor)",
      "execution_count": 17,
      "outputs": [
        {
          "output_type": "display_data",
          "data": {
            "text/plain": "A Jupyter Widget",
            "application/vnd.jupyter.widget-view+json": {
              "version_major": 2,
              "version_minor": 0,
              "model_id": "8788c0d5d111462bb5e4dc31bf8adae2"
            }
          },
          "metadata": {}
        },
        {
          "output_type": "stream",
          "text": "\n",
          "name": "stdout"
        },
        {
          "output_type": "display_data",
          "data": {
            "text/plain": "A Jupyter Widget",
            "application/vnd.jupyter.widget-view+json": {
              "version_major": 2,
              "version_minor": 0,
              "model_id": "62f94f972ccb4e27b25374f7784c35a4"
            }
          },
          "metadata": {}
        },
        {
          "output_type": "stream",
          "text": "\n",
          "name": "stdout"
        }
      ]
    },
    {
      "metadata": {
        "trusted": true,
        "_uuid": "e08564bdef2fc2c8f45efa1809f2d03f55e77e55"
      },
      "cell_type": "code",
      "source": "del Xcep\ngc.enable()\ngc.collect()",
      "execution_count": 18,
      "outputs": [
        {
          "output_type": "execute_result",
          "execution_count": 18,
          "data": {
            "text/plain": "83027"
          },
          "metadata": {}
        }
      ]
    },
    {
      "metadata": {
        "trusted": true,
        "_uuid": "2fb8003dbb8f1ceab467d5d7903918429b7dbb0e"
      },
      "cell_type": "code",
      "source": "train_feats = np.concatenate([train_incep_feats,train_res50_feats,train_xcep_feats],axis=1)\ntest_feats = np.concatenate([test_incep_feats,test_res50_feats,test_xcep_feats],axis=1)\nprint(train_feats.shape)\nprint(test_feats.shape)",
      "execution_count": 19,
      "outputs": [
        {
          "output_type": "stream",
          "text": "(10222, 5632)\n(10357, 5632)\n",
          "name": "stdout"
        }
      ]
    },
    {
      "metadata": {
        "trusted": true,
        "_uuid": "9c04958353f8426a9b31102ea2e35c90711d2ab7"
      },
      "cell_type": "code",
      "source": "labels = pd.get_dummies(train_dogs['breed'])\nlabel_names = labels.columns\nlabel_values = labels.values\nprint(label_values.shape)\ndisplay(labels.head())",
      "execution_count": 20,
      "outputs": [
        {
          "output_type": "stream",
          "text": "(10222, 120)\n",
          "name": "stdout"
        },
        {
          "output_type": "display_data",
          "data": {
            "text/plain": "   affenpinscher  afghan_hound  african_hunting_dog  airedale  \\\n0              0             0                    0         0   \n1              0             0                    0         0   \n2              0             0                    0         0   \n3              0             0                    0         0   \n4              0             0                    0         0   \n\n   american_staffordshire_terrier  appenzeller  australian_terrier  basenji  \\\n0                               0            0                   0        0   \n1                               0            0                   0        0   \n2                               0            0                   0        0   \n3                               0            0                   0        0   \n4                               0            0                   0        0   \n\n   basset  beagle        ...          toy_poodle  toy_terrier  vizsla  \\\n0       0       0        ...                   0            0       0   \n1       0       0        ...                   0            0       0   \n2       0       0        ...                   0            0       0   \n3       0       0        ...                   0            0       0   \n4       0       0        ...                   0            0       0   \n\n   walker_hound  weimaraner  welsh_springer_spaniel  \\\n0             0           0                       0   \n1             0           0                       0   \n2             0           0                       0   \n3             0           0                       0   \n4             0           0                       0   \n\n   west_highland_white_terrier  whippet  wire-haired_fox_terrier  \\\n0                            0        0                        0   \n1                            0        0                        0   \n2                            0        0                        0   \n3                            0        0                        0   \n4                            0        0                        0   \n\n   yorkshire_terrier  \n0                  0  \n1                  0  \n2                  0  \n3                  0  \n4                  0  \n\n[5 rows x 120 columns]",
            "text/html": "<div>\n<style scoped>\n    .dataframe tbody tr th:only-of-type {\n        vertical-align: middle;\n    }\n\n    .dataframe tbody tr th {\n        vertical-align: top;\n    }\n\n    .dataframe thead th {\n        text-align: right;\n    }\n</style>\n<table border=\"1\" class=\"dataframe\">\n  <thead>\n    <tr style=\"text-align: right;\">\n      <th></th>\n      <th>affenpinscher</th>\n      <th>afghan_hound</th>\n      <th>african_hunting_dog</th>\n      <th>airedale</th>\n      <th>american_staffordshire_terrier</th>\n      <th>appenzeller</th>\n      <th>australian_terrier</th>\n      <th>basenji</th>\n      <th>basset</th>\n      <th>beagle</th>\n      <th>...</th>\n      <th>toy_poodle</th>\n      <th>toy_terrier</th>\n      <th>vizsla</th>\n      <th>walker_hound</th>\n      <th>weimaraner</th>\n      <th>welsh_springer_spaniel</th>\n      <th>west_highland_white_terrier</th>\n      <th>whippet</th>\n      <th>wire-haired_fox_terrier</th>\n      <th>yorkshire_terrier</th>\n    </tr>\n  </thead>\n  <tbody>\n    <tr>\n      <th>0</th>\n      <td>0</td>\n      <td>0</td>\n      <td>0</td>\n      <td>0</td>\n      <td>0</td>\n      <td>0</td>\n      <td>0</td>\n      <td>0</td>\n      <td>0</td>\n      <td>0</td>\n      <td>...</td>\n      <td>0</td>\n      <td>0</td>\n      <td>0</td>\n      <td>0</td>\n      <td>0</td>\n      <td>0</td>\n      <td>0</td>\n      <td>0</td>\n      <td>0</td>\n      <td>0</td>\n    </tr>\n    <tr>\n      <th>1</th>\n      <td>0</td>\n      <td>0</td>\n      <td>0</td>\n      <td>0</td>\n      <td>0</td>\n      <td>0</td>\n      <td>0</td>\n      <td>0</td>\n      <td>0</td>\n      <td>0</td>\n      <td>...</td>\n      <td>0</td>\n      <td>0</td>\n      <td>0</td>\n      <td>0</td>\n      <td>0</td>\n      <td>0</td>\n      <td>0</td>\n      <td>0</td>\n      <td>0</td>\n      <td>0</td>\n    </tr>\n    <tr>\n      <th>2</th>\n      <td>0</td>\n      <td>0</td>\n      <td>0</td>\n      <td>0</td>\n      <td>0</td>\n      <td>0</td>\n      <td>0</td>\n      <td>0</td>\n      <td>0</td>\n      <td>0</td>\n      <td>...</td>\n      <td>0</td>\n      <td>0</td>\n      <td>0</td>\n      <td>0</td>\n      <td>0</td>\n      <td>0</td>\n      <td>0</td>\n      <td>0</td>\n      <td>0</td>\n      <td>0</td>\n    </tr>\n    <tr>\n      <th>3</th>\n      <td>0</td>\n      <td>0</td>\n      <td>0</td>\n      <td>0</td>\n      <td>0</td>\n      <td>0</td>\n      <td>0</td>\n      <td>0</td>\n      <td>0</td>\n      <td>0</td>\n      <td>...</td>\n      <td>0</td>\n      <td>0</td>\n      <td>0</td>\n      <td>0</td>\n      <td>0</td>\n      <td>0</td>\n      <td>0</td>\n      <td>0</td>\n      <td>0</td>\n      <td>0</td>\n    </tr>\n    <tr>\n      <th>4</th>\n      <td>0</td>\n      <td>0</td>\n      <td>0</td>\n      <td>0</td>\n      <td>0</td>\n      <td>0</td>\n      <td>0</td>\n      <td>0</td>\n      <td>0</td>\n      <td>0</td>\n      <td>...</td>\n      <td>0</td>\n      <td>0</td>\n      <td>0</td>\n      <td>0</td>\n      <td>0</td>\n      <td>0</td>\n      <td>0</td>\n      <td>0</td>\n      <td>0</td>\n      <td>0</td>\n    </tr>\n  </tbody>\n</table>\n<p>5 rows × 120 columns</p>\n</div>"
          },
          "metadata": {}
        }
      ]
    },
    {
      "metadata": {
        "trusted": true,
        "collapsed": true,
        "_uuid": "d1d810690333c702e00627b3fda413326dc0109c"
      },
      "cell_type": "code",
      "source": "from keras.layers import Dense,Dropout,Input\nfrom keras.models import Model",
      "execution_count": 21,
      "outputs": []
    },
    {
      "metadata": {
        "trusted": true,
        "collapsed": true,
        "_uuid": "8f0371f157f1c585bdc980e38cd8ec94c8e66987"
      },
      "cell_type": "code",
      "source": "n_feats = train_feats.shape[1]\nn_labels = label_values.shape[1]",
      "execution_count": 22,
      "outputs": []
    },
    {
      "metadata": {
        "trusted": true,
        "_uuid": "416e4f6574495f4d32f070707b485e3fc54b0ba6"
      },
      "cell_type": "code",
      "source": "inputs = Input(shape=(n_feats,),name='inputs')\nx = Dropout(0.5)(inputs)\nx = Dense(units=512,activation='selu',kernel_initializer='lecun_normal')(x)\nx = Dropout(0.5)(x)\noutputs = Dense(units=n_labels,activation='softmax',kernel_initializer='lecun_normal')(x)\n\nmodel = Model(inputs=inputs,outputs=outputs)\nmodel.compile(loss=losses.categorical_crossentropy,optimizer=optimizers.RMSprop(lr=1e-3),metrics=['acc'])\nprint(model.summary())",
      "execution_count": 23,
      "outputs": [
        {
          "output_type": "stream",
          "text": "_________________________________________________________________\nLayer (type)                 Output Shape              Param #   \n=================================================================\ninputs (InputLayer)          (None, 5632)              0         \n_________________________________________________________________\ndropout_1 (Dropout)          (None, 5632)              0         \n_________________________________________________________________\ndense_1 (Dense)              (None, 512)               2884096   \n_________________________________________________________________\ndropout_2 (Dropout)          (None, 512)               0         \n_________________________________________________________________\ndense_2 (Dense)              (None, 120)               61560     \n=================================================================\nTotal params: 2,945,656\nTrainable params: 2,945,656\nNon-trainable params: 0\n_________________________________________________________________\nNone\n",
          "name": "stdout"
        }
      ]
    },
    {
      "metadata": {
        "trusted": true,
        "_uuid": "848537fb6ae79f81f3d08e10334b93cc4d1970a1"
      },
      "cell_type": "code",
      "source": "history = model.fit(x=train_feats,y=label_values,batch_size=32,epochs=100,validation_split=0.2,shuffle=True,verbose=1)",
      "execution_count": 24,
      "outputs": [
        {
          "output_type": "stream",
          "text": "Train on 8177 samples, validate on 2045 samples\nEpoch 1/100\n8177/8177 [==============================] - 7s 834us/step - loss: 1.3985 - acc: 0.6880 - val_loss: 0.7588 - val_acc: 0.8117\nEpoch 2/100\n8177/8177 [==============================] - 2s 290us/step - loss: 0.5899 - acc: 0.8499 - val_loss: 0.4986 - val_acc: 0.8694\nEpoch 3/100\n8177/8177 [==============================] - 2s 290us/step - loss: 0.4788 - acc: 0.8836 - val_loss: 0.4782 - val_acc: 0.8826\nEpoch 4/100\n8177/8177 [==============================] - 2s 290us/step - loss: 0.4193 - acc: 0.8962 - val_loss: 0.4925 - val_acc: 0.8919\nEpoch 5/100\n8177/8177 [==============================] - 2s 291us/step - loss: 0.3718 - acc: 0.9067 - val_loss: 0.5000 - val_acc: 0.8934\nEpoch 6/100\n8177/8177 [==============================] - 2s 292us/step - loss: 0.3625 - acc: 0.9127 - val_loss: 0.5120 - val_acc: 0.8963\nEpoch 7/100\n8177/8177 [==============================] - 2s 291us/step - loss: 0.3129 - acc: 0.9221 - val_loss: 0.5570 - val_acc: 0.8919\nEpoch 8/100\n8177/8177 [==============================] - 2s 293us/step - loss: 0.2924 - acc: 0.9296 - val_loss: 0.6465 - val_acc: 0.8817\nEpoch 9/100\n8177/8177 [==============================] - 2s 292us/step - loss: 0.2986 - acc: 0.9269 - val_loss: 0.6485 - val_acc: 0.8880\nEpoch 10/100\n8177/8177 [==============================] - 2s 294us/step - loss: 0.2803 - acc: 0.9287 - val_loss: 0.5671 - val_acc: 0.8939\nEpoch 11/100\n8177/8177 [==============================] - 2s 292us/step - loss: 0.2835 - acc: 0.9332 - val_loss: 0.7006 - val_acc: 0.8841\nEpoch 12/100\n8177/8177 [==============================] - 2s 290us/step - loss: 0.2713 - acc: 0.9371 - val_loss: 0.6461 - val_acc: 0.8993\nEpoch 13/100\n8177/8177 [==============================] - 2s 292us/step - loss: 0.2633 - acc: 0.9390 - val_loss: 0.6024 - val_acc: 0.8973\nEpoch 14/100\n8177/8177 [==============================] - 2s 291us/step - loss: 0.2644 - acc: 0.9390 - val_loss: 0.6513 - val_acc: 0.9002\nEpoch 15/100\n8177/8177 [==============================] - 2s 292us/step - loss: 0.2408 - acc: 0.9423 - val_loss: 0.7133 - val_acc: 0.8856\nEpoch 16/100\n8177/8177 [==============================] - 2s 294us/step - loss: 0.2162 - acc: 0.9484 - val_loss: 0.6290 - val_acc: 0.9086\nEpoch 17/100\n8177/8177 [==============================] - 2s 294us/step - loss: 0.2333 - acc: 0.9433 - val_loss: 0.6617 - val_acc: 0.9007\nEpoch 18/100\n8177/8177 [==============================] - 2s 294us/step - loss: 0.2123 - acc: 0.9494 - val_loss: 0.6646 - val_acc: 0.8998\nEpoch 19/100\n8177/8177 [==============================] - 2s 290us/step - loss: 0.2076 - acc: 0.9512 - val_loss: 0.7044 - val_acc: 0.8988\nEpoch 20/100\n8177/8177 [==============================] - 2s 288us/step - loss: 0.2233 - acc: 0.9533 - val_loss: 0.6513 - val_acc: 0.9081\nEpoch 21/100\n8177/8177 [==============================] - 2s 289us/step - loss: 0.2159 - acc: 0.9519 - val_loss: 0.6699 - val_acc: 0.9042\nEpoch 22/100\n8177/8177 [==============================] - 2s 290us/step - loss: 0.1954 - acc: 0.9571 - val_loss: 0.6855 - val_acc: 0.9051\nEpoch 23/100\n8177/8177 [==============================] - 2s 291us/step - loss: 0.1934 - acc: 0.9577 - val_loss: 0.7173 - val_acc: 0.9002\nEpoch 24/100\n8177/8177 [==============================] - 2s 291us/step - loss: 0.2031 - acc: 0.9563 - val_loss: 0.7262 - val_acc: 0.9022\nEpoch 25/100\n8177/8177 [==============================] - 2s 295us/step - loss: 0.2001 - acc: 0.9576 - val_loss: 0.7536 - val_acc: 0.8978\nEpoch 26/100\n8177/8177 [==============================] - 2s 292us/step - loss: 0.1838 - acc: 0.9589 - val_loss: 0.7326 - val_acc: 0.9027\nEpoch 27/100\n8177/8177 [==============================] - 2s 291us/step - loss: 0.2023 - acc: 0.9585 - val_loss: 0.7324 - val_acc: 0.8983\nEpoch 28/100\n8177/8177 [==============================] - 2s 291us/step - loss: 0.1863 - acc: 0.9581 - val_loss: 0.7461 - val_acc: 0.9071\nEpoch 29/100\n8177/8177 [==============================] - 2s 289us/step - loss: 0.1696 - acc: 0.9653 - val_loss: 0.8234 - val_acc: 0.8949\nEpoch 30/100\n8177/8177 [==============================] - 2s 294us/step - loss: 0.1851 - acc: 0.9595 - val_loss: 0.8102 - val_acc: 0.9012\nEpoch 31/100\n8177/8177 [==============================] - 2s 291us/step - loss: 0.1936 - acc: 0.9599 - val_loss: 0.8652 - val_acc: 0.8949\nEpoch 32/100\n8177/8177 [==============================] - 2s 292us/step - loss: 0.1866 - acc: 0.9600 - val_loss: 0.7531 - val_acc: 0.9061\nEpoch 33/100\n8177/8177 [==============================] - 2s 289us/step - loss: 0.1742 - acc: 0.9631 - val_loss: 0.7425 - val_acc: 0.9022\nEpoch 34/100\n8177/8177 [==============================] - 2s 291us/step - loss: 0.1729 - acc: 0.9651 - val_loss: 0.8686 - val_acc: 0.8988\nEpoch 35/100\n8177/8177 [==============================] - 2s 288us/step - loss: 0.1721 - acc: 0.9665 - val_loss: 0.7658 - val_acc: 0.9007\nEpoch 36/100\n8177/8177 [==============================] - 2s 290us/step - loss: 0.1800 - acc: 0.9628 - val_loss: 0.8342 - val_acc: 0.8954\nEpoch 37/100\n8177/8177 [==============================] - 2s 290us/step - loss: 0.1756 - acc: 0.9647 - val_loss: 0.7997 - val_acc: 0.8993\nEpoch 38/100\n8177/8177 [==============================] - 2s 290us/step - loss: 0.1712 - acc: 0.9659 - val_loss: 0.8175 - val_acc: 0.9051\nEpoch 39/100\n8177/8177 [==============================] - 2s 294us/step - loss: 0.1624 - acc: 0.9672 - val_loss: 0.8276 - val_acc: 0.9032\nEpoch 40/100\n8177/8177 [==============================] - 2s 292us/step - loss: 0.1656 - acc: 0.9665 - val_loss: 0.8704 - val_acc: 0.9037\nEpoch 41/100\n8177/8177 [==============================] - 2s 289us/step - loss: 0.1507 - acc: 0.9688 - val_loss: 0.8287 - val_acc: 0.9032\nEpoch 42/100\n8177/8177 [==============================] - 2s 286us/step - loss: 0.1692 - acc: 0.9678 - val_loss: 0.8766 - val_acc: 0.9051\nEpoch 43/100\n8177/8177 [==============================] - 2s 286us/step - loss: 0.1783 - acc: 0.9647 - val_loss: 0.8222 - val_acc: 0.9046\nEpoch 44/100\n8177/8177 [==============================] - 2s 290us/step - loss: 0.1661 - acc: 0.9682 - val_loss: 0.8420 - val_acc: 0.9027\nEpoch 45/100\n8177/8177 [==============================] - 2s 287us/step - loss: 0.1634 - acc: 0.9665 - val_loss: 0.8064 - val_acc: 0.9110\nEpoch 46/100\n8177/8177 [==============================] - 2s 287us/step - loss: 0.1859 - acc: 0.9631 - val_loss: 0.8759 - val_acc: 0.9027\nEpoch 47/100\n8177/8177 [==============================] - 2s 288us/step - loss: 0.1572 - acc: 0.9706 - val_loss: 0.8885 - val_acc: 0.9037\nEpoch 48/100\n8177/8177 [==============================] - 2s 292us/step - loss: 0.1738 - acc: 0.9698 - val_loss: 0.8693 - val_acc: 0.9061\nEpoch 49/100\n8177/8177 [==============================] - 2s 290us/step - loss: 0.1498 - acc: 0.9711 - val_loss: 0.9782 - val_acc: 0.8939\nEpoch 50/100\n8177/8177 [==============================] - 2s 291us/step - loss: 0.1712 - acc: 0.9708 - val_loss: 0.9266 - val_acc: 0.9022\nEpoch 51/100\n8177/8177 [==============================] - 2s 287us/step - loss: 0.1716 - acc: 0.9684 - val_loss: 0.8817 - val_acc: 0.9042\nEpoch 52/100\n8177/8177 [==============================] - 2s 284us/step - loss: 0.1681 - acc: 0.9671 - val_loss: 0.8458 - val_acc: 0.9110\nEpoch 53/100\n8177/8177 [==============================] - 2s 284us/step - loss: 0.1667 - acc: 0.9695 - val_loss: 0.9254 - val_acc: 0.9042\nEpoch 54/100\n8177/8177 [==============================] - 2s 287us/step - loss: 0.1543 - acc: 0.9729 - val_loss: 0.9265 - val_acc: 0.9051\nEpoch 55/100\n8177/8177 [==============================] - 2s 291us/step - loss: 0.1561 - acc: 0.9706 - val_loss: 0.8879 - val_acc: 0.9017\nEpoch 56/100\n8177/8177 [==============================] - 2s 287us/step - loss: 0.1508 - acc: 0.9740 - val_loss: 0.9205 - val_acc: 0.9046\nEpoch 57/100\n8177/8177 [==============================] - 2s 289us/step - loss: 0.1834 - acc: 0.9676 - val_loss: 0.9032 - val_acc: 0.9017\nEpoch 58/100\n8177/8177 [==============================] - 2s 292us/step - loss: 0.1529 - acc: 0.9720 - val_loss: 0.8726 - val_acc: 0.9134\nEpoch 59/100\n8177/8177 [==============================] - 2s 291us/step - loss: 0.1846 - acc: 0.9697 - val_loss: 0.8949 - val_acc: 0.9046\nEpoch 60/100\n",
          "name": "stdout"
        },
        {
          "output_type": "stream",
          "text": "8177/8177 [==============================] - 2s 293us/step - loss: 0.1788 - acc: 0.9703 - val_loss: 0.9489 - val_acc: 0.9061\nEpoch 61/100\n8177/8177 [==============================] - 2s 290us/step - loss: 0.1759 - acc: 0.9700 - val_loss: 0.9497 - val_acc: 0.9022\nEpoch 62/100\n8177/8177 [==============================] - 2s 290us/step - loss: 0.1523 - acc: 0.9726 - val_loss: 0.9420 - val_acc: 0.9027\nEpoch 63/100\n8177/8177 [==============================] - 2s 289us/step - loss: 0.1436 - acc: 0.9713 - val_loss: 0.9527 - val_acc: 0.9022\nEpoch 64/100\n8177/8177 [==============================] - 2s 292us/step - loss: 0.1538 - acc: 0.9741 - val_loss: 0.9394 - val_acc: 0.9120\nEpoch 65/100\n8177/8177 [==============================] - 2s 294us/step - loss: 0.1384 - acc: 0.9743 - val_loss: 0.9326 - val_acc: 0.9032\nEpoch 66/100\n8177/8177 [==============================] - 2s 293us/step - loss: 0.1708 - acc: 0.9740 - val_loss: 0.9574 - val_acc: 0.9007\nEpoch 67/100\n8177/8177 [==============================] - 2s 292us/step - loss: 0.1513 - acc: 0.9735 - val_loss: 0.9566 - val_acc: 0.9066\nEpoch 68/100\n8177/8177 [==============================] - 2s 293us/step - loss: 0.1347 - acc: 0.9762 - val_loss: 0.9392 - val_acc: 0.9095\nEpoch 69/100\n8177/8177 [==============================] - 2s 298us/step - loss: 0.1545 - acc: 0.9749 - val_loss: 1.0282 - val_acc: 0.9012\nEpoch 70/100\n8177/8177 [==============================] - 2s 293us/step - loss: 0.1824 - acc: 0.9692 - val_loss: 1.0130 - val_acc: 0.8983\nEpoch 71/100\n8177/8177 [==============================] - 2s 293us/step - loss: 0.1683 - acc: 0.9736 - val_loss: 0.9119 - val_acc: 0.9071\nEpoch 72/100\n8177/8177 [==============================] - 2s 299us/step - loss: 0.1684 - acc: 0.9737 - val_loss: 0.9571 - val_acc: 0.9086\nEpoch 73/100\n8177/8177 [==============================] - 2s 290us/step - loss: 0.1350 - acc: 0.9776 - val_loss: 0.9843 - val_acc: 0.9046\nEpoch 74/100\n8177/8177 [==============================] - 2s 292us/step - loss: 0.1790 - acc: 0.9718 - val_loss: 0.9554 - val_acc: 0.9090\nEpoch 75/100\n8177/8177 [==============================] - 2s 296us/step - loss: 0.1545 - acc: 0.9732 - val_loss: 0.9917 - val_acc: 0.9061\nEpoch 76/100\n8177/8177 [==============================] - 2s 291us/step - loss: 0.1753 - acc: 0.9729 - val_loss: 1.0123 - val_acc: 0.8978\nEpoch 77/100\n8177/8177 [==============================] - 2s 293us/step - loss: 0.1568 - acc: 0.9755 - val_loss: 1.0133 - val_acc: 0.9056\nEpoch 78/100\n8177/8177 [==============================] - 2s 291us/step - loss: 0.1604 - acc: 0.9746 - val_loss: 1.0950 - val_acc: 0.9022\nEpoch 79/100\n8177/8177 [==============================] - 2s 292us/step - loss: 0.1598 - acc: 0.9746 - val_loss: 1.0019 - val_acc: 0.9056\nEpoch 80/100\n8177/8177 [==============================] - 2s 291us/step - loss: 0.1521 - acc: 0.9760 - val_loss: 1.0178 - val_acc: 0.9037\nEpoch 81/100\n8177/8177 [==============================] - 2s 291us/step - loss: 0.1734 - acc: 0.9737 - val_loss: 1.0329 - val_acc: 0.9056\nEpoch 82/100\n8177/8177 [==============================] - 2s 292us/step - loss: 0.1420 - acc: 0.9775 - val_loss: 1.0636 - val_acc: 0.9022\nEpoch 83/100\n8177/8177 [==============================] - 2s 291us/step - loss: 0.1643 - acc: 0.9752 - val_loss: 0.9774 - val_acc: 0.9090\nEpoch 84/100\n8177/8177 [==============================] - 2s 290us/step - loss: 0.1370 - acc: 0.9774 - val_loss: 0.9400 - val_acc: 0.9110\nEpoch 85/100\n8177/8177 [==============================] - 2s 291us/step - loss: 0.1715 - acc: 0.9737 - val_loss: 1.0501 - val_acc: 0.8963\nEpoch 86/100\n8177/8177 [==============================] - 2s 294us/step - loss: 0.1595 - acc: 0.9741 - val_loss: 1.0384 - val_acc: 0.9095\nEpoch 87/100\n8177/8177 [==============================] - 2s 290us/step - loss: 0.1537 - acc: 0.9764 - val_loss: 1.0549 - val_acc: 0.9027\nEpoch 88/100\n8177/8177 [==============================] - 2s 293us/step - loss: 0.1645 - acc: 0.9742 - val_loss: 1.0147 - val_acc: 0.9051\nEpoch 89/100\n8177/8177 [==============================] - 2s 293us/step - loss: 0.1517 - acc: 0.9758 - val_loss: 0.9503 - val_acc: 0.9095\nEpoch 90/100\n8177/8177 [==============================] - 2s 299us/step - loss: 0.1356 - acc: 0.9782 - val_loss: 0.9692 - val_acc: 0.9095\nEpoch 91/100\n8177/8177 [==============================] - 2s 295us/step - loss: 0.1782 - acc: 0.9740 - val_loss: 1.0642 - val_acc: 0.9007\nEpoch 92/100\n8177/8177 [==============================] - 2s 294us/step - loss: 0.1500 - acc: 0.9763 - val_loss: 1.0668 - val_acc: 0.9046\nEpoch 93/100\n8177/8177 [==============================] - 2s 295us/step - loss: 0.1401 - acc: 0.9782 - val_loss: 1.0062 - val_acc: 0.9090\nEpoch 94/100\n8177/8177 [==============================] - 2s 296us/step - loss: 0.1304 - acc: 0.9786 - val_loss: 1.0685 - val_acc: 0.9032\nEpoch 95/100\n8177/8177 [==============================] - 2s 293us/step - loss: 0.1775 - acc: 0.9735 - val_loss: 1.0832 - val_acc: 0.8983\nEpoch 96/100\n8177/8177 [==============================] - 2s 291us/step - loss: 0.1460 - acc: 0.9779 - val_loss: 1.0101 - val_acc: 0.9081\nEpoch 97/100\n8177/8177 [==============================] - 2s 285us/step - loss: 0.1771 - acc: 0.9749 - val_loss: 1.0114 - val_acc: 0.9042\nEpoch 98/100\n8177/8177 [==============================] - 2s 287us/step - loss: 0.1439 - acc: 0.9787 - val_loss: 1.0171 - val_acc: 0.9051\nEpoch 99/100\n8177/8177 [==============================] - 2s 289us/step - loss: 0.1427 - acc: 0.9797 - val_loss: 1.0291 - val_acc: 0.9110\nEpoch 100/100\n8177/8177 [==============================] - 2s 289us/step - loss: 0.1434 - acc: 0.9771 - val_loss: 1.0178 - val_acc: 0.9056\n",
          "name": "stdout"
        }
      ]
    },
    {
      "metadata": {
        "trusted": true,
        "_uuid": "623c0070d7ffc01d317a6df71b362cfa750fe37f"
      },
      "cell_type": "code",
      "source": "model.fit(x=train_feats,y=label_values,batch_size=32,epochs=10,shuffle=True,verbose=1)",
      "execution_count": 25,
      "outputs": [
        {
          "output_type": "stream",
          "text": "Epoch 1/10\n10222/10222 [==============================] - 3s 264us/step - loss: 0.4525 - acc: 0.9511\nEpoch 2/10\n10222/10222 [==============================] - 3s 264us/step - loss: 0.3966 - acc: 0.9549\nEpoch 3/10\n10222/10222 [==============================] - 3s 268us/step - loss: 0.3914 - acc: 0.9573\nEpoch 4/10\n10222/10222 [==============================] - 3s 266us/step - loss: 0.4016 - acc: 0.9553\nEpoch 5/10\n10222/10222 [==============================] - 3s 265us/step - loss: 0.4035 - acc: 0.9552\nEpoch 6/10\n10222/10222 [==============================] - 3s 262us/step - loss: 0.3184 - acc: 0.9612\nEpoch 7/10\n10222/10222 [==============================] - 3s 265us/step - loss: 0.3750 - acc: 0.9586\nEpoch 8/10\n10222/10222 [==============================] - 3s 264us/step - loss: 0.3545 - acc: 0.9617\nEpoch 9/10\n10222/10222 [==============================] - 3s 266us/step - loss: 0.3476 - acc: 0.9615\nEpoch 10/10\n10222/10222 [==============================] - 3s 265us/step - loss: 0.3346 - acc: 0.9604\n",
          "name": "stdout"
        },
        {
          "output_type": "execute_result",
          "execution_count": 25,
          "data": {
            "text/plain": "<keras.callbacks.History at 0x7fa401dc50f0>"
          },
          "metadata": {}
        }
      ]
    },
    {
      "metadata": {
        "trusted": true,
        "_uuid": "f3a37b58bb105ce49c0b0c53ccdc3be66de5e57d"
      },
      "cell_type": "code",
      "source": "sub_pred = model.predict(test_feats,batch_size=32,verbose=1)",
      "execution_count": 26,
      "outputs": [
        {
          "output_type": "stream",
          "text": "10357/10357 [==============================] - 3s 244us/step\n",
          "name": "stdout"
        }
      ]
    },
    {
      "metadata": {
        "trusted": true,
        "_uuid": "a1fe99ed657b12a21ab9cc0d2ee7c0127f0f90d1"
      },
      "cell_type": "code",
      "source": "sub_pred = pd.DataFrame(data=sub_pred,columns=label_names)\nsub_pred = pd.concat([test_dogs['id'],sub_pred],axis=1)\ndisplay(sub_pred.head())",
      "execution_count": 27,
      "outputs": [
        {
          "output_type": "display_data",
          "data": {
            "text/plain": "                                 id  affenpinscher  afghan_hound  \\\n0  000621fb3cbb32d8935728e48679680e   0.000000e+00  6.198493e-38   \n1  00102ee9d8eb90812350685311fe5890   1.912061e-38  0.000000e+00   \n2  0012a730dfa437f5f3613fb75efcd4ce   0.000000e+00  2.483317e-38   \n3  001510bc8570bbeee98c8d80c8a95ec1   9.818113e-23  0.000000e+00   \n4  001a5f3114548acdefa3d4da05474c2e   3.814397e-16  1.062198e-23   \n\n   african_hunting_dog      airedale  american_staffordshire_terrier  \\\n0         0.000000e+00  1.021871e-34                    0.000000e+00   \n1         6.301164e-34  1.657267e-36                    7.992262e-34   \n2         9.864460e-34  0.000000e+00                    0.000000e+00   \n3         3.409144e-34  1.066576e-22                    0.000000e+00   \n4         1.257534e-22  8.670181e-21                    1.532103e-34   \n\n    appenzeller  australian_terrier       basenji        basset  \\\n0  0.000000e+00        0.000000e+00  0.000000e+00  0.000000e+00   \n1  0.000000e+00        7.161228e-37  1.829108e-37  2.219301e-36   \n2  0.000000e+00        0.000000e+00  0.000000e+00  0.000000e+00   \n3  3.188479e-34        0.000000e+00  2.837722e-33  8.177265e-35   \n4  1.542424e-26        0.000000e+00  1.542562e-22  5.362913e-31   \n\n         ...            toy_poodle   toy_terrier        vizsla  walker_hound  \\\n0        ...          4.554688e-34  0.000000e+00  2.648189e-32  0.000000e+00   \n1        ...          2.436235e-29  0.000000e+00  2.282468e-28  5.956200e-35   \n2        ...          6.499188e-38  0.000000e+00  2.760938e-32  0.000000e+00   \n3        ...          3.857262e-28  0.000000e+00  6.644867e-30  4.411381e-23   \n4        ...          1.030190e-29  9.365861e-31  4.104612e-26  1.123880e-22   \n\n     weimaraner  welsh_springer_spaniel  west_highland_white_terrier  \\\n0  8.634777e-34            0.000000e+00                 0.000000e+00   \n1  4.901032e-25            1.406435e-35                 1.030736e-24   \n2  3.148495e-27            0.000000e+00                 0.000000e+00   \n3  1.756555e-22            5.706822e-35                 1.222892e-28   \n4  1.564591e-21            5.535877e-30                 1.333106e-27   \n\n        whippet  wire-haired_fox_terrier  yorkshire_terrier  \n0  0.000000e+00             9.714988e-38       2.884459e-38  \n1  0.000000e+00             1.197111e-33       9.165062e-34  \n2  0.000000e+00             0.000000e+00       4.894014e-37  \n3  1.129982e-26             0.000000e+00       3.894204e-30  \n4  1.092481e-22             1.576876e-27       5.641783e-25  \n\n[5 rows x 121 columns]",
            "text/html": "<div>\n<style scoped>\n    .dataframe tbody tr th:only-of-type {\n        vertical-align: middle;\n    }\n\n    .dataframe tbody tr th {\n        vertical-align: top;\n    }\n\n    .dataframe thead th {\n        text-align: right;\n    }\n</style>\n<table border=\"1\" class=\"dataframe\">\n  <thead>\n    <tr style=\"text-align: right;\">\n      <th></th>\n      <th>id</th>\n      <th>affenpinscher</th>\n      <th>afghan_hound</th>\n      <th>african_hunting_dog</th>\n      <th>airedale</th>\n      <th>american_staffordshire_terrier</th>\n      <th>appenzeller</th>\n      <th>australian_terrier</th>\n      <th>basenji</th>\n      <th>basset</th>\n      <th>...</th>\n      <th>toy_poodle</th>\n      <th>toy_terrier</th>\n      <th>vizsla</th>\n      <th>walker_hound</th>\n      <th>weimaraner</th>\n      <th>welsh_springer_spaniel</th>\n      <th>west_highland_white_terrier</th>\n      <th>whippet</th>\n      <th>wire-haired_fox_terrier</th>\n      <th>yorkshire_terrier</th>\n    </tr>\n  </thead>\n  <tbody>\n    <tr>\n      <th>0</th>\n      <td>000621fb3cbb32d8935728e48679680e</td>\n      <td>0.000000e+00</td>\n      <td>6.198493e-38</td>\n      <td>0.000000e+00</td>\n      <td>1.021871e-34</td>\n      <td>0.000000e+00</td>\n      <td>0.000000e+00</td>\n      <td>0.000000e+00</td>\n      <td>0.000000e+00</td>\n      <td>0.000000e+00</td>\n      <td>...</td>\n      <td>4.554688e-34</td>\n      <td>0.000000e+00</td>\n      <td>2.648189e-32</td>\n      <td>0.000000e+00</td>\n      <td>8.634777e-34</td>\n      <td>0.000000e+00</td>\n      <td>0.000000e+00</td>\n      <td>0.000000e+00</td>\n      <td>9.714988e-38</td>\n      <td>2.884459e-38</td>\n    </tr>\n    <tr>\n      <th>1</th>\n      <td>00102ee9d8eb90812350685311fe5890</td>\n      <td>1.912061e-38</td>\n      <td>0.000000e+00</td>\n      <td>6.301164e-34</td>\n      <td>1.657267e-36</td>\n      <td>7.992262e-34</td>\n      <td>0.000000e+00</td>\n      <td>7.161228e-37</td>\n      <td>1.829108e-37</td>\n      <td>2.219301e-36</td>\n      <td>...</td>\n      <td>2.436235e-29</td>\n      <td>0.000000e+00</td>\n      <td>2.282468e-28</td>\n      <td>5.956200e-35</td>\n      <td>4.901032e-25</td>\n      <td>1.406435e-35</td>\n      <td>1.030736e-24</td>\n      <td>0.000000e+00</td>\n      <td>1.197111e-33</td>\n      <td>9.165062e-34</td>\n    </tr>\n    <tr>\n      <th>2</th>\n      <td>0012a730dfa437f5f3613fb75efcd4ce</td>\n      <td>0.000000e+00</td>\n      <td>2.483317e-38</td>\n      <td>9.864460e-34</td>\n      <td>0.000000e+00</td>\n      <td>0.000000e+00</td>\n      <td>0.000000e+00</td>\n      <td>0.000000e+00</td>\n      <td>0.000000e+00</td>\n      <td>0.000000e+00</td>\n      <td>...</td>\n      <td>6.499188e-38</td>\n      <td>0.000000e+00</td>\n      <td>2.760938e-32</td>\n      <td>0.000000e+00</td>\n      <td>3.148495e-27</td>\n      <td>0.000000e+00</td>\n      <td>0.000000e+00</td>\n      <td>0.000000e+00</td>\n      <td>0.000000e+00</td>\n      <td>4.894014e-37</td>\n    </tr>\n    <tr>\n      <th>3</th>\n      <td>001510bc8570bbeee98c8d80c8a95ec1</td>\n      <td>9.818113e-23</td>\n      <td>0.000000e+00</td>\n      <td>3.409144e-34</td>\n      <td>1.066576e-22</td>\n      <td>0.000000e+00</td>\n      <td>3.188479e-34</td>\n      <td>0.000000e+00</td>\n      <td>2.837722e-33</td>\n      <td>8.177265e-35</td>\n      <td>...</td>\n      <td>3.857262e-28</td>\n      <td>0.000000e+00</td>\n      <td>6.644867e-30</td>\n      <td>4.411381e-23</td>\n      <td>1.756555e-22</td>\n      <td>5.706822e-35</td>\n      <td>1.222892e-28</td>\n      <td>1.129982e-26</td>\n      <td>0.000000e+00</td>\n      <td>3.894204e-30</td>\n    </tr>\n    <tr>\n      <th>4</th>\n      <td>001a5f3114548acdefa3d4da05474c2e</td>\n      <td>3.814397e-16</td>\n      <td>1.062198e-23</td>\n      <td>1.257534e-22</td>\n      <td>8.670181e-21</td>\n      <td>1.532103e-34</td>\n      <td>1.542424e-26</td>\n      <td>0.000000e+00</td>\n      <td>1.542562e-22</td>\n      <td>5.362913e-31</td>\n      <td>...</td>\n      <td>1.030190e-29</td>\n      <td>9.365861e-31</td>\n      <td>4.104612e-26</td>\n      <td>1.123880e-22</td>\n      <td>1.564591e-21</td>\n      <td>5.535877e-30</td>\n      <td>1.333106e-27</td>\n      <td>1.092481e-22</td>\n      <td>1.576876e-27</td>\n      <td>5.641783e-25</td>\n    </tr>\n  </tbody>\n</table>\n<p>5 rows × 121 columns</p>\n</div>"
          },
          "metadata": {}
        }
      ]
    },
    {
      "metadata": {
        "trusted": true,
        "collapsed": true,
        "_uuid": "abb857454e648a29e62e33ecab1697813b5e8851"
      },
      "cell_type": "code",
      "source": "sub_pred.to_csv(\"transfer_learning_&_ensemble.csv\",index=False)",
      "execution_count": 28,
      "outputs": []
    },
    {
      "metadata": {
        "trusted": true,
        "collapsed": true,
        "_uuid": "6a29637910c44f58bda93295ea4e1a621128897b"
      },
      "cell_type": "code",
      "source": "",
      "execution_count": null,
      "outputs": []
    }
  ],
  "metadata": {
    "kernelspec": {
      "display_name": "Python 3",
      "language": "python",
      "name": "python3"
    },
    "language_info": {
      "name": "python",
      "version": "3.6.4",
      "mimetype": "text/x-python",
      "codemirror_mode": {
        "name": "ipython",
        "version": 3
      },
      "pygments_lexer": "ipython3",
      "nbconvert_exporter": "python",
      "file_extension": ".py"
    }
  },
  "nbformat": 4,
  "nbformat_minor": 1
}