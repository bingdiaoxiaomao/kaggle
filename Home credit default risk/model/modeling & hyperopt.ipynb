{
 "cells": [
  {
   "cell_type": "code",
   "execution_count": 1,
   "metadata": {},
   "outputs": [],
   "source": [
    "import numpy as np\n",
    "import pandas as pd\n",
    "import os\n",
    "import sys\n",
    "import gc\n",
    "import warnings\n",
    "from tqdm import tqdm\n",
    "warnings.filterwarnings('ignore')\n",
    "import matplotlib.pyplot as plt\n",
    "import seaborn as sns\n",
    "plt.style.use('ggplot')\n",
    "%matplotlib inline"
   ]
  },
  {
   "cell_type": "markdown",
   "metadata": {},
   "source": [
    "在这一部分中，将进行以下三个部分的工作：\n",
    "* 特征选择\n",
    "* 模型选择\n",
    "* 模型超参数优化"
   ]
  },
  {
   "cell_type": "markdown",
   "metadata": {},
   "source": [
    "## 1 特征选择\n",
    "导入在上一节中已经提取到的特征数据集"
   ]
  },
  {
   "cell_type": "code",
   "execution_count": 2,
   "metadata": {},
   "outputs": [],
   "source": [
    "all_data = pd.read_csv(\"../data/all_engineered.csv\")"
   ]
  },
  {
   "cell_type": "markdown",
   "metadata": {},
   "source": [
    "查看数据类型"
   ]
  },
  {
   "cell_type": "code",
   "execution_count": 3,
   "metadata": {},
   "outputs": [],
   "source": [
    "Id = all_data['SK_ID_CURR']\n",
    "Target = all_data['TARGET']\n",
    "all_data = all_data.drop(columns=['SK_ID_CURR','TARGET'])"
   ]
  },
  {
   "cell_type": "code",
   "execution_count": 4,
   "metadata": {},
   "outputs": [
    {
     "name": "stdout",
     "output_type": "stream",
     "text": [
      "(356255, 880)\n"
     ]
    }
   ],
   "source": [
    "print(all_data.shape)"
   ]
  },
  {
   "cell_type": "markdown",
   "metadata": {},
   "source": [
    "经过我们上一步的数据提取，已经得到一个包含880维特征的预测特征数据集，这些特征之间可能存在高度共线性，也可能存在缺失比例过高等情况，在后续的特征选择的过程中，我们都需要注重关注这些情况。"
   ]
  },
  {
   "cell_type": "code",
   "execution_count": 5,
   "metadata": {},
   "outputs": [
    {
     "data": {
      "text/plain": [
       "float64    704\n",
       "int64      176\n",
       "dtype: int64"
      ]
     },
     "metadata": {},
     "output_type": "display_data"
    }
   ],
   "source": [
    "display(all_data.dtypes.value_counts())"
   ]
  },
  {
   "cell_type": "markdown",
   "metadata": {},
   "source": [
    "检查一下，是否有ID类的组合特征"
   ]
  },
  {
   "cell_type": "code",
   "execution_count": 6,
   "metadata": {},
   "outputs": [
    {
     "name": "stdout",
     "output_type": "stream",
     "text": [
      "There are 0 columns that contain SK_ID_CURR\n",
      "There are 0 columns that contain SK_ID_BUREAU\n",
      "There are 0 columns that contain SK_ID_PREV\n"
     ]
    }
   ],
   "source": [
    "cols_with_id = [x for x in all_data.columns if 'SK_ID_CURR' in x]\n",
    "cols_with_bureau_id = [x for x in all_data.columns if 'SK_ID_BUREAU' in x]\n",
    "cols_with_previous_id = [x for x in all_data.columns if 'SK_ID_PREV' in x]\n",
    "print('There are {} columns that contain SK_ID_CURR'.format(len(cols_with_id)))\n",
    "print('There are {} columns that contain SK_ID_BUREAU'.format(len(cols_with_bureau_id)))\n",
    "print('There are {} columns that contain SK_ID_PREV'.format(len(cols_with_previous_id)))"
   ]
  },
  {
   "cell_type": "markdown",
   "metadata": {},
   "source": [
    "计算特征之间的共线性，如果以完整数据集计算的话，会非常的耗时，因此，这里仅抽样了10000条数据，大致估计特征之间的线性相关性系数。"
   ]
  },
  {
   "cell_type": "code",
   "execution_count": 7,
   "metadata": {},
   "outputs": [
    {
     "data": {
      "text/html": [
       "<div>\n",
       "<style scoped>\n",
       "    .dataframe tbody tr th:only-of-type {\n",
       "        vertical-align: middle;\n",
       "    }\n",
       "\n",
       "    .dataframe tbody tr th {\n",
       "        vertical-align: top;\n",
       "    }\n",
       "\n",
       "    .dataframe thead th {\n",
       "        text-align: right;\n",
       "    }\n",
       "</style>\n",
       "<table border=\"1\" class=\"dataframe\">\n",
       "  <thead>\n",
       "    <tr style=\"text-align: right;\">\n",
       "      <th></th>\n",
       "      <th>AMT_ANNUITY</th>\n",
       "      <th>AMT_CREDIT</th>\n",
       "      <th>AMT_GOODS_PRICE</th>\n",
       "      <th>AMT_INCOME_TOTAL</th>\n",
       "      <th>AMT_REQ_CREDIT_BUREAU_DAY</th>\n",
       "      <th>AMT_REQ_CREDIT_BUREAU_HOUR</th>\n",
       "      <th>AMT_REQ_CREDIT_BUREAU_MON</th>\n",
       "      <th>AMT_REQ_CREDIT_BUREAU_QRT</th>\n",
       "      <th>AMT_REQ_CREDIT_BUREAU_WEEK</th>\n",
       "      <th>AMT_REQ_CREDIT_BUREAU_YEAR</th>\n",
       "      <th>...</th>\n",
       "      <th>PREVIOUS_AMT_APPLICATION_sum</th>\n",
       "      <th>PREVIOUS_DAYS_FIRST_DRAWING_min</th>\n",
       "      <th>PREVIOUS_DAYS_FIRST_DRAWING_mean</th>\n",
       "      <th>PREVIOUS_DAYS_FIRST_DRAWING_max</th>\n",
       "      <th>PREVIOUS_RATE_INTEREST_PRIMARY_min</th>\n",
       "      <th>PREVIOUS_RATE_INTEREST_PRIMARY_mean</th>\n",
       "      <th>PREVIOUS_RATE_INTEREST_PRIMARY_max</th>\n",
       "      <th>PREVIOUS_RATE_INTEREST_PRIVILEGED_min</th>\n",
       "      <th>PREVIOUS_RATE_INTEREST_PRIVILEGED_mean</th>\n",
       "      <th>PREVIOUS_RATE_INTEREST_PRIVILEGED_max</th>\n",
       "    </tr>\n",
       "  </thead>\n",
       "  <tbody>\n",
       "    <tr>\n",
       "      <th>AMT_ANNUITY</th>\n",
       "      <td>1.000000</td>\n",
       "      <td>0.764551</td>\n",
       "      <td>0.769956</td>\n",
       "      <td>0.036592</td>\n",
       "      <td>0.002343</td>\n",
       "      <td>0.014115</td>\n",
       "      <td>0.025148</td>\n",
       "      <td>0.014171</td>\n",
       "      <td>0.004642</td>\n",
       "      <td>0.023894</td>\n",
       "      <td>...</td>\n",
       "      <td>0.110532</td>\n",
       "      <td>0.095331</td>\n",
       "      <td>0.095870</td>\n",
       "      <td>0.096294</td>\n",
       "      <td>0.016282</td>\n",
       "      <td>0.018063</td>\n",
       "      <td>0.019842</td>\n",
       "      <td>0.030728</td>\n",
       "      <td>0.036263</td>\n",
       "      <td>0.041752</td>\n",
       "    </tr>\n",
       "    <tr>\n",
       "      <th>AMT_CREDIT</th>\n",
       "      <td>0.764551</td>\n",
       "      <td>1.000000</td>\n",
       "      <td>0.986834</td>\n",
       "      <td>0.029969</td>\n",
       "      <td>0.003697</td>\n",
       "      <td>0.004921</td>\n",
       "      <td>0.058421</td>\n",
       "      <td>0.006255</td>\n",
       "      <td>0.007055</td>\n",
       "      <td>0.059139</td>\n",
       "      <td>...</td>\n",
       "      <td>0.104095</td>\n",
       "      <td>0.154765</td>\n",
       "      <td>0.155780</td>\n",
       "      <td>0.156607</td>\n",
       "      <td>0.019407</td>\n",
       "      <td>0.021000</td>\n",
       "      <td>0.022591</td>\n",
       "      <td>0.145764</td>\n",
       "      <td>0.150757</td>\n",
       "      <td>0.155529</td>\n",
       "    </tr>\n",
       "    <tr>\n",
       "      <th>AMT_GOODS_PRICE</th>\n",
       "      <td>0.769956</td>\n",
       "      <td>0.986834</td>\n",
       "      <td>1.000000</td>\n",
       "      <td>0.029258</td>\n",
       "      <td>0.004279</td>\n",
       "      <td>0.005165</td>\n",
       "      <td>0.061678</td>\n",
       "      <td>0.004264</td>\n",
       "      <td>0.006369</td>\n",
       "      <td>0.060406</td>\n",
       "      <td>...</td>\n",
       "      <td>0.106582</td>\n",
       "      <td>0.155953</td>\n",
       "      <td>0.156884</td>\n",
       "      <td>0.157626</td>\n",
       "      <td>0.011076</td>\n",
       "      <td>0.012617</td>\n",
       "      <td>0.014157</td>\n",
       "      <td>0.165286</td>\n",
       "      <td>0.170091</td>\n",
       "      <td>0.174647</td>\n",
       "    </tr>\n",
       "    <tr>\n",
       "      <th>AMT_INCOME_TOTAL</th>\n",
       "      <td>0.036592</td>\n",
       "      <td>0.029969</td>\n",
       "      <td>0.029258</td>\n",
       "      <td>1.000000</td>\n",
       "      <td>0.000072</td>\n",
       "      <td>0.001299</td>\n",
       "      <td>0.001082</td>\n",
       "      <td>0.004360</td>\n",
       "      <td>0.001336</td>\n",
       "      <td>0.002897</td>\n",
       "      <td>...</td>\n",
       "      <td>0.012086</td>\n",
       "      <td>0.018548</td>\n",
       "      <td>0.018949</td>\n",
       "      <td>0.019328</td>\n",
       "      <td>0.003224</td>\n",
       "      <td>0.003098</td>\n",
       "      <td>0.002972</td>\n",
       "      <td>0.083446</td>\n",
       "      <td>0.083174</td>\n",
       "      <td>0.082776</td>\n",
       "    </tr>\n",
       "    <tr>\n",
       "      <th>AMT_REQ_CREDIT_BUREAU_DAY</th>\n",
       "      <td>0.002343</td>\n",
       "      <td>0.003697</td>\n",
       "      <td>0.004279</td>\n",
       "      <td>0.000072</td>\n",
       "      <td>1.000000</td>\n",
       "      <td>0.186542</td>\n",
       "      <td>0.006920</td>\n",
       "      <td>0.011064</td>\n",
       "      <td>0.339726</td>\n",
       "      <td>0.021164</td>\n",
       "      <td>...</td>\n",
       "      <td>0.007431</td>\n",
       "      <td>0.021395</td>\n",
       "      <td>0.021305</td>\n",
       "      <td>0.021185</td>\n",
       "      <td>0.035135</td>\n",
       "      <td>0.035344</td>\n",
       "      <td>0.035549</td>\n",
       "      <td>0.051534</td>\n",
       "      <td>0.052309</td>\n",
       "      <td>0.052995</td>\n",
       "    </tr>\n",
       "  </tbody>\n",
       "</table>\n",
       "<p>5 rows × 880 columns</p>\n",
       "</div>"
      ],
      "text/plain": [
       "                           AMT_ANNUITY  AMT_CREDIT  AMT_GOODS_PRICE  \\\n",
       "AMT_ANNUITY                   1.000000    0.764551         0.769956   \n",
       "AMT_CREDIT                    0.764551    1.000000         0.986834   \n",
       "AMT_GOODS_PRICE               0.769956    0.986834         1.000000   \n",
       "AMT_INCOME_TOTAL              0.036592    0.029969         0.029258   \n",
       "AMT_REQ_CREDIT_BUREAU_DAY     0.002343    0.003697         0.004279   \n",
       "\n",
       "                           AMT_INCOME_TOTAL  AMT_REQ_CREDIT_BUREAU_DAY  \\\n",
       "AMT_ANNUITY                        0.036592                   0.002343   \n",
       "AMT_CREDIT                         0.029969                   0.003697   \n",
       "AMT_GOODS_PRICE                    0.029258                   0.004279   \n",
       "AMT_INCOME_TOTAL                   1.000000                   0.000072   \n",
       "AMT_REQ_CREDIT_BUREAU_DAY          0.000072                   1.000000   \n",
       "\n",
       "                           AMT_REQ_CREDIT_BUREAU_HOUR  \\\n",
       "AMT_ANNUITY                                  0.014115   \n",
       "AMT_CREDIT                                   0.004921   \n",
       "AMT_GOODS_PRICE                              0.005165   \n",
       "AMT_INCOME_TOTAL                             0.001299   \n",
       "AMT_REQ_CREDIT_BUREAU_DAY                    0.186542   \n",
       "\n",
       "                           AMT_REQ_CREDIT_BUREAU_MON  \\\n",
       "AMT_ANNUITY                                 0.025148   \n",
       "AMT_CREDIT                                  0.058421   \n",
       "AMT_GOODS_PRICE                             0.061678   \n",
       "AMT_INCOME_TOTAL                            0.001082   \n",
       "AMT_REQ_CREDIT_BUREAU_DAY                   0.006920   \n",
       "\n",
       "                           AMT_REQ_CREDIT_BUREAU_QRT  \\\n",
       "AMT_ANNUITY                                 0.014171   \n",
       "AMT_CREDIT                                  0.006255   \n",
       "AMT_GOODS_PRICE                             0.004264   \n",
       "AMT_INCOME_TOTAL                            0.004360   \n",
       "AMT_REQ_CREDIT_BUREAU_DAY                   0.011064   \n",
       "\n",
       "                           AMT_REQ_CREDIT_BUREAU_WEEK  \\\n",
       "AMT_ANNUITY                                  0.004642   \n",
       "AMT_CREDIT                                   0.007055   \n",
       "AMT_GOODS_PRICE                              0.006369   \n",
       "AMT_INCOME_TOTAL                             0.001336   \n",
       "AMT_REQ_CREDIT_BUREAU_DAY                    0.339726   \n",
       "\n",
       "                           AMT_REQ_CREDIT_BUREAU_YEAR  \\\n",
       "AMT_ANNUITY                                  0.023894   \n",
       "AMT_CREDIT                                   0.059139   \n",
       "AMT_GOODS_PRICE                              0.060406   \n",
       "AMT_INCOME_TOTAL                             0.002897   \n",
       "AMT_REQ_CREDIT_BUREAU_DAY                    0.021164   \n",
       "\n",
       "                                           ...                    \\\n",
       "AMT_ANNUITY                                ...                     \n",
       "AMT_CREDIT                                 ...                     \n",
       "AMT_GOODS_PRICE                            ...                     \n",
       "AMT_INCOME_TOTAL                           ...                     \n",
       "AMT_REQ_CREDIT_BUREAU_DAY                  ...                     \n",
       "\n",
       "                           PREVIOUS_AMT_APPLICATION_sum  \\\n",
       "AMT_ANNUITY                                    0.110532   \n",
       "AMT_CREDIT                                     0.104095   \n",
       "AMT_GOODS_PRICE                                0.106582   \n",
       "AMT_INCOME_TOTAL                               0.012086   \n",
       "AMT_REQ_CREDIT_BUREAU_DAY                      0.007431   \n",
       "\n",
       "                           PREVIOUS_DAYS_FIRST_DRAWING_min  \\\n",
       "AMT_ANNUITY                                       0.095331   \n",
       "AMT_CREDIT                                        0.154765   \n",
       "AMT_GOODS_PRICE                                   0.155953   \n",
       "AMT_INCOME_TOTAL                                  0.018548   \n",
       "AMT_REQ_CREDIT_BUREAU_DAY                         0.021395   \n",
       "\n",
       "                           PREVIOUS_DAYS_FIRST_DRAWING_mean  \\\n",
       "AMT_ANNUITY                                        0.095870   \n",
       "AMT_CREDIT                                         0.155780   \n",
       "AMT_GOODS_PRICE                                    0.156884   \n",
       "AMT_INCOME_TOTAL                                   0.018949   \n",
       "AMT_REQ_CREDIT_BUREAU_DAY                          0.021305   \n",
       "\n",
       "                           PREVIOUS_DAYS_FIRST_DRAWING_max  \\\n",
       "AMT_ANNUITY                                       0.096294   \n",
       "AMT_CREDIT                                        0.156607   \n",
       "AMT_GOODS_PRICE                                   0.157626   \n",
       "AMT_INCOME_TOTAL                                  0.019328   \n",
       "AMT_REQ_CREDIT_BUREAU_DAY                         0.021185   \n",
       "\n",
       "                           PREVIOUS_RATE_INTEREST_PRIMARY_min  \\\n",
       "AMT_ANNUITY                                          0.016282   \n",
       "AMT_CREDIT                                           0.019407   \n",
       "AMT_GOODS_PRICE                                      0.011076   \n",
       "AMT_INCOME_TOTAL                                     0.003224   \n",
       "AMT_REQ_CREDIT_BUREAU_DAY                            0.035135   \n",
       "\n",
       "                           PREVIOUS_RATE_INTEREST_PRIMARY_mean  \\\n",
       "AMT_ANNUITY                                           0.018063   \n",
       "AMT_CREDIT                                            0.021000   \n",
       "AMT_GOODS_PRICE                                       0.012617   \n",
       "AMT_INCOME_TOTAL                                      0.003098   \n",
       "AMT_REQ_CREDIT_BUREAU_DAY                             0.035344   \n",
       "\n",
       "                           PREVIOUS_RATE_INTEREST_PRIMARY_max  \\\n",
       "AMT_ANNUITY                                          0.019842   \n",
       "AMT_CREDIT                                           0.022591   \n",
       "AMT_GOODS_PRICE                                      0.014157   \n",
       "AMT_INCOME_TOTAL                                     0.002972   \n",
       "AMT_REQ_CREDIT_BUREAU_DAY                            0.035549   \n",
       "\n",
       "                           PREVIOUS_RATE_INTEREST_PRIVILEGED_min  \\\n",
       "AMT_ANNUITY                                             0.030728   \n",
       "AMT_CREDIT                                              0.145764   \n",
       "AMT_GOODS_PRICE                                         0.165286   \n",
       "AMT_INCOME_TOTAL                                        0.083446   \n",
       "AMT_REQ_CREDIT_BUREAU_DAY                               0.051534   \n",
       "\n",
       "                           PREVIOUS_RATE_INTEREST_PRIVILEGED_mean  \\\n",
       "AMT_ANNUITY                                              0.036263   \n",
       "AMT_CREDIT                                               0.150757   \n",
       "AMT_GOODS_PRICE                                          0.170091   \n",
       "AMT_INCOME_TOTAL                                         0.083174   \n",
       "AMT_REQ_CREDIT_BUREAU_DAY                                0.052309   \n",
       "\n",
       "                           PREVIOUS_RATE_INTEREST_PRIVILEGED_max  \n",
       "AMT_ANNUITY                                             0.041752  \n",
       "AMT_CREDIT                                              0.155529  \n",
       "AMT_GOODS_PRICE                                         0.174647  \n",
       "AMT_INCOME_TOTAL                                        0.082776  \n",
       "AMT_REQ_CREDIT_BUREAU_DAY                               0.052995  \n",
       "\n",
       "[5 rows x 880 columns]"
      ]
     },
     "execution_count": 7,
     "metadata": {},
     "output_type": "execute_result"
    }
   ],
   "source": [
    "threshold = 0.9\n",
    "corr_matrix = all_data.sample(10000).corr().abs()\n",
    "corr_matrix.head()"
   ]
  },
  {
   "cell_type": "code",
   "execution_count": 8,
   "metadata": {},
   "outputs": [
    {
     "data": {
      "text/html": [
       "<div>\n",
       "<style scoped>\n",
       "    .dataframe tbody tr th:only-of-type {\n",
       "        vertical-align: middle;\n",
       "    }\n",
       "\n",
       "    .dataframe tbody tr th {\n",
       "        vertical-align: top;\n",
       "    }\n",
       "\n",
       "    .dataframe thead th {\n",
       "        text-align: right;\n",
       "    }\n",
       "</style>\n",
       "<table border=\"1\" class=\"dataframe\">\n",
       "  <thead>\n",
       "    <tr style=\"text-align: right;\">\n",
       "      <th></th>\n",
       "      <th>AMT_ANNUITY</th>\n",
       "      <th>AMT_CREDIT</th>\n",
       "      <th>AMT_GOODS_PRICE</th>\n",
       "      <th>AMT_INCOME_TOTAL</th>\n",
       "      <th>AMT_REQ_CREDIT_BUREAU_DAY</th>\n",
       "      <th>AMT_REQ_CREDIT_BUREAU_HOUR</th>\n",
       "      <th>AMT_REQ_CREDIT_BUREAU_MON</th>\n",
       "      <th>AMT_REQ_CREDIT_BUREAU_QRT</th>\n",
       "      <th>AMT_REQ_CREDIT_BUREAU_WEEK</th>\n",
       "      <th>AMT_REQ_CREDIT_BUREAU_YEAR</th>\n",
       "      <th>...</th>\n",
       "      <th>PREVIOUS_AMT_APPLICATION_sum</th>\n",
       "      <th>PREVIOUS_DAYS_FIRST_DRAWING_min</th>\n",
       "      <th>PREVIOUS_DAYS_FIRST_DRAWING_mean</th>\n",
       "      <th>PREVIOUS_DAYS_FIRST_DRAWING_max</th>\n",
       "      <th>PREVIOUS_RATE_INTEREST_PRIMARY_min</th>\n",
       "      <th>PREVIOUS_RATE_INTEREST_PRIMARY_mean</th>\n",
       "      <th>PREVIOUS_RATE_INTEREST_PRIMARY_max</th>\n",
       "      <th>PREVIOUS_RATE_INTEREST_PRIVILEGED_min</th>\n",
       "      <th>PREVIOUS_RATE_INTEREST_PRIVILEGED_mean</th>\n",
       "      <th>PREVIOUS_RATE_INTEREST_PRIVILEGED_max</th>\n",
       "    </tr>\n",
       "  </thead>\n",
       "  <tbody>\n",
       "    <tr>\n",
       "      <th>AMT_ANNUITY</th>\n",
       "      <td>NaN</td>\n",
       "      <td>0.764551</td>\n",
       "      <td>0.769956</td>\n",
       "      <td>0.036592</td>\n",
       "      <td>0.002343</td>\n",
       "      <td>0.014115</td>\n",
       "      <td>0.025148</td>\n",
       "      <td>0.014171</td>\n",
       "      <td>0.004642</td>\n",
       "      <td>0.023894</td>\n",
       "      <td>...</td>\n",
       "      <td>0.110532</td>\n",
       "      <td>0.095331</td>\n",
       "      <td>0.095870</td>\n",
       "      <td>0.096294</td>\n",
       "      <td>0.016282</td>\n",
       "      <td>0.018063</td>\n",
       "      <td>0.019842</td>\n",
       "      <td>0.030728</td>\n",
       "      <td>0.036263</td>\n",
       "      <td>0.041752</td>\n",
       "    </tr>\n",
       "    <tr>\n",
       "      <th>AMT_CREDIT</th>\n",
       "      <td>NaN</td>\n",
       "      <td>NaN</td>\n",
       "      <td>0.986834</td>\n",
       "      <td>0.029969</td>\n",
       "      <td>0.003697</td>\n",
       "      <td>0.004921</td>\n",
       "      <td>0.058421</td>\n",
       "      <td>0.006255</td>\n",
       "      <td>0.007055</td>\n",
       "      <td>0.059139</td>\n",
       "      <td>...</td>\n",
       "      <td>0.104095</td>\n",
       "      <td>0.154765</td>\n",
       "      <td>0.155780</td>\n",
       "      <td>0.156607</td>\n",
       "      <td>0.019407</td>\n",
       "      <td>0.021000</td>\n",
       "      <td>0.022591</td>\n",
       "      <td>0.145764</td>\n",
       "      <td>0.150757</td>\n",
       "      <td>0.155529</td>\n",
       "    </tr>\n",
       "    <tr>\n",
       "      <th>AMT_GOODS_PRICE</th>\n",
       "      <td>NaN</td>\n",
       "      <td>NaN</td>\n",
       "      <td>NaN</td>\n",
       "      <td>0.029258</td>\n",
       "      <td>0.004279</td>\n",
       "      <td>0.005165</td>\n",
       "      <td>0.061678</td>\n",
       "      <td>0.004264</td>\n",
       "      <td>0.006369</td>\n",
       "      <td>0.060406</td>\n",
       "      <td>...</td>\n",
       "      <td>0.106582</td>\n",
       "      <td>0.155953</td>\n",
       "      <td>0.156884</td>\n",
       "      <td>0.157626</td>\n",
       "      <td>0.011076</td>\n",
       "      <td>0.012617</td>\n",
       "      <td>0.014157</td>\n",
       "      <td>0.165286</td>\n",
       "      <td>0.170091</td>\n",
       "      <td>0.174647</td>\n",
       "    </tr>\n",
       "    <tr>\n",
       "      <th>AMT_INCOME_TOTAL</th>\n",
       "      <td>NaN</td>\n",
       "      <td>NaN</td>\n",
       "      <td>NaN</td>\n",
       "      <td>NaN</td>\n",
       "      <td>0.000072</td>\n",
       "      <td>0.001299</td>\n",
       "      <td>0.001082</td>\n",
       "      <td>0.004360</td>\n",
       "      <td>0.001336</td>\n",
       "      <td>0.002897</td>\n",
       "      <td>...</td>\n",
       "      <td>0.012086</td>\n",
       "      <td>0.018548</td>\n",
       "      <td>0.018949</td>\n",
       "      <td>0.019328</td>\n",
       "      <td>0.003224</td>\n",
       "      <td>0.003098</td>\n",
       "      <td>0.002972</td>\n",
       "      <td>0.083446</td>\n",
       "      <td>0.083174</td>\n",
       "      <td>0.082776</td>\n",
       "    </tr>\n",
       "    <tr>\n",
       "      <th>AMT_REQ_CREDIT_BUREAU_DAY</th>\n",
       "      <td>NaN</td>\n",
       "      <td>NaN</td>\n",
       "      <td>NaN</td>\n",
       "      <td>NaN</td>\n",
       "      <td>NaN</td>\n",
       "      <td>0.186542</td>\n",
       "      <td>0.006920</td>\n",
       "      <td>0.011064</td>\n",
       "      <td>0.339726</td>\n",
       "      <td>0.021164</td>\n",
       "      <td>...</td>\n",
       "      <td>0.007431</td>\n",
       "      <td>0.021395</td>\n",
       "      <td>0.021305</td>\n",
       "      <td>0.021185</td>\n",
       "      <td>0.035135</td>\n",
       "      <td>0.035344</td>\n",
       "      <td>0.035549</td>\n",
       "      <td>0.051534</td>\n",
       "      <td>0.052309</td>\n",
       "      <td>0.052995</td>\n",
       "    </tr>\n",
       "  </tbody>\n",
       "</table>\n",
       "<p>5 rows × 880 columns</p>\n",
       "</div>"
      ],
      "text/plain": [
       "                           AMT_ANNUITY  AMT_CREDIT  AMT_GOODS_PRICE  \\\n",
       "AMT_ANNUITY                        NaN    0.764551         0.769956   \n",
       "AMT_CREDIT                         NaN         NaN         0.986834   \n",
       "AMT_GOODS_PRICE                    NaN         NaN              NaN   \n",
       "AMT_INCOME_TOTAL                   NaN         NaN              NaN   \n",
       "AMT_REQ_CREDIT_BUREAU_DAY          NaN         NaN              NaN   \n",
       "\n",
       "                           AMT_INCOME_TOTAL  AMT_REQ_CREDIT_BUREAU_DAY  \\\n",
       "AMT_ANNUITY                        0.036592                   0.002343   \n",
       "AMT_CREDIT                         0.029969                   0.003697   \n",
       "AMT_GOODS_PRICE                    0.029258                   0.004279   \n",
       "AMT_INCOME_TOTAL                        NaN                   0.000072   \n",
       "AMT_REQ_CREDIT_BUREAU_DAY               NaN                        NaN   \n",
       "\n",
       "                           AMT_REQ_CREDIT_BUREAU_HOUR  \\\n",
       "AMT_ANNUITY                                  0.014115   \n",
       "AMT_CREDIT                                   0.004921   \n",
       "AMT_GOODS_PRICE                              0.005165   \n",
       "AMT_INCOME_TOTAL                             0.001299   \n",
       "AMT_REQ_CREDIT_BUREAU_DAY                    0.186542   \n",
       "\n",
       "                           AMT_REQ_CREDIT_BUREAU_MON  \\\n",
       "AMT_ANNUITY                                 0.025148   \n",
       "AMT_CREDIT                                  0.058421   \n",
       "AMT_GOODS_PRICE                             0.061678   \n",
       "AMT_INCOME_TOTAL                            0.001082   \n",
       "AMT_REQ_CREDIT_BUREAU_DAY                   0.006920   \n",
       "\n",
       "                           AMT_REQ_CREDIT_BUREAU_QRT  \\\n",
       "AMT_ANNUITY                                 0.014171   \n",
       "AMT_CREDIT                                  0.006255   \n",
       "AMT_GOODS_PRICE                             0.004264   \n",
       "AMT_INCOME_TOTAL                            0.004360   \n",
       "AMT_REQ_CREDIT_BUREAU_DAY                   0.011064   \n",
       "\n",
       "                           AMT_REQ_CREDIT_BUREAU_WEEK  \\\n",
       "AMT_ANNUITY                                  0.004642   \n",
       "AMT_CREDIT                                   0.007055   \n",
       "AMT_GOODS_PRICE                              0.006369   \n",
       "AMT_INCOME_TOTAL                             0.001336   \n",
       "AMT_REQ_CREDIT_BUREAU_DAY                    0.339726   \n",
       "\n",
       "                           AMT_REQ_CREDIT_BUREAU_YEAR  \\\n",
       "AMT_ANNUITY                                  0.023894   \n",
       "AMT_CREDIT                                   0.059139   \n",
       "AMT_GOODS_PRICE                              0.060406   \n",
       "AMT_INCOME_TOTAL                             0.002897   \n",
       "AMT_REQ_CREDIT_BUREAU_DAY                    0.021164   \n",
       "\n",
       "                                           ...                    \\\n",
       "AMT_ANNUITY                                ...                     \n",
       "AMT_CREDIT                                 ...                     \n",
       "AMT_GOODS_PRICE                            ...                     \n",
       "AMT_INCOME_TOTAL                           ...                     \n",
       "AMT_REQ_CREDIT_BUREAU_DAY                  ...                     \n",
       "\n",
       "                           PREVIOUS_AMT_APPLICATION_sum  \\\n",
       "AMT_ANNUITY                                    0.110532   \n",
       "AMT_CREDIT                                     0.104095   \n",
       "AMT_GOODS_PRICE                                0.106582   \n",
       "AMT_INCOME_TOTAL                               0.012086   \n",
       "AMT_REQ_CREDIT_BUREAU_DAY                      0.007431   \n",
       "\n",
       "                           PREVIOUS_DAYS_FIRST_DRAWING_min  \\\n",
       "AMT_ANNUITY                                       0.095331   \n",
       "AMT_CREDIT                                        0.154765   \n",
       "AMT_GOODS_PRICE                                   0.155953   \n",
       "AMT_INCOME_TOTAL                                  0.018548   \n",
       "AMT_REQ_CREDIT_BUREAU_DAY                         0.021395   \n",
       "\n",
       "                           PREVIOUS_DAYS_FIRST_DRAWING_mean  \\\n",
       "AMT_ANNUITY                                        0.095870   \n",
       "AMT_CREDIT                                         0.155780   \n",
       "AMT_GOODS_PRICE                                    0.156884   \n",
       "AMT_INCOME_TOTAL                                   0.018949   \n",
       "AMT_REQ_CREDIT_BUREAU_DAY                          0.021305   \n",
       "\n",
       "                           PREVIOUS_DAYS_FIRST_DRAWING_max  \\\n",
       "AMT_ANNUITY                                       0.096294   \n",
       "AMT_CREDIT                                        0.156607   \n",
       "AMT_GOODS_PRICE                                   0.157626   \n",
       "AMT_INCOME_TOTAL                                  0.019328   \n",
       "AMT_REQ_CREDIT_BUREAU_DAY                         0.021185   \n",
       "\n",
       "                           PREVIOUS_RATE_INTEREST_PRIMARY_min  \\\n",
       "AMT_ANNUITY                                          0.016282   \n",
       "AMT_CREDIT                                           0.019407   \n",
       "AMT_GOODS_PRICE                                      0.011076   \n",
       "AMT_INCOME_TOTAL                                     0.003224   \n",
       "AMT_REQ_CREDIT_BUREAU_DAY                            0.035135   \n",
       "\n",
       "                           PREVIOUS_RATE_INTEREST_PRIMARY_mean  \\\n",
       "AMT_ANNUITY                                           0.018063   \n",
       "AMT_CREDIT                                            0.021000   \n",
       "AMT_GOODS_PRICE                                       0.012617   \n",
       "AMT_INCOME_TOTAL                                      0.003098   \n",
       "AMT_REQ_CREDIT_BUREAU_DAY                             0.035344   \n",
       "\n",
       "                           PREVIOUS_RATE_INTEREST_PRIMARY_max  \\\n",
       "AMT_ANNUITY                                          0.019842   \n",
       "AMT_CREDIT                                           0.022591   \n",
       "AMT_GOODS_PRICE                                      0.014157   \n",
       "AMT_INCOME_TOTAL                                     0.002972   \n",
       "AMT_REQ_CREDIT_BUREAU_DAY                            0.035549   \n",
       "\n",
       "                           PREVIOUS_RATE_INTEREST_PRIVILEGED_min  \\\n",
       "AMT_ANNUITY                                             0.030728   \n",
       "AMT_CREDIT                                              0.145764   \n",
       "AMT_GOODS_PRICE                                         0.165286   \n",
       "AMT_INCOME_TOTAL                                        0.083446   \n",
       "AMT_REQ_CREDIT_BUREAU_DAY                               0.051534   \n",
       "\n",
       "                           PREVIOUS_RATE_INTEREST_PRIVILEGED_mean  \\\n",
       "AMT_ANNUITY                                              0.036263   \n",
       "AMT_CREDIT                                               0.150757   \n",
       "AMT_GOODS_PRICE                                          0.170091   \n",
       "AMT_INCOME_TOTAL                                         0.083174   \n",
       "AMT_REQ_CREDIT_BUREAU_DAY                                0.052309   \n",
       "\n",
       "                           PREVIOUS_RATE_INTEREST_PRIVILEGED_max  \n",
       "AMT_ANNUITY                                             0.041752  \n",
       "AMT_CREDIT                                              0.155529  \n",
       "AMT_GOODS_PRICE                                         0.174647  \n",
       "AMT_INCOME_TOTAL                                        0.082776  \n",
       "AMT_REQ_CREDIT_BUREAU_DAY                               0.052995  \n",
       "\n",
       "[5 rows x 880 columns]"
      ]
     },
     "execution_count": 8,
     "metadata": {},
     "output_type": "execute_result"
    }
   ],
   "source": [
    "upper = corr_matrix.where(np.triu(np.ones(corr_matrix.shape),k=1).astype(np.bool))\n",
    "upper.head()"
   ]
  },
  {
   "cell_type": "code",
   "execution_count": 9,
   "metadata": {},
   "outputs": [
    {
     "name": "stdout",
     "output_type": "stream",
     "text": [
      "There are 184 columns to remove.\n"
     ]
    }
   ],
   "source": [
    "to_drop = [column for column in upper.columns if any(upper[column]>threshold)]\n",
    "print('There are {} columns to remove.'.format(len(to_drop)))"
   ]
  },
  {
   "cell_type": "markdown",
   "metadata": {},
   "source": [
    "从1000条样本的估计结果来看，有186组特征之间存在着高于90%的线性相关性。这些两两的特征组合中，需求删除其中一个，仅留下其中一个。"
   ]
  },
  {
   "cell_type": "code",
   "execution_count": 10,
   "metadata": {},
   "outputs": [
    {
     "name": "stdout",
     "output_type": "stream",
     "text": [
      "all_data shape: (356255, 696)\n"
     ]
    }
   ],
   "source": [
    "all_data = all_data.drop(columns=to_drop)\n",
    "print('all_data shape: {}'.format(all_data.shape))"
   ]
  },
  {
   "cell_type": "markdown",
   "metadata": {},
   "source": [
    "删除缺失率高于60%的特征"
   ]
  },
  {
   "cell_type": "code",
   "execution_count": 11,
   "metadata": {},
   "outputs": [
    {
     "data": {
      "text/plain": [
       "PREVIOUS_RATE_INTEREST_PRIVILEGED_min    0.983941\n",
       "COMMONAREA_AVG                           0.697141\n",
       "NONLIVINGAPARTMENTS_AVG                  0.692933\n",
       "FLOORSMIN_AVG                            0.676785\n",
       "BUREAU_LOAN_RATE_min                     0.669316\n",
       "dtype: float64"
      ]
     },
     "execution_count": 11,
     "metadata": {},
     "output_type": "execute_result"
    }
   ],
   "source": [
    "data_missing = (all_data.isnull().sum() / len(all_data)).sort_values(ascending = False)\n",
    "data_missing.head()"
   ]
  },
  {
   "cell_type": "code",
   "execution_count": 12,
   "metadata": {},
   "outputs": [],
   "source": [
    "data_missing = data_missing.index[data_missing > 0.60]"
   ]
  },
  {
   "cell_type": "code",
   "execution_count": 13,
   "metadata": {},
   "outputs": [
    {
     "name": "stdout",
     "output_type": "stream",
     "text": [
      "There are 100 columns with more than 60% missing values\n"
     ]
    }
   ],
   "source": [
    "data_missing = list(data_missing)\n",
    "print('There are {} columns with more than 60% missing values'.format(len(data_missing)))"
   ]
  },
  {
   "cell_type": "code",
   "execution_count": 14,
   "metadata": {},
   "outputs": [
    {
     "name": "stdout",
     "output_type": "stream",
     "text": [
      "Data set full shape: (356255, 596)\n"
     ]
    }
   ],
   "source": [
    "all_data = all_data.drop(columns=data_missing)\n",
    "print('Data set full shape: {}'.format(all_data.shape))"
   ]
  },
  {
   "cell_type": "markdown",
   "metadata": {},
   "source": [
    "经过这样简单的特征选择之后，最终的预测特征还有592维。"
   ]
  },
  {
   "cell_type": "code",
   "execution_count": 15,
   "metadata": {},
   "outputs": [],
   "source": [
    "miss_ratios = all_data.isnull().mean()"
   ]
  },
  {
   "cell_type": "code",
   "execution_count": 16,
   "metadata": {},
   "outputs": [
    {
     "data": {
      "image/png": "[encoded data removed]",
      "text/plain": [
       "<Figure size 720x432 with 1 Axes>"
      ]
     },
     "metadata": {},
     "output_type": "display_data"
    }
   ],
   "source": [
    "plt.figure(figsize=(10,6))\n",
    "plt.hist(miss_ratios.values*100,bins=20)\n",
    "plt.xlabel('Missing ratio (%)')\n",
    "plt.ylabel('# count')\n",
    "plt.show()"
   ]
  },
  {
   "cell_type": "code",
   "execution_count": 17,
   "metadata": {},
   "outputs": [
    {
     "data": {
      "text/plain": [
       "float64    410\n",
       "dtype: int64"
      ]
     },
     "execution_count": 17,
     "metadata": {},
     "output_type": "execute_result"
    }
   ],
   "source": [
    "all_data.dtypes[miss_ratios>0].value_counts()"
   ]
  },
  {
   "cell_type": "markdown",
   "metadata": {},
   "source": [
    "仍然存在缺失情况的特征有406维，不过从上图中也看到，大部分的数据缺失比例已经不高了，控制在了15%以内。现阶段，我们采取以0填补缺失值的方式，有时间的话可以做更加细致的分析。"
   ]
  },
  {
   "cell_type": "code",
   "execution_count": 18,
   "metadata": {},
   "outputs": [],
   "source": [
    "all_data = all_data.fillna(0)"
   ]
  },
  {
   "cell_type": "code",
   "execution_count": 19,
   "metadata": {},
   "outputs": [
    {
     "data": {
      "text/plain": [
       "0"
      ]
     },
     "execution_count": 19,
     "metadata": {},
     "output_type": "execute_result"
    }
   ],
   "source": [
    "all_data.isnull().sum().sum()"
   ]
  },
  {
   "cell_type": "code",
   "execution_count": 20,
   "metadata": {},
   "outputs": [],
   "source": [
    "feature_names = all_data.columns.tolist()"
   ]
  },
  {
   "cell_type": "code",
   "execution_count": 21,
   "metadata": {},
   "outputs": [
    {
     "data": {
      "text/plain": [
       "3311"
      ]
     },
     "execution_count": 21,
     "metadata": {},
     "output_type": "execute_result"
    }
   ],
   "source": [
    "gc.collect()"
   ]
  },
  {
   "cell_type": "markdown",
   "metadata": {},
   "source": [
    "#### 特征归一化\n",
    "将预测变量的范围都归一化到[0,1]之间，对于一些对特征大小敏感的算法，这样可以使得各个特征权重在同一个水平，更容易找到好的模型解。"
   ]
  },
  {
   "cell_type": "markdown",
   "metadata": {},
   "source": [
    "受限于电脑内存，不能调用sklearn的MinMaxScaler的函数，自己编写了一个循环体也能执行同样的操作"
   ]
  },
  {
   "cell_type": "code",
   "execution_count": 22,
   "metadata": {},
   "outputs": [
    {
     "name": "stderr",
     "output_type": "stream",
     "text": [
      "100%|██████████| 596/596 [00:30<00:00, 19.61it/s]\n"
     ]
    }
   ],
   "source": [
    "for col in tqdm(feature_names):\n",
    "    all_data[col] = (all_data[col]-all_data[col].min())/(all_data[col].max()-all_data[col].min())"
   ]
  },
  {
   "cell_type": "markdown",
   "metadata": {},
   "source": [
    "将预测变量重新分割为训练集和测试集"
   ]
  },
  {
   "cell_type": "code",
   "execution_count": 23,
   "metadata": {},
   "outputs": [],
   "source": [
    "x_train = all_data[Target.notnull()]\n",
    "x_test = all_data[Target.isnull()]\n",
    "y_train = Target[Target.notnull()]\n",
    "y_test = Target[Target.isna()]"
   ]
  },
  {
   "cell_type": "code",
   "execution_count": 24,
   "metadata": {},
   "outputs": [
    {
     "name": "stdout",
     "output_type": "stream",
     "text": [
      "(307511, 596)\n",
      "(48744, 596)\n"
     ]
    }
   ],
   "source": [
    "print(x_train.shape)\n",
    "print(x_test.shape)"
   ]
  },
  {
   "cell_type": "code",
   "execution_count": 25,
   "metadata": {},
   "outputs": [],
   "source": [
    "del all_data, Target"
   ]
  },
  {
   "cell_type": "markdown",
   "metadata": {},
   "source": [
    "## 2模型选择"
   ]
  },
  {
   "cell_type": "markdown",
   "metadata": {},
   "source": [
    "#### 简单模型 1: Logisti Regression"
   ]
  },
  {
   "cell_type": "code",
   "execution_count": 26,
   "metadata": {},
   "outputs": [],
   "source": [
    "from sklearn.linear_model import LogisticRegression\n",
    "from sklearn.model_selection import cross_val_score\n",
    "from sklearn.metrics import roc_auc_score,roc_curve"
   ]
  },
  {
   "cell_type": "markdown",
   "metadata": {},
   "source": [
    "5-fold交叉验证法"
   ]
  },
  {
   "cell_type": "code",
   "execution_count": 27,
   "metadata": {},
   "outputs": [
    {
     "name": "stderr",
     "output_type": "stream",
     "text": [
      "[Parallel(n_jobs=1)]: Done   5 out of   5 | elapsed:  2.6min finished\n"
     ]
    }
   ],
   "source": [
    "lr_fit = LogisticRegression(C=1e-3,class_weight='balanced',penalty='l2',random_state=1,solver='sag',max_iter=1000,n_jobs=2)\n",
    "lr_cv = cross_val_score(estimator=lr_fit,X=x_train,y=y_train,cv=5,scoring='roc_auc',verbose=True)"
   ]
  },
  {
   "cell_type": "code",
   "execution_count": 28,
   "metadata": {},
   "outputs": [
    {
     "data": {
      "text/plain": [
       "0.7574407575047764"
      ]
     },
     "execution_count": 28,
     "metadata": {},
     "output_type": "execute_result"
    }
   ],
   "source": [
    "lr_cv.mean()"
   ]
  },
  {
   "cell_type": "markdown",
   "metadata": {},
   "source": [
    "5-fold交叉验证的结果，逻辑回归的验证集AUC均值为0.757。"
   ]
  },
  {
   "cell_type": "markdown",
   "metadata": {},
   "source": [
    "#### 贝叶斯优化逻辑回归的超参数C的值"
   ]
  },
  {
   "cell_type": "code",
   "execution_count": null,
   "metadata": {},
   "outputs": [],
   "source": [
    "from bayes_opt import BayesianOptimization"
   ]
  },
  {
   "cell_type": "code",
   "execution_count": null,
   "metadata": {},
   "outputs": [],
   "source": [
    "def lr_evaluate(C=1e-4):\n",
    "    lr_fit = LogisticRegression(C=C,class_weight='balanced',penalty='l2',solver='sag',random_state=1,max_iter=1000,n_jobs=2)\n",
    "    return (cross_val_score(estimator=lr_fit,X=x_train,y=y_train,cv=5,scoring='roc_auc',verbose=True)).mean()"
   ]
  },
  {
   "cell_type": "code",
   "execution_count": null,
   "metadata": {},
   "outputs": [],
   "source": [
    "lr_BO = BayesianOptimization(f=lr_evaluate,pbounds={'C':[1e-4,1e-1]},verbose=1)\n",
    "lr_BO.maximize(init_points=3,n_iter=5)"
   ]
  },
  {
   "cell_type": "markdown",
   "metadata": {},
   "source": [
    "计算资源有限，这里不继续演示后续优化的结果。"
   ]
  },
  {
   "cell_type": "code",
   "execution_count": null,
   "metadata": {},
   "outputs": [],
   "source": [
    "lr_fit = LogisticRegression(C=0.0551,class_weight='balanced',penalty='l2',random_state=1,solver='sag',max_iter=1000,n_jobs=2)\n",
    "lr_fit.fit(x_train,y_train)"
   ]
  },
  {
   "cell_type": "code",
   "execution_count": null,
   "metadata": {},
   "outputs": [],
   "source": [
    "lr_pred_train = lr_fit.predict_proba(x_train)[:,1]"
   ]
  },
  {
   "cell_type": "code",
   "execution_count": null,
   "metadata": {},
   "outputs": [],
   "source": [
    "fpr,tpr,_ = roc_curve(y_true=y_train,y_score=lr_pred_train)\n",
    "auc_score = roc_auc_score(y_true=y_train,y_score=lr_pred_train)"
   ]
  },
  {
   "cell_type": "code",
   "execution_count": null,
   "metadata": {},
   "outputs": [],
   "source": [
    "plt.figure(figsize=(9,7))\n",
    "plt.plot(fpr,tpr,linewidth=2,label='lr_roc_curve')\n",
    "plt.plot([0,1],[0,1],'k--',linewidth=2)\n",
    "plt.xlim([0,1])\n",
    "plt.xlabel('False Prositive Rate(%) FPR')\n",
    "plt.ylim([0,1])\n",
    "plt.ylabel('True Prositive Rate(%) TPR')\n",
    "plt.title(\"Training AUC Score = {:.4f} by Logistic Regression\".format(auc_score))\n",
    "plt.show()"
   ]
  },
  {
   "cell_type": "code",
   "execution_count": null,
   "metadata": {},
   "outputs": [],
   "source": [
    "lr_pred = lr_fit.predict_proba(x_test)[:,1]"
   ]
  },
  {
   "cell_type": "code",
   "execution_count": null,
   "metadata": {},
   "outputs": [],
   "source": [
    "submit = pd.read_csv(\"../data/sample_submission.csv\")\n",
    "display(submit.head())"
   ]
  },
  {
   "cell_type": "code",
   "execution_count": null,
   "metadata": {},
   "outputs": [],
   "source": [
    "lr_submit = submit.copy()\n",
    "lr_submit['TARGET'] = lr_pred"
   ]
  },
  {
   "cell_type": "code",
   "execution_count": null,
   "metadata": {},
   "outputs": [],
   "source": [
    "lr_submit.to_csv(\"../data/lr_submit.csv\",index=False)"
   ]
  },
  {
   "cell_type": "markdown",
   "metadata": {},
   "source": [
    "public score: 0.758"
   ]
  },
  {
   "cell_type": "markdown",
   "metadata": {},
   "source": [
    "#### LightGBM"
   ]
  },
  {
   "cell_type": "code",
   "execution_count": null,
   "metadata": {},
   "outputs": [],
   "source": [
    "import lightgbm as lgb\n",
    "from sklearn.model_selection import train_test_split"
   ]
  },
  {
   "cell_type": "code",
   "execution_count": null,
   "metadata": {},
   "outputs": [],
   "source": [
    "predictor_names = x_train.columns.tolist()\n",
    "categorical_features = None"
   ]
  },
  {
   "cell_type": "code",
   "execution_count": null,
   "metadata": {},
   "outputs": [],
   "source": [
    "Dtrain = lgb.Dataset(data=x_train.values,label=y_train.values,free_raw_data=False)\n",
    "train_X,valid_X,train_y,valid_y = train_test_split(x_train,y_train,stratify=y_train,random_state=2018)\n",
    "dtrain = lgb.Dataset(data=train_X.values,label=train_y.values,feature_name=predictor_names,categorical_feature=None,free_raw_data=False)\n",
    "dvalid = lgb.Dataset(data=valid_X.values,label=valid_y.values,feature_name=predictor_names,categorical_feature=None,free_raw_data=False)"
   ]
  },
  {
   "cell_type": "code",
   "execution_count": null,
   "metadata": {},
   "outputs": [],
   "source": [
    "def lgb_evaluate_cv(colsample_bytree=0.7,\n",
    "                    learning_rate=0.1,num_leaves=32,\n",
    "                    subsample=0.9,reg_alpha=0.0,\n",
    "                    reg_lambda=0.0,min_child_weight=0.0):\n",
    "    params = dict()\n",
    "    params['colsample_bytree'] = max(min(colsample_bytree,1),0)\n",
    "    params['learning_rate'] = max(min(learning_rate,1),0)\n",
    "    params['num_leaves'] = int(num_leaves)\n",
    "    params['subsample'] = max(min(subsample,1),0)\n",
    "    params['reg_alpha'] = max(0,reg_alpha)\n",
    "    params['reg_lambda'] = max(0,reg_lambda)\n",
    "    params['min_child_weight'] = int(min_child_weight)\n",
    "    params['is_unbalance'] = True\n",
    "    params['categorical_features'] = categorical_features\n",
    "    params['predictor'] = predictor_names\n",
    "    params['objective'] = 'binary'\n",
    "    cv_result =  lgb.cv(params=params,train_set=Dtrain,\n",
    "                        early_stopping_rounds=50,\n",
    "                        metrics='auc',nfold=3,\n",
    "                        num_boost_round=2000,\n",
    "                        verbose_eval=False,seed=1,show_stdv=True)                       \n",
    "    return cv_result['auc-mean'][-1]"
   ]
  },
  {
   "cell_type": "markdown",
   "metadata": {},
   "source": [
    "定义贝叶斯优化lightgbm的超参数及优化范围，作为示例，仅优化colsample_bytree和subsample"
   ]
  },
  {
   "cell_type": "code",
   "execution_count": null,
   "metadata": {},
   "outputs": [],
   "source": [
    "lgbBO = BayesianOptimization(f=lgb_evaluate_cv,\n",
    "                             pbounds={'colsample_bytree':(0.5,0.7),\n",
    "                                      'learning_rate':(0.1,0.1),\n",
    "                                      'num_leaves':(31,31),\n",
    "                                      'subsample':(0.5,0.95),\n",
    "                                      'reg_alpha':(0.1,0.1),\n",
    "                                      'reg_lambda':(0.1,0.1),\n",
    "                                      'min_child_weight':(1,1)})"
   ]
  },
  {
   "cell_type": "code",
   "execution_count": null,
   "metadata": {},
   "outputs": [],
   "source": [
    "lgbBO.maximize(init_points=3,n_iter=2)"
   ]
  },
  {
   "cell_type": "code",
   "execution_count": null,
   "metadata": {},
   "outputs": [],
   "source": [
    "lgbBO.res['max']['max_val']"
   ]
  },
  {
   "cell_type": "code",
   "execution_count": null,
   "metadata": {},
   "outputs": [],
   "source": [
    "lgbBO.res['max']['max_params']"
   ]
  },
  {
   "cell_type": "markdown",
   "metadata": {},
   "source": [
    "以最优超参数训练lgb模型，并输出预测结果"
   ]
  },
  {
   "cell_type": "code",
   "execution_count": null,
   "metadata": {},
   "outputs": [],
   "source": []
  }
 ],
 "metadata": {
  "kernelspec": {
   "display_name": "Python 3",
   "language": "python",
   "name": "python3"
  },
  "language_info": {
   "codemirror_mode": {
    "name": "ipython",
    "version": 3
   },
   "file_extension": ".py",
   "mimetype": "text/x-python",
   "name": "python",
   "nbconvert_exporter": "python",
   "pygments_lexer": "ipython3",
   "version": "3.6.6"
  }
 },
 "nbformat": 4,
 "nbformat_minor": 2
}
