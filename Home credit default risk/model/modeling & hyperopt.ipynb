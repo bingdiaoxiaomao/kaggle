{
 "cells": [
  {
   "cell_type": "code",
   "execution_count": 1,
   "metadata": {},
   "outputs": [],
   "source": [
    "import numpy as np\n",
    "import pandas as pd\n",
    "import os\n",
    "import sys\n",
    "import gc\n",
    "import warnings\n",
    "from tqdm import tqdm\n",
    "warnings.filterwarnings('ignore')\n",
    "import matplotlib.pyplot as plt\n",
    "import seaborn as sns\n",
    "plt.style.use('ggplot')\n",
    "%matplotlib inline"
   ]
  },
  {
   "cell_type": "markdown",
   "metadata": {},
   "source": [
    "在这一部分中，将进行以下三个部分的工作：\n",
    "* 特征选择\n",
    "* 模型选择\n",
    "* 模型超参数优化"
   ]
  },
  {
   "cell_type": "markdown",
   "metadata": {},
   "source": [
    "## 1 特征选择\n",
    "导入在上一节中已经提取到的特征数据集"
   ]
  },
  {
   "cell_type": "code",
   "execution_count": 2,
   "metadata": {},
   "outputs": [],
   "source": [
    "all_data = pd.read_csv(\"../data/all_engineered.csv\")"
   ]
  },
  {
   "cell_type": "markdown",
   "metadata": {},
   "source": [
    "查看数据类型"
   ]
  },
  {
   "cell_type": "code",
   "execution_count": 3,
   "metadata": {},
   "outputs": [],
   "source": [
    "Id = all_data['SK_ID_CURR']\n",
    "Target = all_data['TARGET']\n",
    "all_data = all_data.drop(columns=['SK_ID_CURR','TARGET'])"
   ]
  },
  {
   "cell_type": "code",
   "execution_count": 4,
   "metadata": {},
   "outputs": [
    {
     "name": "stdout",
     "output_type": "stream",
     "text": [
      "(356255, 880)\n"
     ]
    }
   ],
   "source": [
    "print(all_data.shape)"
   ]
  },
  {
   "cell_type": "markdown",
   "metadata": {},
   "source": [
    "经过我们上一步的数据提取，已经得到一个包含880维特征的预测特征数据集，这些特征之间可能存在高度共线性，也可能存在缺失比例过高等情况，在后续的特征选择的过程中，我们都需要注重关注这些情况。"
   ]
  },
  {
   "cell_type": "code",
   "execution_count": 5,
   "metadata": {},
   "outputs": [
    {
     "data": {
      "text/plain": [
       "float64    704\n",
       "int64      176\n",
       "dtype: int64"
      ]
     },
     "metadata": {},
     "output_type": "display_data"
    }
   ],
   "source": [
    "display(all_data.dtypes.value_counts())"
   ]
  },
  {
   "cell_type": "markdown",
   "metadata": {},
   "source": [
    "检查一下，是否有ID类的组合特征"
   ]
  },
  {
   "cell_type": "code",
   "execution_count": 6,
   "metadata": {},
   "outputs": [
    {
     "name": "stdout",
     "output_type": "stream",
     "text": [
      "There are 0 columns that contain SK_ID_CURR\n",
      "There are 0 columns that contain SK_ID_BUREAU\n",
      "There are 0 columns that contain SK_ID_PREV\n"
     ]
    }
   ],
   "source": [
    "cols_with_id = [x for x in all_data.columns if 'SK_ID_CURR' in x]\n",
    "cols_with_bureau_id = [x for x in all_data.columns if 'SK_ID_BUREAU' in x]\n",
    "cols_with_previous_id = [x for x in all_data.columns if 'SK_ID_PREV' in x]\n",
    "print('There are {} columns that contain SK_ID_CURR'.format(len(cols_with_id)))\n",
    "print('There are {} columns that contain SK_ID_BUREAU'.format(len(cols_with_bureau_id)))\n",
    "print('There are {} columns that contain SK_ID_PREV'.format(len(cols_with_previous_id)))"
   ]
  },
  {
   "cell_type": "markdown",
   "metadata": {},
   "source": [
    "计算特征之间的共线性，如果以完整数据集计算的话，会非常的耗时，因此，这里仅抽样了10000条数据，大致估计特征之间的线性相关性系数。"
   ]
  },
  {
   "cell_type": "code",
   "execution_count": 7,
   "metadata": {},
   "outputs": [
    {
     "data": {
      "text/html": [
       "<div>\n",
       "<style scoped>\n",
       "    .dataframe tbody tr th:only-of-type {\n",
       "        vertical-align: middle;\n",
       "    }\n",
       "\n",
       "    .dataframe tbody tr th {\n",
       "        vertical-align: top;\n",
       "    }\n",
       "\n",
       "    .dataframe thead th {\n",
       "        text-align: right;\n",
       "    }\n",
       "</style>\n",
       "<table border=\"1\" class=\"dataframe\">\n",
       "  <thead>\n",
       "    <tr style=\"text-align: right;\">\n",
       "      <th></th>\n",
       "      <th>AMT_ANNUITY</th>\n",
       "      <th>AMT_CREDIT</th>\n",
       "      <th>AMT_GOODS_PRICE</th>\n",
       "      <th>AMT_INCOME_TOTAL</th>\n",
       "      <th>AMT_REQ_CREDIT_BUREAU_DAY</th>\n",
       "      <th>AMT_REQ_CREDIT_BUREAU_HOUR</th>\n",
       "      <th>AMT_REQ_CREDIT_BUREAU_MON</th>\n",
       "      <th>AMT_REQ_CREDIT_BUREAU_QRT</th>\n",
       "      <th>AMT_REQ_CREDIT_BUREAU_WEEK</th>\n",
       "      <th>AMT_REQ_CREDIT_BUREAU_YEAR</th>\n",
       "      <th>...</th>\n",
       "      <th>PREVIOUS_AMT_APPLICATION_sum</th>\n",
       "      <th>PREVIOUS_DAYS_FIRST_DRAWING_min</th>\n",
       "      <th>PREVIOUS_DAYS_FIRST_DRAWING_mean</th>\n",
       "      <th>PREVIOUS_DAYS_FIRST_DRAWING_max</th>\n",
       "      <th>PREVIOUS_RATE_INTEREST_PRIMARY_min</th>\n",
       "      <th>PREVIOUS_RATE_INTEREST_PRIMARY_mean</th>\n",
       "      <th>PREVIOUS_RATE_INTEREST_PRIMARY_max</th>\n",
       "      <th>PREVIOUS_RATE_INTEREST_PRIVILEGED_min</th>\n",
       "      <th>PREVIOUS_RATE_INTEREST_PRIVILEGED_mean</th>\n",
       "      <th>PREVIOUS_RATE_INTEREST_PRIVILEGED_max</th>\n",
       "    </tr>\n",
       "  </thead>\n",
       "  <tbody>\n",
       "    <tr>\n",
       "      <th>AMT_ANNUITY</th>\n",
       "      <td>1.000000</td>\n",
       "      <td>0.765286</td>\n",
       "      <td>0.770453</td>\n",
       "      <td>0.384267</td>\n",
       "      <td>0.005612</td>\n",
       "      <td>0.012980</td>\n",
       "      <td>0.037003</td>\n",
       "      <td>0.007532</td>\n",
       "      <td>0.015152</td>\n",
       "      <td>0.021565</td>\n",
       "      <td>...</td>\n",
       "      <td>0.119912</td>\n",
       "      <td>0.066410</td>\n",
       "      <td>0.066530</td>\n",
       "      <td>0.066558</td>\n",
       "      <td>0.044485</td>\n",
       "      <td>0.044649</td>\n",
       "      <td>0.044779</td>\n",
       "      <td>0.009809</td>\n",
       "      <td>0.010273</td>\n",
       "      <td>0.010651</td>\n",
       "    </tr>\n",
       "    <tr>\n",
       "      <th>AMT_CREDIT</th>\n",
       "      <td>0.765286</td>\n",
       "      <td>1.000000</td>\n",
       "      <td>0.986994</td>\n",
       "      <td>0.283972</td>\n",
       "      <td>0.011921</td>\n",
       "      <td>0.021443</td>\n",
       "      <td>0.067712</td>\n",
       "      <td>0.001698</td>\n",
       "      <td>0.010330</td>\n",
       "      <td>0.050130</td>\n",
       "      <td>...</td>\n",
       "      <td>0.121805</td>\n",
       "      <td>0.138699</td>\n",
       "      <td>0.139318</td>\n",
       "      <td>0.139743</td>\n",
       "      <td>0.020047</td>\n",
       "      <td>0.019950</td>\n",
       "      <td>0.019837</td>\n",
       "      <td>0.019384</td>\n",
       "      <td>0.019910</td>\n",
       "      <td>0.020267</td>\n",
       "    </tr>\n",
       "    <tr>\n",
       "      <th>AMT_GOODS_PRICE</th>\n",
       "      <td>0.770453</td>\n",
       "      <td>0.986994</td>\n",
       "      <td>1.000000</td>\n",
       "      <td>0.290709</td>\n",
       "      <td>0.012141</td>\n",
       "      <td>0.019394</td>\n",
       "      <td>0.068698</td>\n",
       "      <td>0.004297</td>\n",
       "      <td>0.009436</td>\n",
       "      <td>0.050537</td>\n",
       "      <td>...</td>\n",
       "      <td>0.124806</td>\n",
       "      <td>0.142620</td>\n",
       "      <td>0.143291</td>\n",
       "      <td>0.143764</td>\n",
       "      <td>0.026279</td>\n",
       "      <td>0.026026</td>\n",
       "      <td>0.025752</td>\n",
       "      <td>0.020505</td>\n",
       "      <td>0.021584</td>\n",
       "      <td>0.022482</td>\n",
       "    </tr>\n",
       "    <tr>\n",
       "      <th>AMT_INCOME_TOTAL</th>\n",
       "      <td>0.384267</td>\n",
       "      <td>0.283972</td>\n",
       "      <td>0.290709</td>\n",
       "      <td>1.000000</td>\n",
       "      <td>0.008817</td>\n",
       "      <td>0.005623</td>\n",
       "      <td>0.044932</td>\n",
       "      <td>0.003490</td>\n",
       "      <td>0.009971</td>\n",
       "      <td>0.007352</td>\n",
       "      <td>...</td>\n",
       "      <td>0.190404</td>\n",
       "      <td>0.017341</td>\n",
       "      <td>0.017038</td>\n",
       "      <td>0.016710</td>\n",
       "      <td>0.038100</td>\n",
       "      <td>0.036706</td>\n",
       "      <td>0.035283</td>\n",
       "      <td>0.094761</td>\n",
       "      <td>0.090525</td>\n",
       "      <td>0.085494</td>\n",
       "    </tr>\n",
       "    <tr>\n",
       "      <th>AMT_REQ_CREDIT_BUREAU_DAY</th>\n",
       "      <td>0.005612</td>\n",
       "      <td>0.011921</td>\n",
       "      <td>0.012141</td>\n",
       "      <td>0.008817</td>\n",
       "      <td>1.000000</td>\n",
       "      <td>0.367286</td>\n",
       "      <td>0.002859</td>\n",
       "      <td>0.002388</td>\n",
       "      <td>0.214875</td>\n",
       "      <td>0.024567</td>\n",
       "      <td>...</td>\n",
       "      <td>0.010056</td>\n",
       "      <td>0.005599</td>\n",
       "      <td>0.005516</td>\n",
       "      <td>0.005425</td>\n",
       "      <td>0.014044</td>\n",
       "      <td>0.013868</td>\n",
       "      <td>0.013683</td>\n",
       "      <td>0.079461</td>\n",
       "      <td>0.079305</td>\n",
       "      <td>0.078638</td>\n",
       "    </tr>\n",
       "  </tbody>\n",
       "</table>\n",
       "<p>5 rows × 880 columns</p>\n",
       "</div>"
      ],
      "text/plain": [
       "                           AMT_ANNUITY  AMT_CREDIT  AMT_GOODS_PRICE  \\\n",
       "AMT_ANNUITY                   1.000000    0.765286         0.770453   \n",
       "AMT_CREDIT                    0.765286    1.000000         0.986994   \n",
       "AMT_GOODS_PRICE               0.770453    0.986994         1.000000   \n",
       "AMT_INCOME_TOTAL              0.384267    0.283972         0.290709   \n",
       "AMT_REQ_CREDIT_BUREAU_DAY     0.005612    0.011921         0.012141   \n",
       "\n",
       "                           AMT_INCOME_TOTAL  AMT_REQ_CREDIT_BUREAU_DAY  \\\n",
       "AMT_ANNUITY                        0.384267                   0.005612   \n",
       "AMT_CREDIT                         0.283972                   0.011921   \n",
       "AMT_GOODS_PRICE                    0.290709                   0.012141   \n",
       "AMT_INCOME_TOTAL                   1.000000                   0.008817   \n",
       "AMT_REQ_CREDIT_BUREAU_DAY          0.008817                   1.000000   \n",
       "\n",
       "                           AMT_REQ_CREDIT_BUREAU_HOUR  \\\n",
       "AMT_ANNUITY                                  0.012980   \n",
       "AMT_CREDIT                                   0.021443   \n",
       "AMT_GOODS_PRICE                              0.019394   \n",
       "AMT_INCOME_TOTAL                             0.005623   \n",
       "AMT_REQ_CREDIT_BUREAU_DAY                    0.367286   \n",
       "\n",
       "                           AMT_REQ_CREDIT_BUREAU_MON  \\\n",
       "AMT_ANNUITY                                 0.037003   \n",
       "AMT_CREDIT                                  0.067712   \n",
       "AMT_GOODS_PRICE                             0.068698   \n",
       "AMT_INCOME_TOTAL                            0.044932   \n",
       "AMT_REQ_CREDIT_BUREAU_DAY                   0.002859   \n",
       "\n",
       "                           AMT_REQ_CREDIT_BUREAU_QRT  \\\n",
       "AMT_ANNUITY                                 0.007532   \n",
       "AMT_CREDIT                                  0.001698   \n",
       "AMT_GOODS_PRICE                             0.004297   \n",
       "AMT_INCOME_TOTAL                            0.003490   \n",
       "AMT_REQ_CREDIT_BUREAU_DAY                   0.002388   \n",
       "\n",
       "                           AMT_REQ_CREDIT_BUREAU_WEEK  \\\n",
       "AMT_ANNUITY                                  0.015152   \n",
       "AMT_CREDIT                                   0.010330   \n",
       "AMT_GOODS_PRICE                              0.009436   \n",
       "AMT_INCOME_TOTAL                             0.009971   \n",
       "AMT_REQ_CREDIT_BUREAU_DAY                    0.214875   \n",
       "\n",
       "                           AMT_REQ_CREDIT_BUREAU_YEAR  \\\n",
       "AMT_ANNUITY                                  0.021565   \n",
       "AMT_CREDIT                                   0.050130   \n",
       "AMT_GOODS_PRICE                              0.050537   \n",
       "AMT_INCOME_TOTAL                             0.007352   \n",
       "AMT_REQ_CREDIT_BUREAU_DAY                    0.024567   \n",
       "\n",
       "                                           ...                    \\\n",
       "AMT_ANNUITY                                ...                     \n",
       "AMT_CREDIT                                 ...                     \n",
       "AMT_GOODS_PRICE                            ...                     \n",
       "AMT_INCOME_TOTAL                           ...                     \n",
       "AMT_REQ_CREDIT_BUREAU_DAY                  ...                     \n",
       "\n",
       "                           PREVIOUS_AMT_APPLICATION_sum  \\\n",
       "AMT_ANNUITY                                    0.119912   \n",
       "AMT_CREDIT                                     0.121805   \n",
       "AMT_GOODS_PRICE                                0.124806   \n",
       "AMT_INCOME_TOTAL                               0.190404   \n",
       "AMT_REQ_CREDIT_BUREAU_DAY                      0.010056   \n",
       "\n",
       "                           PREVIOUS_DAYS_FIRST_DRAWING_min  \\\n",
       "AMT_ANNUITY                                       0.066410   \n",
       "AMT_CREDIT                                        0.138699   \n",
       "AMT_GOODS_PRICE                                   0.142620   \n",
       "AMT_INCOME_TOTAL                                  0.017341   \n",
       "AMT_REQ_CREDIT_BUREAU_DAY                         0.005599   \n",
       "\n",
       "                           PREVIOUS_DAYS_FIRST_DRAWING_mean  \\\n",
       "AMT_ANNUITY                                        0.066530   \n",
       "AMT_CREDIT                                         0.139318   \n",
       "AMT_GOODS_PRICE                                    0.143291   \n",
       "AMT_INCOME_TOTAL                                   0.017038   \n",
       "AMT_REQ_CREDIT_BUREAU_DAY                          0.005516   \n",
       "\n",
       "                           PREVIOUS_DAYS_FIRST_DRAWING_max  \\\n",
       "AMT_ANNUITY                                       0.066558   \n",
       "AMT_CREDIT                                        0.139743   \n",
       "AMT_GOODS_PRICE                                   0.143764   \n",
       "AMT_INCOME_TOTAL                                  0.016710   \n",
       "AMT_REQ_CREDIT_BUREAU_DAY                         0.005425   \n",
       "\n",
       "                           PREVIOUS_RATE_INTEREST_PRIMARY_min  \\\n",
       "AMT_ANNUITY                                          0.044485   \n",
       "AMT_CREDIT                                           0.020047   \n",
       "AMT_GOODS_PRICE                                      0.026279   \n",
       "AMT_INCOME_TOTAL                                     0.038100   \n",
       "AMT_REQ_CREDIT_BUREAU_DAY                            0.014044   \n",
       "\n",
       "                           PREVIOUS_RATE_INTEREST_PRIMARY_mean  \\\n",
       "AMT_ANNUITY                                           0.044649   \n",
       "AMT_CREDIT                                            0.019950   \n",
       "AMT_GOODS_PRICE                                       0.026026   \n",
       "AMT_INCOME_TOTAL                                      0.036706   \n",
       "AMT_REQ_CREDIT_BUREAU_DAY                             0.013868   \n",
       "\n",
       "                           PREVIOUS_RATE_INTEREST_PRIMARY_max  \\\n",
       "AMT_ANNUITY                                          0.044779   \n",
       "AMT_CREDIT                                           0.019837   \n",
       "AMT_GOODS_PRICE                                      0.025752   \n",
       "AMT_INCOME_TOTAL                                     0.035283   \n",
       "AMT_REQ_CREDIT_BUREAU_DAY                            0.013683   \n",
       "\n",
       "                           PREVIOUS_RATE_INTEREST_PRIVILEGED_min  \\\n",
       "AMT_ANNUITY                                             0.009809   \n",
       "AMT_CREDIT                                              0.019384   \n",
       "AMT_GOODS_PRICE                                         0.020505   \n",
       "AMT_INCOME_TOTAL                                        0.094761   \n",
       "AMT_REQ_CREDIT_BUREAU_DAY                               0.079461   \n",
       "\n",
       "                           PREVIOUS_RATE_INTEREST_PRIVILEGED_mean  \\\n",
       "AMT_ANNUITY                                              0.010273   \n",
       "AMT_CREDIT                                               0.019910   \n",
       "AMT_GOODS_PRICE                                          0.021584   \n",
       "AMT_INCOME_TOTAL                                         0.090525   \n",
       "AMT_REQ_CREDIT_BUREAU_DAY                                0.079305   \n",
       "\n",
       "                           PREVIOUS_RATE_INTEREST_PRIVILEGED_max  \n",
       "AMT_ANNUITY                                             0.010651  \n",
       "AMT_CREDIT                                              0.020267  \n",
       "AMT_GOODS_PRICE                                         0.022482  \n",
       "AMT_INCOME_TOTAL                                        0.085494  \n",
       "AMT_REQ_CREDIT_BUREAU_DAY                               0.078638  \n",
       "\n",
       "[5 rows x 880 columns]"
      ]
     },
     "execution_count": 7,
     "metadata": {},
     "output_type": "execute_result"
    }
   ],
   "source": [
    "threshold = 0.9\n",
    "corr_matrix = all_data.sample(10000).corr().abs()\n",
    "corr_matrix.head()"
   ]
  },
  {
   "cell_type": "code",
   "execution_count": 8,
   "metadata": {},
   "outputs": [
    {
     "data": {
      "text/html": [
       "<div>\n",
       "<style scoped>\n",
       "    .dataframe tbody tr th:only-of-type {\n",
       "        vertical-align: middle;\n",
       "    }\n",
       "\n",
       "    .dataframe tbody tr th {\n",
       "        vertical-align: top;\n",
       "    }\n",
       "\n",
       "    .dataframe thead th {\n",
       "        text-align: right;\n",
       "    }\n",
       "</style>\n",
       "<table border=\"1\" class=\"dataframe\">\n",
       "  <thead>\n",
       "    <tr style=\"text-align: right;\">\n",
       "      <th></th>\n",
       "      <th>AMT_ANNUITY</th>\n",
       "      <th>AMT_CREDIT</th>\n",
       "      <th>AMT_GOODS_PRICE</th>\n",
       "      <th>AMT_INCOME_TOTAL</th>\n",
       "      <th>AMT_REQ_CREDIT_BUREAU_DAY</th>\n",
       "      <th>AMT_REQ_CREDIT_BUREAU_HOUR</th>\n",
       "      <th>AMT_REQ_CREDIT_BUREAU_MON</th>\n",
       "      <th>AMT_REQ_CREDIT_BUREAU_QRT</th>\n",
       "      <th>AMT_REQ_CREDIT_BUREAU_WEEK</th>\n",
       "      <th>AMT_REQ_CREDIT_BUREAU_YEAR</th>\n",
       "      <th>...</th>\n",
       "      <th>PREVIOUS_AMT_APPLICATION_sum</th>\n",
       "      <th>PREVIOUS_DAYS_FIRST_DRAWING_min</th>\n",
       "      <th>PREVIOUS_DAYS_FIRST_DRAWING_mean</th>\n",
       "      <th>PREVIOUS_DAYS_FIRST_DRAWING_max</th>\n",
       "      <th>PREVIOUS_RATE_INTEREST_PRIMARY_min</th>\n",
       "      <th>PREVIOUS_RATE_INTEREST_PRIMARY_mean</th>\n",
       "      <th>PREVIOUS_RATE_INTEREST_PRIMARY_max</th>\n",
       "      <th>PREVIOUS_RATE_INTEREST_PRIVILEGED_min</th>\n",
       "      <th>PREVIOUS_RATE_INTEREST_PRIVILEGED_mean</th>\n",
       "      <th>PREVIOUS_RATE_INTEREST_PRIVILEGED_max</th>\n",
       "    </tr>\n",
       "  </thead>\n",
       "  <tbody>\n",
       "    <tr>\n",
       "      <th>AMT_ANNUITY</th>\n",
       "      <td>NaN</td>\n",
       "      <td>0.765286</td>\n",
       "      <td>0.770453</td>\n",
       "      <td>0.384267</td>\n",
       "      <td>0.005612</td>\n",
       "      <td>0.012980</td>\n",
       "      <td>0.037003</td>\n",
       "      <td>0.007532</td>\n",
       "      <td>0.015152</td>\n",
       "      <td>0.021565</td>\n",
       "      <td>...</td>\n",
       "      <td>0.119912</td>\n",
       "      <td>0.066410</td>\n",
       "      <td>0.066530</td>\n",
       "      <td>0.066558</td>\n",
       "      <td>0.044485</td>\n",
       "      <td>0.044649</td>\n",
       "      <td>0.044779</td>\n",
       "      <td>0.009809</td>\n",
       "      <td>0.010273</td>\n",
       "      <td>0.010651</td>\n",
       "    </tr>\n",
       "    <tr>\n",
       "      <th>AMT_CREDIT</th>\n",
       "      <td>NaN</td>\n",
       "      <td>NaN</td>\n",
       "      <td>0.986994</td>\n",
       "      <td>0.283972</td>\n",
       "      <td>0.011921</td>\n",
       "      <td>0.021443</td>\n",
       "      <td>0.067712</td>\n",
       "      <td>0.001698</td>\n",
       "      <td>0.010330</td>\n",
       "      <td>0.050130</td>\n",
       "      <td>...</td>\n",
       "      <td>0.121805</td>\n",
       "      <td>0.138699</td>\n",
       "      <td>0.139318</td>\n",
       "      <td>0.139743</td>\n",
       "      <td>0.020047</td>\n",
       "      <td>0.019950</td>\n",
       "      <td>0.019837</td>\n",
       "      <td>0.019384</td>\n",
       "      <td>0.019910</td>\n",
       "      <td>0.020267</td>\n",
       "    </tr>\n",
       "    <tr>\n",
       "      <th>AMT_GOODS_PRICE</th>\n",
       "      <td>NaN</td>\n",
       "      <td>NaN</td>\n",
       "      <td>NaN</td>\n",
       "      <td>0.290709</td>\n",
       "      <td>0.012141</td>\n",
       "      <td>0.019394</td>\n",
       "      <td>0.068698</td>\n",
       "      <td>0.004297</td>\n",
       "      <td>0.009436</td>\n",
       "      <td>0.050537</td>\n",
       "      <td>...</td>\n",
       "      <td>0.124806</td>\n",
       "      <td>0.142620</td>\n",
       "      <td>0.143291</td>\n",
       "      <td>0.143764</td>\n",
       "      <td>0.026279</td>\n",
       "      <td>0.026026</td>\n",
       "      <td>0.025752</td>\n",
       "      <td>0.020505</td>\n",
       "      <td>0.021584</td>\n",
       "      <td>0.022482</td>\n",
       "    </tr>\n",
       "    <tr>\n",
       "      <th>AMT_INCOME_TOTAL</th>\n",
       "      <td>NaN</td>\n",
       "      <td>NaN</td>\n",
       "      <td>NaN</td>\n",
       "      <td>NaN</td>\n",
       "      <td>0.008817</td>\n",
       "      <td>0.005623</td>\n",
       "      <td>0.044932</td>\n",
       "      <td>0.003490</td>\n",
       "      <td>0.009971</td>\n",
       "      <td>0.007352</td>\n",
       "      <td>...</td>\n",
       "      <td>0.190404</td>\n",
       "      <td>0.017341</td>\n",
       "      <td>0.017038</td>\n",
       "      <td>0.016710</td>\n",
       "      <td>0.038100</td>\n",
       "      <td>0.036706</td>\n",
       "      <td>0.035283</td>\n",
       "      <td>0.094761</td>\n",
       "      <td>0.090525</td>\n",
       "      <td>0.085494</td>\n",
       "    </tr>\n",
       "    <tr>\n",
       "      <th>AMT_REQ_CREDIT_BUREAU_DAY</th>\n",
       "      <td>NaN</td>\n",
       "      <td>NaN</td>\n",
       "      <td>NaN</td>\n",
       "      <td>NaN</td>\n",
       "      <td>NaN</td>\n",
       "      <td>0.367286</td>\n",
       "      <td>0.002859</td>\n",
       "      <td>0.002388</td>\n",
       "      <td>0.214875</td>\n",
       "      <td>0.024567</td>\n",
       "      <td>...</td>\n",
       "      <td>0.010056</td>\n",
       "      <td>0.005599</td>\n",
       "      <td>0.005516</td>\n",
       "      <td>0.005425</td>\n",
       "      <td>0.014044</td>\n",
       "      <td>0.013868</td>\n",
       "      <td>0.013683</td>\n",
       "      <td>0.079461</td>\n",
       "      <td>0.079305</td>\n",
       "      <td>0.078638</td>\n",
       "    </tr>\n",
       "  </tbody>\n",
       "</table>\n",
       "<p>5 rows × 880 columns</p>\n",
       "</div>"
      ],
      "text/plain": [
       "                           AMT_ANNUITY  AMT_CREDIT  AMT_GOODS_PRICE  \\\n",
       "AMT_ANNUITY                        NaN    0.765286         0.770453   \n",
       "AMT_CREDIT                         NaN         NaN         0.986994   \n",
       "AMT_GOODS_PRICE                    NaN         NaN              NaN   \n",
       "AMT_INCOME_TOTAL                   NaN         NaN              NaN   \n",
       "AMT_REQ_CREDIT_BUREAU_DAY          NaN         NaN              NaN   \n",
       "\n",
       "                           AMT_INCOME_TOTAL  AMT_REQ_CREDIT_BUREAU_DAY  \\\n",
       "AMT_ANNUITY                        0.384267                   0.005612   \n",
       "AMT_CREDIT                         0.283972                   0.011921   \n",
       "AMT_GOODS_PRICE                    0.290709                   0.012141   \n",
       "AMT_INCOME_TOTAL                        NaN                   0.008817   \n",
       "AMT_REQ_CREDIT_BUREAU_DAY               NaN                        NaN   \n",
       "\n",
       "                           AMT_REQ_CREDIT_BUREAU_HOUR  \\\n",
       "AMT_ANNUITY                                  0.012980   \n",
       "AMT_CREDIT                                   0.021443   \n",
       "AMT_GOODS_PRICE                              0.019394   \n",
       "AMT_INCOME_TOTAL                             0.005623   \n",
       "AMT_REQ_CREDIT_BUREAU_DAY                    0.367286   \n",
       "\n",
       "                           AMT_REQ_CREDIT_BUREAU_MON  \\\n",
       "AMT_ANNUITY                                 0.037003   \n",
       "AMT_CREDIT                                  0.067712   \n",
       "AMT_GOODS_PRICE                             0.068698   \n",
       "AMT_INCOME_TOTAL                            0.044932   \n",
       "AMT_REQ_CREDIT_BUREAU_DAY                   0.002859   \n",
       "\n",
       "                           AMT_REQ_CREDIT_BUREAU_QRT  \\\n",
       "AMT_ANNUITY                                 0.007532   \n",
       "AMT_CREDIT                                  0.001698   \n",
       "AMT_GOODS_PRICE                             0.004297   \n",
       "AMT_INCOME_TOTAL                            0.003490   \n",
       "AMT_REQ_CREDIT_BUREAU_DAY                   0.002388   \n",
       "\n",
       "                           AMT_REQ_CREDIT_BUREAU_WEEK  \\\n",
       "AMT_ANNUITY                                  0.015152   \n",
       "AMT_CREDIT                                   0.010330   \n",
       "AMT_GOODS_PRICE                              0.009436   \n",
       "AMT_INCOME_TOTAL                             0.009971   \n",
       "AMT_REQ_CREDIT_BUREAU_DAY                    0.214875   \n",
       "\n",
       "                           AMT_REQ_CREDIT_BUREAU_YEAR  \\\n",
       "AMT_ANNUITY                                  0.021565   \n",
       "AMT_CREDIT                                   0.050130   \n",
       "AMT_GOODS_PRICE                              0.050537   \n",
       "AMT_INCOME_TOTAL                             0.007352   \n",
       "AMT_REQ_CREDIT_BUREAU_DAY                    0.024567   \n",
       "\n",
       "                                           ...                    \\\n",
       "AMT_ANNUITY                                ...                     \n",
       "AMT_CREDIT                                 ...                     \n",
       "AMT_GOODS_PRICE                            ...                     \n",
       "AMT_INCOME_TOTAL                           ...                     \n",
       "AMT_REQ_CREDIT_BUREAU_DAY                  ...                     \n",
       "\n",
       "                           PREVIOUS_AMT_APPLICATION_sum  \\\n",
       "AMT_ANNUITY                                    0.119912   \n",
       "AMT_CREDIT                                     0.121805   \n",
       "AMT_GOODS_PRICE                                0.124806   \n",
       "AMT_INCOME_TOTAL                               0.190404   \n",
       "AMT_REQ_CREDIT_BUREAU_DAY                      0.010056   \n",
       "\n",
       "                           PREVIOUS_DAYS_FIRST_DRAWING_min  \\\n",
       "AMT_ANNUITY                                       0.066410   \n",
       "AMT_CREDIT                                        0.138699   \n",
       "AMT_GOODS_PRICE                                   0.142620   \n",
       "AMT_INCOME_TOTAL                                  0.017341   \n",
       "AMT_REQ_CREDIT_BUREAU_DAY                         0.005599   \n",
       "\n",
       "                           PREVIOUS_DAYS_FIRST_DRAWING_mean  \\\n",
       "AMT_ANNUITY                                        0.066530   \n",
       "AMT_CREDIT                                         0.139318   \n",
       "AMT_GOODS_PRICE                                    0.143291   \n",
       "AMT_INCOME_TOTAL                                   0.017038   \n",
       "AMT_REQ_CREDIT_BUREAU_DAY                          0.005516   \n",
       "\n",
       "                           PREVIOUS_DAYS_FIRST_DRAWING_max  \\\n",
       "AMT_ANNUITY                                       0.066558   \n",
       "AMT_CREDIT                                        0.139743   \n",
       "AMT_GOODS_PRICE                                   0.143764   \n",
       "AMT_INCOME_TOTAL                                  0.016710   \n",
       "AMT_REQ_CREDIT_BUREAU_DAY                         0.005425   \n",
       "\n",
       "                           PREVIOUS_RATE_INTEREST_PRIMARY_min  \\\n",
       "AMT_ANNUITY                                          0.044485   \n",
       "AMT_CREDIT                                           0.020047   \n",
       "AMT_GOODS_PRICE                                      0.026279   \n",
       "AMT_INCOME_TOTAL                                     0.038100   \n",
       "AMT_REQ_CREDIT_BUREAU_DAY                            0.014044   \n",
       "\n",
       "                           PREVIOUS_RATE_INTEREST_PRIMARY_mean  \\\n",
       "AMT_ANNUITY                                           0.044649   \n",
       "AMT_CREDIT                                            0.019950   \n",
       "AMT_GOODS_PRICE                                       0.026026   \n",
       "AMT_INCOME_TOTAL                                      0.036706   \n",
       "AMT_REQ_CREDIT_BUREAU_DAY                             0.013868   \n",
       "\n",
       "                           PREVIOUS_RATE_INTEREST_PRIMARY_max  \\\n",
       "AMT_ANNUITY                                          0.044779   \n",
       "AMT_CREDIT                                           0.019837   \n",
       "AMT_GOODS_PRICE                                      0.025752   \n",
       "AMT_INCOME_TOTAL                                     0.035283   \n",
       "AMT_REQ_CREDIT_BUREAU_DAY                            0.013683   \n",
       "\n",
       "                           PREVIOUS_RATE_INTEREST_PRIVILEGED_min  \\\n",
       "AMT_ANNUITY                                             0.009809   \n",
       "AMT_CREDIT                                              0.019384   \n",
       "AMT_GOODS_PRICE                                         0.020505   \n",
       "AMT_INCOME_TOTAL                                        0.094761   \n",
       "AMT_REQ_CREDIT_BUREAU_DAY                               0.079461   \n",
       "\n",
       "                           PREVIOUS_RATE_INTEREST_PRIVILEGED_mean  \\\n",
       "AMT_ANNUITY                                              0.010273   \n",
       "AMT_CREDIT                                               0.019910   \n",
       "AMT_GOODS_PRICE                                          0.021584   \n",
       "AMT_INCOME_TOTAL                                         0.090525   \n",
       "AMT_REQ_CREDIT_BUREAU_DAY                                0.079305   \n",
       "\n",
       "                           PREVIOUS_RATE_INTEREST_PRIVILEGED_max  \n",
       "AMT_ANNUITY                                             0.010651  \n",
       "AMT_CREDIT                                              0.020267  \n",
       "AMT_GOODS_PRICE                                         0.022482  \n",
       "AMT_INCOME_TOTAL                                        0.085494  \n",
       "AMT_REQ_CREDIT_BUREAU_DAY                               0.078638  \n",
       "\n",
       "[5 rows x 880 columns]"
      ]
     },
     "execution_count": 8,
     "metadata": {},
     "output_type": "execute_result"
    }
   ],
   "source": [
    "upper = corr_matrix.where(np.triu(np.ones(corr_matrix.shape),k=1).astype(np.bool))\n",
    "upper.head()"
   ]
  },
  {
   "cell_type": "code",
   "execution_count": 9,
   "metadata": {},
   "outputs": [
    {
     "name": "stdout",
     "output_type": "stream",
     "text": [
      "There are 201 columns to remove.\n"
     ]
    }
   ],
   "source": [
    "to_drop = [column for column in upper.columns if any(upper[column]>threshold)]\n",
    "print('There are {} columns to remove.'.format(len(to_drop)))"
   ]
  },
  {
   "cell_type": "markdown",
   "metadata": {},
   "source": [
    "从1000条样本的估计结果来看，有186组特征之间存在着高于90%的线性相关性。这些两两的特征组合中，需求删除其中一个，仅留下其中一个。"
   ]
  },
  {
   "cell_type": "code",
   "execution_count": 10,
   "metadata": {},
   "outputs": [
    {
     "name": "stdout",
     "output_type": "stream",
     "text": [
      "all_data shape: (356255, 679)\n"
     ]
    }
   ],
   "source": [
    "all_data = all_data.drop(columns=to_drop)\n",
    "print('all_data shape: {}'.format(all_data.shape))"
   ]
  },
  {
   "cell_type": "markdown",
   "metadata": {},
   "source": [
    "删除缺失率高于60%的特征"
   ]
  },
  {
   "cell_type": "code",
   "execution_count": 11,
   "metadata": {},
   "outputs": [
    {
     "data": {
      "text/plain": [
       "PREVIOUS_RATE_INTEREST_PRIVILEGED_min    0.983941\n",
       "COMMONAREA_AVG                           0.697141\n",
       "NONLIVINGAPARTMENTS_AVG                  0.692933\n",
       "FLOORSMIN_AVG                            0.676785\n",
       "BUREAU_LOAN_RATE_mean                    0.669316\n",
       "dtype: float64"
      ]
     },
     "execution_count": 11,
     "metadata": {},
     "output_type": "execute_result"
    }
   ],
   "source": [
    "data_missing = (all_data.isnull().sum() / len(all_data)).sort_values(ascending = False)\n",
    "data_missing.head()"
   ]
  },
  {
   "cell_type": "code",
   "execution_count": 12,
   "metadata": {},
   "outputs": [],
   "source": [
    "data_missing = data_missing.index[data_missing > 0.60]"
   ]
  },
  {
   "cell_type": "code",
   "execution_count": 13,
   "metadata": {},
   "outputs": [
    {
     "name": "stdout",
     "output_type": "stream",
     "text": [
      "There are 92 columns with more than 60% missing values\n"
     ]
    }
   ],
   "source": [
    "data_missing = list(data_missing)\n",
    "print('There are {} columns with more than 60% missing values'.format(len(data_missing)))"
   ]
  },
  {
   "cell_type": "code",
   "execution_count": 14,
   "metadata": {},
   "outputs": [
    {
     "name": "stdout",
     "output_type": "stream",
     "text": [
      "Data set full shape: (356255, 587)\n"
     ]
    }
   ],
   "source": [
    "all_data = all_data.drop(columns=data_missing)\n",
    "print('Data set full shape: {}'.format(all_data.shape))"
   ]
  },
  {
   "cell_type": "markdown",
   "metadata": {},
   "source": [
    "经过这样简单的特征选择之后，最终的预测特征还有587维。"
   ]
  },
  {
   "cell_type": "code",
   "execution_count": 15,
   "metadata": {},
   "outputs": [],
   "source": [
    "miss_ratios = all_data.isnull().mean()"
   ]
  },
  {
   "cell_type": "code",
   "execution_count": 16,
   "metadata": {},
   "outputs": [
    {
     "data": {
      "image/png": "[encoded data removed]",
      "text/plain": [
       "<Figure size 720x432 with 1 Axes>"
      ]
     },
     "metadata": {},
     "output_type": "display_data"
    }
   ],
   "source": [
    "plt.figure(figsize=(10,6))\n",
    "plt.hist(miss_ratios.values*100,bins=20)\n",
    "plt.xlabel('Missing ratio (%)')\n",
    "plt.ylabel('# count')\n",
    "plt.show()"
   ]
  },
  {
   "cell_type": "code",
   "execution_count": 17,
   "metadata": {},
   "outputs": [
    {
     "data": {
      "text/plain": [
       "float64    402\n",
       "dtype: int64"
      ]
     },
     "execution_count": 17,
     "metadata": {},
     "output_type": "execute_result"
    }
   ],
   "source": [
    "all_data.dtypes[miss_ratios>0].value_counts()"
   ]
  },
  {
   "cell_type": "markdown",
   "metadata": {},
   "source": [
    "仍然存在缺失情况的特征有406维，不过从上图中也看到，大部分的数据缺失比例已经不高了，控制在了15%以内。现阶段，我们采取以0填补缺失值的方式，有时间的话可以做更加细致的分析。"
   ]
  },
  {
   "cell_type": "code",
   "execution_count": 18,
   "metadata": {},
   "outputs": [],
   "source": [
    "all_data = all_data.fillna(0)"
   ]
  },
  {
   "cell_type": "code",
   "execution_count": 19,
   "metadata": {},
   "outputs": [
    {
     "data": {
      "text/plain": [
       "0"
      ]
     },
     "execution_count": 19,
     "metadata": {},
     "output_type": "execute_result"
    }
   ],
   "source": [
    "all_data.isnull().sum().sum()"
   ]
  },
  {
   "cell_type": "code",
   "execution_count": 20,
   "metadata": {},
   "outputs": [],
   "source": [
    "feature_names = all_data.columns.tolist()"
   ]
  },
  {
   "cell_type": "code",
   "execution_count": 21,
   "metadata": {},
   "outputs": [
    {
     "data": {
      "text/plain": [
       "3318"
      ]
     },
     "execution_count": 21,
     "metadata": {},
     "output_type": "execute_result"
    }
   ],
   "source": [
    "gc.collect()"
   ]
  },
  {
   "cell_type": "markdown",
   "metadata": {},
   "source": [
    "#### 特征归一化\n",
    "将预测变量的范围都归一化到[0,1]之间，对于一些对特征大小敏感的算法，这样可以使得各个特征权重在同一个水平，更容易找到好的模型解。"
   ]
  },
  {
   "cell_type": "markdown",
   "metadata": {},
   "source": [
    "受限于电脑内存，不能调用sklearn的MinMaxScaler的函数，自己编写了一个循环体也能执行同样的操作"
   ]
  },
  {
   "cell_type": "code",
   "execution_count": 22,
   "metadata": {},
   "outputs": [
    {
     "name": "stderr",
     "output_type": "stream",
     "text": [
      "100%|██████████| 587/587 [00:30<00:00, 19.06it/s]\n"
     ]
    }
   ],
   "source": [
    "for col in tqdm(feature_names):\n",
    "    all_data[col] = (all_data[col]-all_data[col].min())/(all_data[col].max()-all_data[col].min())"
   ]
  },
  {
   "cell_type": "markdown",
   "metadata": {},
   "source": [
    "将预测变量重新分割为训练集和测试集"
   ]
  },
  {
   "cell_type": "code",
   "execution_count": 23,
   "metadata": {},
   "outputs": [],
   "source": [
    "x_train = all_data[Target.notnull()]\n",
    "x_test = all_data[Target.isnull()]\n",
    "y_train = Target[Target.notnull()]\n",
    "y_test = Target[Target.isna()]"
   ]
  },
  {
   "cell_type": "code",
   "execution_count": 24,
   "metadata": {},
   "outputs": [
    {
     "name": "stdout",
     "output_type": "stream",
     "text": [
      "(307511, 587)\n",
      "(48744, 587)\n"
     ]
    }
   ],
   "source": [
    "print(x_train.shape)\n",
    "print(x_test.shape)"
   ]
  },
  {
   "cell_type": "code",
   "execution_count": 25,
   "metadata": {},
   "outputs": [],
   "source": [
    "del all_data, Target"
   ]
  },
  {
   "cell_type": "markdown",
   "metadata": {},
   "source": [
    "## 2模型选择"
   ]
  },
  {
   "cell_type": "markdown",
   "metadata": {},
   "source": [
    "#### 简单模型 1: Logistic Regression"
   ]
  },
  {
   "cell_type": "code",
   "execution_count": 26,
   "metadata": {},
   "outputs": [],
   "source": [
    "from sklearn.linear_model import LogisticRegression\n",
    "from sklearn.model_selection import cross_val_score\n",
    "from sklearn.metrics import roc_auc_score,roc_curve"
   ]
  },
  {
   "cell_type": "markdown",
   "metadata": {},
   "source": [
    "5-fold交叉验证法"
   ]
  },
  {
   "cell_type": "code",
   "execution_count": 27,
   "metadata": {},
   "outputs": [
    {
     "name": "stderr",
     "output_type": "stream",
     "text": [
      "[Parallel(n_jobs=2)]: Done   5 out of   5 | elapsed:  1.2min finished\n"
     ]
    }
   ],
   "source": [
    "lr_fit = LogisticRegression(C=1e-3,class_weight='balanced',penalty='l2',random_state=1,max_iter=1000,n_jobs=1)\n",
    "lr_cv = cross_val_score(estimator=lr_fit,X=x_train,y=y_train,cv=5,scoring='roc_auc',n_jobs=2,verbose=True)"
   ]
  },
  {
   "cell_type": "code",
   "execution_count": 28,
   "metadata": {},
   "outputs": [
    {
     "data": {
      "text/plain": [
       "0.7573542603370559"
      ]
     },
     "execution_count": 28,
     "metadata": {},
     "output_type": "execute_result"
    }
   ],
   "source": [
    "lr_cv.mean()"
   ]
  },
  {
   "cell_type": "code",
   "execution_count": 29,
   "metadata": {},
   "outputs": [
    {
     "data": {
      "text/plain": [
       "LogisticRegression(C=0.001, class_weight='balanced', dual=False,\n",
       "          fit_intercept=True, intercept_scaling=1, max_iter=1000,\n",
       "          multi_class='ovr', n_jobs=1, penalty='l2', random_state=1,\n",
       "          solver='liblinear', tol=0.0001, verbose=0, warm_start=False)"
      ]
     },
     "execution_count": 29,
     "metadata": {},
     "output_type": "execute_result"
    }
   ],
   "source": [
    "lr_fit.fit(x_train,y_train)"
   ]
  },
  {
   "cell_type": "markdown",
   "metadata": {},
   "source": [
    "5-fold交叉验证的结果，逻辑回归的验证集AUC均值为0.757。"
   ]
  },
  {
   "cell_type": "code",
   "execution_count": 30,
   "metadata": {},
   "outputs": [],
   "source": [
    "lr_pred_train = lr_fit.predict_proba(x_train)[:,1]"
   ]
  },
  {
   "cell_type": "code",
   "execution_count": 31,
   "metadata": {},
   "outputs": [],
   "source": [
    "fpr,tpr,_ = roc_curve(y_true=y_train,y_score=lr_pred_train)\n",
    "auc_score = roc_auc_score(y_true=y_train,y_score=lr_pred_train)"
   ]
  },
  {
   "cell_type": "code",
   "execution_count": 32,
   "metadata": {},
   "outputs": [
    {
     "data": {
      "image/png": "[encoded data removed]",
      "text/plain": [
       "<Figure size 648x504 with 1 Axes>"
      ]
     },
     "metadata": {},
     "output_type": "display_data"
    }
   ],
   "source": [
    "plt.figure(figsize=(9,7))\n",
    "plt.plot(fpr,tpr,linewidth=2,label='lr_roc_curve')\n",
    "plt.plot([0,1],[0,1],'k--',linewidth=2)\n",
    "plt.xlim([0,1])\n",
    "plt.xlabel('False Prositive Rate(%) FPR')\n",
    "plt.ylim([0,1])\n",
    "plt.ylabel('True Prositive Rate(%) TPR')\n",
    "plt.title(\"Training AUC Score = {:.4f} by Logistic Regression\".format(auc_score))\n",
    "plt.show()"
   ]
  },
  {
   "cell_type": "code",
   "execution_count": 33,
   "metadata": {},
   "outputs": [],
   "source": [
    "lr_pred = lr_fit.predict_proba(x_test)[:,1]"
   ]
  },
  {
   "cell_type": "code",
   "execution_count": 34,
   "metadata": {},
   "outputs": [
    {
     "data": {
      "text/html": [
       "<div>\n",
       "<style scoped>\n",
       "    .dataframe tbody tr th:only-of-type {\n",
       "        vertical-align: middle;\n",
       "    }\n",
       "\n",
       "    .dataframe tbody tr th {\n",
       "        vertical-align: top;\n",
       "    }\n",
       "\n",
       "    .dataframe thead th {\n",
       "        text-align: right;\n",
       "    }\n",
       "</style>\n",
       "<table border=\"1\" class=\"dataframe\">\n",
       "  <thead>\n",
       "    <tr style=\"text-align: right;\">\n",
       "      <th></th>\n",
       "      <th>SK_ID_CURR</th>\n",
       "      <th>TARGET</th>\n",
       "    </tr>\n",
       "  </thead>\n",
       "  <tbody>\n",
       "    <tr>\n",
       "      <th>0</th>\n",
       "      <td>100001</td>\n",
       "      <td>0.5</td>\n",
       "    </tr>\n",
       "    <tr>\n",
       "      <th>1</th>\n",
       "      <td>100005</td>\n",
       "      <td>0.5</td>\n",
       "    </tr>\n",
       "    <tr>\n",
       "      <th>2</th>\n",
       "      <td>100013</td>\n",
       "      <td>0.5</td>\n",
       "    </tr>\n",
       "    <tr>\n",
       "      <th>3</th>\n",
       "      <td>100028</td>\n",
       "      <td>0.5</td>\n",
       "    </tr>\n",
       "    <tr>\n",
       "      <th>4</th>\n",
       "      <td>100038</td>\n",
       "      <td>0.5</td>\n",
       "    </tr>\n",
       "  </tbody>\n",
       "</table>\n",
       "</div>"
      ],
      "text/plain": [
       "   SK_ID_CURR  TARGET\n",
       "0      100001     0.5\n",
       "1      100005     0.5\n",
       "2      100013     0.5\n",
       "3      100028     0.5\n",
       "4      100038     0.5"
      ]
     },
     "metadata": {},
     "output_type": "display_data"
    }
   ],
   "source": [
    "submit = pd.read_csv(\"../data/sample_submission.csv\")\n",
    "display(submit.head())"
   ]
  },
  {
   "cell_type": "code",
   "execution_count": 35,
   "metadata": {},
   "outputs": [],
   "source": [
    "lr_submit = submit.copy()\n",
    "lr_submit['TARGET'] = lr_pred"
   ]
  },
  {
   "cell_type": "code",
   "execution_count": 36,
   "metadata": {},
   "outputs": [],
   "source": [
    "lr_submit.to_csv(\"../data/lr_submit.csv\",index=False)"
   ]
  },
  {
   "cell_type": "markdown",
   "metadata": {},
   "source": [
    "public score: 0.758"
   ]
  },
  {
   "cell_type": "markdown",
   "metadata": {},
   "source": [
    "#### LightGBM"
   ]
  },
  {
   "cell_type": "code",
   "execution_count": 38,
   "metadata": {},
   "outputs": [],
   "source": [
    "import lightgbm as lgb\n",
    "from sklearn.model_selection import train_test_split"
   ]
  },
  {
   "cell_type": "code",
   "execution_count": 39,
   "metadata": {},
   "outputs": [],
   "source": [
    "predictor_names = x_train.columns.tolist()\n",
    "categorical_features = None"
   ]
  },
  {
   "cell_type": "code",
   "execution_count": 53,
   "metadata": {},
   "outputs": [],
   "source": [
    "Dtrain = lgb.Dataset(data=x_train.values,label=y_train.values,free_raw_data=False)\n",
    "train_X,valid_X,train_y,valid_y = train_test_split(x_train,y_train,stratify=y_train,random_state=2018)\n",
    "dtrain = lgb.Dataset(data=train_X.values,label=train_y.values,feature_name=predictor_names,categorical_feature=None,free_raw_data=False)\n",
    "dvalid = lgb.Dataset(data=valid_X.values,label=valid_y.values,feature_name=predictor_names,categorical_feature=None,free_raw_data=False)"
   ]
  },
  {
   "cell_type": "code",
   "execution_count": 60,
   "metadata": {},
   "outputs": [],
   "source": [
    "def lgb_evaluate_cv(colsample_bytree=0.5,\n",
    "                    learning_rate=0.1,num_leaves=7,\n",
    "                    subsample=0.8,reg_alpha=0.0,\n",
    "                    reg_lambda=0.0,min_child_weight=0.0):\n",
    "    params = dict()\n",
    "    params['colsample_bytree'] = max(min(colsample_bytree,1),0)\n",
    "    params['learning_rate'] = max(min(learning_rate,1),0)\n",
    "    params['num_leaves'] = int(num_leaves)\n",
    "    params['subsample'] = max(min(subsample,1),0)\n",
    "    params['reg_alpha'] = max(0,reg_alpha)\n",
    "    params['reg_lambda'] = max(0,reg_lambda)\n",
    "    params['min_child_weight'] = int(min_child_weight)\n",
    "    params['is_unbalance'] = True\n",
    "    params['categorical_features'] = categorical_features\n",
    "    params['predictor'] = predictor_names\n",
    "    params['objective'] = 'binary'\n",
    "    cv_result =  lgb.cv(params=params,train_set=Dtrain,\n",
    "                        early_stopping_rounds=50,\n",
    "                        metrics='auc',nfold=5,\n",
    "                        num_boost_round=1000,\n",
    "                        verbose_eval=False,seed=1,show_stdv=True)                       \n",
    "    return cv_result['auc-mean'][-1]"
   ]
  },
  {
   "cell_type": "code",
   "execution_count": 61,
   "metadata": {},
   "outputs": [
    {
     "data": {
      "text/plain": [
       "0.7803322770177153"
      ]
     },
     "execution_count": 61,
     "metadata": {},
     "output_type": "execute_result"
    }
   ],
   "source": [
    "lgb_evaluate_cv()"
   ]
  },
  {
   "cell_type": "code",
   "execution_count": 62,
   "metadata": {},
   "outputs": [],
   "source": [
    "params = dict()\n",
    "params['colsample_bytree'] = 0.7\n",
    "params['learning_rate'] = 0.1\n",
    "params['num_leaves'] = 15\n",
    "params['subsample'] = 0.9\n",
    "params['reg_alpha'] = 0.0\n",
    "params['reg_lambda'] = 0.0\n",
    "params['min_child_weight'] = 0.0\n",
    "params['is_unbalance'] = True\n",
    "params['categorical_features'] = categorical_features\n",
    "params['predictor'] = predictor_names\n",
    "params['objective'] = 'binary'\n",
    "params['metrics'] = 'auc'"
   ]
  },
  {
   "cell_type": "code",
   "execution_count": 63,
   "metadata": {},
   "outputs": [
    {
     "name": "stdout",
     "output_type": "stream",
     "text": [
      "Training until validation scores don't improve for 30 rounds.\n",
      "[50]\ttrain's auc: 0.780999\tvalid's auc: 0.767247\n",
      "[100]\ttrain's auc: 0.79814\tvalid's auc: 0.775243\n",
      "[150]\ttrain's auc: 0.80996\tvalid's auc: 0.777484\n",
      "[200]\ttrain's auc: 0.819385\tvalid's auc: 0.77818\n",
      "Early stopping, best iteration is:\n",
      "[207]\ttrain's auc: 0.82067\tvalid's auc: 0.778338\n"
     ]
    }
   ],
   "source": [
    "lgb_opt = lgb.train(params=params,train_set=dtrain,valid_sets=[dtrain,dvalid],valid_names=['train','valid'],verbose_eval=50,early_stopping_rounds=30,num_boost_round=1000)"
   ]
  },
  {
   "cell_type": "code",
   "execution_count": 67,
   "metadata": {},
   "outputs": [
    {
     "name": "stdout",
     "output_type": "stream",
     "text": [
      "[20]\ttrain's auc: 0.758506\n",
      "[40]\ttrain's auc: 0.773255\n",
      "[60]\ttrain's auc: 0.782194\n",
      "[80]\ttrain's auc: 0.788697\n",
      "[100]\ttrain's auc: 0.793708\n",
      "[120]\ttrain's auc: 0.798043\n",
      "[140]\ttrain's auc: 0.801782\n",
      "[160]\ttrain's auc: 0.805183\n",
      "[180]\ttrain's auc: 0.808531\n",
      "[200]\ttrain's auc: 0.811659\n"
     ]
    }
   ],
   "source": [
    "lgb_opt = lgb.train(params=params,train_set=Dtrain,valid_sets=[Dtrain],valid_names=['train'],verbose_eval=20,num_boost_round=207)"
   ]
  },
  {
   "cell_type": "code",
   "execution_count": 75,
   "metadata": {},
   "outputs": [],
   "source": [
    "feature_importance = pd.DataFrame(data=lgb_opt.feature_importance(),columns=['value'],index=predictor_names)"
   ]
  },
  {
   "cell_type": "code",
   "execution_count": 78,
   "metadata": {},
   "outputs": [
    {
     "data": {
      "text/html": [
       "<div>\n",
       "<style scoped>\n",
       "    .dataframe tbody tr th:only-of-type {\n",
       "        vertical-align: middle;\n",
       "    }\n",
       "\n",
       "    .dataframe tbody tr th {\n",
       "        vertical-align: top;\n",
       "    }\n",
       "\n",
       "    .dataframe thead th {\n",
       "        text-align: right;\n",
       "    }\n",
       "</style>\n",
       "<table border=\"1\" class=\"dataframe\">\n",
       "  <thead>\n",
       "    <tr style=\"text-align: right;\">\n",
       "      <th></th>\n",
       "      <th>value</th>\n",
       "    </tr>\n",
       "  </thead>\n",
       "  <tbody>\n",
       "    <tr>\n",
       "      <th>CREDIT_TERM</th>\n",
       "      <td>151</td>\n",
       "    </tr>\n",
       "    <tr>\n",
       "      <th>DAYS_BIRTH</th>\n",
       "      <td>71</td>\n",
       "    </tr>\n",
       "    <tr>\n",
       "      <th>PREVIOUS_DAYS_LAST_DUE_1ST_VERSION_max</th>\n",
       "      <td>71</td>\n",
       "    </tr>\n",
       "    <tr>\n",
       "      <th>AMT_ANNUITY</th>\n",
       "      <td>60</td>\n",
       "    </tr>\n",
       "    <tr>\n",
       "      <th>EXT_SOURCE_1 EXT_SOURCE_2 EXT_SOURCE_3</th>\n",
       "      <td>46</td>\n",
       "    </tr>\n",
       "  </tbody>\n",
       "</table>\n",
       "</div>"
      ],
      "text/plain": [
       "                                        value\n",
       "CREDIT_TERM                               151\n",
       "DAYS_BIRTH                                 71\n",
       "PREVIOUS_DAYS_LAST_DUE_1ST_VERSION_max     71\n",
       "AMT_ANNUITY                                60\n",
       "EXT_SOURCE_1 EXT_SOURCE_2 EXT_SOURCE_3     46"
      ]
     },
     "execution_count": 78,
     "metadata": {},
     "output_type": "execute_result"
    }
   ],
   "source": [
    "feature_importance = feature_importance.sort_values('value',ascending=False)\n",
    "feature_importance.head()"
   ]
  },
  {
   "cell_type": "code",
   "execution_count": 88,
   "metadata": {},
   "outputs": [
    {
     "data": {
      "image/png": "[encoded data removed]",
      "text/plain": [
       "<Figure size 432x288 with 1 Axes>"
      ]
     },
     "metadata": {},
     "output_type": "display_data"
    }
   ],
   "source": [
    "feature_importance.head(10).plot(kind='barh')\n",
    "plt.xlabel('feature importance of lightbgm model')\n",
    "plt.ylabel('feature name')\n",
    "plt.show()"
   ]
  },
  {
   "cell_type": "code",
   "execution_count": 90,
   "metadata": {},
   "outputs": [
    {
     "data": {
      "text/html": [
       "<div>\n",
       "<style scoped>\n",
       "    .dataframe tbody tr th:only-of-type {\n",
       "        vertical-align: middle;\n",
       "    }\n",
       "\n",
       "    .dataframe tbody tr th {\n",
       "        vertical-align: top;\n",
       "    }\n",
       "\n",
       "    .dataframe thead th {\n",
       "        text-align: right;\n",
       "    }\n",
       "</style>\n",
       "<table border=\"1\" class=\"dataframe\">\n",
       "  <thead>\n",
       "    <tr style=\"text-align: right;\">\n",
       "      <th></th>\n",
       "      <th>value</th>\n",
       "    </tr>\n",
       "  </thead>\n",
       "  <tbody>\n",
       "    <tr>\n",
       "      <th>CREDIT_TERM</th>\n",
       "      <td>151</td>\n",
       "    </tr>\n",
       "    <tr>\n",
       "      <th>DAYS_BIRTH</th>\n",
       "      <td>71</td>\n",
       "    </tr>\n",
       "    <tr>\n",
       "      <th>PREVIOUS_DAYS_LAST_DUE_1ST_VERSION_max</th>\n",
       "      <td>71</td>\n",
       "    </tr>\n",
       "    <tr>\n",
       "      <th>AMT_ANNUITY</th>\n",
       "      <td>60</td>\n",
       "    </tr>\n",
       "    <tr>\n",
       "      <th>EXT_SOURCE_1 EXT_SOURCE_2 EXT_SOURCE_3</th>\n",
       "      <td>46</td>\n",
       "    </tr>\n",
       "    <tr>\n",
       "      <th>DAYS_EMPLOYED</th>\n",
       "      <td>46</td>\n",
       "    </tr>\n",
       "    <tr>\n",
       "      <th>BUREAU_DAYS_CREDIT_ENDDATE_max</th>\n",
       "      <td>46</td>\n",
       "    </tr>\n",
       "    <tr>\n",
       "      <th>EXT_SOURCE_1</th>\n",
       "      <td>44</td>\n",
       "    </tr>\n",
       "    <tr>\n",
       "      <th>EXT_SOURCE_2 EXT_SOURCE_3 DAYS_BIRTH</th>\n",
       "      <td>41</td>\n",
       "    </tr>\n",
       "    <tr>\n",
       "      <th>EXT_SOURCE_SUM</th>\n",
       "      <td>40</td>\n",
       "    </tr>\n",
       "  </tbody>\n",
       "</table>\n",
       "</div>"
      ],
      "text/plain": [
       "                                        value\n",
       "CREDIT_TERM                               151\n",
       "DAYS_BIRTH                                 71\n",
       "PREVIOUS_DAYS_LAST_DUE_1ST_VERSION_max     71\n",
       "AMT_ANNUITY                                60\n",
       "EXT_SOURCE_1 EXT_SOURCE_2 EXT_SOURCE_3     46\n",
       "DAYS_EMPLOYED                              46\n",
       "BUREAU_DAYS_CREDIT_ENDDATE_max             46\n",
       "EXT_SOURCE_1                               44\n",
       "EXT_SOURCE_2 EXT_SOURCE_3 DAYS_BIRTH       41\n",
       "EXT_SOURCE_SUM                             40"
      ]
     },
     "metadata": {},
     "output_type": "display_data"
    }
   ],
   "source": [
    "display(feature_importance.head(10))"
   ]
  },
  {
   "cell_type": "code",
   "execution_count": 133,
   "metadata": {},
   "outputs": [
    {
     "data": {
      "image/png": "[encoded data removed]",
      "text/plain": [
       "<Figure size 432x288 with 1 Axes>"
      ]
     },
     "metadata": {},
     "output_type": "display_data"
    }
   ],
   "source": [
    "plt.hist(train_X['CREDIT_TERM'],bins=20)\n",
    "plt.show()"
   ]
  },
  {
   "cell_type": "code",
   "execution_count": 128,
   "metadata": {},
   "outputs": [],
   "source": [
    "CREDIT_TERM = pd.cut(train_X['CREDIT_TERM'],20).to_frame()\n",
    "CREDIT_TERM['TARGET'] = train_y"
   ]
  },
  {
   "cell_type": "code",
   "execution_count": 129,
   "metadata": {},
   "outputs": [],
   "source": [
    "s = CREDIT_TERM.groupby('CREDIT_TERM')['TARGET'].mean()"
   ]
  },
  {
   "cell_type": "code",
   "execution_count": 130,
   "metadata": {},
   "outputs": [
    {
     "data": {
      "text/plain": [
       "<matplotlib.axes._subplots.AxesSubplot at 0x1b8ba737978>"
      ]
     },
     "execution_count": 130,
     "metadata": {},
     "output_type": "execute_result"
    },
    {
     "data": {
      "image/png": "[encoded data removed]",
      "text/plain": [
       "<Figure size 432x288 with 1 Axes>"
      ]
     },
     "metadata": {},
     "output_type": "display_data"
    }
   ],
   "source": [
    "s.plot(kind='bar')"
   ]
  },
  {
   "cell_type": "code",
   "execution_count": null,
   "metadata": {},
   "outputs": [],
   "source": []
  }
 ],
 "metadata": {
  "kernelspec": {
   "display_name": "Python 3",
   "language": "python",
   "name": "python3"
  },
  "language_info": {
   "codemirror_mode": {
    "name": "ipython",
    "version": 3
   },
   "file_extension": ".py",
   "mimetype": "text/x-python",
   "name": "python",
   "nbconvert_exporter": "python",
   "pygments_lexer": "ipython3",
   "version": "3.6.6"
  }
 },
 "nbformat": 4,
 "nbformat_minor": 2
}
